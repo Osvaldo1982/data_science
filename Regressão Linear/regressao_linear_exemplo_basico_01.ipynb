{
 "cells": [
  {
   "cell_type": "markdown",
   "metadata": {},
   "source": [
    "# Introdução"
   ]
  },
  {
   "cell_type": "code",
   "execution_count": 2,
   "metadata": {
    "ExecuteTime": {
     "end_time": "2020-03-31T19:49:17.221551Z",
     "start_time": "2020-03-31T19:49:17.216554Z"
    },
    "colab": {},
    "colab_type": "code",
    "id": "Qh_c-a4lNVjc"
   },
   "outputs": [],
   "source": [
    "import numpy as np\n",
    "import statsmodels.api as sm\n",
    "#from scipy.stats import t\n",
    "import random"
   ]
  },
  {
   "cell_type": "code",
   "execution_count": 3,
   "metadata": {
    "ExecuteTime": {
     "end_time": "2020-03-31T19:50:28.743809Z",
     "start_time": "2020-03-31T19:50:28.736845Z"
    },
    "colab": {},
    "colab_type": "code",
    "id": "KwhAKE2-Nbat"
   },
   "outputs": [],
   "source": [
    "# height (inches)\n",
    "mean_height = 65\n",
    "std_height = 2.25\n",
    " \n",
    "# shoe size (inches)\n",
    "mean_shoe_size = 7.5\n",
    "std_shoe_size = 1.25\n",
    "\n",
    "# height and shoe size are highly correlated\n",
    "# correlation between height and shoe size\n",
    "r_height_shoe = 0.98 \n",
    "\n",
    "# covariance b/w height and shoe size\n",
    "var_height_shoe = r_height_shoe*std_height*std_shoe_size"
   ]
  },
  {
   "cell_type": "code",
   "execution_count": 4,
   "metadata": {
    "ExecuteTime": {
     "end_time": "2020-03-31T19:50:31.569361Z",
     "start_time": "2020-03-31T19:50:31.563354Z"
    },
    "colab": {},
    "colab_type": "code",
    "id": "uFegAr7WNbo2"
   },
   "outputs": [],
   "source": [
    "# matrix of means, mu, and covariance, cov        \n",
    "mu = (mean_height, mean_shoe_size)\n",
    "cov = [[np.square(std_height), var_height_shoe],[var_height_shoe, np.square(std_shoe_size)]]"
   ]
  },
  {
   "cell_type": "code",
   "execution_count": 7,
   "metadata": {
    "ExecuteTime": {
     "end_time": "2020-03-31T19:50:48.915710Z",
     "start_time": "2020-03-31T19:50:48.843684Z"
    },
    "colab": {},
    "colab_type": "code",
    "id": "kYFrFhaQNbsp"
   },
   "outputs": [],
   "source": [
    "# number of data points\n",
    "n = 20\n",
    "random.seed(85)\n",
    "\n",
    "# height and shoe size\n",
    "X1 = np.random.multivariate_normal(mu, cov, n)\n",
    "\n",
    "# height, alone\n",
    "X0 = X1[:, 0]\n",
    "\n",
    "weight = -220 + np.random.normal(X0*5.5, 10, n)"
   ]
  },
  {
   "cell_type": "code",
   "execution_count": 8,
   "metadata": {
    "ExecuteTime": {
     "end_time": "2020-03-31T19:51:16.305454Z",
     "start_time": "2020-03-31T19:51:16.299453Z"
    },
    "colab": {},
    "colab_type": "code",
    "id": "6PJYri3bN3Xd"
   },
   "outputs": [],
   "source": [
    "# add column of ones for intercept\n",
    "X0 = sm.add_constant(X0)\n",
    "X1 = sm.add_constant(X1)"
   ]
  },
  {
   "cell_type": "code",
   "execution_count": 9,
   "metadata": {
    "ExecuteTime": {
     "end_time": "2020-03-31T19:51:19.648898Z",
     "start_time": "2020-03-31T19:51:19.590126Z"
    },
    "colab": {
     "base_uri": "https://localhost:8080/",
     "height": 971
    },
    "colab_type": "code",
    "executionInfo": {
     "elapsed": 708,
     "status": "ok",
     "timestamp": 1569076005375,
     "user": {
      "displayName": "Osvaldo Pereira",
      "photoUrl": "",
      "userId": "04131710365098736524"
     },
     "user_tz": 180
    },
    "id": "WwXeVcIkN70M",
    "outputId": "1824369b-5561-4290-b946-e20d1c6a7e66",
    "scrolled": true
   },
   "outputs": [
    {
     "name": "stdout",
     "output_type": "stream",
     "text": [
      "                            OLS Regression Results                            \n",
      "==============================================================================\n",
      "Dep. Variable:                      y   R-squared:                       0.516\n",
      "Model:                            OLS   Adj. R-squared:                  0.489\n",
      "Method:                 Least Squares   F-statistic:                     19.19\n",
      "Date:                Tue, 31 Mar 2020   Prob (F-statistic):           0.000361\n",
      "Time:                        16:51:19   Log-Likelihood:                -75.890\n",
      "No. Observations:                  20   AIC:                             155.8\n",
      "Df Residuals:                      18   BIC:                             157.8\n",
      "Df Model:                           1                                         \n",
      "Covariance Type:            nonrobust                                         \n",
      "==============================================================================\n",
      "                 coef    std err          t      P>|t|      [0.025      0.975]\n",
      "------------------------------------------------------------------------------\n",
      "const       -270.8126     93.828     -2.886      0.010    -467.937     -73.688\n",
      "x1             6.3133      1.441      4.381      0.000       3.286       9.341\n",
      "==============================================================================\n",
      "Omnibus:                        0.092   Durbin-Watson:                   2.448\n",
      "Prob(Omnibus):                  0.955   Jarque-Bera (JB):                0.299\n",
      "Skew:                          -0.097   Prob(JB):                        0.861\n",
      "Kurtosis:                       2.432   Cond. No.                     2.41e+03\n",
      "==============================================================================\n",
      "\n",
      "Warnings:\n",
      "[1] Standard Errors assume that the covariance matrix of the errors is correctly specified.\n",
      "[2] The condition number is large, 2.41e+03. This might indicate that there are\n",
      "strong multicollinearity or other numerical problems.\n"
     ]
    }
   ],
   "source": [
    "# \"OLS\" stands for Ordinary Least Squares\n",
    "sm0 = sm.OLS(weight, X0).fit()\n",
    "\n",
    "print(sm0.summary())"
   ]
  },
  {
   "cell_type": "code",
   "execution_count": 10,
   "metadata": {
    "ExecuteTime": {
     "end_time": "2020-03-31T19:51:24.219051Z",
     "start_time": "2020-03-31T19:51:24.197050Z"
    }
   },
   "outputs": [
    {
     "name": "stdout",
     "output_type": "stream",
     "text": [
      "                            OLS Regression Results                            \n",
      "==============================================================================\n",
      "Dep. Variable:                      y   R-squared:                       0.517\n",
      "Model:                            OLS   Adj. R-squared:                  0.460\n",
      "Method:                 Least Squares   F-statistic:                     9.083\n",
      "Date:                Tue, 31 Mar 2020   Prob (F-statistic):            0.00207\n",
      "Time:                        16:51:24   Log-Likelihood:                -75.878\n",
      "No. Observations:                  20   AIC:                             157.8\n",
      "Df Residuals:                      17   BIC:                             160.7\n",
      "Df Model:                           2                                         \n",
      "Covariance Type:            nonrobust                                         \n",
      "==============================================================================\n",
      "                 coef    std err          t      P>|t|      [0.025      0.975]\n",
      "------------------------------------------------------------------------------\n",
      "const       -304.6594    257.442     -1.183      0.253    -847.815     238.496\n",
      "x1             6.9680      4.848      1.437      0.169      -3.261      17.197\n",
      "x2            -1.1582      8.167     -0.142      0.889     -18.390      16.073\n",
      "==============================================================================\n",
      "Omnibus:                        0.039   Durbin-Watson:                   2.414\n",
      "Prob(Omnibus):                  0.981   Jarque-Bera (JB):                0.236\n",
      "Skew:                          -0.070   Prob(JB):                        0.889\n",
      "Kurtosis:                       2.487   Cond. No.                     6.48e+03\n",
      "==============================================================================\n",
      "\n",
      "Warnings:\n",
      "[1] Standard Errors assume that the covariance matrix of the errors is correctly specified.\n",
      "[2] The condition number is large, 6.48e+03. This might indicate that there are\n",
      "strong multicollinearity or other numerical problems.\n"
     ]
    }
   ],
   "source": [
    "sm1 = sm.OLS(weight, X1).fit()\n",
    "print(sm1.summary())"
   ]
  },
  {
   "cell_type": "code",
   "execution_count": null,
   "metadata": {},
   "outputs": [],
   "source": []
  }
 ],
 "metadata": {
  "colab": {
   "collapsed_sections": [],
   "name": "Regressão Linear (Exemplo 1).ipynb",
   "provenance": []
  },
  "kernelspec": {
   "display_name": "Python 3",
   "language": "python",
   "name": "python3"
  },
  "language_info": {
   "codemirror_mode": {
    "name": "ipython",
    "version": 3
   },
   "file_extension": ".py",
   "mimetype": "text/x-python",
   "name": "python",
   "nbconvert_exporter": "python",
   "pygments_lexer": "ipython3",
   "version": "3.8.3"
  },
  "toc": {
   "base_numbering": 1,
   "nav_menu": {},
   "number_sections": true,
   "sideBar": true,
   "skip_h1_title": false,
   "title_cell": "Table of Contents",
   "title_sidebar": "Contents",
   "toc_cell": false,
   "toc_position": {},
   "toc_section_display": true,
   "toc_window_display": false
  }
 },
 "nbformat": 4,
 "nbformat_minor": 1
}
