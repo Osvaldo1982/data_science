{
 "cells": [
  {
   "cell_type": "markdown",
   "metadata": {},
   "source": [
    "* https://realpython.com/logistic-regression-python/\n",
    "* [sklearn.linear_model.LogisticRegression](https://scikit-learn.org/stable/modules/generated/sklearn.linear_model.LogisticRegression.html#sklearn.linear_model.LogisticRegression.score)\n",
    "* [Understanding Logistic Regression in Python](https://www.datacamp.com/community/tutorials/understanding-logistic-regression-python)\n",
    "* [sklearn.metrics.accuracy_score vs. LogisticRegression().score?](https://stats.stackexchange.com/questions/354709/sklearn-metrics-accuracy-score-vs-logisticregression-score)\n",
    "* [Building A Logistic Regression in Python, Step by Step](https://towardsdatascience.com/building-a-logistic-regression-in-python-step-by-step-becd4d56c9c8)\n",
    "* [examples and tutorials to get started with statsmodels](https://www.statsmodels.org/dev/examples/#linear-regression-models)\n",
    "* [Linear Regression using Python](https://medium.com/analytics-vidhya/linear-regression-using-python-ce21aa90ade6)\n",
    "\n",
    "* [gold medalPredicting Credit Risk - Model Pipeline](https://www.kaggle.com/kabure/predicting-credit-risk-model-pipeline)\n",
    "* [Logistic Regression in Python](https://realpython.com/logistic-regression-python/)\n",
    "* [ML - Logistic Regression using Python](https://www.geeksforgeeks.org/ml-logistic-regression-using-python/)\n",
    "* [[Python/Sklearn] How does .score() works?](https://www.kaggle.com/getting-started/27261)\n",
    "* [A Complete Tutorial on Ridge and Lasso Regression in Python](https://www.analyticsvidhya.com/blog/2016/01/ridge-lasso-regression-python-complete-tutorial/)\n",
    "* [Regression Techniques you should know!](https://www.analyticsvidhya.com/blog/2015/08/comprehensive-guide-regression/?utm_source=blog&utm_medium=RideandLassoRegressionarticle)"
   ]
  },
  {
   "cell_type": "code",
   "execution_count": null,
   "metadata": {},
   "outputs": [],
   "source": []
  }
 ],
 "metadata": {
  "kernelspec": {
   "display_name": "Python 3",
   "language": "python",
   "name": "python3"
  },
  "language_info": {
   "codemirror_mode": {
    "name": "ipython",
    "version": 3
   },
   "file_extension": ".py",
   "mimetype": "text/x-python",
   "name": "python",
   "nbconvert_exporter": "python",
   "pygments_lexer": "ipython3",
   "version": "3.7.3"
  },
  "toc": {
   "base_numbering": 1,
   "nav_menu": {},
   "number_sections": true,
   "sideBar": true,
   "skip_h1_title": false,
   "title_cell": "Table of Contents",
   "title_sidebar": "Contents",
   "toc_cell": false,
   "toc_position": {},
   "toc_section_display": true,
   "toc_window_display": false
  }
 },
 "nbformat": 4,
 "nbformat_minor": 2
}
