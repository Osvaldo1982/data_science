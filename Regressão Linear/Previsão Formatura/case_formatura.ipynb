{
 "cells": [
  {
   "cell_type": "code",
   "execution_count": 6,
   "metadata": {
    "ExecuteTime": {
     "end_time": "2020-02-16T22:32:18.775005Z",
     "start_time": "2020-02-16T22:32:18.453571Z"
    }
   },
   "outputs": [
    {
     "data": {
      "text/html": [
       "<div>\n",
       "<style scoped>\n",
       "    .dataframe tbody tr th:only-of-type {\n",
       "        vertical-align: middle;\n",
       "    }\n",
       "\n",
       "    .dataframe tbody tr th {\n",
       "        vertical-align: top;\n",
       "    }\n",
       "\n",
       "    .dataframe thead th {\n",
       "        text-align: right;\n",
       "    }\n",
       "</style>\n",
       "<table border=\"1\" class=\"dataframe\">\n",
       "  <thead>\n",
       "    <tr style=\"text-align: right;\">\n",
       "      <th></th>\n",
       "      <th>COD_ALUNO</th>\n",
       "      <th>COD_UNIDADE</th>\n",
       "      <th>COD_TURMA</th>\n",
       "      <th>SEXO</th>\n",
       "      <th>ESTADO_CIVIL</th>\n",
       "      <th>DATA_NASCIMENTO</th>\n",
       "      <th>CIDADE_ALUNO</th>\n",
       "      <th>UF_ALUNO</th>\n",
       "      <th>CEP_ALUNO</th>\n",
       "      <th>COD_CURSO</th>\n",
       "      <th>...</th>\n",
       "      <th>T_IDADE</th>\n",
       "      <th>NOTA</th>\n",
       "      <th>NOTA_ENEM</th>\n",
       "      <th>POSSUI_ENEM</th>\n",
       "      <th>NRO_REPRO_ACO</th>\n",
       "      <th>NRO_TOTAL_REPRO</th>\n",
       "      <th>NRO_REPRO_NORMAL</th>\n",
       "      <th>SEMESTRES_CURSADOS</th>\n",
       "      <th>Contador</th>\n",
       "      <th>POSSUI_FIES</th>\n",
       "    </tr>\n",
       "  </thead>\n",
       "  <tbody>\n",
       "    <tr>\n",
       "      <th>0</th>\n",
       "      <td>1000055</td>\n",
       "      <td>508</td>\n",
       "      <td>316720151A</td>\n",
       "      <td>2</td>\n",
       "      <td>S</td>\n",
       "      <td>1996-11-19 00:00:00</td>\n",
       "      <td>BETIM</td>\n",
       "      <td>MG</td>\n",
       "      <td>32.661-750</td>\n",
       "      <td>3167</td>\n",
       "      <td>...</td>\n",
       "      <td>21</td>\n",
       "      <td>8.711111</td>\n",
       "      <td>537.575</td>\n",
       "      <td>1</td>\n",
       "      <td>NaN</td>\n",
       "      <td>NaN</td>\n",
       "      <td>NaN</td>\n",
       "      <td>4</td>\n",
       "      <td>1</td>\n",
       "      <td>SIM</td>\n",
       "    </tr>\n",
       "    <tr>\n",
       "      <th>1</th>\n",
       "      <td>1000143</td>\n",
       "      <td>550</td>\n",
       "      <td>9917120151A</td>\n",
       "      <td>2</td>\n",
       "      <td>S</td>\n",
       "      <td>1996-09-03 23:00:00</td>\n",
       "      <td>APUCARANA</td>\n",
       "      <td>PR</td>\n",
       "      <td>86.801-040</td>\n",
       "      <td>99171</td>\n",
       "      <td>...</td>\n",
       "      <td>21</td>\n",
       "      <td>8.140000</td>\n",
       "      <td>421.000</td>\n",
       "      <td>1</td>\n",
       "      <td>NaN</td>\n",
       "      <td>NaN</td>\n",
       "      <td>NaN</td>\n",
       "      <td>4</td>\n",
       "      <td>1</td>\n",
       "      <td>NAO</td>\n",
       "    </tr>\n",
       "    <tr>\n",
       "      <th>2</th>\n",
       "      <td>1000179</td>\n",
       "      <td>1</td>\n",
       "      <td>80820151A</td>\n",
       "      <td>2</td>\n",
       "      <td>S</td>\n",
       "      <td>1950-06-29 23:00:00</td>\n",
       "      <td>CUIABÁ</td>\n",
       "      <td>MT</td>\n",
       "      <td>78.065-900</td>\n",
       "      <td>808</td>\n",
       "      <td>...</td>\n",
       "      <td>67</td>\n",
       "      <td>8.510000</td>\n",
       "      <td>NaN</td>\n",
       "      <td>0</td>\n",
       "      <td>NaN</td>\n",
       "      <td>NaN</td>\n",
       "      <td>NaN</td>\n",
       "      <td>4</td>\n",
       "      <td>1</td>\n",
       "      <td>NAO</td>\n",
       "    </tr>\n",
       "    <tr>\n",
       "      <th>3</th>\n",
       "      <td>1000210</td>\n",
       "      <td>1</td>\n",
       "      <td>80820151A</td>\n",
       "      <td>2</td>\n",
       "      <td>C</td>\n",
       "      <td>1981-11-23 23:00:00</td>\n",
       "      <td>POCONÉ</td>\n",
       "      <td>MT</td>\n",
       "      <td>78.175-000</td>\n",
       "      <td>808</td>\n",
       "      <td>...</td>\n",
       "      <td>36</td>\n",
       "      <td>8.456667</td>\n",
       "      <td>NaN</td>\n",
       "      <td>0</td>\n",
       "      <td>NaN</td>\n",
       "      <td>NaN</td>\n",
       "      <td>NaN</td>\n",
       "      <td>4</td>\n",
       "      <td>1</td>\n",
       "      <td>SIM</td>\n",
       "    </tr>\n",
       "    <tr>\n",
       "      <th>4</th>\n",
       "      <td>1000228</td>\n",
       "      <td>6</td>\n",
       "      <td>52220112A</td>\n",
       "      <td>1</td>\n",
       "      <td>S</td>\n",
       "      <td>1979-12-29 23:00:00</td>\n",
       "      <td>SALVADOR</td>\n",
       "      <td>BA</td>\n",
       "      <td>41.250-470</td>\n",
       "      <td>522</td>\n",
       "      <td>...</td>\n",
       "      <td>37</td>\n",
       "      <td>7.624490</td>\n",
       "      <td>NaN</td>\n",
       "      <td>0</td>\n",
       "      <td>43.0</td>\n",
       "      <td>48.0</td>\n",
       "      <td>5.0</td>\n",
       "      <td>14</td>\n",
       "      <td>1</td>\n",
       "      <td>NAO</td>\n",
       "    </tr>\n",
       "    <tr>\n",
       "      <th>...</th>\n",
       "      <td>...</td>\n",
       "      <td>...</td>\n",
       "      <td>...</td>\n",
       "      <td>...</td>\n",
       "      <td>...</td>\n",
       "      <td>...</td>\n",
       "      <td>...</td>\n",
       "      <td>...</td>\n",
       "      <td>...</td>\n",
       "      <td>...</td>\n",
       "      <td>...</td>\n",
       "      <td>...</td>\n",
       "      <td>...</td>\n",
       "      <td>...</td>\n",
       "      <td>...</td>\n",
       "      <td>...</td>\n",
       "      <td>...</td>\n",
       "      <td>...</td>\n",
       "      <td>...</td>\n",
       "      <td>...</td>\n",
       "      <td>...</td>\n",
       "    </tr>\n",
       "    <tr>\n",
       "      <th>68821</th>\n",
       "      <td>999908</td>\n",
       "      <td>6</td>\n",
       "      <td>52220121A</td>\n",
       "      <td>2</td>\n",
       "      <td>S</td>\n",
       "      <td>1990-05-24 23:00:00</td>\n",
       "      <td>SALVADOR</td>\n",
       "      <td>BA</td>\n",
       "      <td>41.730-101</td>\n",
       "      <td>522</td>\n",
       "      <td>...</td>\n",
       "      <td>27</td>\n",
       "      <td>7.551020</td>\n",
       "      <td>NaN</td>\n",
       "      <td>0</td>\n",
       "      <td>39.0</td>\n",
       "      <td>42.0</td>\n",
       "      <td>3.0</td>\n",
       "      <td>12</td>\n",
       "      <td>1</td>\n",
       "      <td>SIM</td>\n",
       "    </tr>\n",
       "    <tr>\n",
       "      <th>68822</th>\n",
       "      <td>999914</td>\n",
       "      <td>508</td>\n",
       "      <td>6909720142A</td>\n",
       "      <td>2</td>\n",
       "      <td>C</td>\n",
       "      <td>1989-11-24 00:00:00</td>\n",
       "      <td>BETIM</td>\n",
       "      <td>MG</td>\n",
       "      <td>32.670-210</td>\n",
       "      <td>69097</td>\n",
       "      <td>...</td>\n",
       "      <td>28</td>\n",
       "      <td>7.683333</td>\n",
       "      <td>NaN</td>\n",
       "      <td>0</td>\n",
       "      <td>18.0</td>\n",
       "      <td>18.0</td>\n",
       "      <td>0.0</td>\n",
       "      <td>6</td>\n",
       "      <td>1</td>\n",
       "      <td>NAO</td>\n",
       "    </tr>\n",
       "    <tr>\n",
       "      <th>68823</th>\n",
       "      <td>999915</td>\n",
       "      <td>507</td>\n",
       "      <td>6803820132A</td>\n",
       "      <td>1</td>\n",
       "      <td>S</td>\n",
       "      <td>1993-05-22 23:00:00</td>\n",
       "      <td>GUARAPARI</td>\n",
       "      <td>ES</td>\n",
       "      <td>29.216-200</td>\n",
       "      <td>68038</td>\n",
       "      <td>...</td>\n",
       "      <td>24</td>\n",
       "      <td>7.911321</td>\n",
       "      <td>NaN</td>\n",
       "      <td>0</td>\n",
       "      <td>9.0</td>\n",
       "      <td>12.0</td>\n",
       "      <td>3.0</td>\n",
       "      <td>10</td>\n",
       "      <td>1</td>\n",
       "      <td>SIM</td>\n",
       "    </tr>\n",
       "    <tr>\n",
       "      <th>68824</th>\n",
       "      <td>999919</td>\n",
       "      <td>9</td>\n",
       "      <td>68520131A</td>\n",
       "      <td>2</td>\n",
       "      <td>S</td>\n",
       "      <td>1994-02-10 00:00:00</td>\n",
       "      <td>RONDONÓPOLIS</td>\n",
       "      <td>MT</td>\n",
       "      <td>78.745-090</td>\n",
       "      <td>685</td>\n",
       "      <td>...</td>\n",
       "      <td>23</td>\n",
       "      <td>8.637037</td>\n",
       "      <td>536.075</td>\n",
       "      <td>1</td>\n",
       "      <td>3.0</td>\n",
       "      <td>3.0</td>\n",
       "      <td>0.0</td>\n",
       "      <td>4</td>\n",
       "      <td>1</td>\n",
       "      <td>NAO</td>\n",
       "    </tr>\n",
       "    <tr>\n",
       "      <th>68825</th>\n",
       "      <td>999976</td>\n",
       "      <td>504</td>\n",
       "      <td>6724420131A</td>\n",
       "      <td>2</td>\n",
       "      <td>S</td>\n",
       "      <td>1994-11-30 00:00:00</td>\n",
       "      <td>LINHARES</td>\n",
       "      <td>ES</td>\n",
       "      <td>29.903-071</td>\n",
       "      <td>67244</td>\n",
       "      <td>...</td>\n",
       "      <td>23</td>\n",
       "      <td>8.460870</td>\n",
       "      <td>428.975</td>\n",
       "      <td>1</td>\n",
       "      <td>23.0</td>\n",
       "      <td>23.0</td>\n",
       "      <td>0.0</td>\n",
       "      <td>8</td>\n",
       "      <td>1</td>\n",
       "      <td>SIM</td>\n",
       "    </tr>\n",
       "  </tbody>\n",
       "</table>\n",
       "<p>68826 rows × 30 columns</p>\n",
       "</div>"
      ],
      "text/plain": [
       "       COD_ALUNO  COD_UNIDADE    COD_TURMA  SEXO ESTADO_CIVIL  \\\n",
       "0        1000055          508   316720151A     2            S   \n",
       "1        1000143          550  9917120151A     2            S   \n",
       "2        1000179            1    80820151A     2            S   \n",
       "3        1000210            1    80820151A     2            C   \n",
       "4        1000228            6    52220112A     1            S   \n",
       "...          ...          ...          ...   ...          ...   \n",
       "68821     999908            6    52220121A     2            S   \n",
       "68822     999914          508  6909720142A     2            C   \n",
       "68823     999915          507  6803820132A     1            S   \n",
       "68824     999919            9    68520131A     2            S   \n",
       "68825     999976          504  6724420131A     2            S   \n",
       "\n",
       "           DATA_NASCIMENTO  CIDADE_ALUNO UF_ALUNO   CEP_ALUNO  COD_CURSO  ...  \\\n",
       "0      1996-11-19 00:00:00         BETIM       MG  32.661-750       3167  ...   \n",
       "1      1996-09-03 23:00:00     APUCARANA       PR  86.801-040      99171  ...   \n",
       "2      1950-06-29 23:00:00        CUIABÁ       MT  78.065-900        808  ...   \n",
       "3      1981-11-23 23:00:00        POCONÉ       MT  78.175-000        808  ...   \n",
       "4      1979-12-29 23:00:00      SALVADOR       BA  41.250-470        522  ...   \n",
       "...                    ...           ...      ...         ...        ...  ...   \n",
       "68821  1990-05-24 23:00:00      SALVADOR       BA  41.730-101        522  ...   \n",
       "68822  1989-11-24 00:00:00         BETIM       MG  32.670-210      69097  ...   \n",
       "68823  1993-05-22 23:00:00     GUARAPARI       ES  29.216-200      68038  ...   \n",
       "68824  1994-02-10 00:00:00  RONDONÓPOLIS       MT  78.745-090        685  ...   \n",
       "68825  1994-11-30 00:00:00      LINHARES       ES  29.903-071      67244  ...   \n",
       "\n",
       "      T_IDADE      NOTA  NOTA_ENEM POSSUI_ENEM NRO_REPRO_ACO  NRO_TOTAL_REPRO  \\\n",
       "0          21  8.711111    537.575           1           NaN              NaN   \n",
       "1          21  8.140000    421.000           1           NaN              NaN   \n",
       "2          67  8.510000        NaN           0           NaN              NaN   \n",
       "3          36  8.456667        NaN           0           NaN              NaN   \n",
       "4          37  7.624490        NaN           0          43.0             48.0   \n",
       "...       ...       ...        ...         ...           ...              ...   \n",
       "68821      27  7.551020        NaN           0          39.0             42.0   \n",
       "68822      28  7.683333        NaN           0          18.0             18.0   \n",
       "68823      24  7.911321        NaN           0           9.0             12.0   \n",
       "68824      23  8.637037    536.075           1           3.0              3.0   \n",
       "68825      23  8.460870    428.975           1          23.0             23.0   \n",
       "\n",
       "       NRO_REPRO_NORMAL  SEMESTRES_CURSADOS  Contador  POSSUI_FIES  \n",
       "0                   NaN                   4         1          SIM  \n",
       "1                   NaN                   4         1          NAO  \n",
       "2                   NaN                   4         1          NAO  \n",
       "3                   NaN                   4         1          SIM  \n",
       "4                   5.0                  14         1          NAO  \n",
       "...                 ...                 ...       ...          ...  \n",
       "68821               3.0                  12         1          SIM  \n",
       "68822               0.0                   6         1          NAO  \n",
       "68823               3.0                  10         1          SIM  \n",
       "68824               0.0                   4         1          NAO  \n",
       "68825               0.0                   8         1          SIM  \n",
       "\n",
       "[68826 rows x 30 columns]"
      ]
     },
     "execution_count": 6,
     "metadata": {},
     "output_type": "execute_result"
    }
   ],
   "source": [
    "import pandas as pd\n",
    "\n",
    "pdf = pd.read_csv('formatura.csv', encoding = 'ISO-8859-1', delimiter = ';')\n",
    "\n",
    "pdf"
   ]
  },
  {
   "cell_type": "code",
   "execution_count": 10,
   "metadata": {
    "ExecuteTime": {
     "end_time": "2020-02-16T22:33:05.413690Z",
     "start_time": "2020-02-16T22:33:05.315664Z"
    }
   },
   "outputs": [
    {
     "data": {
      "text/html": [
       "<div>\n",
       "<style scoped>\n",
       "    .dataframe tbody tr th:only-of-type {\n",
       "        vertical-align: middle;\n",
       "    }\n",
       "\n",
       "    .dataframe tbody tr th {\n",
       "        vertical-align: top;\n",
       "    }\n",
       "\n",
       "    .dataframe thead th {\n",
       "        text-align: right;\n",
       "    }\n",
       "</style>\n",
       "<table border=\"1\" class=\"dataframe\">\n",
       "  <thead>\n",
       "    <tr style=\"text-align: right;\">\n",
       "      <th></th>\n",
       "      <th>COD_ALUNO</th>\n",
       "      <th>COD_UNIDADE</th>\n",
       "      <th>SEXO</th>\n",
       "      <th>COD_CURSO</th>\n",
       "      <th>TURNO_CURSO</th>\n",
       "      <th>DURACAO_CURSO</th>\n",
       "      <th>PERIODOS_TRANCADOS</th>\n",
       "      <th>CH_TOTAL_MATRIZ</th>\n",
       "      <th>NR_TOTAL_DISCIPLINAS</th>\n",
       "      <th>CH_APROVADA</th>\n",
       "      <th>NR_DISC_APROVADA</th>\n",
       "      <th>T_IDADE</th>\n",
       "      <th>NOTA</th>\n",
       "      <th>NOTA_ENEM</th>\n",
       "      <th>POSSUI_ENEM</th>\n",
       "      <th>NRO_REPRO_ACO</th>\n",
       "      <th>NRO_TOTAL_REPRO</th>\n",
       "      <th>NRO_REPRO_NORMAL</th>\n",
       "      <th>SEMESTRES_CURSADOS</th>\n",
       "      <th>Contador</th>\n",
       "    </tr>\n",
       "  </thead>\n",
       "  <tbody>\n",
       "    <tr>\n",
       "      <th>count</th>\n",
       "      <td>6.882600e+04</td>\n",
       "      <td>68826.000000</td>\n",
       "      <td>68826.000000</td>\n",
       "      <td>68826.000000</td>\n",
       "      <td>68826.000000</td>\n",
       "      <td>68826.000000</td>\n",
       "      <td>68826.000000</td>\n",
       "      <td>68826.000000</td>\n",
       "      <td>68826.000000</td>\n",
       "      <td>68826.000000</td>\n",
       "      <td>68826.000000</td>\n",
       "      <td>68826.000000</td>\n",
       "      <td>68826.000000</td>\n",
       "      <td>20797.000000</td>\n",
       "      <td>68826.000000</td>\n",
       "      <td>62339.000000</td>\n",
       "      <td>62339.000000</td>\n",
       "      <td>62339.000000</td>\n",
       "      <td>68826.000000</td>\n",
       "      <td>68826.0</td>\n",
       "    </tr>\n",
       "    <tr>\n",
       "      <th>mean</th>\n",
       "      <td>5.387469e+05</td>\n",
       "      <td>342.769128</td>\n",
       "      <td>1.610046</td>\n",
       "      <td>49887.697672</td>\n",
       "      <td>2.489757</td>\n",
       "      <td>8.028521</td>\n",
       "      <td>0.051884</td>\n",
       "      <td>3188.443176</td>\n",
       "      <td>51.830413</td>\n",
       "      <td>3185.062186</td>\n",
       "      <td>51.772310</td>\n",
       "      <td>30.427600</td>\n",
       "      <td>8.080829</td>\n",
       "      <td>509.596306</td>\n",
       "      <td>0.302168</td>\n",
       "      <td>11.339354</td>\n",
       "      <td>13.849982</td>\n",
       "      <td>2.510627</td>\n",
       "      <td>9.450498</td>\n",
       "      <td>1.0</td>\n",
       "    </tr>\n",
       "    <tr>\n",
       "      <th>std</th>\n",
       "      <td>2.478763e+05</td>\n",
       "      <td>251.567746</td>\n",
       "      <td>0.487743</td>\n",
       "      <td>39651.885242</td>\n",
       "      <td>1.082820</td>\n",
       "      <td>2.064591</td>\n",
       "      <td>0.286155</td>\n",
       "      <td>869.657558</td>\n",
       "      <td>13.775284</td>\n",
       "      <td>871.408289</td>\n",
       "      <td>13.812533</td>\n",
       "      <td>7.304586</td>\n",
       "      <td>0.482253</td>\n",
       "      <td>59.764407</td>\n",
       "      <td>0.459201</td>\n",
       "      <td>11.674038</td>\n",
       "      <td>13.576304</td>\n",
       "      <td>4.510357</td>\n",
       "      <td>2.871623</td>\n",
       "      <td>0.0</td>\n",
       "    </tr>\n",
       "    <tr>\n",
       "      <th>min</th>\n",
       "      <td>2.128000e+03</td>\n",
       "      <td>1.000000</td>\n",
       "      <td>1.000000</td>\n",
       "      <td>1.000000</td>\n",
       "      <td>0.000000</td>\n",
       "      <td>4.000000</td>\n",
       "      <td>0.000000</td>\n",
       "      <td>0.000000</td>\n",
       "      <td>0.000000</td>\n",
       "      <td>0.000000</td>\n",
       "      <td>0.000000</td>\n",
       "      <td>2.000000</td>\n",
       "      <td>6.000000</td>\n",
       "      <td>328.900000</td>\n",
       "      <td>0.000000</td>\n",
       "      <td>0.000000</td>\n",
       "      <td>1.000000</td>\n",
       "      <td>0.000000</td>\n",
       "      <td>1.000000</td>\n",
       "      <td>1.0</td>\n",
       "    </tr>\n",
       "    <tr>\n",
       "      <th>25%</th>\n",
       "      <td>3.600122e+05</td>\n",
       "      <td>8.000000</td>\n",
       "      <td>1.000000</td>\n",
       "      <td>831.000000</td>\n",
       "      <td>3.000000</td>\n",
       "      <td>8.000000</td>\n",
       "      <td>0.000000</td>\n",
       "      <td>2910.000000</td>\n",
       "      <td>45.000000</td>\n",
       "      <td>2900.000000</td>\n",
       "      <td>45.000000</td>\n",
       "      <td>25.000000</td>\n",
       "      <td>7.753449</td>\n",
       "      <td>466.350000</td>\n",
       "      <td>0.000000</td>\n",
       "      <td>3.000000</td>\n",
       "      <td>4.000000</td>\n",
       "      <td>0.000000</td>\n",
       "      <td>8.000000</td>\n",
       "      <td>1.0</td>\n",
       "    </tr>\n",
       "    <tr>\n",
       "      <th>50%</th>\n",
       "      <td>4.968880e+05</td>\n",
       "      <td>508.000000</td>\n",
       "      <td>2.000000</td>\n",
       "      <td>67556.000000</td>\n",
       "      <td>3.000000</td>\n",
       "      <td>8.000000</td>\n",
       "      <td>0.000000</td>\n",
       "      <td>3200.000000</td>\n",
       "      <td>51.000000</td>\n",
       "      <td>3200.000000</td>\n",
       "      <td>51.000000</td>\n",
       "      <td>28.000000</td>\n",
       "      <td>8.087879</td>\n",
       "      <td>508.325000</td>\n",
       "      <td>0.000000</td>\n",
       "      <td>7.000000</td>\n",
       "      <td>9.000000</td>\n",
       "      <td>1.000000</td>\n",
       "      <td>10.000000</td>\n",
       "      <td>1.0</td>\n",
       "    </tr>\n",
       "    <tr>\n",
       "      <th>75%</th>\n",
       "      <td>7.111618e+05</td>\n",
       "      <td>535.000000</td>\n",
       "      <td>2.000000</td>\n",
       "      <td>69096.500000</td>\n",
       "      <td>3.000000</td>\n",
       "      <td>10.000000</td>\n",
       "      <td>0.000000</td>\n",
       "      <td>3700.000000</td>\n",
       "      <td>63.000000</td>\n",
       "      <td>3700.000000</td>\n",
       "      <td>63.000000</td>\n",
       "      <td>34.000000</td>\n",
       "      <td>8.410499</td>\n",
       "      <td>551.850000</td>\n",
       "      <td>1.000000</td>\n",
       "      <td>17.000000</td>\n",
       "      <td>20.000000</td>\n",
       "      <td>3.000000</td>\n",
       "      <td>12.000000</td>\n",
       "      <td>1.0</td>\n",
       "    </tr>\n",
       "    <tr>\n",
       "      <th>max</th>\n",
       "      <td>1.265826e+06</td>\n",
       "      <td>703.000000</td>\n",
       "      <td>2.000000</td>\n",
       "      <td>99380.000000</td>\n",
       "      <td>3.000000</td>\n",
       "      <td>12.000000</td>\n",
       "      <td>15.000000</td>\n",
       "      <td>8764.000000</td>\n",
       "      <td>83.000000</td>\n",
       "      <td>8764.000000</td>\n",
       "      <td>83.000000</td>\n",
       "      <td>84.000000</td>\n",
       "      <td>9.835000</td>\n",
       "      <td>741.950000</td>\n",
       "      <td>1.000000</td>\n",
       "      <td>120.000000</td>\n",
       "      <td>138.000000</td>\n",
       "      <td>94.000000</td>\n",
       "      <td>108.000000</td>\n",
       "      <td>1.0</td>\n",
       "    </tr>\n",
       "  </tbody>\n",
       "</table>\n",
       "</div>"
      ],
      "text/plain": [
       "          COD_ALUNO   COD_UNIDADE          SEXO     COD_CURSO   TURNO_CURSO  \\\n",
       "count  6.882600e+04  68826.000000  68826.000000  68826.000000  68826.000000   \n",
       "mean   5.387469e+05    342.769128      1.610046  49887.697672      2.489757   \n",
       "std    2.478763e+05    251.567746      0.487743  39651.885242      1.082820   \n",
       "min    2.128000e+03      1.000000      1.000000      1.000000      0.000000   \n",
       "25%    3.600122e+05      8.000000      1.000000    831.000000      3.000000   \n",
       "50%    4.968880e+05    508.000000      2.000000  67556.000000      3.000000   \n",
       "75%    7.111618e+05    535.000000      2.000000  69096.500000      3.000000   \n",
       "max    1.265826e+06    703.000000      2.000000  99380.000000      3.000000   \n",
       "\n",
       "       DURACAO_CURSO  PERIODOS_TRANCADOS  CH_TOTAL_MATRIZ  \\\n",
       "count   68826.000000        68826.000000     68826.000000   \n",
       "mean        8.028521            0.051884      3188.443176   \n",
       "std         2.064591            0.286155       869.657558   \n",
       "min         4.000000            0.000000         0.000000   \n",
       "25%         8.000000            0.000000      2910.000000   \n",
       "50%         8.000000            0.000000      3200.000000   \n",
       "75%        10.000000            0.000000      3700.000000   \n",
       "max        12.000000           15.000000      8764.000000   \n",
       "\n",
       "       NR_TOTAL_DISCIPLINAS   CH_APROVADA  NR_DISC_APROVADA       T_IDADE  \\\n",
       "count          68826.000000  68826.000000      68826.000000  68826.000000   \n",
       "mean              51.830413   3185.062186         51.772310     30.427600   \n",
       "std               13.775284    871.408289         13.812533      7.304586   \n",
       "min                0.000000      0.000000          0.000000      2.000000   \n",
       "25%               45.000000   2900.000000         45.000000     25.000000   \n",
       "50%               51.000000   3200.000000         51.000000     28.000000   \n",
       "75%               63.000000   3700.000000         63.000000     34.000000   \n",
       "max               83.000000   8764.000000         83.000000     84.000000   \n",
       "\n",
       "               NOTA     NOTA_ENEM   POSSUI_ENEM  NRO_REPRO_ACO  \\\n",
       "count  68826.000000  20797.000000  68826.000000   62339.000000   \n",
       "mean       8.080829    509.596306      0.302168      11.339354   \n",
       "std        0.482253     59.764407      0.459201      11.674038   \n",
       "min        6.000000    328.900000      0.000000       0.000000   \n",
       "25%        7.753449    466.350000      0.000000       3.000000   \n",
       "50%        8.087879    508.325000      0.000000       7.000000   \n",
       "75%        8.410499    551.850000      1.000000      17.000000   \n",
       "max        9.835000    741.950000      1.000000     120.000000   \n",
       "\n",
       "       NRO_TOTAL_REPRO  NRO_REPRO_NORMAL  SEMESTRES_CURSADOS  Contador  \n",
       "count     62339.000000      62339.000000        68826.000000   68826.0  \n",
       "mean         13.849982          2.510627            9.450498       1.0  \n",
       "std          13.576304          4.510357            2.871623       0.0  \n",
       "min           1.000000          0.000000            1.000000       1.0  \n",
       "25%           4.000000          0.000000            8.000000       1.0  \n",
       "50%           9.000000          1.000000           10.000000       1.0  \n",
       "75%          20.000000          3.000000           12.000000       1.0  \n",
       "max         138.000000         94.000000          108.000000       1.0  "
      ]
     },
     "execution_count": 10,
     "metadata": {},
     "output_type": "execute_result"
    }
   ],
   "source": [
    "pdf.describe() "
   ]
  },
  {
   "cell_type": "code",
   "execution_count": 11,
   "metadata": {
    "ExecuteTime": {
     "end_time": "2020-02-16T22:33:11.574727Z",
     "start_time": "2020-02-16T22:33:11.552732Z"
    }
   },
   "outputs": [
    {
     "data": {
      "text/html": [
       "<div>\n",
       "<style scoped>\n",
       "    .dataframe tbody tr th:only-of-type {\n",
       "        vertical-align: middle;\n",
       "    }\n",
       "\n",
       "    .dataframe tbody tr th {\n",
       "        vertical-align: top;\n",
       "    }\n",
       "\n",
       "    .dataframe thead th {\n",
       "        text-align: right;\n",
       "    }\n",
       "</style>\n",
       "<table border=\"1\" class=\"dataframe\">\n",
       "  <thead>\n",
       "    <tr style=\"text-align: right;\">\n",
       "      <th></th>\n",
       "      <th>COD_ALUNO</th>\n",
       "      <th>COD_UNIDADE</th>\n",
       "      <th>COD_TURMA</th>\n",
       "      <th>SEXO</th>\n",
       "      <th>ESTADO_CIVIL</th>\n",
       "      <th>DATA_NASCIMENTO</th>\n",
       "      <th>CIDADE_ALUNO</th>\n",
       "      <th>UF_ALUNO</th>\n",
       "      <th>CEP_ALUNO</th>\n",
       "      <th>COD_CURSO</th>\n",
       "      <th>...</th>\n",
       "      <th>T_IDADE</th>\n",
       "      <th>NOTA</th>\n",
       "      <th>NOTA_ENEM</th>\n",
       "      <th>POSSUI_ENEM</th>\n",
       "      <th>NRO_REPRO_ACO</th>\n",
       "      <th>NRO_TOTAL_REPRO</th>\n",
       "      <th>NRO_REPRO_NORMAL</th>\n",
       "      <th>SEMESTRES_CURSADOS</th>\n",
       "      <th>Contador</th>\n",
       "      <th>POSSUI_FIES</th>\n",
       "    </tr>\n",
       "  </thead>\n",
       "  <tbody>\n",
       "    <tr>\n",
       "      <th>0</th>\n",
       "      <td>1000055</td>\n",
       "      <td>508</td>\n",
       "      <td>316720151A</td>\n",
       "      <td>2</td>\n",
       "      <td>S</td>\n",
       "      <td>1996-11-19 00:00:00</td>\n",
       "      <td>BETIM</td>\n",
       "      <td>MG</td>\n",
       "      <td>32.661-750</td>\n",
       "      <td>3167</td>\n",
       "      <td>...</td>\n",
       "      <td>21</td>\n",
       "      <td>8.711111</td>\n",
       "      <td>537.575</td>\n",
       "      <td>1</td>\n",
       "      <td>NaN</td>\n",
       "      <td>NaN</td>\n",
       "      <td>NaN</td>\n",
       "      <td>4</td>\n",
       "      <td>1</td>\n",
       "      <td>SIM</td>\n",
       "    </tr>\n",
       "    <tr>\n",
       "      <th>1</th>\n",
       "      <td>1000143</td>\n",
       "      <td>550</td>\n",
       "      <td>9917120151A</td>\n",
       "      <td>2</td>\n",
       "      <td>S</td>\n",
       "      <td>1996-09-03 23:00:00</td>\n",
       "      <td>APUCARANA</td>\n",
       "      <td>PR</td>\n",
       "      <td>86.801-040</td>\n",
       "      <td>99171</td>\n",
       "      <td>...</td>\n",
       "      <td>21</td>\n",
       "      <td>8.140000</td>\n",
       "      <td>421.000</td>\n",
       "      <td>1</td>\n",
       "      <td>NaN</td>\n",
       "      <td>NaN</td>\n",
       "      <td>NaN</td>\n",
       "      <td>4</td>\n",
       "      <td>1</td>\n",
       "      <td>NAO</td>\n",
       "    </tr>\n",
       "    <tr>\n",
       "      <th>2</th>\n",
       "      <td>1000179</td>\n",
       "      <td>1</td>\n",
       "      <td>80820151A</td>\n",
       "      <td>2</td>\n",
       "      <td>S</td>\n",
       "      <td>1950-06-29 23:00:00</td>\n",
       "      <td>CUIABÁ</td>\n",
       "      <td>MT</td>\n",
       "      <td>78.065-900</td>\n",
       "      <td>808</td>\n",
       "      <td>...</td>\n",
       "      <td>67</td>\n",
       "      <td>8.510000</td>\n",
       "      <td>NaN</td>\n",
       "      <td>0</td>\n",
       "      <td>NaN</td>\n",
       "      <td>NaN</td>\n",
       "      <td>NaN</td>\n",
       "      <td>4</td>\n",
       "      <td>1</td>\n",
       "      <td>NAO</td>\n",
       "    </tr>\n",
       "    <tr>\n",
       "      <th>3</th>\n",
       "      <td>1000210</td>\n",
       "      <td>1</td>\n",
       "      <td>80820151A</td>\n",
       "      <td>2</td>\n",
       "      <td>C</td>\n",
       "      <td>1981-11-23 23:00:00</td>\n",
       "      <td>POCONÉ</td>\n",
       "      <td>MT</td>\n",
       "      <td>78.175-000</td>\n",
       "      <td>808</td>\n",
       "      <td>...</td>\n",
       "      <td>36</td>\n",
       "      <td>8.456667</td>\n",
       "      <td>NaN</td>\n",
       "      <td>0</td>\n",
       "      <td>NaN</td>\n",
       "      <td>NaN</td>\n",
       "      <td>NaN</td>\n",
       "      <td>4</td>\n",
       "      <td>1</td>\n",
       "      <td>SIM</td>\n",
       "    </tr>\n",
       "    <tr>\n",
       "      <th>4</th>\n",
       "      <td>1000228</td>\n",
       "      <td>6</td>\n",
       "      <td>52220112A</td>\n",
       "      <td>1</td>\n",
       "      <td>S</td>\n",
       "      <td>1979-12-29 23:00:00</td>\n",
       "      <td>SALVADOR</td>\n",
       "      <td>BA</td>\n",
       "      <td>41.250-470</td>\n",
       "      <td>522</td>\n",
       "      <td>...</td>\n",
       "      <td>37</td>\n",
       "      <td>7.624490</td>\n",
       "      <td>NaN</td>\n",
       "      <td>0</td>\n",
       "      <td>43.0</td>\n",
       "      <td>48.0</td>\n",
       "      <td>5.0</td>\n",
       "      <td>14</td>\n",
       "      <td>1</td>\n",
       "      <td>NAO</td>\n",
       "    </tr>\n",
       "  </tbody>\n",
       "</table>\n",
       "<p>5 rows × 30 columns</p>\n",
       "</div>"
      ],
      "text/plain": [
       "   COD_ALUNO  COD_UNIDADE    COD_TURMA  SEXO ESTADO_CIVIL  \\\n",
       "0    1000055          508   316720151A     2            S   \n",
       "1    1000143          550  9917120151A     2            S   \n",
       "2    1000179            1    80820151A     2            S   \n",
       "3    1000210            1    80820151A     2            C   \n",
       "4    1000228            6    52220112A     1            S   \n",
       "\n",
       "       DATA_NASCIMENTO CIDADE_ALUNO UF_ALUNO   CEP_ALUNO  COD_CURSO  ...  \\\n",
       "0  1996-11-19 00:00:00        BETIM       MG  32.661-750       3167  ...   \n",
       "1  1996-09-03 23:00:00    APUCARANA       PR  86.801-040      99171  ...   \n",
       "2  1950-06-29 23:00:00       CUIABÁ       MT  78.065-900        808  ...   \n",
       "3  1981-11-23 23:00:00       POCONÉ       MT  78.175-000        808  ...   \n",
       "4  1979-12-29 23:00:00     SALVADOR       BA  41.250-470        522  ...   \n",
       "\n",
       "  T_IDADE      NOTA  NOTA_ENEM POSSUI_ENEM NRO_REPRO_ACO  NRO_TOTAL_REPRO  \\\n",
       "0      21  8.711111    537.575           1           NaN              NaN   \n",
       "1      21  8.140000    421.000           1           NaN              NaN   \n",
       "2      67  8.510000        NaN           0           NaN              NaN   \n",
       "3      36  8.456667        NaN           0           NaN              NaN   \n",
       "4      37  7.624490        NaN           0          43.0             48.0   \n",
       "\n",
       "   NRO_REPRO_NORMAL  SEMESTRES_CURSADOS  Contador  POSSUI_FIES  \n",
       "0               NaN                   4         1          SIM  \n",
       "1               NaN                   4         1          NAO  \n",
       "2               NaN                   4         1          NAO  \n",
       "3               NaN                   4         1          SIM  \n",
       "4               5.0                  14         1          NAO  \n",
       "\n",
       "[5 rows x 30 columns]"
      ]
     },
     "execution_count": 11,
     "metadata": {},
     "output_type": "execute_result"
    }
   ],
   "source": [
    "pdf.head()"
   ]
  },
  {
   "cell_type": "code",
   "execution_count": 12,
   "metadata": {
    "ExecuteTime": {
     "end_time": "2020-02-16T22:33:12.405662Z",
     "start_time": "2020-02-16T22:33:12.363660Z"
    },
    "lines_to_next_cell": 2
   },
   "outputs": [
    {
     "name": "stdout",
     "output_type": "stream",
     "text": [
      "<class 'pandas.core.frame.DataFrame'>\n",
      "RangeIndex: 68826 entries, 0 to 68825\n",
      "Data columns (total 30 columns):\n",
      " #   Column                Non-Null Count  Dtype  \n",
      "---  ------                --------------  -----  \n",
      " 0   COD_ALUNO             68826 non-null  int64  \n",
      " 1   COD_UNIDADE           68826 non-null  int64  \n",
      " 2   COD_TURMA             68826 non-null  object \n",
      " 3   SEXO                  68826 non-null  int64  \n",
      " 4   ESTADO_CIVIL          68826 non-null  object \n",
      " 5   DATA_NASCIMENTO       68826 non-null  object \n",
      " 6   CIDADE_ALUNO          68826 non-null  object \n",
      " 7   UF_ALUNO              68822 non-null  object \n",
      " 8   CEP_ALUNO             68826 non-null  object \n",
      " 9   COD_CURSO             68826 non-null  int64  \n",
      " 10  NOME_CURSO            68826 non-null  object \n",
      " 11  TURNO_CURSO           68826 non-null  int64  \n",
      " 12  DURACAO_CURSO         68826 non-null  int64  \n",
      " 13  SITUCAO_MATRICULA     68826 non-null  object \n",
      " 14  DATA_CONCLUSAO        68826 non-null  object \n",
      " 15  PERIODOS_TRANCADOS    68826 non-null  int64  \n",
      " 16  CH_TOTAL_MATRIZ       68826 non-null  int64  \n",
      " 17  NR_TOTAL_DISCIPLINAS  68826 non-null  int64  \n",
      " 18  CH_APROVADA           68826 non-null  int64  \n",
      " 19  NR_DISC_APROVADA      68826 non-null  int64  \n",
      " 20  T_IDADE               68826 non-null  int64  \n",
      " 21  NOTA                  68826 non-null  float64\n",
      " 22  NOTA_ENEM             20797 non-null  float64\n",
      " 23  POSSUI_ENEM           68826 non-null  int64  \n",
      " 24  NRO_REPRO_ACO         62339 non-null  float64\n",
      " 25  NRO_TOTAL_REPRO       62339 non-null  float64\n",
      " 26  NRO_REPRO_NORMAL      62339 non-null  float64\n",
      " 27  SEMESTRES_CURSADOS    68826 non-null  int64  \n",
      " 28  Contador              68826 non-null  int64  \n",
      " 29  POSSUI_FIES           68826 non-null  object \n",
      "dtypes: float64(5), int64(15), object(10)\n",
      "memory usage: 15.8+ MB\n"
     ]
    }
   ],
   "source": [
    "pdf.info()"
   ]
  },
  {
   "cell_type": "code",
   "execution_count": 13,
   "metadata": {
    "ExecuteTime": {
     "end_time": "2020-02-16T22:33:18.312789Z",
     "start_time": "2020-02-16T22:33:18.257837Z"
    },
    "lines_to_next_cell": 2
   },
   "outputs": [
    {
     "data": {
      "text/plain": [
       "COD_ALUNO               0\n",
       "COD_UNIDADE             0\n",
       "COD_TURMA               0\n",
       "SEXO                    0\n",
       "ESTADO_CIVIL            0\n",
       "DATA_NASCIMENTO         0\n",
       "CIDADE_ALUNO            0\n",
       "UF_ALUNO                0\n",
       "CEP_ALUNO               0\n",
       "COD_CURSO               0\n",
       "NOME_CURSO              0\n",
       "TURNO_CURSO             0\n",
       "DURACAO_CURSO           0\n",
       "SITUCAO_MATRICULA       0\n",
       "DATA_CONCLUSAO          0\n",
       "PERIODOS_TRANCADOS      0\n",
       "CH_TOTAL_MATRIZ         0\n",
       "NR_TOTAL_DISCIPLINAS    0\n",
       "CH_APROVADA             0\n",
       "NR_DISC_APROVADA        0\n",
       "T_IDADE                 0\n",
       "NOTA                    0\n",
       "NOTA_ENEM               0\n",
       "POSSUI_ENEM             0\n",
       "NRO_REPRO_ACO           0\n",
       "NRO_TOTAL_REPRO         0\n",
       "NRO_REPRO_NORMAL        0\n",
       "SEMESTRES_CURSADOS      0\n",
       "Contador                0\n",
       "POSSUI_FIES             0\n",
       "dtype: int64"
      ]
     },
     "execution_count": 13,
     "metadata": {},
     "output_type": "execute_result"
    }
   ],
   "source": [
    "pdf = pdf.dropna(axis=0)\n",
    "pdf.isnull().sum()"
   ]
  },
  {
   "cell_type": "code",
   "execution_count": 14,
   "metadata": {
    "ExecuteTime": {
     "end_time": "2020-02-16T22:33:26.091858Z",
     "start_time": "2020-02-16T22:33:26.080861Z"
    }
   },
   "outputs": [
    {
     "name": "stderr",
     "output_type": "stream",
     "text": [
      "C:\\Users\\osvaldo.pereira\\AppData\\Roaming\\Python\\Python37\\site-packages\\ipykernel_launcher.py:1: SettingWithCopyWarning: \n",
      "A value is trying to be set on a copy of a slice from a DataFrame.\n",
      "Try using .loc[row_indexer,col_indexer] = value instead\n",
      "\n",
      "See the caveats in the documentation: https://pandas.pydata.org/pandas-docs/stable/user_guide/indexing.html#returning-a-view-versus-a-copy\n",
      "  \"\"\"Entry point for launching an IPython kernel.\n"
     ]
    }
   ],
   "source": [
    "pdf['NRO_REPRO_NORMAL'] = pd.to_numeric(pdf['NRO_REPRO_NORMAL'], errors='coerce')"
   ]
  },
  {
   "cell_type": "code",
   "execution_count": 15,
   "metadata": {
    "ExecuteTime": {
     "end_time": "2020-02-16T22:33:30.170782Z",
     "start_time": "2020-02-16T22:33:30.164740Z"
    }
   },
   "outputs": [
    {
     "name": "stderr",
     "output_type": "stream",
     "text": [
      "C:\\Users\\osvaldo.pereira\\AppData\\Roaming\\Python\\Python37\\site-packages\\ipykernel_launcher.py:1: SettingWithCopyWarning: \n",
      "A value is trying to be set on a copy of a slice from a DataFrame.\n",
      "Try using .loc[row_indexer,col_indexer] = value instead\n",
      "\n",
      "See the caveats in the documentation: https://pandas.pydata.org/pandas-docs/stable/user_guide/indexing.html#returning-a-view-versus-a-copy\n",
      "  \"\"\"Entry point for launching an IPython kernel.\n"
     ]
    }
   ],
   "source": [
    "pdf['NR_TOTAL_DISCIPLINAS'] = pd.to_numeric(pdf['NR_TOTAL_DISCIPLINAS'], errors='coerce')"
   ]
  },
  {
   "cell_type": "code",
   "execution_count": 16,
   "metadata": {
    "ExecuteTime": {
     "end_time": "2020-02-16T22:33:33.656674Z",
     "start_time": "2020-02-16T22:33:33.650675Z"
    }
   },
   "outputs": [
    {
     "name": "stderr",
     "output_type": "stream",
     "text": [
      "C:\\Users\\osvaldo.pereira\\AppData\\Roaming\\Python\\Python37\\site-packages\\ipykernel_launcher.py:1: SettingWithCopyWarning: \n",
      "A value is trying to be set on a copy of a slice from a DataFrame.\n",
      "Try using .loc[row_indexer,col_indexer] = value instead\n",
      "\n",
      "See the caveats in the documentation: https://pandas.pydata.org/pandas-docs/stable/user_guide/indexing.html#returning-a-view-versus-a-copy\n",
      "  \"\"\"Entry point for launching an IPython kernel.\n"
     ]
    }
   ],
   "source": [
    "pdf['SEMESTRES_CURSADOS'] = pd.to_numeric(pdf['SEMESTRES_CURSADOS'], errors='coerce')"
   ]
  },
  {
   "cell_type": "code",
   "execution_count": 17,
   "metadata": {
    "ExecuteTime": {
     "end_time": "2020-02-16T22:33:34.438735Z",
     "start_time": "2020-02-16T22:33:34.432740Z"
    }
   },
   "outputs": [
    {
     "name": "stderr",
     "output_type": "stream",
     "text": [
      "C:\\Users\\osvaldo.pereira\\AppData\\Roaming\\Python\\Python37\\site-packages\\ipykernel_launcher.py:1: SettingWithCopyWarning: \n",
      "A value is trying to be set on a copy of a slice from a DataFrame.\n",
      "Try using .loc[row_indexer,col_indexer] = value instead\n",
      "\n",
      "See the caveats in the documentation: https://pandas.pydata.org/pandas-docs/stable/user_guide/indexing.html#returning-a-view-versus-a-copy\n",
      "  \"\"\"Entry point for launching an IPython kernel.\n"
     ]
    }
   ],
   "source": [
    "pdf['DURACAO_CURSO'] = pd.to_numeric(pdf['DURACAO_CURSO'], errors='coerce')"
   ]
  },
  {
   "cell_type": "code",
   "execution_count": 18,
   "metadata": {
    "ExecuteTime": {
     "end_time": "2020-02-16T22:33:35.107673Z",
     "start_time": "2020-02-16T22:33:35.103679Z"
    }
   },
   "outputs": [
    {
     "name": "stderr",
     "output_type": "stream",
     "text": [
      "C:\\Users\\osvaldo.pereira\\AppData\\Roaming\\Python\\Python37\\site-packages\\ipykernel_launcher.py:1: SettingWithCopyWarning: \n",
      "A value is trying to be set on a copy of a slice from a DataFrame.\n",
      "Try using .loc[row_indexer,col_indexer] = value instead\n",
      "\n",
      "See the caveats in the documentation: https://pandas.pydata.org/pandas-docs/stable/user_guide/indexing.html#returning-a-view-versus-a-copy\n",
      "  \"\"\"Entry point for launching an IPython kernel.\n"
     ]
    }
   ],
   "source": [
    "pdf['PERIODOS_TRANCADOS'] = pd.to_numeric(pdf['PERIODOS_TRANCADOS'], errors='coerce')"
   ]
  },
  {
   "cell_type": "code",
   "execution_count": 19,
   "metadata": {
    "ExecuteTime": {
     "end_time": "2020-02-16T22:33:35.885750Z",
     "start_time": "2020-02-16T22:33:35.878749Z"
    }
   },
   "outputs": [
    {
     "name": "stderr",
     "output_type": "stream",
     "text": [
      "C:\\Users\\osvaldo.pereira\\AppData\\Roaming\\Python\\Python37\\site-packages\\ipykernel_launcher.py:1: SettingWithCopyWarning: \n",
      "A value is trying to be set on a copy of a slice from a DataFrame.\n",
      "Try using .loc[row_indexer,col_indexer] = value instead\n",
      "\n",
      "See the caveats in the documentation: https://pandas.pydata.org/pandas-docs/stable/user_guide/indexing.html#returning-a-view-versus-a-copy\n",
      "  \"\"\"Entry point for launching an IPython kernel.\n"
     ]
    }
   ],
   "source": [
    "pdf['CH_TOTAL_MATRIZ'] = pd.to_numeric(pdf['CH_TOTAL_MATRIZ'], errors='coerce')"
   ]
  },
  {
   "cell_type": "code",
   "execution_count": 20,
   "metadata": {
    "ExecuteTime": {
     "end_time": "2020-02-16T22:33:36.992776Z",
     "start_time": "2020-02-16T22:33:36.964786Z"
    },
    "lines_to_next_cell": 2
   },
   "outputs": [
    {
     "name": "stdout",
     "output_type": "stream",
     "text": [
      "<class 'pandas.core.frame.DataFrame'>\n",
      "Int64Index: 18711 entries, 5 to 68825\n",
      "Data columns (total 30 columns):\n",
      " #   Column                Non-Null Count  Dtype  \n",
      "---  ------                --------------  -----  \n",
      " 0   COD_ALUNO             18711 non-null  int64  \n",
      " 1   COD_UNIDADE           18711 non-null  int64  \n",
      " 2   COD_TURMA             18711 non-null  object \n",
      " 3   SEXO                  18711 non-null  int64  \n",
      " 4   ESTADO_CIVIL          18711 non-null  object \n",
      " 5   DATA_NASCIMENTO       18711 non-null  object \n",
      " 6   CIDADE_ALUNO          18711 non-null  object \n",
      " 7   UF_ALUNO              18711 non-null  object \n",
      " 8   CEP_ALUNO             18711 non-null  object \n",
      " 9   COD_CURSO             18711 non-null  int64  \n",
      " 10  NOME_CURSO            18711 non-null  object \n",
      " 11  TURNO_CURSO           18711 non-null  int64  \n",
      " 12  DURACAO_CURSO         18711 non-null  int64  \n",
      " 13  SITUCAO_MATRICULA     18711 non-null  object \n",
      " 14  DATA_CONCLUSAO        18711 non-null  object \n",
      " 15  PERIODOS_TRANCADOS    18711 non-null  int64  \n",
      " 16  CH_TOTAL_MATRIZ       18711 non-null  int64  \n",
      " 17  NR_TOTAL_DISCIPLINAS  18711 non-null  int64  \n",
      " 18  CH_APROVADA           18711 non-null  int64  \n",
      " 19  NR_DISC_APROVADA      18711 non-null  int64  \n",
      " 20  T_IDADE               18711 non-null  int64  \n",
      " 21  NOTA                  18711 non-null  float64\n",
      " 22  NOTA_ENEM             18711 non-null  float64\n",
      " 23  POSSUI_ENEM           18711 non-null  int64  \n",
      " 24  NRO_REPRO_ACO         18711 non-null  float64\n",
      " 25  NRO_TOTAL_REPRO       18711 non-null  float64\n",
      " 26  NRO_REPRO_NORMAL      18711 non-null  float64\n",
      " 27  SEMESTRES_CURSADOS    18711 non-null  int64  \n",
      " 28  Contador              18711 non-null  int64  \n",
      " 29  POSSUI_FIES           18711 non-null  object \n",
      "dtypes: float64(5), int64(15), object(10)\n",
      "memory usage: 4.4+ MB\n"
     ]
    }
   ],
   "source": [
    "pdf.info()"
   ]
  },
  {
   "cell_type": "code",
   "execution_count": 21,
   "metadata": {
    "ExecuteTime": {
     "end_time": "2020-02-16T22:33:58.619286Z",
     "start_time": "2020-02-16T22:33:57.081707Z"
    }
   },
   "outputs": [
    {
     "name": "stderr",
     "output_type": "stream",
     "text": [
      "C:\\Users\\osvaldo.pereira\\AppData\\Local\\Continuum\\anaconda3\\lib\\site-packages\\statsmodels\\tools\\_testing.py:19: FutureWarning: pandas.util.testing is deprecated. Use the functions in the public API at pandas.testing instead.\n",
      "  import pandas.util.testing as tm\n"
     ]
    }
   ],
   "source": [
    "import numpy as np \n",
    "import matplotlib.pyplot as plt\n",
    "import statsmodels.formula.api as sm"
   ]
  },
  {
   "cell_type": "code",
   "execution_count": 22,
   "metadata": {
    "ExecuteTime": {
     "end_time": "2020-02-16T22:34:22.401034Z",
     "start_time": "2020-02-16T22:34:22.366034Z"
    }
   },
   "outputs": [
    {
     "name": "stderr",
     "output_type": "stream",
     "text": [
      "C:\\Users\\osvaldo.pereira\\AppData\\Roaming\\Python\\Python37\\site-packages\\ipykernel_launcher.py:1: SettingWithCopyWarning: \n",
      "A value is trying to be set on a copy of a slice from a DataFrame.\n",
      "Try using .loc[row_indexer,col_indexer] = value instead\n",
      "\n",
      "See the caveats in the documentation: https://pandas.pydata.org/pandas-docs/stable/user_guide/indexing.html#returning-a-view-versus-a-copy\n",
      "  \"\"\"Entry point for launching an IPython kernel.\n"
     ]
    }
   ],
   "source": [
    "pdf['A'] = pdf['NRO_REPRO_NORMAL']*1.0"
   ]
  },
  {
   "cell_type": "code",
   "execution_count": 23,
   "metadata": {
    "ExecuteTime": {
     "end_time": "2020-02-16T22:34:29.583713Z",
     "start_time": "2020-02-16T22:34:29.577712Z"
    }
   },
   "outputs": [
    {
     "name": "stderr",
     "output_type": "stream",
     "text": [
      "C:\\Users\\osvaldo.pereira\\AppData\\Roaming\\Python\\Python37\\site-packages\\ipykernel_launcher.py:1: SettingWithCopyWarning: \n",
      "A value is trying to be set on a copy of a slice from a DataFrame.\n",
      "Try using .loc[row_indexer,col_indexer] = value instead\n",
      "\n",
      "See the caveats in the documentation: https://pandas.pydata.org/pandas-docs/stable/user_guide/indexing.html#returning-a-view-versus-a-copy\n",
      "  \"\"\"Entry point for launching an IPython kernel.\n"
     ]
    }
   ],
   "source": [
    "pdf['B'] = pdf['NR_TOTAL_DISCIPLINAS']*1.0"
   ]
  },
  {
   "cell_type": "code",
   "execution_count": 24,
   "metadata": {
    "ExecuteTime": {
     "end_time": "2020-02-16T22:34:30.544854Z",
     "start_time": "2020-02-16T22:34:30.529006Z"
    }
   },
   "outputs": [
    {
     "name": "stderr",
     "output_type": "stream",
     "text": [
      "C:\\Users\\osvaldo.pereira\\AppData\\Roaming\\Python\\Python37\\site-packages\\ipykernel_launcher.py:1: SettingWithCopyWarning: \n",
      "A value is trying to be set on a copy of a slice from a DataFrame.\n",
      "Try using .loc[row_indexer,col_indexer] = value instead\n",
      "\n",
      "See the caveats in the documentation: https://pandas.pydata.org/pandas-docs/stable/user_guide/indexing.html#returning-a-view-versus-a-copy\n",
      "  \"\"\"Entry point for launching an IPython kernel.\n"
     ]
    }
   ],
   "source": [
    "pdf['C'] = pdf['SEMESTRES_CURSADOS']*1.0"
   ]
  },
  {
   "cell_type": "code",
   "execution_count": 25,
   "metadata": {
    "ExecuteTime": {
     "end_time": "2020-02-16T22:34:31.131971Z",
     "start_time": "2020-02-16T22:34:31.125974Z"
    }
   },
   "outputs": [
    {
     "name": "stderr",
     "output_type": "stream",
     "text": [
      "C:\\Users\\osvaldo.pereira\\AppData\\Roaming\\Python\\Python37\\site-packages\\ipykernel_launcher.py:1: SettingWithCopyWarning: \n",
      "A value is trying to be set on a copy of a slice from a DataFrame.\n",
      "Try using .loc[row_indexer,col_indexer] = value instead\n",
      "\n",
      "See the caveats in the documentation: https://pandas.pydata.org/pandas-docs/stable/user_guide/indexing.html#returning-a-view-versus-a-copy\n",
      "  \"\"\"Entry point for launching an IPython kernel.\n"
     ]
    }
   ],
   "source": [
    "pdf['D'] = pdf['DURACAO_CURSO']*1.0"
   ]
  },
  {
   "cell_type": "code",
   "execution_count": 26,
   "metadata": {
    "ExecuteTime": {
     "end_time": "2020-02-16T22:34:31.810737Z",
     "start_time": "2020-02-16T22:34:31.805736Z"
    }
   },
   "outputs": [
    {
     "name": "stderr",
     "output_type": "stream",
     "text": [
      "C:\\Users\\osvaldo.pereira\\AppData\\Roaming\\Python\\Python37\\site-packages\\ipykernel_launcher.py:1: SettingWithCopyWarning: \n",
      "A value is trying to be set on a copy of a slice from a DataFrame.\n",
      "Try using .loc[row_indexer,col_indexer] = value instead\n",
      "\n",
      "See the caveats in the documentation: https://pandas.pydata.org/pandas-docs/stable/user_guide/indexing.html#returning-a-view-versus-a-copy\n",
      "  \"\"\"Entry point for launching an IPython kernel.\n"
     ]
    }
   ],
   "source": [
    "pdf['E'] = pdf['PERIODOS_TRANCADOS']*1.0"
   ]
  },
  {
   "cell_type": "code",
   "execution_count": 27,
   "metadata": {
    "ExecuteTime": {
     "end_time": "2020-02-16T22:34:32.392821Z",
     "start_time": "2020-02-16T22:34:32.383838Z"
    }
   },
   "outputs": [
    {
     "name": "stderr",
     "output_type": "stream",
     "text": [
      "C:\\Users\\osvaldo.pereira\\AppData\\Roaming\\Python\\Python37\\site-packages\\ipykernel_launcher.py:1: SettingWithCopyWarning: \n",
      "A value is trying to be set on a copy of a slice from a DataFrame.\n",
      "Try using .loc[row_indexer,col_indexer] = value instead\n",
      "\n",
      "See the caveats in the documentation: https://pandas.pydata.org/pandas-docs/stable/user_guide/indexing.html#returning-a-view-versus-a-copy\n",
      "  \"\"\"Entry point for launching an IPython kernel.\n"
     ]
    }
   ],
   "source": [
    "pdf['F'] = pdf['CH_TOTAL_MATRIZ']*1.0"
   ]
  },
  {
   "cell_type": "code",
   "execution_count": 28,
   "metadata": {
    "ExecuteTime": {
     "end_time": "2020-02-16T22:34:34.205786Z",
     "start_time": "2020-02-16T22:34:34.173759Z"
    }
   },
   "outputs": [
    {
     "name": "stderr",
     "output_type": "stream",
     "text": [
      "C:\\Users\\osvaldo.pereira\\AppData\\Roaming\\Python\\Python37\\site-packages\\ipykernel_launcher.py:1: SettingWithCopyWarning: \n",
      "A value is trying to be set on a copy of a slice from a DataFrame.\n",
      "Try using .loc[row_indexer,col_indexer] = value instead\n",
      "\n",
      "See the caveats in the documentation: https://pandas.pydata.org/pandas-docs/stable/user_guide/indexing.html#returning-a-view-versus-a-copy\n",
      "  \"\"\"Entry point for launching an IPython kernel.\n"
     ]
    }
   ],
   "source": [
    "pdf['G'] = pdf['NRO_REPRO_NORMAL']/pdf['NR_TOTAL_DISCIPLINAS']"
   ]
  },
  {
   "cell_type": "code",
   "execution_count": 29,
   "metadata": {
    "ExecuteTime": {
     "end_time": "2020-02-16T22:34:34.836900Z",
     "start_time": "2020-02-16T22:34:34.830865Z"
    },
    "lines_to_next_cell": 2
   },
   "outputs": [
    {
     "name": "stderr",
     "output_type": "stream",
     "text": [
      "C:\\Users\\osvaldo.pereira\\AppData\\Roaming\\Python\\Python37\\site-packages\\ipykernel_launcher.py:1: SettingWithCopyWarning: \n",
      "A value is trying to be set on a copy of a slice from a DataFrame.\n",
      "Try using .loc[row_indexer,col_indexer] = value instead\n",
      "\n",
      "See the caveats in the documentation: https://pandas.pydata.org/pandas-docs/stable/user_guide/indexing.html#returning-a-view-versus-a-copy\n",
      "  \"\"\"Entry point for launching an IPython kernel.\n",
      "C:\\Users\\osvaldo.pereira\\AppData\\Roaming\\Python\\Python37\\site-packages\\ipykernel_launcher.py:2: SettingWithCopyWarning: \n",
      "A value is trying to be set on a copy of a slice from a DataFrame.\n",
      "Try using .loc[row_indexer,col_indexer] = value instead\n",
      "\n",
      "See the caveats in the documentation: https://pandas.pydata.org/pandas-docs/stable/user_guide/indexing.html#returning-a-view-versus-a-copy\n",
      "  \n"
     ]
    }
   ],
   "source": [
    "pdf['H'] = pdf['C']/pdf['D']\n",
    "pdf['I'] = pdf['F']/pdf['B']"
   ]
  },
  {
   "cell_type": "code",
   "execution_count": 30,
   "metadata": {
    "ExecuteTime": {
     "end_time": "2020-02-16T22:34:37.660425Z",
     "start_time": "2020-02-16T22:34:37.632432Z"
    }
   },
   "outputs": [
    {
     "name": "stdout",
     "output_type": "stream",
     "text": [
      "       COD_ALUNO  COD_UNIDADE    COD_TURMA  SEXO ESTADO_CIVIL  \\\n",
      "5        1000282            1    23820152A     1            S   \n",
      "8        1000387            1    80820151A     2            D   \n",
      "14       1000478            1    80820152A     2            S   \n",
      "18       1000729            6   355820151A     1            S   \n",
      "22       1001060          541  9887420151A     2            C   \n",
      "...          ...          ...          ...   ...          ...   \n",
      "68817     999826            9    59820131A     2            S   \n",
      "68819     999841            9    59220131A     1            C   \n",
      "68820     999897          517  6726120131A     2            S   \n",
      "68824     999919            9    68520131A     2            S   \n",
      "68825     999976          504  6724420131A     2            S   \n",
      "\n",
      "           DATA_NASCIMENTO  CIDADE_ALUNO UF_ALUNO   CEP_ALUNO  COD_CURSO  ...  \\\n",
      "5      1993-06-21 23:00:00        Cuiabá       MT  78.015-090        238  ...   \n",
      "8      1981-09-14 23:00:00        CUIABÁ       MT  78.008-405        808  ...   \n",
      "14     1982-08-02 23:00:00        CUIABÁ       MT  78.050-340        808  ...   \n",
      "18     1985-02-27 23:00:00      SALVADOR       BA  41.213-660       3558  ...   \n",
      "22     1977-06-24 23:00:00        CUIABÁ       MT  78.075-290      98874  ...   \n",
      "...                    ...           ...      ...         ...        ...  ...   \n",
      "68817  1994-10-02 23:00:00  RONDONÓPOLIS       MT  78.725-200        598  ...   \n",
      "68819  1976-10-29 23:00:00  RONDONÓPOLIS       MT  78.720-620        592  ...   \n",
      "68820  1994-10-25 00:00:00    VOTORANTIM       SP  18.113-430      67261  ...   \n",
      "68824  1994-02-10 00:00:00  RONDONÓPOLIS       MT  78.745-090        685  ...   \n",
      "68825  1994-11-30 00:00:00      LINHARES       ES  29.903-071      67244  ...   \n",
      "\n",
      "      POSSUI_FIES    A     B    C    D    E       F         G    H          I  \n",
      "5             SIM  2.0  27.0  6.0  4.0  0.0  1680.0  0.074074  1.5  62.222222  \n",
      "8             SIM  0.0  30.0  4.0  4.0  0.0  1700.0  0.000000  1.0  56.666667  \n",
      "14            SIM  7.0  30.0  6.0  4.0  0.0  1700.0  0.233333  1.5  56.666667  \n",
      "18            SIM  1.0  27.0  4.0  4.0  0.0  1680.0  0.037037  1.0  62.222222  \n",
      "22            NAO  1.0  27.0  4.0  4.0  0.0  1680.0  0.037037  1.0  62.222222  \n",
      "...           ...  ...   ...  ...  ...  ...     ...       ...  ...        ...  \n",
      "68817         SIM  1.0  40.0  6.0  6.0  0.0  2520.0  0.025000  1.0  63.000000  \n",
      "68819         SIM  0.0  41.0  6.0  6.0  0.0  2800.0  0.000000  1.0  68.292683  \n",
      "68820         SIM  3.0  49.0  8.0  8.0  0.0  3000.0  0.061224  1.0  61.224490  \n",
      "68824         NAO  0.0  28.0  4.0  4.0  0.0  1700.0  0.000000  1.0  60.714286  \n",
      "68825         SIM  0.0  47.0  8.0  8.0  0.0  2700.0  0.000000  1.0  57.446809  \n",
      "\n",
      "[18711 rows x 39 columns]\n"
     ]
    }
   ],
   "source": [
    "print(pdf)"
   ]
  },
  {
   "cell_type": "code",
   "execution_count": 31,
   "metadata": {
    "ExecuteTime": {
     "end_time": "2020-02-16T22:34:42.463751Z",
     "start_time": "2020-02-16T22:34:42.439753Z"
    },
    "lines_to_next_cell": 2
   },
   "outputs": [
    {
     "name": "stdout",
     "output_type": "stream",
     "text": [
      "<class 'pandas.core.frame.DataFrame'>\n",
      "Int64Index: 18711 entries, 5 to 68825\n",
      "Data columns (total 39 columns):\n",
      " #   Column                Non-Null Count  Dtype  \n",
      "---  ------                --------------  -----  \n",
      " 0   COD_ALUNO             18711 non-null  int64  \n",
      " 1   COD_UNIDADE           18711 non-null  int64  \n",
      " 2   COD_TURMA             18711 non-null  object \n",
      " 3   SEXO                  18711 non-null  int64  \n",
      " 4   ESTADO_CIVIL          18711 non-null  object \n",
      " 5   DATA_NASCIMENTO       18711 non-null  object \n",
      " 6   CIDADE_ALUNO          18711 non-null  object \n",
      " 7   UF_ALUNO              18711 non-null  object \n",
      " 8   CEP_ALUNO             18711 non-null  object \n",
      " 9   COD_CURSO             18711 non-null  int64  \n",
      " 10  NOME_CURSO            18711 non-null  object \n",
      " 11  TURNO_CURSO           18711 non-null  int64  \n",
      " 12  DURACAO_CURSO         18711 non-null  int64  \n",
      " 13  SITUCAO_MATRICULA     18711 non-null  object \n",
      " 14  DATA_CONCLUSAO        18711 non-null  object \n",
      " 15  PERIODOS_TRANCADOS    18711 non-null  int64  \n",
      " 16  CH_TOTAL_MATRIZ       18711 non-null  int64  \n",
      " 17  NR_TOTAL_DISCIPLINAS  18711 non-null  int64  \n",
      " 18  CH_APROVADA           18711 non-null  int64  \n",
      " 19  NR_DISC_APROVADA      18711 non-null  int64  \n",
      " 20  T_IDADE               18711 non-null  int64  \n",
      " 21  NOTA                  18711 non-null  float64\n",
      " 22  NOTA_ENEM             18711 non-null  float64\n",
      " 23  POSSUI_ENEM           18711 non-null  int64  \n",
      " 24  NRO_REPRO_ACO         18711 non-null  float64\n",
      " 25  NRO_TOTAL_REPRO       18711 non-null  float64\n",
      " 26  NRO_REPRO_NORMAL      18711 non-null  float64\n",
      " 27  SEMESTRES_CURSADOS    18711 non-null  int64  \n",
      " 28  Contador              18711 non-null  int64  \n",
      " 29  POSSUI_FIES           18711 non-null  object \n",
      " 30  A                     18711 non-null  float64\n",
      " 31  B                     18711 non-null  float64\n",
      " 32  C                     18711 non-null  float64\n",
      " 33  D                     18711 non-null  float64\n",
      " 34  E                     18711 non-null  float64\n",
      " 35  F                     18711 non-null  float64\n",
      " 36  G                     18711 non-null  float64\n",
      " 37  H                     18711 non-null  float64\n",
      " 38  I                     18705 non-null  float64\n",
      "dtypes: float64(14), int64(15), object(10)\n",
      "memory usage: 5.7+ MB\n"
     ]
    }
   ],
   "source": [
    "pdf.info()"
   ]
  },
  {
   "cell_type": "code",
   "execution_count": 32,
   "metadata": {
    "ExecuteTime": {
     "end_time": "2020-02-16T22:34:43.507277Z",
     "start_time": "2020-02-16T22:34:43.438243Z"
    }
   },
   "outputs": [
    {
     "name": "stderr",
     "output_type": "stream",
     "text": [
      "C:\\Users\\osvaldo.pereira\\AppData\\Local\\Continuum\\anaconda3\\lib\\site-packages\\statsmodels\\compat\\pandas.py:23: FutureWarning: The Panel class is removed from pandas. Accessing it from the top-level namespace will also be removed in the next version\n",
      "  data_klasses = (pandas.Series, pandas.DataFrame, pandas.Panel)\n"
     ]
    }
   ],
   "source": [
    " lm = sm.ols(formula= \n",
    "'NOTA ~ G + B + H + F + I', data=pdf).fit()"
   ]
  },
  {
   "cell_type": "code",
   "execution_count": 33,
   "metadata": {
    "ExecuteTime": {
     "end_time": "2020-02-16T22:34:45.171143Z",
     "start_time": "2020-02-16T22:34:45.139896Z"
    }
   },
   "outputs": [
    {
     "name": "stdout",
     "output_type": "stream",
     "text": [
      "                            OLS Regression Results                            \n",
      "==============================================================================\n",
      "Dep. Variable:                   NOTA   R-squared:                       0.188\n",
      "Model:                            OLS   Adj. R-squared:                  0.188\n",
      "Method:                 Least Squares   F-statistic:                     866.6\n",
      "Date:                Sun, 16 Feb 2020   Prob (F-statistic):               0.00\n",
      "Time:                        19:34:45   Log-Likelihood:                -8766.4\n",
      "No. Observations:               18705   AIC:                         1.754e+04\n",
      "Df Residuals:                   18699   BIC:                         1.759e+04\n",
      "Df Model:                           5                                         \n",
      "Covariance Type:            nonrobust                                         \n",
      "==============================================================================\n",
      "                 coef    std err          t      P>|t|      [0.025      0.975]\n",
      "------------------------------------------------------------------------------\n",
      "Intercept      8.7552      0.103     84.917      0.000       8.553       8.957\n",
      "G             -2.9446      0.049    -59.680      0.000      -3.041      -2.848\n",
      "B             -0.0097      0.002     -5.152      0.000      -0.013      -0.006\n",
      "H              0.0321      0.015      2.134      0.033       0.003       0.062\n",
      "F              0.0002   3.15e-05      5.560      0.000       0.000       0.000\n",
      "I             -0.0093      0.002     -5.658      0.000      -0.013      -0.006\n",
      "==============================================================================\n",
      "Omnibus:                      516.205   Durbin-Watson:                   1.788\n",
      "Prob(Omnibus):                  0.000   Jarque-Bera (JB):             1278.720\n",
      "Skew:                           0.066   Prob(JB):                    2.14e-278\n",
      "Kurtosis:                       4.274   Cond. No.                     1.15e+05\n",
      "==============================================================================\n",
      "\n",
      "Warnings:\n",
      "[1] Standard Errors assume that the covariance matrix of the errors is correctly specified.\n",
      "[2] The condition number is large, 1.15e+05. This might indicate that there are\n",
      "strong multicollinearity or other numerical problems.\n"
     ]
    }
   ],
   "source": [
    "print(lm.summary())"
   ]
  }
 ],
 "metadata": {
  "jupytext": {
   "cell_metadata_filter": "-all",
   "notebook_metadata_filter": "-all",
   "text_representation": {
    "extension": ".py",
    "format_name": "light"
   }
  },
  "kernelspec": {
   "display_name": "Python 3",
   "language": "python",
   "name": "python3"
  },
  "language_info": {
   "codemirror_mode": {
    "name": "ipython",
    "version": 3
   },
   "file_extension": ".py",
   "mimetype": "text/x-python",
   "name": "python",
   "nbconvert_exporter": "python",
   "pygments_lexer": "ipython3",
   "version": "3.7.3"
  },
  "toc": {
   "base_numbering": 1,
   "nav_menu": {},
   "number_sections": true,
   "sideBar": true,
   "skip_h1_title": false,
   "title_cell": "Table of Contents",
   "title_sidebar": "Contents",
   "toc_cell": false,
   "toc_position": {},
   "toc_section_display": true,
   "toc_window_display": false
  }
 },
 "nbformat": 4,
 "nbformat_minor": 2
}
