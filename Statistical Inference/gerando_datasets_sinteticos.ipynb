{
 "cells": [
  {
   "cell_type": "markdown",
   "metadata": {},
   "source": [
    "# Introdução\n",
    "\n",
    "**Referências**\n",
    "* Jason Brownlee, Imbalanced Classification with Python. Better Metrics, Balance Skewed Classes, Cost-Sensitive Learning.\n",
    "* https://www.ncbi.nlm.nih.gov/pmc/articles/PMC4310968/\n",
    "* https://www.programcreek.com/python/example/104698/sklearn.datasets.make_regression\n",
    "* [Scikit-Learn and More for Synthetic Dataset Generation for Machine Learning](https://dzone.com/articles/scikit-learn-for-synthetic-dataset-generation-for-machine-learning)\n",
    "* [Synthetic data generation — a must-have skill for new data scientists](https://towardsdatascience.com/synthetic-data-generation-a-must-have-skill-for-new-data-scientists-915896c0c1ae)\n",
    "* [tirthajyoti - Machine-Learning-with-Python](https://github.com/tirthajyoti/Machine-Learning-with-Python/blob/master/Synthetic_data_generation/Synthetic-Data-Generation.ipynb)\n",
    "* [tirthajyoti - Synthetic-data-gen](https://github.com/tirthajyoti/Synthetic-data-gen/blob/master/Notebooks/Scikit-learn-data-generation.ipynb)\n",
    "* [Random regression and classification problem generation with symbolic expression](https://towardsdatascience.com/random-regression-and-classification-problem-generation-with-symbolic-expression-a4e190e37b8d)\n",
    "\n",
    "\n",
    "**Recursos Online**\n",
    "* [A weighted version of random.choice](https://stackoverflow.com/questions/3679694/a-weighted-version-of-random-choice)\n",
    "* [Weighted Probabilities](https://www.python-course.eu/weighted_choice_and_sample.php)\n",
    "* [Weighted random generation in Python](https://eli.thegreenplace.net/2010/01/22/weighted-random-generation-in-python)\n",
    "* [numpy.random.choice](https://docs.scipy.org/doc/numpy-1.15.0/reference/generated/numpy.random.choice.html)\n",
    "\n",
    "* [Arrange/distribute array items uniformly](https://stackoverflow.com/questions/42148064/arrange-distribute-array-items-uniformly)\n",
    "* [Python - Create a data set with correlating numeric variables](https://stackoverflow.com/questions/51280994/python-create-a-data-set-with-correlating-numeric-variables)\n",
    "* [pandas.DataFrame.sample](https://pandas.pydata.org/pandas-docs/stable/reference/api/pandas.DataFrame.sample.html)\n",
    "* [How to Generate Test Datasets in Python with scikit-learn](https://machinelearningmastery.com/generate-test-datasets-python-scikit-learn/)\n",
    "* [Probability Distributions in Python with SciPy and Seaborn](https://cmdlinetips.com/2018/03/probability-distributions-in-python/)\n",
    "* [synthetic-data-tutorial](https://github.com/theodi/synthetic-data-tutorial)\n",
    "* [Synthetical Test Data With Python](https://www.python-course.eu/synthetical_test_data_with_python.php)\n",
    "* [Python, Random Numbers and Probability](https://www.python-course.eu/python_numpy_probability.php)\n",
    "* [imbalanced-learn](https://imbalanced-learn.readthedocs.io/en/stable/over_sampling.html#from-random-over-sampling-to-smote-and-adasyn)"
   ]
  },
  {
   "cell_type": "code",
   "execution_count": null,
   "metadata": {},
   "outputs": [],
   "source": []
  }
 ],
 "metadata": {
  "kernelspec": {
   "display_name": "Python 3",
   "language": "python",
   "name": "python3"
  },
  "language_info": {
   "codemirror_mode": {
    "name": "ipython",
    "version": 3
   },
   "file_extension": ".py",
   "mimetype": "text/x-python",
   "name": "python",
   "nbconvert_exporter": "python",
   "pygments_lexer": "ipython3",
   "version": "3.8.3"
  },
  "latex_envs": {
   "LaTeX_envs_menu_present": true,
   "autoclose": false,
   "autocomplete": true,
   "bibliofile": "biblio.bib",
   "cite_by": "apalike",
   "current_citInitial": 1,
   "eqLabelWithNumbers": true,
   "eqNumInitial": 1,
   "hotkeys": {
    "equation": "Ctrl-E",
    "itemize": "Ctrl-I"
   },
   "labels_anchors": false,
   "latex_user_defs": false,
   "report_style_numbering": false,
   "user_envs_cfg": false
  },
  "toc": {
   "base_numbering": 1,
   "nav_menu": {},
   "number_sections": true,
   "sideBar": true,
   "skip_h1_title": false,
   "title_cell": "Table of Contents",
   "title_sidebar": "Contents",
   "toc_cell": false,
   "toc_position": {},
   "toc_section_display": true,
   "toc_window_display": false
  },
  "varInspector": {
   "cols": {
    "lenName": 16,
    "lenType": 16,
    "lenVar": 40
   },
   "kernels_config": {
    "python": {
     "delete_cmd_postfix": "",
     "delete_cmd_prefix": "del ",
     "library": "var_list.py",
     "varRefreshCmd": "print(var_dic_list())"
    },
    "r": {
     "delete_cmd_postfix": ") ",
     "delete_cmd_prefix": "rm(",
     "library": "var_list.r",
     "varRefreshCmd": "cat(var_dic_list()) "
    }
   },
   "types_to_exclude": [
    "module",
    "function",
    "builtin_function_or_method",
    "instance",
    "_Feature"
   ],
   "window_display": false
  }
 },
 "nbformat": 4,
 "nbformat_minor": 2
}
