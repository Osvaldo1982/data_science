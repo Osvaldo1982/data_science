{
 "cells": [
  {
   "cell_type": "code",
   "execution_count": 5,
   "metadata": {
    "ExecuteTime": {
     "end_time": "2020-04-12T15:27:38.616767Z",
     "start_time": "2020-04-12T15:27:33.380768Z"
    },
    "colab": {
     "base_uri": "https://localhost:8080/",
     "height": 35
    },
    "colab_type": "code",
    "executionInfo": {
     "elapsed": 701,
     "status": "ok",
     "timestamp": 1579552768034,
     "user": {
      "displayName": "Osvaldo Pereira",
      "photoUrl": "",
      "userId": "04131710365098736524"
     },
     "user_tz": 180
    },
    "id": "o8nWPVISXYXG",
    "outputId": "34916970-396e-4899-e225-1e653da3b86c"
   },
   "outputs": [
    {
     "name": "stdout",
     "output_type": "stream",
     "text": [
      "[1 1 1 1]\n"
     ]
    }
   ],
   "source": [
    "# Exemplozinho de canal de youtube\n",
    "# link: https://www.youtube.com/watch?v=iYg-2sEC3NY&t=823s\n",
    "\n",
    "from sklearn import tree\n",
    "import pandas as pd \n",
    "\n",
    "lisa = 1\n",
    "irregular = 0\n",
    "maca = 1\n",
    "laranja = 0\n",
    "\n",
    "pomar = [[150, lisa],[130,lisa],[180,irregular],[160,irregular]]\n",
    "resultado =[maca,maca,laranja,laranja]\n",
    "\n",
    "clf = tree.DecisionTreeClassifier()\n",
    "clf = clf.fit(pomar,resultado)\n",
    "\n",
    "peso = [150, 140, 130, 120]\n",
    "superficie = [1,0,1,0]\n",
    "\n",
    "def merge(list1, list2): \n",
    "    merged_list = [(list1[i], list2[i]) for i in range(0, len(list1))] \n",
    "    return merged_list \n",
    "\n",
    "teste = merge(peso,superficie)\n",
    "\n",
    "print(clf.predict(teste))"
   ]
  },
  {
   "cell_type": "code",
   "execution_count": 3,
   "metadata": {},
   "outputs": [
    {
     "data": {
      "text/plain": [
       "[(150, 1), (140, 0), (130, 1), (120, 0)]"
      ]
     },
     "execution_count": 3,
     "metadata": {},
     "output_type": "execute_result"
    }
   ],
   "source": [
    "teste"
   ]
  },
  {
   "cell_type": "code",
   "execution_count": null,
   "metadata": {},
   "outputs": [],
   "source": []
  }
 ],
 "metadata": {
  "colab": {
   "authorship_tag": "ABX9TyPdilvQk30HOMrC/nhdKUv1",
   "name": "Exemplo Decision Tree.ipynb",
   "provenance": []
  },
  "hide_input": false,
  "kernelspec": {
   "display_name": "Python 3",
   "language": "python",
   "name": "python3"
  },
  "language_info": {
   "codemirror_mode": {
    "name": "ipython",
    "version": 3
   },
   "file_extension": ".py",
   "mimetype": "text/x-python",
   "name": "python",
   "nbconvert_exporter": "python",
   "pygments_lexer": "ipython3",
   "version": "3.8.3"
  },
  "latex_envs": {
   "LaTeX_envs_menu_present": true,
   "autoclose": false,
   "autocomplete": true,
   "bibliofile": "biblio.bib",
   "cite_by": "apalike",
   "current_citInitial": 1,
   "eqLabelWithNumbers": true,
   "eqNumInitial": 1,
   "hotkeys": {
    "equation": "Ctrl-E",
    "itemize": "Ctrl-I"
   },
   "labels_anchors": false,
   "latex_user_defs": false,
   "report_style_numbering": false,
   "user_envs_cfg": false
  },
  "toc": {
   "base_numbering": 1,
   "nav_menu": {},
   "number_sections": true,
   "sideBar": true,
   "skip_h1_title": false,
   "title_cell": "Table of Contents",
   "title_sidebar": "Contents",
   "toc_cell": false,
   "toc_position": {},
   "toc_section_display": true,
   "toc_window_display": false
  },
  "varInspector": {
   "cols": {
    "lenName": 16,
    "lenType": 16,
    "lenVar": 40
   },
   "kernels_config": {
    "python": {
     "delete_cmd_postfix": "",
     "delete_cmd_prefix": "del ",
     "library": "var_list.py",
     "varRefreshCmd": "print(var_dic_list())"
    },
    "r": {
     "delete_cmd_postfix": ") ",
     "delete_cmd_prefix": "rm(",
     "library": "var_list.r",
     "varRefreshCmd": "cat(var_dic_list()) "
    }
   },
   "types_to_exclude": [
    "module",
    "function",
    "builtin_function_or_method",
    "instance",
    "_Feature"
   ],
   "window_display": false
  }
 },
 "nbformat": 4,
 "nbformat_minor": 1
}
