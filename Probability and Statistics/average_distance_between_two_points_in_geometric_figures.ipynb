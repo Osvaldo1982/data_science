{
 "cells": [
  {
   "cell_type": "markdown",
   "metadata": {},
   "source": [
    "# References\n",
    "\n",
    "* [Average distance between two random points in a square\n",
    "](https://math.stackexchange.com/questions/1254129/average-distance-between-two-random-points-in-a-square)\n",
    "* [Limit of distance between two random points in a unit n-cube](https://mathoverflow.net/questions/163294/limit-of-distance-between-two-random-points-in-a-unit-n-cube?newreg=149aa0026e8242819f367dff42495ae0)\n",
    "* [Robbins' constant](http://www.scientificlib.com/en/Mathematics/LX/RobbinsConstant.html)\n",
    "* [How Far Apart Are Two Random Points in a Hypercube](https://blogs.mathworks.com/cleve/2017/09/27/how-far-apart-are-two-random-points-in-a-hypercube/)\n",
    "* https://mathworld.wolfram.com/RobbinsConstant.html\n",
    "* https://mathworld.wolfram.com/HypercubeLinePicking.html\n",
    "* https://mathworld.wolfram.com/SpherePointPicking.html\n",
    "* https://mathworld.wolfram.com/DiskPointPicking.html\n",
    "\n",
    "* https://www.geogebra.org/m/jnm79j5b"
   ]
  },
  {
   "cell_type": "code",
   "execution_count": 1,
   "metadata": {
    "ExecuteTime": {
     "end_time": "2021-04-30T19:37:41.558937Z",
     "start_time": "2021-04-30T19:37:41.543019Z"
    }
   },
   "outputs": [],
   "source": [
    "import numpy as np"
   ]
  },
  {
   "cell_type": "code",
   "execution_count": 4,
   "metadata": {
    "ExecuteTime": {
     "end_time": "2021-04-30T19:39:35.101927Z",
     "start_time": "2021-04-30T19:39:35.023043Z"
    }
   },
   "outputs": [
    {
     "data": {
      "text/plain": [
       "0.5214562434516791"
      ]
     },
     "execution_count": 4,
     "metadata": {},
     "output_type": "execute_result"
    }
   ],
   "source": [
    "n = 1000000\n",
    "\n",
    "x0 = np.random.random(n)\n",
    "x1 = np.random.random(n)\n",
    "y0 = np.random.random(n)\n",
    "y1 = np.random.random(n)\n",
    "\n",
    "dx = x1 - x0\n",
    "\n",
    "dy = y1 - y0\n",
    "\n",
    "dist = np.sqrt(dx**2 + dy**2)\n",
    "\n",
    "np.mean(dist)"
   ]
  },
  {
   "cell_type": "code",
   "execution_count": 6,
   "metadata": {
    "ExecuteTime": {
     "end_time": "2021-04-30T19:40:43.788153Z",
     "start_time": "2021-04-30T19:40:43.780172Z"
    }
   },
   "outputs": [
    {
     "data": {
      "text/plain": [
       "0.5214054331647207"
      ]
     },
     "execution_count": 6,
     "metadata": {},
     "output_type": "execute_result"
    }
   ],
   "source": [
    "distrib = (2 + np.sqrt(2) + 5 * np.log(np.sqrt(2) + 1))/15\n",
    "distrib"
   ]
  }
 ],
 "metadata": {
  "kernelspec": {
   "display_name": "Python 3",
   "language": "python",
   "name": "python3"
  },
  "language_info": {
   "codemirror_mode": {
    "name": "ipython",
    "version": 3
   },
   "file_extension": ".py",
   "mimetype": "text/x-python",
   "name": "python",
   "nbconvert_exporter": "python",
   "pygments_lexer": "ipython3",
   "version": "3.8.3"
  },
  "latex_envs": {
   "LaTeX_envs_menu_present": true,
   "autoclose": false,
   "autocomplete": true,
   "bibliofile": "biblio.bib",
   "cite_by": "apalike",
   "current_citInitial": 1,
   "eqLabelWithNumbers": true,
   "eqNumInitial": 1,
   "hotkeys": {
    "equation": "Ctrl-E",
    "itemize": "Ctrl-I"
   },
   "labels_anchors": false,
   "latex_user_defs": false,
   "report_style_numbering": false,
   "user_envs_cfg": false
  },
  "toc": {
   "base_numbering": 1,
   "nav_menu": {},
   "number_sections": true,
   "sideBar": true,
   "skip_h1_title": false,
   "title_cell": "Table of Contents",
   "title_sidebar": "Contents",
   "toc_cell": false,
   "toc_position": {},
   "toc_section_display": true,
   "toc_window_display": false
  },
  "varInspector": {
   "cols": {
    "lenName": 16,
    "lenType": 16,
    "lenVar": 40
   },
   "kernels_config": {
    "python": {
     "delete_cmd_postfix": "",
     "delete_cmd_prefix": "del ",
     "library": "var_list.py",
     "varRefreshCmd": "print(var_dic_list())"
    },
    "r": {
     "delete_cmd_postfix": ") ",
     "delete_cmd_prefix": "rm(",
     "library": "var_list.r",
     "varRefreshCmd": "cat(var_dic_list()) "
    }
   },
   "types_to_exclude": [
    "module",
    "function",
    "builtin_function_or_method",
    "instance",
    "_Feature"
   ],
   "window_display": false
  }
 },
 "nbformat": 4,
 "nbformat_minor": 4
}
