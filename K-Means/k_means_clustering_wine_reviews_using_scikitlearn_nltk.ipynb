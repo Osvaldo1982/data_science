{
 "cells": [
  {
   "cell_type": "markdown",
   "metadata": {},
   "source": [
    "# References\n",
    "\n",
    "## Main reference\n",
    "\n",
    "* https://towardsdatascience.com/k-means-clustering-chardonnay-reviews-using-scikit-learn-nltk-9df3c59527f3\n",
    "\n",
    "## Other eferences\n",
    "\n",
    "* https://lamfo-unb.github.io/2019/09/02/cluster_texto/\n",
    "* https://www.datacamp.com/community/tutorials/pandas-tutorial-dataframe-python\n",
    "* https://geodacenter.github.io/workbook/7c_clusters_3/lab7c.html\n",
    "* https://paginas.fe.up.pt/~ec/files_1112/week_05_Clustering.pdf\n",
    "* https://paginas.fe.up.pt/~ec/\n",
    "* https://medium.com/analytics-vidhya/k-means-clustering-in-python-80b7ac147eee\n",
    "* https://medium.com/analytics-vidhya/k-means-clustering-in-python-80b7ac147eee\n",
    "* https://realpython.com/k-means-clustering-python/"
   ]
  },
  {
   "cell_type": "code",
   "execution_count": 56,
   "metadata": {
    "ExecuteTime": {
     "end_time": "2020-11-14T23:05:06.503696Z",
     "start_time": "2020-11-14T23:05:06.078356Z"
    }
   },
   "outputs": [
    {
     "name": "stderr",
     "output_type": "stream",
     "text": [
      "[nltk_data] Downloading package stopwords to\n",
      "[nltk_data]     C:\\Users\\Osvaldo\\AppData\\Roaming\\nltk_data...\n",
      "[nltk_data]   Unzipping corpora\\stopwords.zip.\n"
     ]
    }
   ],
   "source": [
    "#import dependencies\n",
    "import pandas as pd\n",
    "import numpy as np\n",
    "import matplotlib.pyplot as plt\n",
    "import seaborn as sns\n",
    "import re\n",
    "\n",
    "from sklearn import preprocessing, decomposition, model_selection, metrics, pipeline\n",
    "from sklearn.feature_extraction.text import TfidfVectorizer, CountVectorizer\n",
    "from sklearn.cluster import KMeans\n",
    "import nltk\n",
    "nltk.download('stopwords')\n",
    "from nltk.stem.wordnet import WordNetLemmatizer\n",
    "from nltk.corpus import stopwords"
   ]
  },
  {
   "cell_type": "code",
   "execution_count": 46,
   "metadata": {
    "ExecuteTime": {
     "end_time": "2020-11-14T22:50:30.743820Z",
     "start_time": "2020-11-14T22:50:29.797366Z"
    },
    "scrolled": false
   },
   "outputs": [
    {
     "data": {
      "text/html": [
       "<div>\n",
       "<style scoped>\n",
       "    .dataframe tbody tr th:only-of-type {\n",
       "        vertical-align: middle;\n",
       "    }\n",
       "\n",
       "    .dataframe tbody tr th {\n",
       "        vertical-align: top;\n",
       "    }\n",
       "\n",
       "    .dataframe thead th {\n",
       "        text-align: right;\n",
       "    }\n",
       "</style>\n",
       "<table border=\"1\" class=\"dataframe\">\n",
       "  <thead>\n",
       "    <tr style=\"text-align: right;\">\n",
       "      <th></th>\n",
       "      <th>country</th>\n",
       "      <th>description</th>\n",
       "      <th>designation</th>\n",
       "      <th>points</th>\n",
       "      <th>price</th>\n",
       "      <th>province</th>\n",
       "      <th>region_1</th>\n",
       "      <th>region_2</th>\n",
       "      <th>taster_name</th>\n",
       "      <th>taster_twitter_handle</th>\n",
       "      <th>title</th>\n",
       "      <th>variety</th>\n",
       "      <th>winery</th>\n",
       "    </tr>\n",
       "  </thead>\n",
       "  <tbody>\n",
       "    <tr>\n",
       "      <th>0</th>\n",
       "      <td>Italy</td>\n",
       "      <td>Aromas include tropical fruit, broom, brimstone and dried herb. The palate isn't overly expressive, offering unripened apple, citrus and dried sage alongside brisk acidity.</td>\n",
       "      <td>Vulkà Bianco</td>\n",
       "      <td>87</td>\n",
       "      <td>NaN</td>\n",
       "      <td>Sicily &amp; Sardinia</td>\n",
       "      <td>Etna</td>\n",
       "      <td>NaN</td>\n",
       "      <td>Kerin O’Keefe</td>\n",
       "      <td>@kerinokeefe</td>\n",
       "      <td>Nicosia 2013 Vulkà Bianco  (Etna)</td>\n",
       "      <td>White Blend</td>\n",
       "      <td>Nicosia</td>\n",
       "    </tr>\n",
       "  </tbody>\n",
       "</table>\n",
       "</div>"
      ],
      "text/plain": [
       "  country  \\\n",
       "0  Italy    \n",
       "\n",
       "                                                                                                                                                                    description  \\\n",
       "0  Aromas include tropical fruit, broom, brimstone and dried herb. The palate isn't overly expressive, offering unripened apple, citrus and dried sage alongside brisk acidity.   \n",
       "\n",
       "    designation  points  price           province region_1 region_2  \\\n",
       "0  Vulkà Bianco  87     NaN     Sicily & Sardinia  Etna     NaN       \n",
       "\n",
       "     taster_name taster_twitter_handle                              title  \\\n",
       "0  Kerin O’Keefe  @kerinokeefe          Nicosia 2013 Vulkà Bianco  (Etna)   \n",
       "\n",
       "       variety   winery  \n",
       "0  White Blend  Nicosia  "
      ]
     },
     "execution_count": 46,
     "metadata": {},
     "output_type": "execute_result"
    }
   ],
   "source": [
    "data = pd.read_csv('winemag.csv', encoding = 'utf-8', sep = ',')\n",
    "\n",
    "data = data.drop('Unnamed: 0', axis = 1)\n",
    "\n",
    "data.head(1)"
   ]
  },
  {
   "cell_type": "code",
   "execution_count": 65,
   "metadata": {
    "ExecuteTime": {
     "end_time": "2020-11-14T23:08:03.481893Z",
     "start_time": "2020-11-14T23:08:03.449990Z"
    },
    "scrolled": false
   },
   "outputs": [
    {
     "data": {
      "text/html": [
       "<div>\n",
       "<style scoped>\n",
       "    .dataframe tbody tr th:only-of-type {\n",
       "        vertical-align: middle;\n",
       "    }\n",
       "\n",
       "    .dataframe tbody tr th {\n",
       "        vertical-align: top;\n",
       "    }\n",
       "\n",
       "    .dataframe thead th {\n",
       "        text-align: right;\n",
       "    }\n",
       "</style>\n",
       "<table border=\"1\" class=\"dataframe\">\n",
       "  <thead>\n",
       "    <tr style=\"text-align: right;\">\n",
       "      <th></th>\n",
       "      <th>index</th>\n",
       "      <th>country</th>\n",
       "      <th>description</th>\n",
       "      <th>designation</th>\n",
       "      <th>points</th>\n",
       "      <th>price</th>\n",
       "      <th>province</th>\n",
       "      <th>region_1</th>\n",
       "      <th>region_2</th>\n",
       "      <th>taster_name</th>\n",
       "      <th>taster_twitter_handle</th>\n",
       "      <th>title</th>\n",
       "      <th>variety</th>\n",
       "      <th>winery</th>\n",
       "    </tr>\n",
       "  </thead>\n",
       "  <tbody>\n",
       "    <tr>\n",
       "      <th>0</th>\n",
       "      <td>14</td>\n",
       "      <td>US</td>\n",
       "      <td>Building on 150 years and six generations of winemaking tradition, the winery trends toward a leaner style, with the classic California buttercream aroma cut by tart green apple. In this good everyday sipping wine, flavors that range from pear to barely ripe pineapple prove approachable but not distinctive.</td>\n",
       "      <td>NaN</td>\n",
       "      <td>87</td>\n",
       "      <td>12.0</td>\n",
       "      <td>California</td>\n",
       "      <td>Central Coast</td>\n",
       "      <td>Central Coast</td>\n",
       "      <td>Matt Kettmann</td>\n",
       "      <td>@mattkettmann</td>\n",
       "      <td>Mirassou 2012 Chardonnay (Central Coast)</td>\n",
       "      <td>Chardonnay</td>\n",
       "      <td>Mirassou</td>\n",
       "    </tr>\n",
       "    <tr>\n",
       "      <th>1</th>\n",
       "      <td>55</td>\n",
       "      <td>US</td>\n",
       "      <td>This shows jelly-like flavors of orange and pear, with some earthy tones. The mouthfeel is soft and there's a bounty of oak in the form of buttered toast and caramel notes.</td>\n",
       "      <td>Estate Bottled</td>\n",
       "      <td>85</td>\n",
       "      <td>30.0</td>\n",
       "      <td>California</td>\n",
       "      <td>Napa Valley</td>\n",
       "      <td>Napa</td>\n",
       "      <td>NaN</td>\n",
       "      <td>NaN</td>\n",
       "      <td>RustRidge 2010 Estate Bottled Chardonnay (Napa Valley)</td>\n",
       "      <td>Chardonnay</td>\n",
       "      <td>RustRidge</td>\n",
       "    </tr>\n",
       "    <tr>\n",
       "      <th>2</th>\n",
       "      <td>56</td>\n",
       "      <td>US</td>\n",
       "      <td>This is weighty, creamy and medium to full in body. It has plenty of lime and pear flavors, plus slight brown sugar and vanilla notes.</td>\n",
       "      <td>NaN</td>\n",
       "      <td>85</td>\n",
       "      <td>14.0</td>\n",
       "      <td>California</td>\n",
       "      <td>North Coast</td>\n",
       "      <td>North Coast</td>\n",
       "      <td>Virginie Boone</td>\n",
       "      <td>@vboone</td>\n",
       "      <td>Souverain 2010 Chardonnay (North Coast)</td>\n",
       "      <td>Chardonnay</td>\n",
       "      <td>Souverain</td>\n",
       "    </tr>\n",
       "    <tr>\n",
       "      <th>3</th>\n",
       "      <td>65</td>\n",
       "      <td>France</td>\n",
       "      <td>From the warm 2015 vintage, this is a soft and fruity wine. It's open with broad white fruit flavors, the acidity lighter than usual for Chablis, giving it a particularly ripe character. Drink now.</td>\n",
       "      <td>NaN</td>\n",
       "      <td>86</td>\n",
       "      <td>24.0</td>\n",
       "      <td>Burgundy</td>\n",
       "      <td>Chablis</td>\n",
       "      <td>NaN</td>\n",
       "      <td>Roger Voss</td>\n",
       "      <td>@vossroger</td>\n",
       "      <td>Simonnet-Febvre 2015  Chablis</td>\n",
       "      <td>Chardonnay</td>\n",
       "      <td>Simonnet-Febvre</td>\n",
       "    </tr>\n",
       "    <tr>\n",
       "      <th>4</th>\n",
       "      <td>66</td>\n",
       "      <td>France</td>\n",
       "      <td>This soft, rounded wine is ripe with generous pear and melon flavors. It's easy and ready to drink young for its smooth, attractively ripe character.</td>\n",
       "      <td>NaN</td>\n",
       "      <td>86</td>\n",
       "      <td>15.0</td>\n",
       "      <td>Burgundy</td>\n",
       "      <td>Mâcon-Milly Lamartine</td>\n",
       "      <td>NaN</td>\n",
       "      <td>Roger Voss</td>\n",
       "      <td>@vossroger</td>\n",
       "      <td>Vignerons des Terres Secrètes 2015  Mâcon-Milly Lamartine</td>\n",
       "      <td>Chardonnay</td>\n",
       "      <td>Vignerons des Terres Secrètes</td>\n",
       "    </tr>\n",
       "  </tbody>\n",
       "</table>\n",
       "</div>"
      ],
      "text/plain": [
       "   index country  \\\n",
       "0  14     US       \n",
       "1  55     US       \n",
       "2  56     US       \n",
       "3  65     France   \n",
       "4  66     France   \n",
       "\n",
       "                                                                                                                                                                                                                                                                                                            description  \\\n",
       "0  Building on 150 years and six generations of winemaking tradition, the winery trends toward a leaner style, with the classic California buttercream aroma cut by tart green apple. In this good everyday sipping wine, flavors that range from pear to barely ripe pineapple prove approachable but not distinctive.   \n",
       "1  This shows jelly-like flavors of orange and pear, with some earthy tones. The mouthfeel is soft and there's a bounty of oak in the form of buttered toast and caramel notes.                                                                                                                                           \n",
       "2  This is weighty, creamy and medium to full in body. It has plenty of lime and pear flavors, plus slight brown sugar and vanilla notes.                                                                                                                                                                                 \n",
       "3  From the warm 2015 vintage, this is a soft and fruity wine. It's open with broad white fruit flavors, the acidity lighter than usual for Chablis, giving it a particularly ripe character. Drink now.                                                                                                                  \n",
       "4  This soft, rounded wine is ripe with generous pear and melon flavors. It's easy and ready to drink young for its smooth, attractively ripe character.                                                                                                                                                                  \n",
       "\n",
       "      designation  points  price    province               region_1  \\\n",
       "0  NaN             87      12.0   California  Central Coast           \n",
       "1  Estate Bottled  85      30.0   California  Napa Valley             \n",
       "2  NaN             85      14.0   California  North Coast             \n",
       "3  NaN             86      24.0   Burgundy    Chablis                 \n",
       "4  NaN             86      15.0   Burgundy    Mâcon-Milly Lamartine   \n",
       "\n",
       "        region_2     taster_name taster_twitter_handle  \\\n",
       "0  Central Coast  Matt Kettmann   @mattkettmann          \n",
       "1  Napa           NaN             NaN                    \n",
       "2  North Coast    Virginie Boone  @vboone                \n",
       "3  NaN            Roger Voss      @vossroger             \n",
       "4  NaN            Roger Voss      @vossroger             \n",
       "\n",
       "                                                       title     variety  \\\n",
       "0  Mirassou 2012 Chardonnay (Central Coast)                   Chardonnay   \n",
       "1  RustRidge 2010 Estate Bottled Chardonnay (Napa Valley)     Chardonnay   \n",
       "2  Souverain 2010 Chardonnay (North Coast)                    Chardonnay   \n",
       "3  Simonnet-Febvre 2015  Chablis                              Chardonnay   \n",
       "4  Vignerons des Terres Secrètes 2015  Mâcon-Milly Lamartine  Chardonnay   \n",
       "\n",
       "                          winery  \n",
       "0  Mirassou                       \n",
       "1  RustRidge                      \n",
       "2  Souverain                      \n",
       "3  Simonnet-Febvre                \n",
       "4  Vignerons des Terres Secrètes  "
      ]
     },
     "execution_count": 65,
     "metadata": {},
     "output_type": "execute_result"
    }
   ],
   "source": [
    "df = data[data['variety'] == 'Chardonnay'].copy()\n",
    "\n",
    "df = df.reset_index()\n",
    "\n",
    "df.head()"
   ]
  },
  {
   "cell_type": "code",
   "execution_count": 66,
   "metadata": {
    "ExecuteTime": {
     "end_time": "2020-11-14T23:08:10.249796Z",
     "start_time": "2020-11-14T23:08:09.978492Z"
    }
   },
   "outputs": [
    {
     "name": "stdout",
     "output_type": "stream",
     "text": [
      "Word Count Median: 38.0\n",
      "count    11753.000000\n",
      "mean     38.352931   \n",
      "std      10.891093   \n",
      "min      3.000000    \n",
      "25%      31.000000   \n",
      "50%      38.000000   \n",
      "75%      45.000000   \n",
      "max      104.000000  \n",
      "Name: word_count, dtype: float64\n"
     ]
    },
    {
     "data": {
      "image/png": "[encoded data removed]",
      "text/plain": [
       "<Figure size 432x288 with 1 Axes>"
      ]
     },
     "metadata": {
      "needs_background": "light"
     },
     "output_type": "display_data"
    }
   ],
   "source": [
    "#add a column for the word count\n",
    "df['word_count'] = df['description'].apply(lambda x: len(str(x).split(\" \")))\n",
    "\n",
    "print(\"Word Count Median: \" + str(df['word_count'].median()))\n",
    "print(df['word_count'].describe())\n",
    "\n",
    "x = df['word_count']\n",
    "\n",
    "n_bins = 95\n",
    "plt.hist(x, bins=n_bins)\n",
    "plt.xlabel('Number of Words in Description')\n",
    "plt.ylabel('Frequency')\n",
    "plt.show()"
   ]
  },
  {
   "cell_type": "code",
   "execution_count": 67,
   "metadata": {
    "ExecuteTime": {
     "end_time": "2020-11-14T23:08:12.592424Z",
     "start_time": "2020-11-14T23:08:12.452799Z"
    }
   },
   "outputs": [
    {
     "name": "stdout",
     "output_type": "stream",
     "text": [
      "82.0\n",
      "count    65.000000\n",
      "mean     82.630769\n",
      "std      1.790332 \n",
      "min      80.000000\n",
      "25%      82.000000\n",
      "50%      82.000000\n",
      "75%      84.000000\n",
      "max      89.000000\n",
      "Name: points, dtype: float64\n"
     ]
    },
    {
     "data": {
      "text/plain": [
       "Text(0.5, 1.0, 'Points Counts')"
      ]
     },
     "execution_count": 67,
     "metadata": {},
     "output_type": "execute_result"
    },
    {
     "data": {
      "image/png": "[encoded data removed]",
      "text/plain": [
       "<Figure size 1008x288 with 1 Axes>"
      ]
     },
     "metadata": {
      "needs_background": "light"
     },
     "output_type": "display_data"
    }
   ],
   "source": [
    "#word counts less than 15\n",
    "wc15 = df.loc[df['word_count'] < 15]\n",
    "\n",
    "print(wc15.points.median())\n",
    "print(wc15.points.describe())\n",
    "\n",
    "#plot the counts\n",
    "plt.figure(figsize=(14,4))\n",
    "sns.countplot(x ='points', data = wc15).set_title(\"Points Counts\")"
   ]
  },
  {
   "cell_type": "code",
   "execution_count": 68,
   "metadata": {
    "ExecuteTime": {
     "end_time": "2020-11-14T23:08:14.824310Z",
     "start_time": "2020-11-14T23:08:14.661953Z"
    }
   },
   "outputs": [
    {
     "name": "stdout",
     "output_type": "stream",
     "text": [
      "93.0\n",
      "count    60.000000\n",
      "mean     92.600000\n",
      "std      2.532501 \n",
      "min      85.000000\n",
      "25%      91.000000\n",
      "50%      93.000000\n",
      "75%      94.000000\n",
      "max      98.000000\n",
      "Name: points, dtype: float64\n"
     ]
    },
    {
     "data": {
      "text/plain": [
       "Text(0.5, 1.0, 'Points Counts')"
      ]
     },
     "execution_count": 68,
     "metadata": {},
     "output_type": "execute_result"
    },
    {
     "data": {
      "image/png": "[encoded data removed]",
      "text/plain": [
       "<Figure size 1008x288 with 1 Axes>"
      ]
     },
     "metadata": {
      "needs_background": "light"
     },
     "output_type": "display_data"
    }
   ],
   "source": [
    "#word counts greater than 70\n",
    "wc70 = df.loc[df['word_count'] > 70]\n",
    "\n",
    "print(wc70.points.median())\n",
    "print(wc70.points.describe())\n",
    "\n",
    "#plot the counts\n",
    "plt.figure(figsize=(14,4))\n",
    "sns.countplot(x ='points', data = wc70).set_title(\"Points Counts\")"
   ]
  },
  {
   "cell_type": "code",
   "execution_count": 86,
   "metadata": {
    "ExecuteTime": {
     "end_time": "2020-11-14T23:21:12.076005Z",
     "start_time": "2020-11-14T23:21:11.881501Z"
    }
   },
   "outputs": [
    {
     "name": "stdout",
     "output_type": "stream",
     "text": [
      "Number of Unique Points: 21\n",
      "Points Median: 88.0\n",
      "count    11753.000000\n",
      "mean     88.340083   \n",
      "std      3.231557    \n",
      "min      80.000000   \n",
      "25%      86.000000   \n",
      "50%      88.000000   \n",
      "75%      91.000000   \n",
      "max      100.000000  \n",
      "Name: points, dtype: float64\n"
     ]
    },
    {
     "data": {
      "image/png": "[encoded data removed]",
      "text/plain": [
       "<Figure size 1008x288 with 1 Axes>"
      ]
     },
     "metadata": {
      "needs_background": "light"
     },
     "output_type": "display_data"
    }
   ],
   "source": [
    "print(\"Number of Unique Points: \" + str(len(df['points'].unique())))\n",
    "print(\"Points Median: \" + str(df['points'].median()))\n",
    "print(df['points'].describe())\n",
    "\n",
    "plt.figure(figsize=(14,4))\n",
    "\n",
    "sns.countplot(x='points', data=df).set_title(\"Points Counts\")\n",
    "plt.show()\n",
    "\n",
    "#add column to flag records with rating greater than 88\n",
    "df['above_avg'] = [1 if points > 88 else 0 for points in df['points']]"
   ]
  },
  {
   "cell_type": "code",
   "execution_count": 70,
   "metadata": {
    "ExecuteTime": {
     "end_time": "2020-11-14T23:08:53.111858Z",
     "start_time": "2020-11-14T23:08:42.270065Z"
    },
    "scrolled": false
   },
   "outputs": [
    {
     "name": "stderr",
     "output_type": "stream",
     "text": [
      "[nltk_data] Downloading package wordnet to\n",
      "[nltk_data]     C:\\Users\\Osvaldo\\AppData\\Roaming\\nltk_data...\n",
      "[nltk_data]   Unzipping corpora\\wordnet.zip.\n"
     ]
    },
    {
     "name": "stdout",
     "output_type": "stream",
     "text": [
      "179\n"
     ]
    }
   ],
   "source": [
    "nltk.download('wordnet')\n",
    "\n",
    "#create a list of stop words\n",
    "stop_words = set(stopwords.words(\"english\"))\n",
    "\n",
    "#show how many words are in the list of stop words\n",
    "print(len(stop_words))\n",
    "#179\n",
    "\n",
    "#construct a new list to store the cleaned text\n",
    "clean_desc = []\n",
    "for w in range(0,len(df.description)):\n",
    "    desc = df['description'][w].lower()\n",
    "    \n",
    "    #remove punctuation\n",
    "    desc = re.sub('[^a-zA-Z]', ' ', desc)\n",
    "    \n",
    "    #remove tags\n",
    "    desc = re.sub(\"&lt;/?.*?&gt;\",\" &lt;&gt; \",desc)\n",
    "    \n",
    "    #remove special characters and digits\n",
    "    desc = re.sub(\"(\\\\d|\\\\W)+\",\" \",desc)\n",
    "    \n",
    "    split_text = desc.split()\n",
    "    \n",
    "    #Lemmatisation\n",
    "    lem = WordNetLemmatizer()\n",
    "    split_text = [lem.lemmatize(word) for word in split_text if not word in stop_words and len(word) >2] \n",
    "    split_text = \" \".join(split_text)\n",
    "    clean_desc.append(split_text)"
   ]
  },
  {
   "cell_type": "code",
   "execution_count": 71,
   "metadata": {
    "ExecuteTime": {
     "end_time": "2020-11-14T23:09:52.385174Z",
     "start_time": "2020-11-14T23:09:52.092659Z"
    }
   },
   "outputs": [],
   "source": [
    "#TF-IDF vectorizer\n",
    "tfv = TfidfVectorizer(stop_words = stop_words, ngram_range = (1,1))\n",
    "\n",
    "#transform\n",
    "vec_text = tfv.fit_transform(clean_desc)\n",
    "\n",
    "#returns a list of words.\n",
    "words = tfv.get_feature_names()"
   ]
  },
  {
   "cell_type": "code",
   "execution_count": 75,
   "metadata": {
    "ExecuteTime": {
     "end_time": "2020-11-14T23:14:45.311393Z",
     "start_time": "2020-11-14T23:10:45.308453Z"
    }
   },
   "outputs": [
    {
     "name": "stderr",
     "output_type": "stream",
     "text": [
      "C:\\ProgramData\\Anaconda3\\lib\\site-packages\\sklearn\\cluster\\_kmeans.py:973: FutureWarning: 'n_jobs' was deprecated in version 0.23 and will be removed in 0.25.\n",
      "  warnings.warn(\"'n_jobs' was deprecated in version 0.23 and will be\"\n"
     ]
    },
    {
     "name": "stdout",
     "output_type": "stream",
     "text": [
      "0 : cru, premier, grand, wine, drink, crus, vineyard, fruit, ripe, aging\n",
      "1 : buttered, toast, pineapple, flavor, vanilla, chardonnay, jam, orange, acidity, oak\n",
      "2 : green, apple, flavor, wine, crisp, fruit, chardonnay, light, fresh, acidity\n",
      "3 : french, barrel, fermented, oak, new, aged, wine, stainless, fruit, apple\n",
      "4 : wood, wine, fruit, aging, ripe, drink, rich, yellow, acidity, flavor\n",
      "5 : year, age, wine, fruit, acidity, structure, ripe, rich, least, wood\n",
      "6 : aroma, finish, melon, flavor, feel, apple, palate, fruit, oak, resiny\n",
      "7 : medium, bodied, finish, apple, flavor, wine, aroma, palate, note, pear\n",
      "8 : blanc, de, wine, mineral, drink, crisp, sauvignon, grand, cru, tight\n",
      "9 : sweet, like, pineapple, simple, taste, flavor, vanilla, orange, chardonnay, apricot\n",
      "10 : fruit, wine, chardonnay, flavor, citrus, finish, peach, oak, tropical, apple\n",
      "11 : crisp, wine, bright, fresh, acidity, fruity, lively, aftertaste, attractive, drink\n",
      "12 : ready, drink, wine, soft, fruity, attractive, acidity, ripe, light, crisp\n",
      "13 : chardonnay, dry, flavor, oak, pineapple, acidity, rich, fruit, lime, crisp\n",
      "14 : banana, flavor, aroma, tropical, finish, melon, palate, apple, fruit, nose\n",
      "15 : palate, lemon, apple, note, finish, aroma, fresh, chardonnay, nose, hint\n",
      "16 : tight, wine, mineral, drink, texture, character, still, crisp, acidity, young\n",
      "17 : ripe, wine, fruit, yellow, acidity, rich, full, drink, rounded, texture\n",
      "18 : nose, bottling, lemon, palate, lime, show, apple, salt, sea, aroma\n",
      "19 : wine, full, bodied, apple, oak, pear, vineyard, finish, baked, caramel\n",
      "20 : aroma, spice, flavor, pear, feel, butter, baking, lead, creamy, fruit\n"
     ]
    }
   ],
   "source": [
    "#setup kmeans clustering\n",
    "kmeans = KMeans(n_clusters = 21, n_init = 17, n_jobs = -1, tol = 0.01, max_iter = 200)\n",
    "\n",
    "#fit the data \n",
    "kmeans.fit(vec_text)\n",
    "\n",
    "#this loop transforms the numbers back into words\n",
    "common_words = kmeans.cluster_centers_.argsort()[:,-1:-11:-1]\n",
    "for num, centroid in enumerate(common_words):\n",
    "    print(str(num) + ' : ' + ', '.join(words[word] for word in centroid))"
   ]
  },
  {
   "cell_type": "code",
   "execution_count": 85,
   "metadata": {
    "ExecuteTime": {
     "end_time": "2020-11-14T23:19:27.032301Z",
     "start_time": "2020-11-14T23:19:26.698530Z"
    }
   },
   "outputs": [
    {
     "data": {
      "image/png": "[encoded data removed]",
      "text/plain": [
       "<Figure size 1872x1080 with 2 Axes>"
      ]
     },
     "metadata": {
      "needs_background": "light"
     },
     "output_type": "display_data"
    }
   ],
   "source": [
    "#add the cluster label to the data frame\n",
    "df['cluster'] = kmeans.labels_\n",
    "\n",
    "clusters = df.groupby(['cluster', 'points']).size()\n",
    "\n",
    "fig, ax1 = plt.subplots(figsize = (26, 15))\n",
    "sns.heatmap(clusters.unstack(level = 'points'), ax = ax1, cmap = 'Reds')\n",
    "\n",
    "ax1.set_xlabel('points').set_size(18)\n",
    "ax1.set_ylabel('cluster').set_size(18)"
   ]
  },
  {
   "cell_type": "code",
   "execution_count": 87,
   "metadata": {
    "ExecuteTime": {
     "end_time": "2020-11-14T23:21:23.196677Z",
     "start_time": "2020-11-14T23:21:22.967293Z"
    }
   },
   "outputs": [
    {
     "data": {
      "image/png": "[encoded data removed]",
      "text/plain": [
       "<Figure size 2160x1080 with 2 Axes>"
      ]
     },
     "metadata": {
      "needs_background": "light"
     },
     "output_type": "display_data"
    }
   ],
   "source": [
    "clusters = df.groupby(['cluster', 'above_avg']).size()\n",
    "\n",
    "fig2, ax2 = plt.subplots(figsize = (30, 15))\n",
    "sns.heatmap(clusters.unstack(level = 'above_avg'), ax = ax2, cmap=\"Reds\")\n",
    "\n",
    "ax2.set_xlabel('Above Average points').set_size(18)\n",
    "ax2.set_ylabel('Cluster').set_size(18)"
   ]
  },
  {
   "cell_type": "code",
   "execution_count": 90,
   "metadata": {
    "ExecuteTime": {
     "end_time": "2020-11-14T23:22:21.333370Z",
     "start_time": "2020-11-14T23:22:21.288491Z"
    }
   },
   "outputs": [
    {
     "data": {
      "text/html": [
       "<div>\n",
       "<style scoped>\n",
       "    .dataframe tbody tr th:only-of-type {\n",
       "        vertical-align: middle;\n",
       "    }\n",
       "\n",
       "    .dataframe tbody tr th {\n",
       "        vertical-align: top;\n",
       "    }\n",
       "\n",
       "    .dataframe thead th {\n",
       "        text-align: right;\n",
       "    }\n",
       "</style>\n",
       "<table border=\"1\" class=\"dataframe\">\n",
       "  <thead>\n",
       "    <tr style=\"text-align: right;\">\n",
       "      <th></th>\n",
       "      <th>index</th>\n",
       "      <th>points</th>\n",
       "      <th>price</th>\n",
       "      <th>word_count</th>\n",
       "      <th>cluster</th>\n",
       "      <th>above_avg</th>\n",
       "    </tr>\n",
       "  </thead>\n",
       "  <tbody>\n",
       "    <tr>\n",
       "      <th>count</th>\n",
       "      <td>5377.000000</td>\n",
       "      <td>5377.000000</td>\n",
       "      <td>5022.000000</td>\n",
       "      <td>5377.000000</td>\n",
       "      <td>5377.000000</td>\n",
       "      <td>5377.0</td>\n",
       "    </tr>\n",
       "    <tr>\n",
       "      <th>mean</th>\n",
       "      <td>65844.851218</td>\n",
       "      <td>91.265762</td>\n",
       "      <td>49.592792</td>\n",
       "      <td>43.834108</td>\n",
       "      <td>11.220197</td>\n",
       "      <td>1.0</td>\n",
       "    </tr>\n",
       "    <tr>\n",
       "      <th>std</th>\n",
       "      <td>37260.545808</td>\n",
       "      <td>1.754948</td>\n",
       "      <td>57.901654</td>\n",
       "      <td>10.069624</td>\n",
       "      <td>6.151263</td>\n",
       "      <td>0.0</td>\n",
       "    </tr>\n",
       "    <tr>\n",
       "      <th>min</th>\n",
       "      <td>121.000000</td>\n",
       "      <td>89.000000</td>\n",
       "      <td>8.000000</td>\n",
       "      <td>14.000000</td>\n",
       "      <td>0.000000</td>\n",
       "      <td>1.0</td>\n",
       "    </tr>\n",
       "    <tr>\n",
       "      <th>25%</th>\n",
       "      <td>34588.000000</td>\n",
       "      <td>90.000000</td>\n",
       "      <td>28.000000</td>\n",
       "      <td>37.000000</td>\n",
       "      <td>5.000000</td>\n",
       "      <td>1.0</td>\n",
       "    </tr>\n",
       "    <tr>\n",
       "      <th>50%</th>\n",
       "      <td>65633.000000</td>\n",
       "      <td>91.000000</td>\n",
       "      <td>39.000000</td>\n",
       "      <td>43.000000</td>\n",
       "      <td>10.000000</td>\n",
       "      <td>1.0</td>\n",
       "    </tr>\n",
       "    <tr>\n",
       "      <th>75%</th>\n",
       "      <td>97732.000000</td>\n",
       "      <td>92.000000</td>\n",
       "      <td>54.750000</td>\n",
       "      <td>50.000000</td>\n",
       "      <td>17.000000</td>\n",
       "      <td>1.0</td>\n",
       "    </tr>\n",
       "    <tr>\n",
       "      <th>max</th>\n",
       "      <td>129955.000000</td>\n",
       "      <td>100.000000</td>\n",
       "      <td>2013.000000</td>\n",
       "      <td>104.000000</td>\n",
       "      <td>20.000000</td>\n",
       "      <td>1.0</td>\n",
       "    </tr>\n",
       "  </tbody>\n",
       "</table>\n",
       "</div>"
      ],
      "text/plain": [
       "               index       points        price   word_count      cluster  \\\n",
       "count  5377.000000    5377.000000  5022.000000  5377.000000  5377.000000   \n",
       "mean   65844.851218   91.265762    49.592792    43.834108    11.220197     \n",
       "std    37260.545808   1.754948     57.901654    10.069624    6.151263      \n",
       "min    121.000000     89.000000    8.000000     14.000000    0.000000      \n",
       "25%    34588.000000   90.000000    28.000000    37.000000    5.000000      \n",
       "50%    65633.000000   91.000000    39.000000    43.000000    10.000000     \n",
       "75%    97732.000000   92.000000    54.750000    50.000000    17.000000     \n",
       "max    129955.000000  100.000000   2013.000000  104.000000   20.000000     \n",
       "\n",
       "       above_avg  \n",
       "count  5377.0     \n",
       "mean   1.0        \n",
       "std    0.0        \n",
       "min    1.0        \n",
       "25%    1.0        \n",
       "50%    1.0        \n",
       "75%    1.0        \n",
       "max    1.0        "
      ]
     },
     "execution_count": 90,
     "metadata": {},
     "output_type": "execute_result"
    }
   ],
   "source": [
    "#create dataframe of reviews not above average\n",
    "not_above = df.loc[df['above_avg'] == 0]\n",
    "not_above.describe()\n",
    "\n",
    "#create data frame of reviews above average\n",
    "above_avg = df.loc[df['above_avg'] == 1]\n",
    "above_avg.describe()"
   ]
  },
  {
   "cell_type": "code",
   "execution_count": 91,
   "metadata": {
    "ExecuteTime": {
     "end_time": "2020-11-14T23:22:25.447436Z",
     "start_time": "2020-11-14T23:22:25.278743Z"
    }
   },
   "outputs": [
    {
     "data": {
      "image/png": "[encoded data removed]",
      "text/plain": [
       "<Figure size 1008x288 with 1 Axes>"
      ]
     },
     "metadata": {
      "needs_background": "light"
     },
     "output_type": "display_data"
    }
   ],
   "source": [
    "#plot the counts\n",
    "plt.figure(figsize=(14,4))\n",
    "sns.countplot(x='cluster', data=not_above).set_title(\"Rating Counts\")\n",
    "plt.show()"
   ]
  },
  {
   "cell_type": "code",
   "execution_count": 89,
   "metadata": {
    "ExecuteTime": {
     "end_time": "2020-11-14T23:21:57.589763Z",
     "start_time": "2020-11-14T23:21:57.409197Z"
    }
   },
   "outputs": [
    {
     "data": {
      "image/png": "[encoded data removed]",
      "text/plain": [
       "<Figure size 1008x288 with 1 Axes>"
      ]
     },
     "metadata": {
      "needs_background": "light"
     },
     "output_type": "display_data"
    }
   ],
   "source": [
    "plt.figure(figsize=(14,4))\n",
    "sns.countplot(x='cluster', data=above_avg).set_title(\"Rating Counts\")\n",
    "plt.show()"
   ]
  },
  {
   "cell_type": "code",
   "execution_count": null,
   "metadata": {},
   "outputs": [],
   "source": []
  }
 ],
 "metadata": {
  "kernelspec": {
   "display_name": "Python 3",
   "language": "python",
   "name": "python3"
  },
  "language_info": {
   "codemirror_mode": {
    "name": "ipython",
    "version": 3
   },
   "file_extension": ".py",
   "mimetype": "text/x-python",
   "name": "python",
   "nbconvert_exporter": "python",
   "pygments_lexer": "ipython3",
   "version": "3.8.3"
  },
  "latex_envs": {
   "LaTeX_envs_menu_present": true,
   "autoclose": false,
   "autocomplete": true,
   "bibliofile": "biblio.bib",
   "cite_by": "apalike",
   "current_citInitial": 1,
   "eqLabelWithNumbers": true,
   "eqNumInitial": 1,
   "hotkeys": {
    "equation": "Ctrl-E",
    "itemize": "Ctrl-I"
   },
   "labels_anchors": false,
   "latex_user_defs": false,
   "report_style_numbering": false,
   "user_envs_cfg": false
  },
  "toc": {
   "base_numbering": 1,
   "nav_menu": {},
   "number_sections": true,
   "sideBar": true,
   "skip_h1_title": false,
   "title_cell": "Table of Contents",
   "title_sidebar": "Contents",
   "toc_cell": false,
   "toc_position": {},
   "toc_section_display": true,
   "toc_window_display": false
  },
  "varInspector": {
   "cols": {
    "lenName": 16,
    "lenType": 16,
    "lenVar": 40
   },
   "kernels_config": {
    "python": {
     "delete_cmd_postfix": "",
     "delete_cmd_prefix": "del ",
     "library": "var_list.py",
     "varRefreshCmd": "print(var_dic_list())"
    },
    "r": {
     "delete_cmd_postfix": ") ",
     "delete_cmd_prefix": "rm(",
     "library": "var_list.r",
     "varRefreshCmd": "cat(var_dic_list()) "
    }
   },
   "types_to_exclude": [
    "module",
    "function",
    "builtin_function_or_method",
    "instance",
    "_Feature"
   ],
   "window_display": false
  }
 },
 "nbformat": 4,
 "nbformat_minor": 4
}
