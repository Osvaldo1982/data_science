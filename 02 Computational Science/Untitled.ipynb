{
 "cells": [
  {
   "cell_type": "markdown",
   "id": "e86d918d",
   "metadata": {},
   "source": [
    "# Introduction\n",
    "\n",
    "## Bibliography\n",
    "\n",
    "* [Complexity: Time, Space, & Sample](https://www.linkedin.com/pulse/complexity-time-space-sample-yair-rajwan-ms-dsc/?trk=articles_directory)\n",
    "* [Computational complexity of machine learning algorithms](https://www.thekerneltrip.com/machine/learning/computational-complexity-learning-algorithms/)\n",
    "* [Know Thy Complexities!](https://www.bigocheatsheet.com/)\n",
    "* [Big O Notation Cheat Sheet | What Is Time & Space Complexity?](https://hackr.io/blog/big-o-notation-cheat-sheet)\n",
    "* [Analyzing Algorithmic Complexity](https://becominghuman.ai/analyzing-algorithmic-complexity-1519488fbcff)\n",
    "* [The Future of Computation for Machine Learning and Data Science](https://resources.experfy.com/ai-ml/the-future-of-computation-for-machine-learning-and-data-science/)"
   ]
  }
 ],
 "metadata": {
  "hide_input": false,
  "kernelspec": {
   "display_name": "Python 3 (ipykernel)",
   "language": "python",
   "name": "python3"
  },
  "language_info": {
   "codemirror_mode": {
    "name": "ipython",
    "version": 3
   },
   "file_extension": ".py",
   "mimetype": "text/x-python",
   "name": "python",
   "nbconvert_exporter": "python",
   "pygments_lexer": "ipython3",
   "version": "3.9.13"
  },
  "toc": {
   "base_numbering": 1,
   "nav_menu": {},
   "number_sections": true,
   "sideBar": true,
   "skip_h1_title": false,
   "title_cell": "Table of Contents",
   "title_sidebar": "Contents",
   "toc_cell": false,
   "toc_position": {},
   "toc_section_display": true,
   "toc_window_display": false
  }
 },
 "nbformat": 4,
 "nbformat_minor": 5
}
