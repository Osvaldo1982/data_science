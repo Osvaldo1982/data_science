{
 "cells": [
  {
   "cell_type": "markdown",
   "metadata": {},
   "source": [
    "# References\n",
    "\n",
    "## Monte Carlo Simulation\n",
    "\n",
    "* https://pbpython.com/monte-carlo.html\n",
    "* https://www.mikulskibartosz.name/monte-carlo-simulation-in-python/\n",
    "* https://github.com/chris1610/pbpython/blob/master/notebooks/Monte_Carlo_Simulation.ipynb\n",
    "* https://mml-book.github.io/book/mml-book.pdf\n",
    "\n",
    "## Random Walk\n",
    "\n",
    "* [Socratica, Random Walk & Monte Carlo Simulation ](https://www.youtube.com/watch?v=BfS2H1y6tzQ)"
   ]
  },
  {
   "cell_type": "markdown",
   "metadata": {
    "ExecuteTime": {
     "end_time": "2021-06-23T19:14:15.534164Z",
     "start_time": "2021-06-23T19:14:14.672404Z"
    }
   },
   "source": [
    "import random\n",
    "import numpy as np\n",
    "import pandas as pd"
   ]
  },
  {
   "cell_type": "markdown",
   "metadata": {},
   "source": [
    "# Random Walk\n",
    "\n",
    "## Um exemplo de random walk"
   ]
  },
  {
   "cell_type": "code",
   "execution_count": 28,
   "metadata": {
    "ExecuteTime": {
     "end_time": "2021-06-23T19:32:53.219274Z",
     "start_time": "2021-06-23T19:32:53.201282Z"
    }
   },
   "outputs": [],
   "source": [
    "def randomwalk(n):\n",
    "    \n",
    "    x = 0\n",
    "    y = 0\n",
    "    \n",
    "    for i in range(n):\n",
    "        \n",
    "        step = random.choice(['N','S','L','O'])\n",
    "        \n",
    "        if step == 'N':\n",
    "            y = y + 1\n",
    "        elif step == 'S':\n",
    "            y = y - 1\n",
    "        elif step == 'L':\n",
    "            x = x + 1\n",
    "        else:\n",
    "            x = x - 1  \n",
    "            \n",
    "    return (x,y)"
   ]
  },
  {
   "cell_type": "code",
   "execution_count": 30,
   "metadata": {
    "ExecuteTime": {
     "end_time": "2021-06-23T19:33:20.495184Z",
     "start_time": "2021-06-23T19:33:20.477232Z"
    }
   },
   "outputs": [
    {
     "name": "stdout",
     "output_type": "stream",
     "text": [
      "(-1, -1) distância da origem = 2\n",
      "(-5, 1) distância da origem = 6\n",
      "(3, -3) distância da origem = 6\n",
      "(1, -1) distância da origem = 2\n",
      "(-1, 1) distância da origem = 2\n",
      "(0, 2) distância da origem = 2\n",
      "(-2, 0) distância da origem = 2\n",
      "(0, -4) distância da origem = 4\n",
      "(-1, 1) distância da origem = 2\n",
      "(0, 4) distância da origem = 4\n",
      "(4, 0) distância da origem = 4\n",
      "(3, -1) distância da origem = 4\n",
      "(-1, -3) distância da origem = 4\n",
      "(0, 0) distância da origem = 0\n",
      "(-1, 1) distância da origem = 2\n"
     ]
    }
   ],
   "source": [
    "for i in range(15):\n",
    "    walk = randomwalk(10)\n",
    "    dist = abs(walk[0]) + abs(walk[1])\n",
    "    print(walk,'distância da origem =',dist)            "
   ]
  },
  {
   "cell_type": "markdown",
   "metadata": {},
   "source": [
    "## Uma função mais 'Pythonica'"
   ]
  },
  {
   "cell_type": "code",
   "execution_count": 51,
   "metadata": {
    "ExecuteTime": {
     "end_time": "2021-06-23T20:04:17.525786Z",
     "start_time": "2021-06-23T20:04:17.518805Z"
    }
   },
   "outputs": [],
   "source": [
    "def randomwalk2(n):\n",
    "    \n",
    "    x,y = 0,0\n",
    "    \n",
    "    for i in range(n):\n",
    "        \n",
    "        (dx,dy) = random.choice([(0,1),(0,-1),(1,0),(-1,0)])\n",
    "            \n",
    "        x += dx\n",
    "        y += dy\n",
    "        \n",
    "    return(x,y)"
   ]
  },
  {
   "cell_type": "code",
   "execution_count": 52,
   "metadata": {
    "ExecuteTime": {
     "end_time": "2021-06-23T20:04:18.272967Z",
     "start_time": "2021-06-23T20:04:18.253022Z"
    }
   },
   "outputs": [
    {
     "name": "stdout",
     "output_type": "stream",
     "text": [
      "(-5, -3) distância da origem = 8\n",
      "(-1, 1) distância da origem = 2\n",
      "(1, 5) distância da origem = 6\n",
      "(2, -2) distância da origem = 4\n",
      "(0, 2) distância da origem = 2\n",
      "(2, -4) distância da origem = 6\n",
      "(4, 0) distância da origem = 4\n",
      "(0, 2) distância da origem = 2\n",
      "(4, 0) distância da origem = 4\n",
      "(-1, -3) distância da origem = 4\n",
      "(0, -4) distância da origem = 4\n",
      "(-1, -1) distância da origem = 2\n",
      "(1, 5) distância da origem = 6\n",
      "(0, 0) distância da origem = 0\n",
      "(0, 0) distância da origem = 0\n"
     ]
    }
   ],
   "source": [
    "for i in range(15):\n",
    "    walk = randomwalk2(10)\n",
    "    dist = abs(walk[0]) + abs(walk[1])\n",
    "    print(walk,'distância da origem =',dist)  "
   ]
  },
  {
   "cell_type": "code",
   "execution_count": 61,
   "metadata": {
    "ExecuteTime": {
     "end_time": "2021-06-23T20:09:49.925215Z",
     "start_time": "2021-06-23T20:09:49.867396Z"
    }
   },
   "outputs": [
    {
     "name": "stdout",
     "output_type": "stream",
     "text": [
      "walk size = 1 / % of no transport = 100.0\n",
      "walk size = 2 / % of no transport = 100.0\n",
      "walk size = 3 / % of no transport = 100.0\n",
      "walk size = 4 / % of no transport = 100.0\n",
      "walk size = 5 / % of no transport = 88.0\n",
      "walk size = 6 / % of no transport = 97.0\n",
      "walk size = 7 / % of no transport = 74.0\n",
      "walk size = 8 / % of no transport = 86.0\n",
      "walk size = 9 / % of no transport = 71.0\n",
      "walk size = 10 / % of no transport = 78.0\n",
      "walk size = 11 / % of no transport = 54.0\n",
      "walk size = 12 / % of no transport = 75.0\n",
      "walk size = 13 / % of no transport = 59.0\n",
      "walk size = 14 / % of no transport = 64.0\n",
      "walk size = 15 / % of no transport = 44.0\n",
      "walk size = 16 / % of no transport = 60.0\n",
      "walk size = 17 / % of no transport = 44.0\n",
      "walk size = 18 / % of no transport = 61.0\n",
      "walk size = 19 / % of no transport = 45.0\n",
      "walk size = 20 / % of no transport = 50.0\n",
      "walk size = 21 / % of no transport = 38.0\n",
      "walk size = 22 / % of no transport = 48.0\n",
      "walk size = 23 / % of no transport = 37.0\n",
      "walk size = 24 / % of no transport = 54.0\n",
      "walk size = 25 / % of no transport = 37.0\n",
      "walk size = 26 / % of no transport = 43.0\n",
      "walk size = 27 / % of no transport = 35.0\n",
      "walk size = 28 / % of no transport = 40.0\n",
      "walk size = 29 / % of no transport = 26.0\n",
      "walk size = 30 / % of no transport = 43.0\n"
     ]
    }
   ],
   "source": [
    "number_walks = 100\n",
    "\n",
    "for walk_length in range(1,31):\n",
    "    no_transport = 0\n",
    "    for i in range(number_walks):\n",
    "        (x,y) = randomwalk2(walk_length)\n",
    "        dist = abs(x) + abs(y)\n",
    "        if dist <= 4:\n",
    "            no_transport += 1\n",
    "    no_transport_percentage = float(no_transport) / number_walks\n",
    "    print('walk size =', walk_length, '/ % of no transport =', round(100 * no_transport_percentage,1))"
   ]
  },
  {
   "cell_type": "code",
   "execution_count": null,
   "metadata": {},
   "outputs": [],
   "source": []
  }
 ],
 "metadata": {
  "kernelspec": {
   "display_name": "Python 3",
   "language": "python",
   "name": "python3"
  },
  "language_info": {
   "codemirror_mode": {
    "name": "ipython",
    "version": 3
   },
   "file_extension": ".py",
   "mimetype": "text/x-python",
   "name": "python",
   "nbconvert_exporter": "python",
   "pygments_lexer": "ipython3",
   "version": "3.8.3"
  },
  "latex_envs": {
   "LaTeX_envs_menu_present": true,
   "autoclose": false,
   "autocomplete": true,
   "bibliofile": "biblio.bib",
   "cite_by": "apalike",
   "current_citInitial": 1,
   "eqLabelWithNumbers": true,
   "eqNumInitial": 1,
   "hotkeys": {
    "equation": "Ctrl-E",
    "itemize": "Ctrl-I"
   },
   "labels_anchors": false,
   "latex_user_defs": false,
   "report_style_numbering": false,
   "user_envs_cfg": false
  },
  "toc": {
   "base_numbering": 1,
   "nav_menu": {},
   "number_sections": true,
   "sideBar": true,
   "skip_h1_title": false,
   "title_cell": "Table of Contents",
   "title_sidebar": "Contents",
   "toc_cell": false,
   "toc_position": {},
   "toc_section_display": true,
   "toc_window_display": false
  },
  "varInspector": {
   "cols": {
    "lenName": 16,
    "lenType": 16,
    "lenVar": 40
   },
   "kernels_config": {
    "python": {
     "delete_cmd_postfix": "",
     "delete_cmd_prefix": "del ",
     "library": "var_list.py",
     "varRefreshCmd": "print(var_dic_list())"
    },
    "r": {
     "delete_cmd_postfix": ") ",
     "delete_cmd_prefix": "rm(",
     "library": "var_list.r",
     "varRefreshCmd": "cat(var_dic_list()) "
    }
   },
   "types_to_exclude": [
    "module",
    "function",
    "builtin_function_or_method",
    "instance",
    "_Feature"
   ],
   "window_display": false
  }
 },
 "nbformat": 4,
 "nbformat_minor": 4
}
