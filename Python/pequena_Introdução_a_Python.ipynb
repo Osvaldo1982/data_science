{
 "cells": [
  {
   "cell_type": "markdown",
   "metadata": {
    "slideshow": {
     "slide_type": "slide"
    }
   },
   "source": [
    "# Introdução à lógica de programação e algoritmos"
   ]
  },
  {
   "cell_type": "markdown",
   "metadata": {},
   "source": [
    "A linguagem python possui uma comunidade bastante ativa que trabalha bastante para criar, atualizar e otimizar as bibliotecas desta linguagem. As bibliotecas são conjuntos de funções e métodos que podem ser chamadas por comandos específicos dentro dos códigos. Nesta aula vamos apresentar como importar estas bibliotecas para seu código e introduzir alguns conceitos através de exemplos práticos sobre como utilizar as funções dessas bibliotecas. Abaixo vamos listar algumas das principais bibliotecas de Python utilizadas em análise de dados.\n",
    "\n",
    "* **Pandas**\n",
    "* **Numpy**\n",
    "* **Scipy**\n",
    "\n",
    "Abaixo veja como importar algumas das bibliotecas criando 'alias' para invocar as funções de cada biblioteca."
   ]
  },
  {
   "cell_type": "code",
   "execution_count": 1,
   "metadata": {
    "ExecuteTime": {
     "end_time": "2020-03-25T22:38:26.437987Z",
     "start_time": "2020-03-25T22:38:22.134701Z"
    }
   },
   "outputs": [],
   "source": [
    "import pandas as pd\n",
    "import numpy as np"
   ]
  },
  {
   "cell_type": "markdown",
   "metadata": {},
   "source": [
    "Onde encontrar mais materiais para aprendizado?\n",
    "\n",
    "* https://www.learnpython.org/\n",
    "\n",
    "* https://www.w3schools.com/python/"
   ]
  },
  {
   "cell_type": "markdown",
   "metadata": {},
   "source": [
    "# Funções básicas de Python"
   ]
  },
  {
   "cell_type": "markdown",
   "metadata": {},
   "source": [
    "## Interpretador interativo e operações básicas"
   ]
  },
  {
   "cell_type": "code",
   "execution_count": 2,
   "metadata": {
    "ExecuteTime": {
     "end_time": "2020-03-25T22:39:18.898898Z",
     "start_time": "2020-03-25T22:39:18.885933Z"
    }
   },
   "outputs": [
    {
     "data": {
      "text/plain": [
       "4"
      ]
     },
     "execution_count": 2,
     "metadata": {},
     "output_type": "execute_result"
    }
   ],
   "source": [
    "# Soma\n",
    "1 + 3"
   ]
  },
  {
   "cell_type": "code",
   "execution_count": 17,
   "metadata": {
    "ExecuteTime": {
     "end_time": "2020-03-24T22:40:05.134343Z",
     "start_time": "2020-03-24T22:40:05.129357Z"
    }
   },
   "outputs": [
    {
     "data": {
      "text/plain": [
       "-2"
      ]
     },
     "execution_count": 17,
     "metadata": {},
     "output_type": "execute_result"
    }
   ],
   "source": [
    "# Subtração\n",
    "7 - 9"
   ]
  },
  {
   "cell_type": "code",
   "execution_count": 18,
   "metadata": {
    "ExecuteTime": {
     "end_time": "2020-03-24T22:40:06.816255Z",
     "start_time": "2020-03-24T22:40:06.811272Z"
    }
   },
   "outputs": [
    {
     "data": {
      "text/plain": [
       "3.3333333333333335"
      ]
     },
     "execution_count": 18,
     "metadata": {},
     "output_type": "execute_result"
    }
   ],
   "source": [
    "# Divisão\n",
    "10 / 3"
   ]
  },
  {
   "cell_type": "code",
   "execution_count": 3,
   "metadata": {
    "ExecuteTime": {
     "end_time": "2020-03-25T22:39:25.363625Z",
     "start_time": "2020-03-25T22:39:25.357635Z"
    }
   },
   "outputs": [
    {
     "data": {
      "text/plain": [
       "3"
      ]
     },
     "execution_count": 3,
     "metadata": {},
     "output_type": "execute_result"
    }
   ],
   "source": [
    "# Divisão\n",
    "10 // 3 "
   ]
  },
  {
   "cell_type": "code",
   "execution_count": 4,
   "metadata": {
    "ExecuteTime": {
     "end_time": "2020-03-25T22:39:35.951395Z",
     "start_time": "2020-03-25T22:39:35.945409Z"
    }
   },
   "outputs": [
    {
     "data": {
      "text/plain": [
       "'Texto'"
      ]
     },
     "execution_count": 4,
     "metadata": {},
     "output_type": "execute_result"
    }
   ],
   "source": [
    "# String\n",
    "\"Texto\""
   ]
  },
  {
   "cell_type": "code",
   "execution_count": null,
   "metadata": {},
   "outputs": [],
   "source": [
    "# String e multiplicação"
   ]
  },
  {
   "cell_type": "code",
   "execution_count": 3,
   "metadata": {
    "ExecuteTime": {
     "end_time": "2020-03-04T19:05:35.925485Z",
     "start_time": "2020-03-04T19:05:35.909487Z"
    }
   },
   "outputs": [
    {
     "data": {
      "text/plain": [
       "'Avião Teco'"
      ]
     },
     "execution_count": 3,
     "metadata": {},
     "output_type": "execute_result"
    }
   ],
   "source": [
    "\"Avião \" + \"Teco\""
   ]
  },
  {
   "cell_type": "code",
   "execution_count": 6,
   "metadata": {
    "ExecuteTime": {
     "end_time": "2020-03-25T22:39:59.554993Z",
     "start_time": "2020-03-25T22:39:59.548042Z"
    }
   },
   "outputs": [
    {
     "data": {
      "text/plain": [
       "'Avião TecoTeco'"
      ]
     },
     "execution_count": 6,
     "metadata": {},
     "output_type": "execute_result"
    }
   ],
   "source": [
    "\"Avião \" + \"Teco\"*2"
   ]
  },
  {
   "cell_type": "code",
   "execution_count": 10,
   "metadata": {
    "ExecuteTime": {
     "end_time": "2020-03-25T22:40:44.537823Z",
     "start_time": "2020-03-25T22:40:44.532840Z"
    }
   },
   "outputs": [
    {
     "data": {
      "text/plain": [
       "'Tex'"
      ]
     },
     "execution_count": 10,
     "metadata": {},
     "output_type": "execute_result"
    }
   ],
   "source": [
    "\"Texto\"[0:3]"
   ]
  },
  {
   "cell_type": "code",
   "execution_count": 11,
   "metadata": {
    "ExecuteTime": {
     "end_time": "2020-03-25T22:40:54.703267Z",
     "start_time": "2020-03-25T22:40:54.697283Z"
    }
   },
   "outputs": [
    {
     "data": {
      "text/plain": [
       "'Texto'"
      ]
     },
     "execution_count": 11,
     "metadata": {},
     "output_type": "execute_result"
    }
   ],
   "source": [
    "\"Textosss\"[:-3]"
   ]
  },
  {
   "cell_type": "code",
   "execution_count": 20,
   "metadata": {
    "ExecuteTime": {
     "end_time": "2020-02-10T19:09:28.521410Z",
     "start_time": "2020-02-10T19:09:28.514463Z"
    }
   },
   "outputs": [
    {
     "data": {
      "text/plain": [
       "0.75"
      ]
     },
     "execution_count": 20,
     "metadata": {},
     "output_type": "execute_result"
    }
   ],
   "source": [
    "# Sem print()\n",
    "1 + 3\n",
    "4 * 12\n",
    "3 / 4"
   ]
  },
  {
   "cell_type": "code",
   "execution_count": 8,
   "metadata": {
    "ExecuteTime": {
     "end_time": "2020-03-24T22:17:19.339919Z",
     "start_time": "2020-03-24T22:17:19.333935Z"
    }
   },
   "outputs": [
    {
     "name": "stdout",
     "output_type": "stream",
     "text": [
      "4\n",
      "48\n",
      "0.75\n"
     ]
    }
   ],
   "source": [
    "# Com print()\n",
    "print(1 + 3)\n",
    "print(4 * 12)\n",
    "print(3 / 4)"
   ]
  },
  {
   "cell_type": "code",
   "execution_count": 9,
   "metadata": {
    "ExecuteTime": {
     "end_time": "2020-03-24T22:17:20.349776Z",
     "start_time": "2020-03-24T22:17:20.344789Z"
    }
   },
   "outputs": [
    {
     "name": "stdout",
     "output_type": "stream",
     "text": [
      "Um vezes dois:  2\n"
     ]
    }
   ],
   "source": [
    "# Print\n",
    "print('Um vezes dois: ', 1 * 2)"
   ]
  },
  {
   "cell_type": "markdown",
   "metadata": {},
   "source": [
    "## Estrutura básica de programas: variáveis, objetos, expressões,...\n",
    "Neste primeiro exemplo vamos explorar as funções **input**, **float** e **print** com um exemplo de uma calculadora que executa uma adição **+** entre dois números que o usuário irá digitar."
   ]
  },
  {
   "cell_type": "code",
   "execution_count": 12,
   "metadata": {
    "ExecuteTime": {
     "end_time": "2020-03-25T22:41:36.169884Z",
     "start_time": "2020-03-25T22:41:16.992562Z"
    }
   },
   "outputs": [
    {
     "name": "stdout",
     "output_type": "stream",
     "text": [
      "digite um número:3\n",
      "digite outro número:2\n",
      "A soma dos números é: 5.0\n"
     ]
    }
   ],
   "source": [
    "a = float(input('digite um número:'))\n",
    "b = float(input('digite outro número:'))\n",
    "print('A soma dos números é:', (a + b))"
   ]
  },
  {
   "cell_type": "markdown",
   "metadata": {},
   "source": [
    "Neste próximo exemplo vamos introduzir o operador matemático que calcula potências (******) de um número. Por exemplo se quisermos calcular o valor de $5^2$, basta realizar o seguinte cálculo 5**2. "
   ]
  },
  {
   "cell_type": "code",
   "execution_count": 14,
   "metadata": {
    "ExecuteTime": {
     "end_time": "2020-03-25T22:42:22.891601Z",
     "start_time": "2020-03-25T22:42:22.887612Z"
    }
   },
   "outputs": [],
   "source": [
    "numero = 2"
   ]
  },
  {
   "cell_type": "code",
   "execution_count": 15,
   "metadata": {
    "ExecuteTime": {
     "end_time": "2020-03-25T22:42:28.681957Z",
     "start_time": "2020-03-25T22:42:28.676970Z"
    }
   },
   "outputs": [
    {
     "data": {
      "text/plain": [
       "2"
      ]
     },
     "execution_count": 15,
     "metadata": {},
     "output_type": "execute_result"
    }
   ],
   "source": [
    "numero"
   ]
  },
  {
   "cell_type": "code",
   "execution_count": 13,
   "metadata": {
    "ExecuteTime": {
     "end_time": "2020-03-25T22:42:02.865290Z",
     "start_time": "2020-03-25T22:42:02.857313Z"
    }
   },
   "outputs": [
    {
     "name": "stdout",
     "output_type": "stream",
     "text": [
      "b = 5 , c = b**3 = 125\n"
     ]
    }
   ],
   "source": [
    "b = 5\n",
    "c = b**3\n",
    "print('b =', b, ',', 'c = b**3 =', c)"
   ]
  },
  {
   "cell_type": "markdown",
   "metadata": {},
   "source": [
    "Neste exemplo vamos criar um solucionador de equações do segundo grau\n",
    "\n",
    "\\begin{equation}\n",
    "\\nonumber ax^2 + bx + c = 0\n",
    "\\end{equation}\n",
    "\n",
    "Lembrando que devemos ter a condição de que $a \\neq 0$ para que a equação seja do\n",
    "segundo grau. A solução para esta equação é dada por\n",
    "\n",
    "\\begin{equation}\n",
    "\\nonumber x = \\frac{-b \\pm \\sqrt{b^2 - 4ac}}{2a}\n",
    "\\end{equation}\n",
    "\n",
    "Lembrando que para que as raízes sejam reais é necessário que o termo dentro da raiz quadrada seja sempre maior ou igual a zero. Este termo dentro da raíz quadrada é conhecido por discriminante e representado pela letra grega maiúscula delta $\\Delta$.\n",
    "\n",
    "\\begin{equation}\n",
    "\\nonumber \\Delta = b^2 - 4ac\n",
    "\\end{equation}"
   ]
  },
  {
   "cell_type": "code",
   "execution_count": 16,
   "metadata": {
    "ExecuteTime": {
     "end_time": "2020-03-25T22:43:05.303171Z",
     "start_time": "2020-03-25T22:43:05.296188Z"
    }
   },
   "outputs": [
    {
     "data": {
      "text/plain": [
       "3.0"
      ]
     },
     "execution_count": 16,
     "metadata": {},
     "output_type": "execute_result"
    }
   ],
   "source": [
    "np.sqrt(9)"
   ]
  },
  {
   "cell_type": "code",
   "execution_count": 17,
   "metadata": {
    "ExecuteTime": {
     "end_time": "2020-03-25T22:43:38.354196Z",
     "start_time": "2020-03-25T22:43:29.556762Z"
    }
   },
   "outputs": [
    {
     "name": "stdout",
     "output_type": "stream",
     "text": [
      "Digite um valor para a:1\n",
      "Digite um valor para b:3\n",
      "Digite um valor para c:10\n",
      "Discriminante =  -31.0\n",
      "x1 =  nan\n",
      "x2 =  nan\n"
     ]
    },
    {
     "name": "stderr",
     "output_type": "stream",
     "text": [
      "C:\\Users\\rodrigo.gomes\\AppData\\Local\\Continuum\\anaconda3\\envs\\DG_Sirio\\lib\\site-packages\\ipykernel_launcher.py:9: RuntimeWarning: invalid value encountered in sqrt\n",
      "  if __name__ == '__main__':\n",
      "C:\\Users\\rodrigo.gomes\\AppData\\Local\\Continuum\\anaconda3\\envs\\DG_Sirio\\lib\\site-packages\\ipykernel_launcher.py:10: RuntimeWarning: invalid value encountered in sqrt\n",
      "  # Remove the CWD from sys.path while we load stuff.\n"
     ]
    }
   ],
   "source": [
    "a = float(input('Digite um valor para a:'))\n",
    "b = float(input('Digite um valor para b:'))\n",
    "c = float(input('Digite um valor para c:'))\n",
    "\n",
    "discriminante = b**2 - 4*a*c\n",
    "\n",
    "print('Discriminante = ', discriminante)\n",
    "\n",
    "x1 = (-b + np.sqrt(discriminante))/(2*a)\n",
    "x2 = (-b - np.sqrt(discriminante))/(2*a)\n",
    "\n",
    "print('x1 = ', x1)\n",
    "print('x2 = ', x2)\n",
    "\n",
    "# Sugestão de exercício: criar um programa que retorne um erro quando o discriminante for menor do que\n",
    "# do que zero e pedir para o usuário inserir outros conjuntos de número (a,b,c)."
   ]
  },
  {
   "cell_type": "markdown",
   "metadata": {},
   "source": [
    "# Funções"
   ]
  },
  {
   "cell_type": "code",
   "execution_count": 19,
   "metadata": {
    "ExecuteTime": {
     "end_time": "2020-03-25T22:44:42.863349Z",
     "start_time": "2020-03-25T22:44:42.858365Z"
    }
   },
   "outputs": [],
   "source": [
    "\n",
    "def x_ao_quadrado(x_):\n",
    "    return x_*x_"
   ]
  },
  {
   "cell_type": "code",
   "execution_count": 20,
   "metadata": {
    "ExecuteTime": {
     "end_time": "2020-03-25T22:44:56.754958Z",
     "start_time": "2020-03-25T22:44:56.747973Z"
    }
   },
   "outputs": [
    {
     "data": {
      "text/plain": [
       "4"
      ]
     },
     "execution_count": 20,
     "metadata": {},
     "output_type": "execute_result"
    }
   ],
   "source": [
    "x_ao_quadrado(2)"
   ]
  },
  {
   "cell_type": "code",
   "execution_count": 21,
   "metadata": {
    "ExecuteTime": {
     "end_time": "2020-03-25T22:45:10.411710Z",
     "start_time": "2020-03-25T22:45:10.405726Z"
    }
   },
   "outputs": [],
   "source": [
    "def func(x, y, z):\n",
    "    print('x: ', x)\n",
    "    print('y: ', y)\n",
    "    print('z: ', z)\n",
    "\n",
    "    return (x * y)**z"
   ]
  },
  {
   "cell_type": "code",
   "execution_count": 22,
   "metadata": {
    "ExecuteTime": {
     "end_time": "2020-03-25T22:45:16.955054Z",
     "start_time": "2020-03-25T22:45:16.942089Z"
    }
   },
   "outputs": [
    {
     "name": "stdout",
     "output_type": "stream",
     "text": [
      "x:  1\n",
      "y:  3\n",
      "z:  4\n"
     ]
    },
    {
     "data": {
      "text/plain": [
       "81"
      ]
     },
     "execution_count": 22,
     "metadata": {},
     "output_type": "execute_result"
    }
   ],
   "source": [
    "func(1, 3, 4)"
   ]
  },
  {
   "cell_type": "code",
   "execution_count": 36,
   "metadata": {
    "ExecuteTime": {
     "end_time": "2020-02-10T19:21:19.653866Z",
     "start_time": "2020-02-10T19:21:19.646886Z"
    }
   },
   "outputs": [
    {
     "name": "stdout",
     "output_type": "stream",
     "text": [
      "x:  1\n",
      "y:  3\n",
      "z:  0\n"
     ]
    },
    {
     "data": {
      "text/plain": [
       "1"
      ]
     },
     "execution_count": 36,
     "metadata": {},
     "output_type": "execute_result"
    }
   ],
   "source": [
    "func(x=1, y=3, z=0)"
   ]
  },
  {
   "cell_type": "markdown",
   "metadata": {},
   "source": [
    "## Exercício:"
   ]
  },
  {
   "cell_type": "code",
   "execution_count": 33,
   "metadata": {
    "ExecuteTime": {
     "end_time": "2020-03-25T22:51:16.707147Z",
     "start_time": "2020-03-25T22:51:16.703156Z"
    }
   },
   "outputs": [],
   "source": [
    "def raiz(a):\n",
    "    return np.sqrt(a)"
   ]
  },
  {
   "cell_type": "code",
   "execution_count": null,
   "metadata": {},
   "outputs": [],
   "source": [
    "def raiz(a):\n",
    "    if a < 0:\n",
    "        return 'raíz complexa'\n",
    "    else:\n",
    "        return np.sqrt(a)\n",
    "\n",
    "raiz(4)"
   ]
  },
  {
   "cell_type": "code",
   "execution_count": null,
   "metadata": {},
   "outputs": [],
   "source": [
    "a = 3\n",
    "b = 4\n",
    "c = 1\n",
    "\n",
    "discriminante = b**2 - 4*a*c\n",
    "print(discriminante)"
   ]
  },
  {
   "cell_type": "code",
   "execution_count": null,
   "metadata": {},
   "outputs": [],
   "source": [
    "a = 3\n",
    "b = 4\n",
    "c = 1\n",
    "\n",
    "discriminante = b**2 - 4*a*c\n",
    "\n",
    "x = (-b + np.sqrt(discriminante))/(2*a)  \n",
    "\n",
    "print('discriminante =', discriminante)\n",
    "print('x =', x)"
   ]
  },
  {
   "cell_type": "markdown",
   "metadata": {
    "ExecuteTime": {
     "end_time": "2020-02-10T19:24:40.753596Z",
     "start_time": "2020-02-10T19:24:40.748610Z"
    }
   },
   "source": [
    "## Exercício Proposto\n",
    "\n",
    "1. Monte uma função para resolver equações de segundo grau, com os parâmetros indicados na chamada da função. Exemplo de chamada da função: \n",
    "\n",
    "<br> *eq_solver(a=1, b=3, c=4)*"
   ]
  },
  {
   "cell_type": "code",
   "execution_count": 30,
   "metadata": {
    "ExecuteTime": {
     "end_time": "2020-03-25T22:48:30.233608Z",
     "start_time": "2020-03-25T22:48:30.225629Z"
    }
   },
   "outputs": [],
   "source": [
    "# Resposta:\n",
    "def eq_solver(a,b,c):\n",
    "    # \n",
    "    discriminante = b**2 - 4*a*c\n",
    "    if discriminante < 0: \n",
    "        return 'sem raízes reais'\n",
    "    else:\n",
    "        print('Discriminante = ', discriminante)\n",
    "        # \n",
    "        x1 = (-b + np.sqrt(discriminante))/(2*a)\n",
    "        x2 = (-b - np.sqrt(discriminante))/(2*a)\n",
    "\n",
    "        print('x1 =', x1)\n",
    "        print('x2 =', x2)\n",
    "\n",
    "        return x1, x2"
   ]
  },
  {
   "cell_type": "code",
   "execution_count": 31,
   "metadata": {
    "ExecuteTime": {
     "end_time": "2020-03-25T22:48:31.142376Z",
     "start_time": "2020-03-25T22:48:31.133402Z"
    }
   },
   "outputs": [
    {
     "name": "stdout",
     "output_type": "stream",
     "text": [
      "Discriminante =  0\n",
      "x1 =  -1.0\n",
      "x2 =  -1.0\n"
     ]
    },
    {
     "data": {
      "text/plain": [
       "(-1.0, -1.0)"
      ]
     },
     "execution_count": 31,
     "metadata": {},
     "output_type": "execute_result"
    }
   ],
   "source": [
    "eq_solver(a = 1,b = 2,c = 1)"
   ]
  },
  {
   "cell_type": "markdown",
   "metadata": {},
   "source": [
    "# Tipos de expressões\n",
    "\n",
    "Nesta seção iremos estudar tipos de expressões lógicas, relacionais, condicionais, etc."
   ]
  },
  {
   "cell_type": "markdown",
   "metadata": {},
   "source": [
    "## Comparações"
   ]
  },
  {
   "cell_type": "code",
   "execution_count": 40,
   "metadata": {
    "ExecuteTime": {
     "end_time": "2020-02-10T19:29:38.797600Z",
     "start_time": "2020-02-10T19:29:38.792612Z"
    }
   },
   "outputs": [
    {
     "data": {
      "text/plain": [
       "False"
      ]
     },
     "execution_count": 40,
     "metadata": {},
     "output_type": "execute_result"
    }
   ],
   "source": [
    "1 > 2"
   ]
  },
  {
   "cell_type": "code",
   "execution_count": 39,
   "metadata": {
    "ExecuteTime": {
     "end_time": "2020-02-10T19:29:38.011700Z",
     "start_time": "2020-02-10T19:29:38.004726Z"
    }
   },
   "outputs": [
    {
     "data": {
      "text/plain": [
       "True"
      ]
     },
     "execution_count": 39,
     "metadata": {},
     "output_type": "execute_result"
    }
   ],
   "source": [
    "2 == 2"
   ]
  },
  {
   "cell_type": "code",
   "execution_count": 38,
   "metadata": {
    "ExecuteTime": {
     "end_time": "2020-02-10T19:29:36.066905Z",
     "start_time": "2020-02-10T19:29:36.061919Z"
    }
   },
   "outputs": [
    {
     "data": {
      "text/plain": [
       "False"
      ]
     },
     "execution_count": 38,
     "metadata": {},
     "output_type": "execute_result"
    }
   ],
   "source": [
    "3 == 'Tartaruga'"
   ]
  },
  {
   "cell_type": "code",
   "execution_count": 34,
   "metadata": {
    "ExecuteTime": {
     "end_time": "2020-03-25T23:00:34.205910Z",
     "start_time": "2020-03-25T23:00:34.195937Z"
    }
   },
   "outputs": [
    {
     "data": {
      "text/plain": [
       "False"
      ]
     },
     "execution_count": 34,
     "metadata": {},
     "output_type": "execute_result"
    }
   ],
   "source": [
    "\"Cachorro\" == \"Gato\""
   ]
  },
  {
   "cell_type": "code",
   "execution_count": 41,
   "metadata": {
    "ExecuteTime": {
     "end_time": "2020-02-10T19:29:45.245347Z",
     "start_time": "2020-02-10T19:29:45.240360Z"
    }
   },
   "outputs": [
    {
     "data": {
      "text/plain": [
       "True"
      ]
     },
     "execution_count": 41,
     "metadata": {},
     "output_type": "execute_result"
    }
   ],
   "source": [
    "3 >= 3"
   ]
  },
  {
   "cell_type": "code",
   "execution_count": 42,
   "metadata": {
    "ExecuteTime": {
     "end_time": "2020-02-10T19:30:01.151790Z",
     "start_time": "2020-02-10T19:30:01.146804Z"
    }
   },
   "outputs": [
    {
     "data": {
      "text/plain": [
       "False"
      ]
     },
     "execution_count": 42,
     "metadata": {},
     "output_type": "execute_result"
    }
   ],
   "source": [
    "x = 10\n",
    "y = 11\n",
    "\n",
    "x > y "
   ]
  },
  {
   "cell_type": "code",
   "execution_count": 43,
   "metadata": {
    "ExecuteTime": {
     "end_time": "2020-02-10T19:30:13.565578Z",
     "start_time": "2020-02-10T19:30:13.560591Z"
    }
   },
   "outputs": [
    {
     "data": {
      "text/plain": [
       "True"
      ]
     },
     "execution_count": 43,
     "metadata": {},
     "output_type": "execute_result"
    }
   ],
   "source": [
    "x != y"
   ]
  },
  {
   "cell_type": "markdown",
   "metadata": {},
   "source": [
    "## Exercício:"
   ]
  },
  {
   "cell_type": "markdown",
   "metadata": {},
   "source": [
    "2. Crie uma função para detectar se um número é par ou impar.\n",
    "Dica: rode o código abaixo.\n",
    "<br> 5 % 2"
   ]
  },
  {
   "cell_type": "code",
   "execution_count": 67,
   "metadata": {
    "ExecuteTime": {
     "end_time": "2020-02-10T19:42:20.622241Z",
     "start_time": "2020-02-10T19:42:20.617254Z"
    }
   },
   "outputs": [
    {
     "data": {
      "text/plain": [
       "1"
      ]
     },
     "execution_count": 67,
     "metadata": {},
     "output_type": "execute_result"
    }
   ],
   "source": [
    "5 % 2"
   ]
  },
  {
   "cell_type": "markdown",
   "metadata": {},
   "source": [
    "## Condicionais"
   ]
  },
  {
   "cell_type": "code",
   "execution_count": 45,
   "metadata": {
    "ExecuteTime": {
     "end_time": "2020-02-10T19:31:19.566998Z",
     "start_time": "2020-02-10T19:31:19.561040Z"
    }
   },
   "outputs": [
    {
     "name": "stdout",
     "output_type": "stream",
     "text": [
      "Dois menor que quatro\n"
     ]
    }
   ],
   "source": [
    "if (2 < 4):\n",
    "    print('Dois menor que quatro')"
   ]
  },
  {
   "cell_type": "code",
   "execution_count": 47,
   "metadata": {
    "ExecuteTime": {
     "end_time": "2020-02-10T19:32:48.028398Z",
     "start_time": "2020-02-10T19:32:48.023380Z"
    }
   },
   "outputs": [
    {
     "name": "stdout",
     "output_type": "stream",
     "text": [
      "1 menor que  3\n"
     ]
    }
   ],
   "source": [
    "x = 1\n",
    "y = 3\n",
    "\n",
    "if (x > y):\n",
    "    print(x, 'maior que ', y)\n",
    "else:\n",
    "    print(x, 'menor que ', y)\n"
   ]
  },
  {
   "cell_type": "code",
   "execution_count": 48,
   "metadata": {
    "ExecuteTime": {
     "end_time": "2020-02-10T19:33:46.941013Z",
     "start_time": "2020-02-10T19:33:46.936027Z"
    }
   },
   "outputs": [],
   "source": [
    "def comparador(x , y):\n",
    "    if (x > y):\n",
    "        print(x, 'maior que ', y)\n",
    "    elif (x < y):\n",
    "        print(x, 'menor que ', y)\n",
    "    else:\n",
    "        print(x, 'igual a ', y)"
   ]
  },
  {
   "cell_type": "code",
   "execution_count": 50,
   "metadata": {
    "ExecuteTime": {
     "end_time": "2020-02-10T19:34:05.794570Z",
     "start_time": "2020-02-10T19:34:05.788586Z"
    }
   },
   "outputs": [
    {
     "name": "stdout",
     "output_type": "stream",
     "text": [
      "1 igual a  1\n",
      "10 maior que  1\n",
      "1 menor que  10\n"
     ]
    }
   ],
   "source": [
    "comparador(1,1)\n",
    "comparador(10,1)\n",
    "comparador(1,10)"
   ]
  },
  {
   "cell_type": "markdown",
   "metadata": {},
   "source": [
    "## Exercício:"
   ]
  },
  {
   "cell_type": "markdown",
   "metadata": {},
   "source": [
    "Construa uma função comparadora de variáveis textuais, determinando se são iguais ou diferentes."
   ]
  },
  {
   "cell_type": "code",
   "execution_count": 64,
   "metadata": {
    "ExecuteTime": {
     "end_time": "2020-02-10T19:39:57.375405Z",
     "start_time": "2020-02-10T19:39:57.371414Z"
    }
   },
   "outputs": [],
   "source": [
    "#Resposta:\n",
    "def compara_string(texto_1, texto_2):\n",
    "    if (texto_1 == texto_2):\n",
    "        print('Textos iguais! (', texto_1, ')')\n",
    "    else:\n",
    "        print('Os textos são diferentes!', '(', texto_1, ')', ' diferente de ', '(', texto_2, ')')"
   ]
  },
  {
   "cell_type": "code",
   "execution_count": 65,
   "metadata": {
    "ExecuteTime": {
     "end_time": "2020-02-10T19:39:58.046607Z",
     "start_time": "2020-02-10T19:39:58.039628Z"
    }
   },
   "outputs": [
    {
     "name": "stdout",
     "output_type": "stream",
     "text": [
      "Textos iguais! ( aaa )\n",
      "Os textos são diferentes! ( aaa )  diferente de  ( bb )\n"
     ]
    }
   ],
   "source": [
    "compara_string(texto_1 = 'aaa', texto_2 = 'aaa')\n",
    "compara_string(texto_1 = 'aaa', texto_2 = 'bb')"
   ]
  },
  {
   "cell_type": "markdown",
   "metadata": {},
   "source": [
    "## Exercícios propostos"
   ]
  },
  {
   "cell_type": "markdown",
   "metadata": {
    "ExecuteTime": {
     "end_time": "2020-03-04T18:59:20.227356Z",
     "start_time": "2020-03-04T18:59:20.219355Z"
    }
   },
   "source": [
    "Resolva os primeiros 11 exercícios em https://www.w3schools.com/python/"
   ]
  },
  {
   "cell_type": "markdown",
   "metadata": {},
   "source": [
    "Resolva o exercício de condicionais: https://www.w3schools.com/python/python_conditions.asp"
   ]
  },
  {
   "cell_type": "markdown",
   "metadata": {},
   "source": [
    "# Tipos de expressões\n",
    "\n",
    "Nesta seção iremos estudar tipos de expressões lógicas, relacionais, condicionais, etc.\n",
    "\n",
    "## Comparações"
   ]
  },
  {
   "cell_type": "code",
   "execution_count": 1,
   "metadata": {
    "ExecuteTime": {
     "end_time": "2020-08-03T14:46:20.645976Z",
     "start_time": "2020-08-03T14:46:20.630974Z"
    }
   },
   "outputs": [
    {
     "data": {
      "text/plain": [
       "False"
      ]
     },
     "execution_count": 1,
     "metadata": {},
     "output_type": "execute_result"
    }
   ],
   "source": [
    "1 > 2"
   ]
  },
  {
   "cell_type": "code",
   "execution_count": 2,
   "metadata": {
    "ExecuteTime": {
     "end_time": "2020-08-03T14:46:21.398821Z",
     "start_time": "2020-08-03T14:46:21.392819Z"
    }
   },
   "outputs": [
    {
     "data": {
      "text/plain": [
       "True"
      ]
     },
     "execution_count": 2,
     "metadata": {},
     "output_type": "execute_result"
    }
   ],
   "source": [
    "2 == 2"
   ]
  },
  {
   "cell_type": "code",
   "execution_count": 3,
   "metadata": {
    "ExecuteTime": {
     "end_time": "2020-08-03T14:46:22.041887Z",
     "start_time": "2020-08-03T14:46:22.037887Z"
    }
   },
   "outputs": [
    {
     "data": {
      "text/plain": [
       "False"
      ]
     },
     "execution_count": 3,
     "metadata": {},
     "output_type": "execute_result"
    }
   ],
   "source": [
    "3 == 'Tartaruga'"
   ]
  },
  {
   "cell_type": "code",
   "execution_count": 4,
   "metadata": {
    "ExecuteTime": {
     "end_time": "2020-08-03T14:46:22.688034Z",
     "start_time": "2020-08-03T14:46:22.682999Z"
    }
   },
   "outputs": [
    {
     "data": {
      "text/plain": [
       "False"
      ]
     },
     "execution_count": 4,
     "metadata": {},
     "output_type": "execute_result"
    }
   ],
   "source": [
    "\"Cachorro\" == \"Gato\""
   ]
  },
  {
   "cell_type": "code",
   "execution_count": 5,
   "metadata": {
    "ExecuteTime": {
     "end_time": "2020-08-03T14:46:23.255574Z",
     "start_time": "2020-08-03T14:46:23.250571Z"
    }
   },
   "outputs": [
    {
     "data": {
      "text/plain": [
       "True"
      ]
     },
     "execution_count": 5,
     "metadata": {},
     "output_type": "execute_result"
    }
   ],
   "source": [
    "3 >= 3"
   ]
  },
  {
   "cell_type": "code",
   "execution_count": 6,
   "metadata": {
    "ExecuteTime": {
     "end_time": "2020-08-03T14:46:30.578425Z",
     "start_time": "2020-08-03T14:46:30.572408Z"
    }
   },
   "outputs": [
    {
     "data": {
      "text/plain": [
       "False"
      ]
     },
     "execution_count": 6,
     "metadata": {},
     "output_type": "execute_result"
    }
   ],
   "source": [
    "x = 10\n",
    "y = 11\n",
    "\n",
    "x > y "
   ]
  },
  {
   "cell_type": "code",
   "execution_count": 7,
   "metadata": {
    "ExecuteTime": {
     "end_time": "2020-08-03T14:46:37.361354Z",
     "start_time": "2020-08-03T14:46:37.338151Z"
    }
   },
   "outputs": [
    {
     "data": {
      "text/plain": [
       "True"
      ]
     },
     "execution_count": 7,
     "metadata": {},
     "output_type": "execute_result"
    }
   ],
   "source": [
    "x != y"
   ]
  },
  {
   "cell_type": "markdown",
   "metadata": {},
   "source": [
    "## Condicionais"
   ]
  },
  {
   "cell_type": "code",
   "execution_count": 8,
   "metadata": {
    "ExecuteTime": {
     "end_time": "2020-08-03T14:47:30.785710Z",
     "start_time": "2020-08-03T14:47:30.770085Z"
    }
   },
   "outputs": [
    {
     "name": "stdout",
     "output_type": "stream",
     "text": [
      "Dois menor que quatro\n"
     ]
    }
   ],
   "source": [
    "if (2 < 4):\n",
    "    print('Dois menor que quatro')"
   ]
  },
  {
   "cell_type": "code",
   "execution_count": 9,
   "metadata": {
    "ExecuteTime": {
     "end_time": "2020-08-03T14:47:43.952936Z",
     "start_time": "2020-08-03T14:47:43.947939Z"
    }
   },
   "outputs": [
    {
     "name": "stdout",
     "output_type": "stream",
     "text": [
      "1 menor que  3\n"
     ]
    }
   ],
   "source": [
    "x = 1\n",
    "y = 3\n",
    "\n",
    "if (x > y):\n",
    "    print(x, 'maior que ', y)\n",
    "else:\n",
    "    print(x, 'menor que ', y)\n"
   ]
  },
  {
   "cell_type": "code",
   "execution_count": 10,
   "metadata": {
    "ExecuteTime": {
     "end_time": "2020-08-03T14:47:51.831921Z",
     "start_time": "2020-08-03T14:47:51.825965Z"
    }
   },
   "outputs": [],
   "source": [
    "def comparador(x , y):\n",
    "    if (x > y):\n",
    "        print(x, 'maior que ', y)\n",
    "    elif (x < y):\n",
    "        print(x, 'menor que ', y)\n",
    "    else:\n",
    "        print(x, 'igual a ', y)"
   ]
  },
  {
   "cell_type": "code",
   "execution_count": 11,
   "metadata": {
    "ExecuteTime": {
     "end_time": "2020-08-03T14:47:59.302047Z",
     "start_time": "2020-08-03T14:47:59.297049Z"
    }
   },
   "outputs": [
    {
     "name": "stdout",
     "output_type": "stream",
     "text": [
      "1 igual a  1\n",
      "10 maior que  1\n",
      "1 menor que  10\n"
     ]
    }
   ],
   "source": [
    "comparador(1,1)\n",
    "comparador(10,1)\n",
    "comparador(1,10)"
   ]
  },
  {
   "cell_type": "markdown",
   "metadata": {},
   "source": [
    "# Laços e repetições\n",
    "\n",
    "## for()"
   ]
  },
  {
   "cell_type": "code",
   "execution_count": 14,
   "metadata": {
    "ExecuteTime": {
     "end_time": "2020-08-03T14:51:10.518128Z",
     "start_time": "2020-08-03T14:51:10.511174Z"
    }
   },
   "outputs": [
    {
     "data": {
      "text/plain": [
       "[1, 3, 'um']"
      ]
     },
     "execution_count": 14,
     "metadata": {},
     "output_type": "execute_result"
    }
   ],
   "source": [
    "[1, 3, 'um']"
   ]
  },
  {
   "cell_type": "code",
   "execution_count": 15,
   "metadata": {
    "ExecuteTime": {
     "end_time": "2020-08-03T14:51:19.162007Z",
     "start_time": "2020-08-03T14:51:19.158838Z"
    }
   },
   "outputs": [
    {
     "name": "stdout",
     "output_type": "stream",
     "text": [
      "1\n",
      "3\n",
      "um\n",
      "dez\n",
      "carro\n"
     ]
    }
   ],
   "source": [
    "for valor in [1, 3, 'um', 'dez', 'carro']:\n",
    "    print(valor)"
   ]
  },
  {
   "cell_type": "code",
   "execution_count": 16,
   "metadata": {
    "ExecuteTime": {
     "end_time": "2020-08-03T14:51:26.643750Z",
     "start_time": "2020-08-03T14:51:26.639751Z"
    }
   },
   "outputs": [
    {
     "name": "stdout",
     "output_type": "stream",
     "text": [
      "p\n",
      "a\n",
      "l\n",
      "a\n",
      "v\n",
      "r\n",
      "a\n"
     ]
    }
   ],
   "source": [
    "for letra in 'palavra':\n",
    "    print(letra)"
   ]
  },
  {
   "cell_type": "markdown",
   "metadata": {},
   "source": [
    "## while()\n"
   ]
  },
  {
   "cell_type": "code",
   "execution_count": 17,
   "metadata": {
    "ExecuteTime": {
     "end_time": "2020-08-03T14:51:44.762117Z",
     "start_time": "2020-08-03T14:51:44.755165Z"
    }
   },
   "outputs": [
    {
     "name": "stdout",
     "output_type": "stream",
     "text": [
      "Valor de i == 10\n",
      "Finalizando, i == 30\n"
     ]
    }
   ],
   "source": [
    "i = 0\n",
    "while(True):\n",
    "    i += 1\n",
    "    if (i == 10):\n",
    "        print('Valor de i == 10')\n",
    "    elif(i == 30):\n",
    "        print('Finalizando, i == 30')\n",
    "        break"
   ]
  },
  {
   "cell_type": "markdown",
   "metadata": {},
   "source": [
    "# Recursões\n",
    "\n",
    "\n",
    "## Fatorial"
   ]
  },
  {
   "cell_type": "code",
   "execution_count": 25,
   "metadata": {
    "ExecuteTime": {
     "end_time": "2020-08-03T14:55:22.119806Z",
     "start_time": "2020-08-03T14:55:20.533885Z"
    }
   },
   "outputs": [
    {
     "name": "stdout",
     "output_type": "stream",
     "text": [
      "digite um valor para n:5\n",
      "120\n"
     ]
    }
   ],
   "source": [
    "def fatorial_1(n):\n",
    "    if n <= 1:\n",
    "        return 1\n",
    "    else: \n",
    "        x = n-1\n",
    "        fat = fatorial_1(x)\n",
    "        return n*fat\n",
    "\n",
    "n = int(input('digite um valor para n:'))\n",
    "print(fatorial_1(n))"
   ]
  },
  {
   "cell_type": "code",
   "execution_count": 26,
   "metadata": {
    "ExecuteTime": {
     "end_time": "2020-08-03T14:55:36.634384Z",
     "start_time": "2020-08-03T14:55:34.454989Z"
    }
   },
   "outputs": [
    {
     "name": "stdout",
     "output_type": "stream",
     "text": [
      "digite um valor para n: 4\n",
      "24\n"
     ]
    }
   ],
   "source": [
    "def fatorial_2(n):\n",
    "    if n <= 1:\n",
    "        return 1\n",
    "    else: \n",
    "        return n * fatorial_2(n-1)\n",
    "\n",
    "n = int(input('digite um valor para n: '))\n",
    "print(fatorial_2(n))"
   ]
  },
  {
   "cell_type": "markdown",
   "metadata": {},
   "source": [
    "## Sequência de Fibonacci\n",
    "\n",
    "A sequência de Fibonacci foi descoberta por Leonardo de Pisa em 1202 ao investigar a já famosa\n",
    "razão de ouro $(\\varphi)$. Neste trabalho ele descobriu a seguinte sequência de números:\n",
    "\n",
    "\\begin{equation}\n",
    "\\nonumber 1,\\;1,\\;2,\\;3,\\;5,\\;8,\\;13,\\;21,\\;34,\\;55,\\;89,\\;144,\\;\\ldots \n",
    "\\end{equation}\n",
    "\n",
    "A sequência acima é gerada recursivamente pela sequinte equação funcional.\n",
    "\n",
    "\\begin{equation}\n",
    "\\nonumber F(n+2) = F(n + 1) + F(n).\n",
    "\\end{equation}\n",
    "\n",
    "Obs.: A sequência de Fibonacci é usualmente iniciada com n = 1 e as condições de que F(1) = 1 \n",
    "e que F(2) = 1, porém muitas pessoas iniciam a sequência com n = 0 e que F(0) = 1 e que F(1) = 1.\n",
    "Nenhum dos dois modos está errado. Essa divergência acontece devido ao interminável debate se o\n",
    "número 0 faz parte ou não dos números naturais."
   ]
  },
  {
   "cell_type": "code",
   "execution_count": 27,
   "metadata": {
    "ExecuteTime": {
     "end_time": "2020-08-03T14:56:04.304771Z",
     "start_time": "2020-08-03T14:56:01.159268Z"
    }
   },
   "outputs": [
    {
     "name": "stdout",
     "output_type": "stream",
     "text": [
      "digite um número para n: 4\n",
      "Sequência de Fibonacci para n =  4\n",
      "1\n",
      "1\n",
      "2\n",
      "3\n"
     ]
    }
   ],
   "source": [
    "def fibo(n):\n",
    "    if n <= 1:\n",
    "        return 1\n",
    "    else:\n",
    "        return(fibo(n-1) + fibo(n-2))\n",
    "n = int(input('digite um número para n: '))\n",
    "if n <= 0:\n",
    "    print('Insira um número inteiro maior que zero.')\n",
    "else:\n",
    "    print('Sequência de Fibonacci para n = ', n)\n",
    "    for i in range(n):\n",
    "        print(fibo(i))"
   ]
  },
  {
   "cell_type": "markdown",
   "metadata": {},
   "source": [
    "## Razão de ouro\n",
    "\n",
    "A razão de ouro, representada comumente pela letra grega $\\varphi$ é definida pela seguinte expressão\n",
    "\n",
    "\\begin{equation}\n",
    "\\nonumber \\varphi = \\frac{1+{\\sqrt{5}}}{2} = 1.6180339887\\ldots \n",
    "\\end{equation}\n",
    "\n",
    "O valor acima pode ser encontrado encontrando as raízes da seguinte equação do segundo grau:\n",
    "\n",
    "\\begin{equation}\n",
    "\\nonumber \\varphi^{2} - \\varphi - 1 = 0.\n",
    "\\end{equation}\n",
    "\n",
    "Porém nesta seção mostraremos como calcular a razão de ouro em termos dos números de\n",
    "Fibonacci. O cálculo da razão é dada pela razão entre números de Fibonacci consecutivos\n",
    "e a razão de ouro é encontrada quando estes números consecutivos se tornam muito grandes.\n",
    "\n",
    "\\begin{equation}\n",
    "\\nonumber \\varphi_n = \\frac{F(n+1)}{F(n)}.\n",
    "\\end{equation}\n",
    "\n",
    "Abaixo o código para calcular a razão de ouro através da sequência de Fibonacci. Note\n",
    "que neste código estamos usando uma mescla de recursão para o cálculo de Fibonacci e\n",
    "uma iteração para o cálculo do número de ouro. \n",
    "\n",
    "**Obs.:** O código abaixo possui um problema grave de consumo de memória. Como dever de casa procure uma maneira de melhorar o código abaixo."
   ]
  },
  {
   "cell_type": "code",
   "execution_count": 28,
   "metadata": {
    "ExecuteTime": {
     "end_time": "2020-08-03T14:56:37.238135Z",
     "start_time": "2020-08-03T14:56:32.804558Z"
    }
   },
   "outputs": [
    {
     "name": "stdout",
     "output_type": "stream",
     "text": [
      "digite um número para n: 4\n",
      "Sequência de Fibonacci para n =  4\n",
      "1.0\n",
      "1.0\n",
      "3.0\n",
      "1.6666666666666667\n"
     ]
    }
   ],
   "source": [
    "def fibo_ouro(n):\n",
    "    if n <= 2:\n",
    "        return 1\n",
    "    else:\n",
    "        return(fibo(n-1) + fibo(n-2))\n",
    "n = int(input('digite um número para n: '))\n",
    "if n <= 0:\n",
    "    print('Insira um número inteiro maior que zero.')\n",
    "else:\n",
    "    print('Sequência de Fibonacci para n = ', n)\n",
    "    for i in range(n):\n",
    "        print(fibo_ouro(i+1)/fibo_ouro(i))"
   ]
  },
  {
   "cell_type": "markdown",
   "metadata": {},
   "source": [
    "## Método para cálculo de fatorial usando iteração"
   ]
  },
  {
   "cell_type": "code",
   "execution_count": 29,
   "metadata": {
    "ExecuteTime": {
     "end_time": "2020-08-03T14:56:58.776619Z",
     "start_time": "2020-08-03T14:56:55.764099Z"
    }
   },
   "outputs": [
    {
     "name": "stdout",
     "output_type": "stream",
     "text": [
      "digite um número para n: 6\n",
      "6 ! =  720\n"
     ]
    }
   ],
   "source": [
    "def fatorial_it(n) :\n",
    "    k = 1\n",
    "    for i in range(1,n+1):\n",
    "        k = k * i\n",
    "    return k\n",
    "\n",
    "n = int(input('digite um número para n: '))\n",
    "print(n,'! = ',fatorial_it(n))"
   ]
  },
  {
   "cell_type": "code",
   "execution_count": 30,
   "metadata": {
    "ExecuteTime": {
     "end_time": "2020-08-03T14:57:07.398489Z",
     "start_time": "2020-08-03T14:57:07.390786Z"
    }
   },
   "outputs": [
    {
     "data": {
      "text/plain": [
       "21"
      ]
     },
     "execution_count": 30,
     "metadata": {},
     "output_type": "execute_result"
    }
   ],
   "source": [
    "def soma(v,n):\n",
    "    if n == 0:\n",
    "        return v[0]\n",
    "    else:\n",
    "        return v[n] + soma(v,n-1)\n",
    "\n",
    "v = [1,2,3,4,5,6]\n",
    "soma(v,5)"
   ]
  },
  {
   "cell_type": "markdown",
   "metadata": {},
   "source": [
    "# Pandas - Introdução Básica\n",
    "\n",
    "Nesta seção vamos apresentar alguns exemplos de como lidar com dados estruturados, em particular com dataframes. Para isto vamos utilizar uma das bibliotecas mais conhecidas de Python, o pandas.\n",
    "\n",
    "**Referências**\n",
    "* [Python for Data Analysis: Data Wrangling with Pandas, Numpy, and Ipython](https://www.amazon.com.br/Python-Data-Analysis-Wrangling-Ipython/dp/1449319793)\n",
    "* [Learning pandas - Python Data Discovery and Analysis Made Easy](https://www.amazon.com.br/Learning-pandas-Discovery-Analysis-English-ebook/dp/B00W9Q7VPA/ref=sr_1_1?__mk_pt_BR=%C3%85M%C3%85%C5%BD%C3%95%C3%91&keywords=Learning+Pandas+%E2%80%93+Python+Data+Discovery+and+Analysis+Made+Easy&qid=1584127199&s=books&sr=1-1)\n",
    "* [Learning the Pandas Library: Python Tools for Data Munging, Analysis, and Visualization](https://www.amazon.com.br/Learning-Pandas-Library-Analysis-Visualization-ebook/dp/B01GIE03GW/ref=sr_1_1?__mk_pt_BR=%C3%85M%C3%85%C5%BD%C3%95%C3%91&keywords=Learning+the+Pandas+Library&qid=1584127248&s=books&sr=1-1)\n",
    "\n",
    "## Criando um data frame\n",
    "\n",
    "O pandas utiliza uma estrutura de dados conhecida por dataframe que é uma estrutura de duas dimensões de dados tabulares cujo tamanho pode ser alterado e as colunas em geral são heterogêneas, ou seja podem ser de diversos tipos de dados, como por exemplo textos e números. A estrutura do dataframe do pandas é muito similar a uma planilha do Excel. Abaixo vamos dar um exemplo de como criar um dataframe, observe que precisamos importar a biblioteca pandas e podemos dar um alias para chamar as funções da biblioteca. Em geral as pessoas usam a abreviação df (de dataframe) para nomear seus dataframes, igual se nomeia uma planilha."
   ]
  },
  {
   "cell_type": "code",
   "execution_count": 31,
   "metadata": {
    "ExecuteTime": {
     "end_time": "2020-08-03T14:57:48.401661Z",
     "start_time": "2020-08-03T14:57:47.872257Z"
    }
   },
   "outputs": [
    {
     "data": {
      "text/html": [
       "<div>\n",
       "<style scoped>\n",
       "    .dataframe tbody tr th:only-of-type {\n",
       "        vertical-align: middle;\n",
       "    }\n",
       "\n",
       "    .dataframe tbody tr th {\n",
       "        vertical-align: top;\n",
       "    }\n",
       "\n",
       "    .dataframe thead th {\n",
       "        text-align: right;\n",
       "    }\n",
       "</style>\n",
       "<table border=\"1\" class=\"dataframe\">\n",
       "  <thead>\n",
       "    <tr style=\"text-align: right;\">\n",
       "      <th></th>\n",
       "      <th>a</th>\n",
       "      <th>b</th>\n",
       "    </tr>\n",
       "  </thead>\n",
       "  <tbody>\n",
       "    <tr>\n",
       "      <th>0</th>\n",
       "      <td>1</td>\n",
       "      <td>6</td>\n",
       "    </tr>\n",
       "    <tr>\n",
       "      <th>1</th>\n",
       "      <td>2</td>\n",
       "      <td>5</td>\n",
       "    </tr>\n",
       "    <tr>\n",
       "      <th>2</th>\n",
       "      <td>7</td>\n",
       "      <td>3</td>\n",
       "    </tr>\n",
       "    <tr>\n",
       "      <th>3</th>\n",
       "      <td>3</td>\n",
       "      <td>2</td>\n",
       "    </tr>\n",
       "    <tr>\n",
       "      <th>4</th>\n",
       "      <td>4</td>\n",
       "      <td>a</td>\n",
       "    </tr>\n",
       "  </tbody>\n",
       "</table>\n",
       "</div>"
      ],
      "text/plain": [
       "   a  b\n",
       "0  1  6\n",
       "1  2  5\n",
       "2  7  3\n",
       "3  3  2\n",
       "4  4  a"
      ]
     },
     "execution_count": 31,
     "metadata": {},
     "output_type": "execute_result"
    }
   ],
   "source": [
    "import pandas as pd\n",
    "\n",
    "# primeiro definimos a estrutura do dataframe\n",
    "df = {\n",
    "      'a':[1,2,7,3,4],\n",
    "      'b':[6,5,3,2,'a'], \n",
    "      }\n",
    "\n",
    "# depois precisamos definir a estrutura como um dataframe do pandas\n",
    "df = pd.DataFrame(df)\n",
    "\n",
    "# mostra o dataframe\n",
    "df"
   ]
  },
  {
   "cell_type": "markdown",
   "metadata": {},
   "source": [
    "## Exemplo: diversos tipos de variáveis\n",
    "\n",
    "No próximo exemplo vamos mostrar um dataframe com colunas de diferentes tipos de variáveis"
   ]
  },
  {
   "cell_type": "code",
   "execution_count": 32,
   "metadata": {
    "ExecuteTime": {
     "end_time": "2020-08-03T14:58:10.170163Z",
     "start_time": "2020-08-03T14:58:10.150168Z"
    }
   },
   "outputs": [
    {
     "data": {
      "text/html": [
       "<div>\n",
       "<style scoped>\n",
       "    .dataframe tbody tr th:only-of-type {\n",
       "        vertical-align: middle;\n",
       "    }\n",
       "\n",
       "    .dataframe tbody tr th {\n",
       "        vertical-align: top;\n",
       "    }\n",
       "\n",
       "    .dataframe thead th {\n",
       "        text-align: right;\n",
       "    }\n",
       "</style>\n",
       "<table border=\"1\" class=\"dataframe\">\n",
       "  <thead>\n",
       "    <tr style=\"text-align: right;\">\n",
       "      <th></th>\n",
       "      <th>código</th>\n",
       "      <th>nome</th>\n",
       "      <th>instrumento</th>\n",
       "      <th>nascimento</th>\n",
       "    </tr>\n",
       "  </thead>\n",
       "  <tbody>\n",
       "    <tr>\n",
       "      <th>0</th>\n",
       "      <td>1</td>\n",
       "      <td>John</td>\n",
       "      <td>vocal</td>\n",
       "      <td>1940-10-09</td>\n",
       "    </tr>\n",
       "    <tr>\n",
       "      <th>1</th>\n",
       "      <td>2</td>\n",
       "      <td>Paul</td>\n",
       "      <td>baixo</td>\n",
       "      <td>1942-06-18</td>\n",
       "    </tr>\n",
       "    <tr>\n",
       "      <th>2</th>\n",
       "      <td>1</td>\n",
       "      <td>George</td>\n",
       "      <td>guitarra</td>\n",
       "      <td>1943-02-25</td>\n",
       "    </tr>\n",
       "    <tr>\n",
       "      <th>3</th>\n",
       "      <td>4</td>\n",
       "      <td>Ringo</td>\n",
       "      <td>bateria</td>\n",
       "      <td>1940-07-07</td>\n",
       "    </tr>\n",
       "  </tbody>\n",
       "</table>\n",
       "</div>"
      ],
      "text/plain": [
       "  código    nome instrumento  nascimento\n",
       "0      1    John       vocal  1940-10-09\n",
       "1      2    Paul       baixo  1942-06-18\n",
       "2      1  George    guitarra  1943-02-25\n",
       "3      4   Ringo     bateria  1940-07-07"
      ]
     },
     "execution_count": 32,
     "metadata": {},
     "output_type": "execute_result"
    }
   ],
   "source": [
    "df = {\n",
    "      'código':[1,2,\"1\",4],\n",
    "      'nome':['John','Paul','George','Ringo'], \n",
    "      'instrumento':['vocal','baixo','guitarra','bateria'],\n",
    "      'nascimento':['1940-10-09','1942-06-18','1943-02-25','1940-07-07']\n",
    "      }\n",
    "\n",
    "df = pd.DataFrame(df)\n",
    "\n",
    "df"
   ]
  },
  {
   "cell_type": "markdown",
   "metadata": {},
   "source": [
    "## Como obter informações sobre o dataframe\n",
    "\n",
    "Abaixo mostramos como obter informações sobre o dataframe: nome e quantidade de colunas, quantidade de linhas, contagem não nulo e tipo da variável."
   ]
  },
  {
   "cell_type": "code",
   "execution_count": 33,
   "metadata": {
    "ExecuteTime": {
     "end_time": "2020-08-03T14:58:28.412482Z",
     "start_time": "2020-08-03T14:58:28.402483Z"
    }
   },
   "outputs": [
    {
     "name": "stdout",
     "output_type": "stream",
     "text": [
      "<class 'pandas.core.frame.DataFrame'>\n",
      "RangeIndex: 4 entries, 0 to 3\n",
      "Data columns (total 4 columns):\n",
      " #   Column       Non-Null Count  Dtype \n",
      "---  ------       --------------  ----- \n",
      " 0   código       4 non-null      object\n",
      " 1   nome         4 non-null      object\n",
      " 2   instrumento  4 non-null      object\n",
      " 3   nascimento   4 non-null      object\n",
      "dtypes: object(4)\n",
      "memory usage: 256.0+ bytes\n"
     ]
    }
   ],
   "source": [
    "df.info()"
   ]
  },
  {
   "cell_type": "code",
   "execution_count": 34,
   "metadata": {
    "ExecuteTime": {
     "end_time": "2020-08-03T14:58:34.868851Z",
     "start_time": "2020-08-03T14:58:34.862846Z"
    }
   },
   "outputs": [
    {
     "data": {
      "text/plain": [
       "código         object\n",
       "nome           object\n",
       "instrumento    object\n",
       "nascimento     object\n",
       "dtype: object"
      ]
     },
     "execution_count": 34,
     "metadata": {},
     "output_type": "execute_result"
    }
   ],
   "source": [
    "df.dtypes "
   ]
  },
  {
   "cell_type": "markdown",
   "metadata": {},
   "source": [
    "## Transformando o tipo de variável de uma coluna específica do dataframe\n",
    "\n",
    "Note pela saída de código acima que a data de nascimento tem o tipo de variável definido como object. Abaixo vamos ensinar como transformar esta coluna em um tipo específico de variável para datas usando a função to_datetime do pandas."
   ]
  },
  {
   "cell_type": "code",
   "execution_count": 35,
   "metadata": {
    "ExecuteTime": {
     "end_time": "2020-08-03T14:58:54.845084Z",
     "start_time": "2020-08-03T14:58:54.833122Z"
    }
   },
   "outputs": [
    {
     "name": "stdout",
     "output_type": "stream",
     "text": [
      "<class 'pandas.core.frame.DataFrame'>\n",
      "RangeIndex: 4 entries, 0 to 3\n",
      "Data columns (total 4 columns):\n",
      " #   Column       Non-Null Count  Dtype         \n",
      "---  ------       --------------  -----         \n",
      " 0   código       4 non-null      object        \n",
      " 1   nome         4 non-null      object        \n",
      " 2   instrumento  4 non-null      object        \n",
      " 3   nascimento   4 non-null      datetime64[ns]\n",
      "dtypes: datetime64[ns](1), object(3)\n",
      "memory usage: 256.0+ bytes\n"
     ]
    }
   ],
   "source": [
    "df['nascimento'] = pd.to_datetime(df['nascimento'])\n",
    "\n",
    "df.info()"
   ]
  },
  {
   "cell_type": "markdown",
   "metadata": {},
   "source": [
    "# Uma nova biblioteca: numpy\n",
    "\n",
    "Vamos chamar uma biblioteca chamada numpy para darmos um exemplo sobre dados faltantes (missing) em um dataframe. Para isto vamos utilizar a função nan do numpy para definir os campos faltantes no dataframe que vamos criar."
   ]
  },
  {
   "cell_type": "code",
   "execution_count": 36,
   "metadata": {
    "ExecuteTime": {
     "end_time": "2020-08-03T14:59:12.346823Z",
     "start_time": "2020-08-03T14:59:12.331831Z"
    }
   },
   "outputs": [
    {
     "data": {
      "text/html": [
       "<div>\n",
       "<style scoped>\n",
       "    .dataframe tbody tr th:only-of-type {\n",
       "        vertical-align: middle;\n",
       "    }\n",
       "\n",
       "    .dataframe tbody tr th {\n",
       "        vertical-align: top;\n",
       "    }\n",
       "\n",
       "    .dataframe thead th {\n",
       "        text-align: right;\n",
       "    }\n",
       "</style>\n",
       "<table border=\"1\" class=\"dataframe\">\n",
       "  <thead>\n",
       "    <tr style=\"text-align: right;\">\n",
       "      <th></th>\n",
       "      <th>a</th>\n",
       "      <th>b</th>\n",
       "      <th>c</th>\n",
       "      <th>d</th>\n",
       "    </tr>\n",
       "  </thead>\n",
       "  <tbody>\n",
       "    <tr>\n",
       "      <th>0</th>\n",
       "      <td>1.0</td>\n",
       "      <td>NaN</td>\n",
       "      <td>1</td>\n",
       "      <td>0</td>\n",
       "    </tr>\n",
       "    <tr>\n",
       "      <th>1</th>\n",
       "      <td>NaN</td>\n",
       "      <td>5.0</td>\n",
       "      <td>4</td>\n",
       "      <td>7</td>\n",
       "    </tr>\n",
       "    <tr>\n",
       "      <th>2</th>\n",
       "      <td>7.0</td>\n",
       "      <td>NaN</td>\n",
       "      <td>8</td>\n",
       "      <td>21</td>\n",
       "    </tr>\n",
       "    <tr>\n",
       "      <th>3</th>\n",
       "      <td>3.0</td>\n",
       "      <td>2.0</td>\n",
       "      <td>9</td>\n",
       "      <td>100</td>\n",
       "    </tr>\n",
       "    <tr>\n",
       "      <th>4</th>\n",
       "      <td>NaN</td>\n",
       "      <td>6.0</td>\n",
       "      <td>3</td>\n",
       "      <td>3</td>\n",
       "    </tr>\n",
       "  </tbody>\n",
       "</table>\n",
       "</div>"
      ],
      "text/plain": [
       "     a    b  c    d\n",
       "0  1.0  NaN  1    0\n",
       "1  NaN  5.0  4    7\n",
       "2  7.0  NaN  8   21\n",
       "3  3.0  2.0  9  100\n",
       "4  NaN  6.0  3    3"
      ]
     },
     "execution_count": 36,
     "metadata": {},
     "output_type": "execute_result"
    }
   ],
   "source": [
    "import numpy as np\n",
    "\n",
    "df = pd.DataFrame({\n",
    "      'a':[1,np.nan,7,3,np.nan],\n",
    "      'b':[np.nan,5,np.nan,2,6], \n",
    "      'c':[1,4,8,9,3],\n",
    "      'd':[0,7,21,100,3]\n",
    "      })\n",
    "\n",
    "df"
   ]
  },
  {
   "cell_type": "markdown",
   "metadata": {},
   "source": [
    "## Exemplo: operações com colunas numéricas de um dataframe - soma"
   ]
  },
  {
   "cell_type": "code",
   "execution_count": 37,
   "metadata": {
    "ExecuteTime": {
     "end_time": "2020-08-03T14:59:32.970456Z",
     "start_time": "2020-08-03T14:59:32.897459Z"
    }
   },
   "outputs": [
    {
     "data": {
      "text/html": [
       "<div>\n",
       "<style scoped>\n",
       "    .dataframe tbody tr th:only-of-type {\n",
       "        vertical-align: middle;\n",
       "    }\n",
       "\n",
       "    .dataframe tbody tr th {\n",
       "        vertical-align: top;\n",
       "    }\n",
       "\n",
       "    .dataframe thead th {\n",
       "        text-align: right;\n",
       "    }\n",
       "</style>\n",
       "<table border=\"1\" class=\"dataframe\">\n",
       "  <thead>\n",
       "    <tr style=\"text-align: right;\">\n",
       "      <th></th>\n",
       "      <th>a</th>\n",
       "      <th>b</th>\n",
       "      <th>c</th>\n",
       "      <th>d</th>\n",
       "      <th>e</th>\n",
       "    </tr>\n",
       "  </thead>\n",
       "  <tbody>\n",
       "    <tr>\n",
       "      <th>0</th>\n",
       "      <td>1.0</td>\n",
       "      <td>NaN</td>\n",
       "      <td>1</td>\n",
       "      <td>0</td>\n",
       "      <td>1</td>\n",
       "    </tr>\n",
       "    <tr>\n",
       "      <th>1</th>\n",
       "      <td>NaN</td>\n",
       "      <td>5.0</td>\n",
       "      <td>4</td>\n",
       "      <td>7</td>\n",
       "      <td>11</td>\n",
       "    </tr>\n",
       "    <tr>\n",
       "      <th>2</th>\n",
       "      <td>7.0</td>\n",
       "      <td>NaN</td>\n",
       "      <td>8</td>\n",
       "      <td>21</td>\n",
       "      <td>29</td>\n",
       "    </tr>\n",
       "    <tr>\n",
       "      <th>3</th>\n",
       "      <td>3.0</td>\n",
       "      <td>2.0</td>\n",
       "      <td>9</td>\n",
       "      <td>100</td>\n",
       "      <td>109</td>\n",
       "    </tr>\n",
       "    <tr>\n",
       "      <th>4</th>\n",
       "      <td>NaN</td>\n",
       "      <td>6.0</td>\n",
       "      <td>3</td>\n",
       "      <td>3</td>\n",
       "      <td>6</td>\n",
       "    </tr>\n",
       "  </tbody>\n",
       "</table>\n",
       "</div>"
      ],
      "text/plain": [
       "     a    b  c    d    e\n",
       "0  1.0  NaN  1    0    1\n",
       "1  NaN  5.0  4    7   11\n",
       "2  7.0  NaN  8   21   29\n",
       "3  3.0  2.0  9  100  109\n",
       "4  NaN  6.0  3    3    6"
      ]
     },
     "execution_count": 37,
     "metadata": {},
     "output_type": "execute_result"
    }
   ],
   "source": [
    "#%%timeit\n",
    "df['e'] = df['c'] + df['d']\n",
    "\n",
    "df"
   ]
  },
  {
   "cell_type": "markdown",
   "metadata": {},
   "source": [
    "## Exemplo: operações com colunas numéricas de um dataframe - multiplicação"
   ]
  },
  {
   "cell_type": "code",
   "execution_count": 42,
   "metadata": {
    "ExecuteTime": {
     "end_time": "2020-08-03T15:13:17.463855Z",
     "start_time": "2020-08-03T15:13:17.452869Z"
    }
   },
   "outputs": [
    {
     "data": {
      "text/html": [
       "<div>\n",
       "<style scoped>\n",
       "    .dataframe tbody tr th:only-of-type {\n",
       "        vertical-align: middle;\n",
       "    }\n",
       "\n",
       "    .dataframe tbody tr th {\n",
       "        vertical-align: top;\n",
       "    }\n",
       "\n",
       "    .dataframe thead th {\n",
       "        text-align: right;\n",
       "    }\n",
       "</style>\n",
       "<table border=\"1\" class=\"dataframe\">\n",
       "  <thead>\n",
       "    <tr style=\"text-align: right;\">\n",
       "      <th></th>\n",
       "      <th>a</th>\n",
       "      <th>b</th>\n",
       "      <th>c</th>\n",
       "      <th>d</th>\n",
       "      <th>e</th>\n",
       "      <th>f</th>\n",
       "    </tr>\n",
       "  </thead>\n",
       "  <tbody>\n",
       "    <tr>\n",
       "      <th>0</th>\n",
       "      <td>1.0</td>\n",
       "      <td>NaN</td>\n",
       "      <td>1</td>\n",
       "      <td>0</td>\n",
       "      <td>1</td>\n",
       "      <td>0</td>\n",
       "    </tr>\n",
       "    <tr>\n",
       "      <th>1</th>\n",
       "      <td>NaN</td>\n",
       "      <td>5.0</td>\n",
       "      <td>4</td>\n",
       "      <td>7</td>\n",
       "      <td>11</td>\n",
       "      <td>28</td>\n",
       "    </tr>\n",
       "    <tr>\n",
       "      <th>2</th>\n",
       "      <td>7.0</td>\n",
       "      <td>NaN</td>\n",
       "      <td>8</td>\n",
       "      <td>21</td>\n",
       "      <td>29</td>\n",
       "      <td>168</td>\n",
       "    </tr>\n",
       "    <tr>\n",
       "      <th>3</th>\n",
       "      <td>3.0</td>\n",
       "      <td>2.0</td>\n",
       "      <td>9</td>\n",
       "      <td>100</td>\n",
       "      <td>109</td>\n",
       "      <td>900</td>\n",
       "    </tr>\n",
       "    <tr>\n",
       "      <th>4</th>\n",
       "      <td>NaN</td>\n",
       "      <td>6.0</td>\n",
       "      <td>3</td>\n",
       "      <td>3</td>\n",
       "      <td>6</td>\n",
       "      <td>9</td>\n",
       "    </tr>\n",
       "  </tbody>\n",
       "</table>\n",
       "</div>"
      ],
      "text/plain": [
       "     a    b  c    d    e    f\n",
       "0  1.0  NaN  1    0    1    0\n",
       "1  NaN  5.0  4    7   11   28\n",
       "2  7.0  NaN  8   21   29  168\n",
       "3  3.0  2.0  9  100  109  900\n",
       "4  NaN  6.0  3    3    6    9"
      ]
     },
     "execution_count": 42,
     "metadata": {},
     "output_type": "execute_result"
    }
   ],
   "source": [
    "df['f'] = df['c'] * df['d']\n",
    "\n",
    "df"
   ]
  },
  {
   "cell_type": "markdown",
   "metadata": {},
   "source": [
    "## Exemplo: operações com colunas numéricas de um dataframe - divisão"
   ]
  },
  {
   "cell_type": "code",
   "execution_count": 43,
   "metadata": {
    "ExecuteTime": {
     "end_time": "2020-08-03T15:13:35.100392Z",
     "start_time": "2020-08-03T15:13:35.087398Z"
    }
   },
   "outputs": [
    {
     "data": {
      "text/html": [
       "<div>\n",
       "<style scoped>\n",
       "    .dataframe tbody tr th:only-of-type {\n",
       "        vertical-align: middle;\n",
       "    }\n",
       "\n",
       "    .dataframe tbody tr th {\n",
       "        vertical-align: top;\n",
       "    }\n",
       "\n",
       "    .dataframe thead th {\n",
       "        text-align: right;\n",
       "    }\n",
       "</style>\n",
       "<table border=\"1\" class=\"dataframe\">\n",
       "  <thead>\n",
       "    <tr style=\"text-align: right;\">\n",
       "      <th></th>\n",
       "      <th>a</th>\n",
       "      <th>b</th>\n",
       "      <th>c</th>\n",
       "      <th>d</th>\n",
       "      <th>e</th>\n",
       "      <th>f</th>\n",
       "      <th>g</th>\n",
       "    </tr>\n",
       "  </thead>\n",
       "  <tbody>\n",
       "    <tr>\n",
       "      <th>0</th>\n",
       "      <td>1.0</td>\n",
       "      <td>NaN</td>\n",
       "      <td>1</td>\n",
       "      <td>0</td>\n",
       "      <td>1</td>\n",
       "      <td>0</td>\n",
       "      <td>0.000000</td>\n",
       "    </tr>\n",
       "    <tr>\n",
       "      <th>1</th>\n",
       "      <td>NaN</td>\n",
       "      <td>5.0</td>\n",
       "      <td>4</td>\n",
       "      <td>7</td>\n",
       "      <td>11</td>\n",
       "      <td>28</td>\n",
       "      <td>1.750000</td>\n",
       "    </tr>\n",
       "    <tr>\n",
       "      <th>2</th>\n",
       "      <td>7.0</td>\n",
       "      <td>NaN</td>\n",
       "      <td>8</td>\n",
       "      <td>21</td>\n",
       "      <td>29</td>\n",
       "      <td>168</td>\n",
       "      <td>2.625000</td>\n",
       "    </tr>\n",
       "    <tr>\n",
       "      <th>3</th>\n",
       "      <td>3.0</td>\n",
       "      <td>2.0</td>\n",
       "      <td>9</td>\n",
       "      <td>100</td>\n",
       "      <td>109</td>\n",
       "      <td>900</td>\n",
       "      <td>11.111111</td>\n",
       "    </tr>\n",
       "    <tr>\n",
       "      <th>4</th>\n",
       "      <td>NaN</td>\n",
       "      <td>6.0</td>\n",
       "      <td>3</td>\n",
       "      <td>3</td>\n",
       "      <td>6</td>\n",
       "      <td>9</td>\n",
       "      <td>1.000000</td>\n",
       "    </tr>\n",
       "  </tbody>\n",
       "</table>\n",
       "</div>"
      ],
      "text/plain": [
       "     a    b  c    d    e    f          g\n",
       "0  1.0  NaN  1    0    1    0   0.000000\n",
       "1  NaN  5.0  4    7   11   28   1.750000\n",
       "2  7.0  NaN  8   21   29  168   2.625000\n",
       "3  3.0  2.0  9  100  109  900  11.111111\n",
       "4  NaN  6.0  3    3    6    9   1.000000"
      ]
     },
     "execution_count": 43,
     "metadata": {},
     "output_type": "execute_result"
    }
   ],
   "source": [
    "df['g'] = df['d'] / df['c']\n",
    "\n",
    "df"
   ]
  },
  {
   "cell_type": "markdown",
   "metadata": {},
   "source": [
    "## Exemplo: operações com colunas numéricas de um dataframe - divisão por zero"
   ]
  },
  {
   "cell_type": "code",
   "execution_count": 44,
   "metadata": {
    "ExecuteTime": {
     "end_time": "2020-08-03T15:13:54.352743Z",
     "start_time": "2020-08-03T15:13:54.341751Z"
    }
   },
   "outputs": [
    {
     "data": {
      "text/html": [
       "<div>\n",
       "<style scoped>\n",
       "    .dataframe tbody tr th:only-of-type {\n",
       "        vertical-align: middle;\n",
       "    }\n",
       "\n",
       "    .dataframe tbody tr th {\n",
       "        vertical-align: top;\n",
       "    }\n",
       "\n",
       "    .dataframe thead th {\n",
       "        text-align: right;\n",
       "    }\n",
       "</style>\n",
       "<table border=\"1\" class=\"dataframe\">\n",
       "  <thead>\n",
       "    <tr style=\"text-align: right;\">\n",
       "      <th></th>\n",
       "      <th>a</th>\n",
       "      <th>b</th>\n",
       "      <th>c</th>\n",
       "      <th>d</th>\n",
       "      <th>e</th>\n",
       "      <th>f</th>\n",
       "      <th>g</th>\n",
       "      <th>h</th>\n",
       "    </tr>\n",
       "  </thead>\n",
       "  <tbody>\n",
       "    <tr>\n",
       "      <th>0</th>\n",
       "      <td>1.0</td>\n",
       "      <td>NaN</td>\n",
       "      <td>1</td>\n",
       "      <td>0</td>\n",
       "      <td>1</td>\n",
       "      <td>0</td>\n",
       "      <td>0.000000</td>\n",
       "      <td>inf</td>\n",
       "    </tr>\n",
       "    <tr>\n",
       "      <th>1</th>\n",
       "      <td>NaN</td>\n",
       "      <td>5.0</td>\n",
       "      <td>4</td>\n",
       "      <td>7</td>\n",
       "      <td>11</td>\n",
       "      <td>28</td>\n",
       "      <td>1.750000</td>\n",
       "      <td>0.392857</td>\n",
       "    </tr>\n",
       "    <tr>\n",
       "      <th>2</th>\n",
       "      <td>7.0</td>\n",
       "      <td>NaN</td>\n",
       "      <td>8</td>\n",
       "      <td>21</td>\n",
       "      <td>29</td>\n",
       "      <td>168</td>\n",
       "      <td>2.625000</td>\n",
       "      <td>0.172619</td>\n",
       "    </tr>\n",
       "    <tr>\n",
       "      <th>3</th>\n",
       "      <td>3.0</td>\n",
       "      <td>2.0</td>\n",
       "      <td>9</td>\n",
       "      <td>100</td>\n",
       "      <td>109</td>\n",
       "      <td>900</td>\n",
       "      <td>11.111111</td>\n",
       "      <td>0.121111</td>\n",
       "    </tr>\n",
       "    <tr>\n",
       "      <th>4</th>\n",
       "      <td>NaN</td>\n",
       "      <td>6.0</td>\n",
       "      <td>3</td>\n",
       "      <td>3</td>\n",
       "      <td>6</td>\n",
       "      <td>9</td>\n",
       "      <td>1.000000</td>\n",
       "      <td>0.666667</td>\n",
       "    </tr>\n",
       "  </tbody>\n",
       "</table>\n",
       "</div>"
      ],
      "text/plain": [
       "     a    b  c    d    e    f          g         h\n",
       "0  1.0  NaN  1    0    1    0   0.000000       inf\n",
       "1  NaN  5.0  4    7   11   28   1.750000  0.392857\n",
       "2  7.0  NaN  8   21   29  168   2.625000  0.172619\n",
       "3  3.0  2.0  9  100  109  900  11.111111  0.121111\n",
       "4  NaN  6.0  3    3    6    9   1.000000  0.666667"
      ]
     },
     "execution_count": 44,
     "metadata": {},
     "output_type": "execute_result"
    }
   ],
   "source": [
    "df['h'] = df['e'] / df['f']\n",
    "\n",
    "df"
   ]
  },
  {
   "cell_type": "markdown",
   "metadata": {},
   "source": [
    "# Agora vamos aprender a como ler um arquivo em csv utilizando o pandas."
   ]
  },
  {
   "cell_type": "code",
   "execution_count": 46,
   "metadata": {
    "ExecuteTime": {
     "end_time": "2020-08-03T15:19:52.631378Z",
     "start_time": "2020-08-03T15:19:52.606367Z"
    }
   },
   "outputs": [
    {
     "data": {
      "text/html": [
       "<div>\n",
       "<style scoped>\n",
       "    .dataframe tbody tr th:only-of-type {\n",
       "        vertical-align: middle;\n",
       "    }\n",
       "\n",
       "    .dataframe tbody tr th {\n",
       "        vertical-align: top;\n",
       "    }\n",
       "\n",
       "    .dataframe thead th {\n",
       "        text-align: right;\n",
       "    }\n",
       "</style>\n",
       "<table border=\"1\" class=\"dataframe\">\n",
       "  <thead>\n",
       "    <tr style=\"text-align: right;\">\n",
       "      <th></th>\n",
       "      <th>campo_1</th>\n",
       "      <th>campo_2</th>\n",
       "      <th>campo_3</th>\n",
       "      <th>campo_4</th>\n",
       "      <th>campo_5</th>\n",
       "      <th>campo_6</th>\n",
       "      <th>campo_7</th>\n",
       "      <th>campo_8</th>\n",
       "      <th>campo_9</th>\n",
       "      <th>campo_10</th>\n",
       "    </tr>\n",
       "  </thead>\n",
       "  <tbody>\n",
       "    <tr>\n",
       "      <th>0</th>\n",
       "      <td>1</td>\n",
       "      <td>4</td>\n",
       "      <td>65</td>\n",
       "      <td>30</td>\n",
       "      <td>100</td>\n",
       "      <td>86</td>\n",
       "      <td>27</td>\n",
       "      <td>34</td>\n",
       "      <td>22</td>\n",
       "      <td>98</td>\n",
       "    </tr>\n",
       "    <tr>\n",
       "      <th>1</th>\n",
       "      <td>2</td>\n",
       "      <td>17</td>\n",
       "      <td>81</td>\n",
       "      <td>89</td>\n",
       "      <td>25</td>\n",
       "      <td>55</td>\n",
       "      <td>30</td>\n",
       "      <td>11</td>\n",
       "      <td>8</td>\n",
       "      <td>32</td>\n",
       "    </tr>\n",
       "    <tr>\n",
       "      <th>2</th>\n",
       "      <td>3</td>\n",
       "      <td>46</td>\n",
       "      <td>57</td>\n",
       "      <td>73</td>\n",
       "      <td>85</td>\n",
       "      <td>60</td>\n",
       "      <td>44</td>\n",
       "      <td>11</td>\n",
       "      <td>87</td>\n",
       "      <td>59</td>\n",
       "    </tr>\n",
       "    <tr>\n",
       "      <th>3</th>\n",
       "      <td>4</td>\n",
       "      <td>11</td>\n",
       "      <td>52</td>\n",
       "      <td>12</td>\n",
       "      <td>65</td>\n",
       "      <td>86</td>\n",
       "      <td>62</td>\n",
       "      <td>50</td>\n",
       "      <td>92</td>\n",
       "      <td>11</td>\n",
       "    </tr>\n",
       "    <tr>\n",
       "      <th>4</th>\n",
       "      <td>5</td>\n",
       "      <td>15</td>\n",
       "      <td>78</td>\n",
       "      <td>76</td>\n",
       "      <td>6</td>\n",
       "      <td>20</td>\n",
       "      <td>89</td>\n",
       "      <td>54</td>\n",
       "      <td>88</td>\n",
       "      <td>47</td>\n",
       "    </tr>\n",
       "    <tr>\n",
       "      <th>...</th>\n",
       "      <td>...</td>\n",
       "      <td>...</td>\n",
       "      <td>...</td>\n",
       "      <td>...</td>\n",
       "      <td>...</td>\n",
       "      <td>...</td>\n",
       "      <td>...</td>\n",
       "      <td>...</td>\n",
       "      <td>...</td>\n",
       "      <td>...</td>\n",
       "    </tr>\n",
       "    <tr>\n",
       "      <th>495</th>\n",
       "      <td>496</td>\n",
       "      <td>54</td>\n",
       "      <td>42</td>\n",
       "      <td>55</td>\n",
       "      <td>100</td>\n",
       "      <td>58</td>\n",
       "      <td>91</td>\n",
       "      <td>88</td>\n",
       "      <td>98</td>\n",
       "      <td>49</td>\n",
       "    </tr>\n",
       "    <tr>\n",
       "      <th>496</th>\n",
       "      <td>497</td>\n",
       "      <td>80</td>\n",
       "      <td>90</td>\n",
       "      <td>4</td>\n",
       "      <td>32</td>\n",
       "      <td>40</td>\n",
       "      <td>32</td>\n",
       "      <td>42</td>\n",
       "      <td>48</td>\n",
       "      <td>57</td>\n",
       "    </tr>\n",
       "    <tr>\n",
       "      <th>497</th>\n",
       "      <td>498</td>\n",
       "      <td>44</td>\n",
       "      <td>27</td>\n",
       "      <td>42</td>\n",
       "      <td>79</td>\n",
       "      <td>14</td>\n",
       "      <td>17</td>\n",
       "      <td>66</td>\n",
       "      <td>65</td>\n",
       "      <td>94</td>\n",
       "    </tr>\n",
       "    <tr>\n",
       "      <th>498</th>\n",
       "      <td>499</td>\n",
       "      <td>14</td>\n",
       "      <td>93</td>\n",
       "      <td>69</td>\n",
       "      <td>75</td>\n",
       "      <td>41</td>\n",
       "      <td>77</td>\n",
       "      <td>61</td>\n",
       "      <td>6</td>\n",
       "      <td>17</td>\n",
       "    </tr>\n",
       "    <tr>\n",
       "      <th>499</th>\n",
       "      <td>500</td>\n",
       "      <td>37</td>\n",
       "      <td>8</td>\n",
       "      <td>77</td>\n",
       "      <td>86</td>\n",
       "      <td>27</td>\n",
       "      <td>64</td>\n",
       "      <td>37</td>\n",
       "      <td>86</td>\n",
       "      <td>16</td>\n",
       "    </tr>\n",
       "  </tbody>\n",
       "</table>\n",
       "<p>500 rows × 10 columns</p>\n",
       "</div>"
      ],
      "text/plain": [
       "     campo_1  campo_2  campo_3  campo_4  campo_5  campo_6  campo_7  campo_8  \\\n",
       "0          1        4       65       30      100       86       27       34   \n",
       "1          2       17       81       89       25       55       30       11   \n",
       "2          3       46       57       73       85       60       44       11   \n",
       "3          4       11       52       12       65       86       62       50   \n",
       "4          5       15       78       76        6       20       89       54   \n",
       "..       ...      ...      ...      ...      ...      ...      ...      ...   \n",
       "495      496       54       42       55      100       58       91       88   \n",
       "496      497       80       90        4       32       40       32       42   \n",
       "497      498       44       27       42       79       14       17       66   \n",
       "498      499       14       93       69       75       41       77       61   \n",
       "499      500       37        8       77       86       27       64       37   \n",
       "\n",
       "     campo_9  campo_10  \n",
       "0         22        98  \n",
       "1          8        32  \n",
       "2         87        59  \n",
       "3         92        11  \n",
       "4         88        47  \n",
       "..       ...       ...  \n",
       "495       98        49  \n",
       "496       48        57  \n",
       "497       65        94  \n",
       "498        6        17  \n",
       "499       86        16  \n",
       "\n",
       "[500 rows x 10 columns]"
      ]
     },
     "execution_count": 46,
     "metadata": {},
     "output_type": "execute_result"
    }
   ],
   "source": [
    "df = pd.read_csv('modulo_I_case_1.csv',encoding='latin-1',delimiter=';',low_memory = True)\n",
    "df"
   ]
  },
  {
   "cell_type": "markdown",
   "metadata": {},
   "source": [
    "# Exercícios\n",
    "\n"
   ]
  },
  {
   "cell_type": "markdown",
   "metadata": {},
   "source": [
    "## Ex.\n",
    "\n",
    "Crie uma função para detectar se um número é par ou impar.\n",
    "Dica: rode o código abaixo.\n",
    "<br> 5 % 2"
   ]
  },
  {
   "cell_type": "code",
   "execution_count": null,
   "metadata": {},
   "outputs": [],
   "source": []
  },
  {
   "cell_type": "markdown",
   "metadata": {},
   "source": [
    "## Ex.\n",
    "\n",
    "Construa uma função comparadora de variáveis textuais, determinando se são iguais ou diferentes."
   ]
  },
  {
   "cell_type": "code",
   "execution_count": 38,
   "metadata": {
    "ExecuteTime": {
     "end_time": "2020-08-03T15:04:53.777651Z",
     "start_time": "2020-08-03T15:04:53.767697Z"
    }
   },
   "outputs": [
    {
     "name": "stdout",
     "output_type": "stream",
     "text": [
      "Textos iguais! ( aaa )\n",
      "Os textos são diferentes! ( aaa )  diferente de  ( bb )\n"
     ]
    }
   ],
   "source": [
    "#Resposta:\n",
    "\n",
    "def compara_string(texto_1, texto_2):\n",
    "    if (texto_1 == texto_2):\n",
    "        print('Textos iguais! (', texto_1, ')')\n",
    "    else:\n",
    "        print('Os textos são diferentes!', '(', texto_1, ')', ' diferente de ', '(', texto_2, ')')\n",
    "        \n",
    "compara_string(texto_1 = 'aaa', texto_2 = 'aaa')\n",
    "compara_string(texto_1 = 'aaa', texto_2 = 'bb')"
   ]
  },
  {
   "cell_type": "markdown",
   "metadata": {},
   "source": [
    "## Ex. \n",
    "\n",
    "Prepare uma função para imprimir [print()] apenas números pares na sequência abaixo utilizando: <br>"
   ]
  },
  {
   "cell_type": "code",
   "execution_count": 39,
   "metadata": {
    "ExecuteTime": {
     "end_time": "2020-08-03T15:07:14.425038Z",
     "start_time": "2020-08-03T15:07:14.420039Z"
    }
   },
   "outputs": [
    {
     "name": "stdout",
     "output_type": "stream",
     "text": [
      "2\n",
      "4\n",
      "6\n"
     ]
    }
   ],
   "source": [
    "seq = [1,2,3,4,6]\n",
    "\n",
    "for num in seq:\n",
    "    if (num % 2 == 0):\n",
    "        print(num)"
   ]
  },
  {
   "cell_type": "markdown",
   "metadata": {
    "ExecuteTime": {
     "end_time": "2020-08-03T14:53:00.817811Z",
     "start_time": "2020-08-03T14:53:00.812809Z"
    }
   },
   "source": [
    "## Ex.\n",
    "\n",
    "Repita a mesma função ignorando valores que não são inteiros\n",
    "\n",
    "Dicas:\n",
    "* print(type(1.1))\n",
    "* print(type(1))"
   ]
  },
  {
   "cell_type": "code",
   "execution_count": 40,
   "metadata": {
    "ExecuteTime": {
     "end_time": "2020-08-03T15:08:57.154976Z",
     "start_time": "2020-08-03T15:08:57.148978Z"
    }
   },
   "outputs": [
    {
     "name": "stdout",
     "output_type": "stream",
     "text": [
      "Não é inteiro, o valor interido ( 1 ), é do tipo  <class 'str'>\n"
     ]
    }
   ],
   "source": [
    "seq_2 = [1, 1.1, 3, 20, 999.99, 10000]\n",
    "\n",
    "entrada = '1'\n",
    "if (type(entrada) == int):\n",
    "    print('Inteiro')\n",
    "else:\n",
    "    print('Não é inteiro, o valor interido (', entrada, '), é do tipo ', type(entrada)  )"
   ]
  },
  {
   "cell_type": "code",
   "execution_count": 41,
   "metadata": {
    "ExecuteTime": {
     "end_time": "2020-08-03T15:08:59.070076Z",
     "start_time": "2020-08-03T15:08:59.060995Z"
    }
   },
   "outputs": [
    {
     "name": "stdout",
     "output_type": "stream",
     "text": [
      "É uma número ímpar:  1\n",
      "Não é inteiro: 1.1\n",
      "É uma número ímpar:  3\n",
      "É uma número par:  20\n",
      "Não é inteiro: 999.99\n",
      "É uma número par:  10000\n"
     ]
    }
   ],
   "source": [
    "# Resposta:\n",
    "def par_ou_nao(entrada):\n",
    "    if (type(valor) != int):\n",
    "        print('Não é inteiro:', valor)\n",
    "    elif (valor % 2 == 0):\n",
    "        print('É uma número par: ', valor)\n",
    "    elif (valor % 2 == 1):\n",
    "        print('É uma número ímpar: ', valor)\n",
    "\n",
    "for valor in seq_2:\n",
    "    par_ou_nao(entrada = valor)"
   ]
  }
 ],
 "metadata": {
  "hide_input": false,
  "kernelspec": {
   "display_name": "Python 3 (ipykernel)",
   "language": "python",
   "name": "python3"
  },
  "language_info": {
   "codemirror_mode": {
    "name": "ipython",
    "version": 3
   },
   "file_extension": ".py",
   "mimetype": "text/x-python",
   "name": "python",
   "nbconvert_exporter": "python",
   "pygments_lexer": "ipython3",
   "version": "3.9.13"
  },
  "latex_envs": {
   "LaTeX_envs_menu_present": true,
   "autoclose": false,
   "autocomplete": true,
   "bibliofile": "biblio.bib",
   "cite_by": "apalike",
   "current_citInitial": 1,
   "eqLabelWithNumbers": true,
   "eqNumInitial": 1,
   "hotkeys": {
    "equation": "Ctrl-E",
    "itemize": "Ctrl-I"
   },
   "labels_anchors": false,
   "latex_user_defs": false,
   "report_style_numbering": false,
   "user_envs_cfg": false
  },
  "toc": {
   "base_numbering": 1,
   "nav_menu": {
    "height": "167px",
    "width": "352px"
   },
   "number_sections": true,
   "sideBar": true,
   "skip_h1_title": false,
   "title_cell": "Table of Contents",
   "title_sidebar": "Contents",
   "toc_cell": false,
   "toc_position": {
    "height": "calc(100% - 180px)",
    "left": "10px",
    "top": "150px",
    "width": "250.82px"
   },
   "toc_section_display": true,
   "toc_window_display": true
  },
  "varInspector": {
   "cols": {
    "lenName": 16,
    "lenType": 16,
    "lenVar": 40
   },
   "kernels_config": {
    "python": {
     "delete_cmd_postfix": "",
     "delete_cmd_prefix": "del ",
     "library": "var_list.py",
     "varRefreshCmd": "print(var_dic_list())"
    },
    "r": {
     "delete_cmd_postfix": ") ",
     "delete_cmd_prefix": "rm(",
     "library": "var_list.r",
     "varRefreshCmd": "cat(var_dic_list()) "
    }
   },
   "types_to_exclude": [
    "module",
    "function",
    "builtin_function_or_method",
    "instance",
    "_Feature"
   ],
   "window_display": false
  }
 },
 "nbformat": 4,
 "nbformat_minor": 2
}
