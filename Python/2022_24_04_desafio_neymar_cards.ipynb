{
 "cells": [
  {
   "cell_type": "markdown",
   "metadata": {},
   "source": [
    "# Requerimentos"
   ]
  },
  {
   "cell_type": "code",
   "execution_count": 1,
   "metadata": {
    "ExecuteTime": {
     "end_time": "2022-04-24T22:13:56.257023Z",
     "start_time": "2022-04-24T22:13:52.331067Z"
    }
   },
   "outputs": [],
   "source": [
    "import pandas as pd \n",
    "import numpy as np\n",
    "import scipy as sp\n",
    "import random \n",
    "import collections\n",
    "\n",
    "import seaborn as sns\n",
    "from matplotlib import pyplot as plt\n"
   ]
  },
  {
   "cell_type": "markdown",
   "metadata": {},
   "source": [
    "# Introdução\n",
    "\n",
    "\n"
   ]
  },
  {
   "cell_type": "markdown",
   "metadata": {},
   "source": [
    "## Enunciado contextualizado\n",
    "\n",
    "Joãozinho ganhou de presente de seu pai um álbum da copa de seu pai com 210 figurinhas, com 20 Alisson, 19 Vini Junior, 18 Casemiro, 17 Coutinho, e assim por diante até 1 Neymar. Joãozinho decide dividir algumas de suas figurinhas com seu melhor amigo Pedrinho, e eles decidem jogar um jogo. Pedrinho iria retirar quantas figurinhas conseguisse de dentro da bolsa da qual Joãozinho guarda suas figurinhas até que o Neymar aparecesse. Pedrinho ficaria com todas as figurinhas exceto a do Neymar (o jogador favorito de Joãozinho). Se **k** for o maior número de figurinhas do mesmo jogador que Pedrinho recebeu. Qual o valor esperado de **k**?\n",
    "\n",
    "Por exemplo, se Pedrinho retirar a seguinte sequência de figurinhas: {Richarlysson, Alisson, Alisson, Richarlysson, Marquinhos, Richarlysson, Marquinhos, Alisson, Neymar}, então Pedrinho receberá 8 figurinhas, e o valor de k será igual à 3.\n",
    "\n",
    "Seja n o número de figurinhas distintas. Considere a figurinha favorita como sendo aquela que possui somente uma unidade, referente ao jogador 1, e para os demais jogadores j = 2,3,...,n, Joãozinho possui j unidades de sua figurinha. Resolva os seguintes problemas para os valores de n. E o total de figurinhas é igual à seguinte fórmula (progressão aritmética):\n",
    "\n",
    "\\[N = n_1 + n_2 + n_3 + ... + n_n = 1 + 2 + 3 + ... + n = \\frac{n}{2}(n+1)\\]\n",
    "\n",
    "* n = 2, N = 3.\n",
    "* n = 3, N = 6\n",
    "* n = 20, N = 210"
   ]
  },
  {
   "cell_type": "markdown",
   "metadata": {},
   "source": [
    "## Enunciado para mentes matemáticas"
   ]
  },
  {
   "cell_type": "code",
   "execution_count": 2,
   "metadata": {
    "ExecuteTime": {
     "end_time": "2022-04-24T22:13:56.309853Z",
     "start_time": "2022-04-24T22:13:56.263133Z"
    }
   },
   "outputs": [],
   "source": [
    "def cria_lista_cards(n_jogador):\n",
    "    \n",
    "    #\n",
    "    lista1 = [f'jogador{i+1}' for i in range(n_jogador)]\n",
    "\n",
    "    #\n",
    "    lista2 = [i+1 for i in range(n_jogador)]\n",
    "    \n",
    "    #\n",
    "    lista3 = []\n",
    "    \n",
    "    #\n",
    "    aux = []\n",
    "    \n",
    "    #\n",
    "    for a in range(len(lista1)):\n",
    "        aux = [lista1[a]] * lista2[a]\n",
    "        n = len(aux)\n",
    "        for b in range(n):\n",
    "            lista3.append(aux[b])\n",
    "            \n",
    "    return lista3\n",
    "\n",
    "\n",
    "def realiza_sorteio(n,lista3,jogador_favorito):\n",
    "    \n",
    "    k = []\n",
    "    cards = []\n",
    "    \n",
    "    for i in range(n):\n",
    "        globals()[f'sorteio{i+1}'] = []\n",
    "        globals()[f'resultado{i+1}'] = []\n",
    "        globals()[f'sorteio{i+1}'] = random.sample(lista3, len(lista3))\n",
    "        globals()[f'sorteio{i+1}'] = globals()[f'sorteio{i+1}'][:globals()[f'sorteio{i+1}'].index(jogador_favorito)]\n",
    "        globals()[f'resultado{i+1}'] = collections.Counter(globals()[f'sorteio{i+1}'])\n",
    "        if globals()[f'resultado{i+1}'] == {}:\n",
    "            k.append(0)\n",
    "            cards.append('')\n",
    "        else:    \n",
    "            k.append(max(globals()[f'resultado{i+1}'].values()))\n",
    "            cards.append(max(globals()[f'resultado{i+1}'], key = globals()[f'resultado{i+1}'].get))\n",
    "            \n",
    "    return k, cards"
   ]
  },
  {
   "cell_type": "markdown",
   "metadata": {},
   "source": [
    "# Pipeline da solução"
   ]
  },
  {
   "cell_type": "markdown",
   "metadata": {},
   "source": [
    "## Gerando a lista de jogadores"
   ]
  },
  {
   "cell_type": "code",
   "execution_count": 4,
   "metadata": {
    "ExecuteTime": {
     "end_time": "2022-04-24T22:14:12.055969Z",
     "start_time": "2022-04-24T22:14:12.028747Z"
    }
   },
   "outputs": [
    {
     "data": {
      "text/plain": [
       "Counter({'jogador1': 1,\n",
       "         'jogador2': 2,\n",
       "         'jogador3': 3,\n",
       "         'jogador4': 4,\n",
       "         'jogador5': 5,\n",
       "         'jogador6': 6,\n",
       "         'jogador7': 7,\n",
       "         'jogador8': 8,\n",
       "         'jogador9': 9,\n",
       "         'jogador10': 10,\n",
       "         'jogador11': 11,\n",
       "         'jogador12': 12,\n",
       "         'jogador13': 13,\n",
       "         'jogador14': 14,\n",
       "         'jogador15': 15,\n",
       "         'jogador16': 16,\n",
       "         'jogador17': 17,\n",
       "         'jogador18': 18,\n",
       "         'jogador19': 19,\n",
       "         'jogador20': 20})"
      ]
     },
     "execution_count": 4,
     "metadata": {},
     "output_type": "execute_result"
    }
   ],
   "source": [
    "#\n",
    "lista3 = cria_lista_cards(n_jogador = 20)\n",
    "\n",
    "#\n",
    "collections.Counter(lista3)"
   ]
  },
  {
   "cell_type": "markdown",
   "metadata": {},
   "source": [
    "## Gerando o sorteio M vezes para gerar a distribuição de k"
   ]
  },
  {
   "cell_type": "code",
   "execution_count": 9,
   "metadata": {
    "ExecuteTime": {
     "end_time": "2022-04-24T22:38:29.889509Z",
     "start_time": "2022-04-24T22:38:27.497322Z"
    }
   },
   "outputs": [
    {
     "data": {
      "text/plain": [
       "11.360066666666667"
      ]
     },
     "execution_count": 9,
     "metadata": {},
     "output_type": "execute_result"
    }
   ],
   "source": [
    "#\n",
    "k,cards = realiza_sorteio(n = 15000, lista3 = lista3, jogador_favorito = 'jogador1')\n",
    "\n",
    "#\n",
    "np.mean(k)"
   ]
  },
  {
   "cell_type": "markdown",
   "metadata": {},
   "source": [
    "## Gráfico da distribuição do vetor k"
   ]
  },
  {
   "cell_type": "code",
   "execution_count": 6,
   "metadata": {
    "ExecuteTime": {
     "end_time": "2022-04-24T22:14:36.226598Z",
     "start_time": "2022-04-24T22:14:35.572653Z"
    }
   },
   "outputs": [
    {
     "data": {
      "text/plain": [
       "<seaborn.axisgrid.FacetGrid at 0x23a5ed81190>"
      ]
     },
     "execution_count": 6,
     "metadata": {},
     "output_type": "execute_result"
    },
    {
     "data": {
      "image/png": "[encoded data removed]",
      "text/plain": [
       "<Figure size 360x360 with 1 Axes>"
      ]
     },
     "metadata": {
      "needs_background": "light"
     },
     "output_type": "display_data"
    }
   ],
   "source": [
    "sns.displot(k)"
   ]
  }
 ],
 "metadata": {
  "hide_input": false,
  "kernelspec": {
   "display_name": "Python 3",
   "language": "python",
   "name": "python3"
  },
  "language_info": {
   "codemirror_mode": {
    "name": "ipython",
    "version": 3
   },
   "file_extension": ".py",
   "mimetype": "text/x-python",
   "name": "python",
   "nbconvert_exporter": "python",
   "pygments_lexer": "ipython3",
   "version": "3.8.3"
  },
  "latex_envs": {
   "LaTeX_envs_menu_present": true,
   "autoclose": false,
   "autocomplete": true,
   "bibliofile": "biblio.bib",
   "cite_by": "apalike",
   "current_citInitial": 1,
   "eqLabelWithNumbers": true,
   "eqNumInitial": 1,
   "hotkeys": {
    "equation": "Ctrl-E",
    "itemize": "Ctrl-I"
   },
   "labels_anchors": false,
   "latex_user_defs": false,
   "report_style_numbering": false,
   "user_envs_cfg": false
  },
  "toc": {
   "base_numbering": 1,
   "nav_menu": {},
   "number_sections": true,
   "sideBar": true,
   "skip_h1_title": false,
   "title_cell": "Table of Contents",
   "title_sidebar": "Contents",
   "toc_cell": false,
   "toc_position": {},
   "toc_section_display": true,
   "toc_window_display": false
  },
  "varInspector": {
   "cols": {
    "lenName": 16,
    "lenType": 16,
    "lenVar": 40
   },
   "kernels_config": {
    "python": {
     "delete_cmd_postfix": "",
     "delete_cmd_prefix": "del ",
     "library": "var_list.py",
     "varRefreshCmd": "print(var_dic_list())"
    },
    "r": {
     "delete_cmd_postfix": ") ",
     "delete_cmd_prefix": "rm(",
     "library": "var_list.r",
     "varRefreshCmd": "cat(var_dic_list()) "
    }
   },
   "types_to_exclude": [
    "module",
    "function",
    "builtin_function_or_method",
    "instance",
    "_Feature"
   ],
   "window_display": false
  }
 },
 "nbformat": 4,
 "nbformat_minor": 4
}
