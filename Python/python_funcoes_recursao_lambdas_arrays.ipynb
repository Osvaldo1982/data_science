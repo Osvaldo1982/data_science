{
 "cells": [
  {
   "cell_type": "markdown",
   "metadata": {},
   "source": [
    "# Instrutor do workshop\n",
    "\n",
    "Osvaldo Luiz dos Santos Pereira\n",
    "\n",
    "\n",
    "## Formação\n",
    "\n",
    "* graduação em bacharelado em física pela Unicamp\n",
    "* mestrado em física pela Unicamp\n",
    "* MBA em big data em analytics pela USP-Esalq (em andamento)\n",
    "* Doutorado em física pela UFRJ (em andamento)\n",
    "\n",
    "\n",
    "## Experiência profissional\n",
    "\n",
    "* Itaú Unibanco: analista de Pesquisa e desenvolvimento (P&D)\n",
    "* Itaú Unibanco: analista de risco de crédito\n",
    "* Kroton: consultor de produção de conteúdo\n",
    "* Kroton: criador de conteúdo (escritor)\n",
    "* Itaguaí Construções Navais: Cientista de Dados sr. (Especialista)\n",
    "* C&T: Especialista senior em ciência de dados\n",
    "* Hospital Sírio Libanês: Consultor senior especialista em ciência de dados\n",
    "* Fundador e CTO da sciencedata.ai\n",
    "* Coordenador de programa trainee Sciencedata.ai\n",
    "* Sua Música: Head of BI\n",
    "* Pesquisador convidado pela UFRJ (Física Teórica)\n",
    "\n",
    "## Áreas de interesse (pesquisa)\n",
    "\n",
    "* Física teórica\n",
    "* computação e informação quântica\n",
    "* machine learning clássico\n",
    "* machine learning quântico\n",
    "* deep learning\n",
    "* deep learning geométrico\n",
    "* Econofísica\n",
    "\n",
    "## Produção acadêmica\n",
    "\n",
    "* Livro de eletromagnetismo clássico (Editora Kroton)\n",
    "* Livro de mecânica geral (Editora Kroton)\n",
    "* Artigos técnicos em revistas indexadas em inglês\n",
    "* Artigos não técnicos em revistas digitais\n",
    "* Lecture notes (Português e inglês) em diversos assuntos técnicos\n",
    "\n",
    "\n",
    "## Consultorias em empresas\n",
    "\n",
    "* Samsung\n",
    "* Olist\n",
    "* Sky\n",
    "* Itaú-Unibanco\n",
    "* CeA\n",
    "* Cimed\n",
    "* IBM\n",
    "* Citibank\n",
    "* Nestlé\n",
    "* Bradesco\n",
    "* Centauro\n",
    "* FGC\n",
    "* FIESC\n",
    "* Equatorial\n",
    "* Green Yellow\n",
    "* Lendico\n",
    "* Aerocivil\n",
    "* Reciclare\n",
    "* Pipefy\n",
    "* Corteva (Grupo Dupont)\n",
    "* Evolve\n",
    "* Sysmap\n",
    "* Digisystem\n",
    "* TechforIT\n",
    "* Alstra\n",
    "* Atos\n",
    "* ImperioIT\n",
    "* Cognitivo\n",
    "* Wayon\n",
    "* KLB\n",
    "* Cognitivo"
   ]
  },
  {
   "cell_type": "markdown",
   "metadata": {},
   "source": [
    "# Resumo da aula\n",
    "\n",
    "* Funções\n",
    "* Números complexos\n",
    "* Recursão\n",
    "* Lambdas\n",
    "* arrays\n",
    "\n",
    "# Funções\n",
    "\n",
    "## Sintaxe e exemplos simples"
   ]
  },
  {
   "cell_type": "code",
   "execution_count": null,
   "metadata": {
    "ExecuteTime": {
     "end_time": "2022-03-09T12:33:18.467236Z",
     "start_time": "2022-03-09T12:33:18.457262Z"
    }
   },
   "outputs": [],
   "source": [
    "print('Hello World!')"
   ]
  },
  {
   "cell_type": "code",
   "execution_count": null,
   "metadata": {
    "ExecuteTime": {
     "end_time": "2022-03-09T12:33:26.875845Z",
     "start_time": "2022-03-09T12:33:26.827974Z"
    }
   },
   "outputs": [],
   "source": [
    "3+5"
   ]
  },
  {
   "cell_type": "code",
   "execution_count": null,
   "metadata": {
    "ExecuteTime": {
     "end_time": "2022-03-09T12:35:23.693087Z",
     "start_time": "2022-03-09T12:35:23.681117Z"
    }
   },
   "outputs": [],
   "source": [
    "def hello_world():\n",
    "    print('Hello World!')"
   ]
  },
  {
   "cell_type": "code",
   "execution_count": null,
   "metadata": {
    "ExecuteTime": {
     "end_time": "2022-03-09T12:35:24.715747Z",
     "start_time": "2022-03-09T12:35:24.694801Z"
    }
   },
   "outputs": [],
   "source": [
    "hello_world()"
   ]
  },
  {
   "cell_type": "code",
   "execution_count": null,
   "metadata": {
    "ExecuteTime": {
     "end_time": "2022-03-09T12:35:42.333796Z",
     "start_time": "2022-03-09T12:35:42.315878Z"
    }
   },
   "outputs": [],
   "source": [
    "def x_ao_quadrado(x):\n",
    "    return x * x"
   ]
  },
  {
   "cell_type": "code",
   "execution_count": null,
   "metadata": {
    "ExecuteTime": {
     "end_time": "2022-03-09T12:35:46.444756Z",
     "start_time": "2022-03-09T12:35:46.426802Z"
    }
   },
   "outputs": [],
   "source": [
    "x_ao_quadrado(2)"
   ]
  },
  {
   "cell_type": "code",
   "execution_count": null,
   "metadata": {
    "ExecuteTime": {
     "end_time": "2022-03-09T12:35:55.170499Z",
     "start_time": "2022-03-09T12:35:55.159526Z"
    }
   },
   "outputs": [],
   "source": [
    "x_ao_quadrado(3)"
   ]
  },
  {
   "cell_type": "code",
   "execution_count": null,
   "metadata": {
    "ExecuteTime": {
     "end_time": "2022-03-09T12:36:23.055730Z",
     "start_time": "2022-03-09T12:36:23.043789Z"
    }
   },
   "outputs": [],
   "source": [
    "def f(x):\n",
    "    return x**3 + x**2"
   ]
  },
  {
   "cell_type": "code",
   "execution_count": null,
   "metadata": {
    "ExecuteTime": {
     "end_time": "2022-03-09T12:36:33.255292Z",
     "start_time": "2022-03-09T12:36:33.235308Z"
    }
   },
   "outputs": [],
   "source": [
    "f(2)"
   ]
  },
  {
   "cell_type": "code",
   "execution_count": null,
   "metadata": {
    "ExecuteTime": {
     "end_time": "2022-03-09T12:36:45.789844Z",
     "start_time": "2022-03-09T12:36:45.772890Z"
    }
   },
   "outputs": [],
   "source": [
    "2**3 + 2**2"
   ]
  },
  {
   "cell_type": "code",
   "execution_count": null,
   "metadata": {
    "ExecuteTime": {
     "end_time": "2022-03-09T12:37:39.764860Z",
     "start_time": "2022-03-09T12:37:39.749906Z"
    }
   },
   "outputs": [],
   "source": [
    "def func(x, y, z):\n",
    "    print('x: ', x)\n",
    "    print('y: ', y)\n",
    "    print('z: ', z)\n",
    "\n",
    "    return (x * y)**z"
   ]
  },
  {
   "cell_type": "code",
   "execution_count": null,
   "metadata": {
    "ExecuteTime": {
     "end_time": "2022-03-09T12:37:43.270505Z",
     "start_time": "2022-03-09T12:37:43.258569Z"
    }
   },
   "outputs": [],
   "source": [
    "func(1, 3, 4)"
   ]
  },
  {
   "cell_type": "code",
   "execution_count": null,
   "metadata": {
    "ExecuteTime": {
     "end_time": "2022-03-09T12:38:32.212261Z",
     "start_time": "2022-03-09T12:38:32.186298Z"
    }
   },
   "outputs": [],
   "source": [
    "func(x = 1, y = 3, z = 0)"
   ]
  },
  {
   "cell_type": "code",
   "execution_count": null,
   "metadata": {
    "ExecuteTime": {
     "end_time": "2022-03-09T12:39:44.782635Z",
     "start_time": "2022-03-09T12:39:44.772661Z"
    }
   },
   "outputs": [],
   "source": [
    "import numpy as np\n",
    "\n",
    "def raiz(a):\n",
    "    if a < 0:\n",
    "        return 'raíz complexa'\n",
    "    else:\n",
    "        return np.sqrt(a)\n",
    "\n",
    "raiz(-4)"
   ]
  },
  {
   "cell_type": "code",
   "execution_count": null,
   "metadata": {
    "ExecuteTime": {
     "end_time": "2022-03-09T12:42:47.359388Z",
     "start_time": "2022-03-09T12:42:47.345407Z"
    }
   },
   "outputs": [],
   "source": [
    "def sucessor(n):\n",
    "    n = n + 1\n",
    "    print(n)\n",
    "\n",
    "sucessor(5)"
   ]
  },
  {
   "cell_type": "code",
   "execution_count": null,
   "metadata": {
    "ExecuteTime": {
     "end_time": "2022-03-09T12:42:59.993454Z",
     "start_time": "2022-03-09T12:42:59.979492Z"
    }
   },
   "outputs": [],
   "source": [
    "sucessor(6)"
   ]
  },
  {
   "cell_type": "code",
   "execution_count": null,
   "metadata": {
    "ExecuteTime": {
     "end_time": "2022-03-09T12:44:09.411302Z",
     "start_time": "2022-03-09T12:44:09.401329Z"
    }
   },
   "outputs": [],
   "source": [
    "def sucessork(n,k):\n",
    "    n = n + k\n",
    "    print(n)\n",
    "    \n",
    "sucessork(5,2)"
   ]
  },
  {
   "cell_type": "code",
   "execution_count": null,
   "metadata": {
    "ExecuteTime": {
     "end_time": "2022-03-09T12:44:54.891067Z",
     "start_time": "2022-03-09T12:44:54.874106Z"
    }
   },
   "outputs": [],
   "source": [
    "4%2"
   ]
  },
  {
   "cell_type": "code",
   "execution_count": null,
   "metadata": {
    "ExecuteTime": {
     "end_time": "2022-03-09T12:45:16.704917Z",
     "start_time": "2022-03-09T12:45:16.695908Z"
    }
   },
   "outputs": [],
   "source": [
    "5%2"
   ]
  },
  {
   "cell_type": "code",
   "execution_count": null,
   "metadata": {
    "ExecuteTime": {
     "end_time": "2022-03-09T12:45:56.686973Z",
     "start_time": "2022-03-09T12:45:56.678993Z"
    }
   },
   "outputs": [],
   "source": [
    "6%2"
   ]
  },
  {
   "cell_type": "code",
   "execution_count": null,
   "metadata": {
    "ExecuteTime": {
     "end_time": "2022-03-09T12:46:30.291842Z",
     "start_time": "2022-03-09T12:46:30.269900Z"
    }
   },
   "outputs": [],
   "source": [
    "def par_ou_nao(valor):\n",
    "    if (type(valor) != int):\n",
    "        print('Não é inteiro:', valor)\n",
    "    elif (valor % 2 == 0):\n",
    "        print('É um número par: ', valor)\n",
    "    elif (valor % 2 == 1):\n",
    "        print('É um número ímpar: ', valor)\n",
    "\n",
    "par_ou_nao(valor = 5)"
   ]
  },
  {
   "cell_type": "code",
   "execution_count": null,
   "metadata": {
    "ExecuteTime": {
     "end_time": "2022-03-09T12:47:00.464910Z",
     "start_time": "2022-03-09T12:47:00.452944Z"
    }
   },
   "outputs": [],
   "source": [
    "211%2"
   ]
  },
  {
   "cell_type": "markdown",
   "metadata": {},
   "source": [
    "## Calcula raízes do segundo grau\n",
    "\n",
    "Neste exemplo vamos criar um solucionador de equações do segundo grau\n",
    "\n",
    "\\begin{equation}\n",
    "\\nonumber ax^2 + bx + c = 0\n",
    "\\end{equation}\n",
    "\n",
    "Lembrando que devemos ter a condição de que $a \\neq 0$ para que a equação seja do\n",
    "segundo grau. A solução para esta equação é dada por\n",
    "\n",
    "\\begin{equation}\n",
    "\\nonumber x = \\frac{-b \\pm \\sqrt{b^2 - 4ac}}{2a}\n",
    "\\end{equation}\n",
    "\n",
    "Lembrando que para que as raízes sejam reais é necessário que o termo dentro da raiz quadrada seja sempre maior ou igual a zero. Este termo dentro da raíz quadrada é conhecido por discriminante e representado pela letra grega maiúscula delta $\\Delta$.\n",
    "\n",
    "\\begin{equation}\n",
    "\\nonumber \\Delta = b^2 - 4ac\n",
    "\\end{equation}\n",
    "\n",
    "O x do vértice $(x_V)$ é dado pela relação\n",
    "\n",
    "\\[x_V = - \\frac{b}{2a}\\]\n",
    "\n",
    "O y do vértice é dado pelo valor da função quadrática calculada no valor do x do vértice, ou seja\n",
    "\n",
    "\\[y_V = f(x_V) = ax_V^2 + bx_V + c\\]"
   ]
  },
  {
   "cell_type": "code",
   "execution_count": null,
   "metadata": {
    "ExecuteTime": {
     "end_time": "2022-03-09T12:52:56.521009Z",
     "start_time": "2022-03-09T12:52:53.589132Z"
    }
   },
   "outputs": [],
   "source": [
    "from sympy import init_printing\n",
    "from sympy import *\n",
    "import sympy as sym\n",
    "import numpy as np\n",
    "import pandas as pd\n",
    "\n",
    "from sympy.abc import a, e, k, n, r, t, x, y, z, T, Z\n",
    "from sympy.abc import beta, omega, tau\n",
    "\n",
    "init_printing()\n",
    "sym.init_printing() "
   ]
  },
  {
   "cell_type": "code",
   "execution_count": null,
   "metadata": {
    "ExecuteTime": {
     "end_time": "2022-03-09T12:53:19.075426Z",
     "start_time": "2022-03-09T12:53:19.057473Z"
    }
   },
   "outputs": [],
   "source": [
    "x = sym.Symbol('x')\n",
    "y = sym.Symbol('y')"
   ]
  },
  {
   "cell_type": "code",
   "execution_count": null,
   "metadata": {
    "ExecuteTime": {
     "end_time": "2022-03-09T12:54:22.122577Z",
     "start_time": "2022-03-09T12:54:21.879638Z"
    }
   },
   "outputs": [],
   "source": [
    "(a+b)**2"
   ]
  },
  {
   "cell_type": "code",
   "execution_count": null,
   "metadata": {
    "ExecuteTime": {
     "end_time": "2022-03-09T12:54:49.399051Z",
     "start_time": "2022-03-09T12:54:47.028307Z"
    }
   },
   "outputs": [],
   "source": [
    "a,b = 1,2\n",
    "\n",
    "(a+b)**2"
   ]
  },
  {
   "cell_type": "code",
   "execution_count": null,
   "metadata": {
    "ExecuteTime": {
     "end_time": "2022-03-09T12:55:02.047750Z",
     "start_time": "2022-03-09T12:55:00.418395Z"
    }
   },
   "outputs": [],
   "source": [
    "sym.expand((x + y)**2)"
   ]
  },
  {
   "cell_type": "code",
   "execution_count": null,
   "metadata": {
    "ExecuteTime": {
     "end_time": "2022-03-09T12:56:10.649373Z",
     "start_time": "2022-03-09T12:56:09.175247Z"
    }
   },
   "outputs": [],
   "source": [
    "(x + x * y) / x"
   ]
  },
  {
   "cell_type": "code",
   "execution_count": null,
   "metadata": {
    "ExecuteTime": {
     "end_time": "2022-03-09T12:56:26.333620Z",
     "start_time": "2022-03-09T12:56:24.647924Z"
    }
   },
   "outputs": [],
   "source": [
    "sym.simplify((x + x * y) / x)"
   ]
  },
  {
   "cell_type": "code",
   "execution_count": null,
   "metadata": {
    "ExecuteTime": {
     "end_time": "2022-03-09T12:57:11.173891Z",
     "start_time": "2022-03-09T12:57:09.573869Z"
    }
   },
   "outputs": [],
   "source": [
    "x + x * y"
   ]
  },
  {
   "cell_type": "code",
   "execution_count": null,
   "metadata": {
    "ExecuteTime": {
     "end_time": "2022-03-09T12:57:00.208073Z",
     "start_time": "2022-03-09T12:56:58.680153Z"
    }
   },
   "outputs": [],
   "source": [
    "sym.factor((x + x * y))"
   ]
  },
  {
   "cell_type": "code",
   "execution_count": null,
   "metadata": {
    "ExecuteTime": {
     "end_time": "2022-03-09T12:58:11.333886Z",
     "start_time": "2022-03-09T12:58:09.844497Z"
    }
   },
   "outputs": [],
   "source": [
    "eq1 = x**2 + 2*x + 1\n",
    "\n",
    "eq1"
   ]
  },
  {
   "cell_type": "code",
   "execution_count": null,
   "metadata": {
    "ExecuteTime": {
     "end_time": "2022-03-09T12:58:19.694997Z",
     "start_time": "2022-03-09T12:58:18.028407Z"
    }
   },
   "outputs": [],
   "source": [
    "sym.factor(eq1)"
   ]
  },
  {
   "cell_type": "markdown",
   "metadata": {},
   "source": [
    "## Definir uma função para cálculo de equação do segundo grau"
   ]
  },
  {
   "cell_type": "code",
   "execution_count": null,
   "metadata": {
    "ExecuteTime": {
     "end_time": "2022-03-09T13:00:39.091971Z",
     "start_time": "2022-03-09T13:00:39.085018Z"
    }
   },
   "outputs": [],
   "source": [
    "x = sym.Symbol('x')\n",
    "y = sym.Symbol('y')\n",
    "a = sym.Symbol('a')\n",
    "b = sym.Symbol('b')\n",
    "c = sym.Symbol('c')"
   ]
  },
  {
   "cell_type": "code",
   "execution_count": null,
   "metadata": {
    "ExecuteTime": {
     "end_time": "2022-03-09T13:00:56.875488Z",
     "start_time": "2022-03-09T13:00:55.396177Z"
    }
   },
   "outputs": [],
   "source": [
    "a*x**2 + b*x + c*x**0"
   ]
  },
  {
   "cell_type": "code",
   "execution_count": null,
   "metadata": {
    "ExecuteTime": {
     "end_time": "2022-03-09T13:01:51.573638Z",
     "start_time": "2022-03-09T13:01:50.075294Z"
    }
   },
   "outputs": [],
   "source": [
    "discriminante = b**2 - 4*a*c\n",
    "\n",
    "discriminante"
   ]
  },
  {
   "cell_type": "code",
   "execution_count": 2,
   "metadata": {
    "ExecuteTime": {
     "end_time": "2022-03-09T13:03:05.783483Z",
     "start_time": "2022-03-09T13:03:05.758583Z"
    }
   },
   "outputs": [
    {
     "data": {
      "text/plain": [
       "-8"
      ]
     },
     "execution_count": 2,
     "metadata": {},
     "output_type": "execute_result"
    }
   ],
   "source": [
    "a,b,c = 1,2,3\n",
    "\n",
    "discriminante = b**2 - 4*a*c\n",
    "\n",
    "discriminante"
   ]
  },
  {
   "cell_type": "code",
   "execution_count": 3,
   "metadata": {
    "ExecuteTime": {
     "end_time": "2022-03-09T13:04:09.362989Z",
     "start_time": "2022-03-09T13:04:09.343008Z"
    }
   },
   "outputs": [
    {
     "data": {
      "text/plain": [
       "-8"
      ]
     },
     "execution_count": 3,
     "metadata": {},
     "output_type": "execute_result"
    }
   ],
   "source": [
    "def discriminante(a,b,c):\n",
    "    disc = b**2 - 4*a*c\n",
    "    return disc\n",
    "\n",
    "discriminante(1,2,3)"
   ]
  },
  {
   "cell_type": "code",
   "execution_count": 6,
   "metadata": {
    "ExecuteTime": {
     "end_time": "2022-03-09T13:07:35.921940Z",
     "start_time": "2022-03-09T13:07:35.905012Z"
    }
   },
   "outputs": [
    {
     "data": {
      "text/plain": [
       "2.0"
      ]
     },
     "execution_count": 6,
     "metadata": {},
     "output_type": "execute_result"
    }
   ],
   "source": [
    "np.sqrt(4)"
   ]
  },
  {
   "cell_type": "code",
   "execution_count": 7,
   "metadata": {
    "ExecuteTime": {
     "end_time": "2022-03-09T13:07:44.925427Z",
     "start_time": "2022-03-09T13:07:44.914457Z"
    }
   },
   "outputs": [
    {
     "data": {
      "text/plain": [
       "3.0"
      ]
     },
     "execution_count": 7,
     "metadata": {},
     "output_type": "execute_result"
    }
   ],
   "source": [
    "np.sqrt(9)"
   ]
  },
  {
   "cell_type": "code",
   "execution_count": 8,
   "metadata": {
    "ExecuteTime": {
     "end_time": "2022-03-09T13:07:51.453793Z",
     "start_time": "2022-03-09T13:07:51.343066Z"
    }
   },
   "outputs": [
    {
     "name": "stderr",
     "output_type": "stream",
     "text": [
      "<ipython-input-8-7d3c0d738928>:1: RuntimeWarning: invalid value encountered in sqrt\n",
      "  np.sqrt(-4)\n"
     ]
    },
    {
     "data": {
      "text/plain": [
       "nan"
      ]
     },
     "execution_count": 8,
     "metadata": {},
     "output_type": "execute_result"
    }
   ],
   "source": [
    "np.sqrt(-4)"
   ]
  },
  {
   "cell_type": "code",
   "execution_count": 9,
   "metadata": {
    "ExecuteTime": {
     "end_time": "2022-03-09T13:08:11.866574Z",
     "start_time": "2022-03-09T13:08:11.853609Z"
    }
   },
   "outputs": [
    {
     "data": {
      "text/plain": [
       "(1.2246467991473532e-16+2j)"
      ]
     },
     "execution_count": 9,
     "metadata": {},
     "output_type": "execute_result"
    }
   ],
   "source": [
    "pow(-4,1/2)"
   ]
  },
  {
   "cell_type": "code",
   "execution_count": 10,
   "metadata": {
    "ExecuteTime": {
     "end_time": "2022-03-09T13:09:36.875994Z",
     "start_time": "2022-03-09T13:09:36.853035Z"
    }
   },
   "outputs": [
    {
     "ename": "NameError",
     "evalue": "name 'j' is not defined",
     "output_type": "error",
     "traceback": [
      "\u001b[1;31m---------------------------------------------------------------------------\u001b[0m",
      "\u001b[1;31mNameError\u001b[0m                                 Traceback (most recent call last)",
      "\u001b[1;32m<ipython-input-10-3eedd8854d1e>\u001b[0m in \u001b[0;36m<module>\u001b[1;34m\u001b[0m\n\u001b[1;32m----> 1\u001b[1;33m \u001b[0mj\u001b[0m\u001b[1;33m\u001b[0m\u001b[1;33m\u001b[0m\u001b[0m\n\u001b[0m",
      "\u001b[1;31mNameError\u001b[0m: name 'j' is not defined"
     ]
    }
   ],
   "source": [
    "j"
   ]
  },
  {
   "cell_type": "code",
   "execution_count": null,
   "metadata": {},
   "outputs": [],
   "source": [
    "# a = parte real do número complexo\n",
    "# b =  parte imaginária do número complexo\n",
    "# j = raiz imaginária de -1\n",
    "z = a + bj"
   ]
  },
  {
   "cell_type": "code",
   "execution_count": 12,
   "metadata": {
    "ExecuteTime": {
     "end_time": "2022-03-09T13:10:18.222311Z",
     "start_time": "2022-03-09T13:10:18.205357Z"
    }
   },
   "outputs": [
    {
     "data": {
      "text/plain": [
       "(1+1j)"
      ]
     },
     "execution_count": 12,
     "metadata": {},
     "output_type": "execute_result"
    }
   ],
   "source": [
    "z = 1 + 1j\n",
    "z"
   ]
  },
  {
   "cell_type": "code",
   "execution_count": 5,
   "metadata": {
    "ExecuteTime": {
     "end_time": "2022-03-09T13:07:11.177794Z",
     "start_time": "2022-03-09T13:07:11.154856Z"
    }
   },
   "outputs": [
    {
     "name": "stdout",
     "output_type": "stream",
     "text": [
      "x1 = nan\n",
      "x2 = nan\n"
     ]
    },
    {
     "name": "stderr",
     "output_type": "stream",
     "text": [
      "<ipython-input-5-f6f6b377d580>:5: RuntimeWarning: invalid value encountered in sqrt\n",
      "  x1 = (-b + np.sqrt(disc))/(2*a)\n",
      "<ipython-input-5-f6f6b377d580>:6: RuntimeWarning: invalid value encountered in sqrt\n",
      "  x2 = (-b - np.sqrt(disc))/(2*a)\n"
     ]
    }
   ],
   "source": [
    "import numpy as np\n",
    "\n",
    "def equacao_segundo(a,b,c):\n",
    "    disc = b**2 - 4*a*c\n",
    "    x1 = (-b + np.sqrt(disc))/(2*a)\n",
    "    x2 = (-b - np.sqrt(disc))/(2*a)\n",
    "    \n",
    "    print('x1 =', x1)\n",
    "    print('x2 =', x2)\n",
    "    \n",
    "equacao_segundo(1,2,3)  "
   ]
  },
  {
   "cell_type": "code",
   "execution_count": 14,
   "metadata": {
    "ExecuteTime": {
     "end_time": "2022-03-09T13:11:26.856427Z",
     "start_time": "2022-03-09T13:11:26.838443Z"
    }
   },
   "outputs": [
    {
     "name": "stdout",
     "output_type": "stream",
     "text": [
      "x1 = (-0.9999999999999999+1.4142135623730951j)\n",
      "x2 = (-1-1.4142135623730951j)\n"
     ]
    }
   ],
   "source": [
    "def equacao_segundo(a,b,c):\n",
    "    disc = b**2 - 4*a*c\n",
    "    x1 = (-b + pow(disc,1/2))/(2*a)\n",
    "    x2 = (-b - pow(disc,1/2))/(2*a)\n",
    "    \n",
    "    print('x1 =', x1)\n",
    "    print('x2 =', x2)\n",
    "    \n",
    "equacao_segundo(1,2,3)  "
   ]
  },
  {
   "cell_type": "code",
   "execution_count": 15,
   "metadata": {
    "ExecuteTime": {
     "end_time": "2022-03-09T13:14:06.644830Z",
     "start_time": "2022-03-09T13:14:06.633868Z"
    }
   },
   "outputs": [],
   "source": [
    "def eq_solver(a,b,c):\n",
    "    # \n",
    "    discriminante = b**2 - 4*a*c\n",
    "    if discriminante < 0: \n",
    "        return 'sem raízes reais'\n",
    "    else:\n",
    "        print('Discriminante = ', discriminante)\n",
    "        # \n",
    "        x1 = (-b + np.sqrt(discriminante))/(2*a)\n",
    "        x2 = (-b - np.sqrt(discriminante))/(2*a)\n",
    "\n",
    "        print('x1 =', x1)\n",
    "        print('x2 =', x2)\n",
    "\n",
    "        return x1, x2"
   ]
  },
  {
   "cell_type": "code",
   "execution_count": 16,
   "metadata": {
    "ExecuteTime": {
     "end_time": "2022-03-09T13:14:20.412819Z",
     "start_time": "2022-03-09T13:14:20.395873Z"
    }
   },
   "outputs": [
    {
     "name": "stdout",
     "output_type": "stream",
     "text": [
      "Discriminante =  0\n",
      "x1 = -1.0\n",
      "x2 = -1.0\n"
     ]
    },
    {
     "data": {
      "text/plain": [
       "(-1.0, -1.0)"
      ]
     },
     "execution_count": 16,
     "metadata": {},
     "output_type": "execute_result"
    }
   ],
   "source": [
    "eq_solver(a = 1,b = 2,c = 1)"
   ]
  },
  {
   "cell_type": "code",
   "execution_count": 17,
   "metadata": {
    "ExecuteTime": {
     "end_time": "2022-03-09T13:14:38.642002Z",
     "start_time": "2022-03-09T13:14:38.626049Z"
    }
   },
   "outputs": [
    {
     "data": {
      "text/plain": [
       "'sem raízes reais'"
      ]
     },
     "execution_count": 17,
     "metadata": {},
     "output_type": "execute_result"
    }
   ],
   "source": [
    "eq_solver(a = 1,b = 2,c = 3)"
   ]
  },
  {
   "cell_type": "markdown",
   "metadata": {},
   "source": [
    "# Números complexos"
   ]
  },
  {
   "cell_type": "code",
   "execution_count": 18,
   "metadata": {
    "ExecuteTime": {
     "end_time": "2022-03-09T13:21:47.809678Z",
     "start_time": "2022-03-09T13:21:47.797675Z"
    }
   },
   "outputs": [],
   "source": [
    "import cmath, math"
   ]
  },
  {
   "cell_type": "code",
   "execution_count": 19,
   "metadata": {
    "ExecuteTime": {
     "end_time": "2022-03-09T13:22:08.017225Z",
     "start_time": "2022-03-09T13:22:07.999265Z"
    }
   },
   "outputs": [
    {
     "data": {
      "text/plain": [
       "(1+1j)"
      ]
     },
     "execution_count": 19,
     "metadata": {},
     "output_type": "execute_result"
    }
   ],
   "source": [
    "z = 1 + 1j\n",
    "\n",
    "z"
   ]
  },
  {
   "cell_type": "code",
   "execution_count": 20,
   "metadata": {
    "ExecuteTime": {
     "end_time": "2022-03-09T13:22:14.509865Z",
     "start_time": "2022-03-09T13:22:14.500920Z"
    }
   },
   "outputs": [
    {
     "data": {
      "text/plain": [
       "(2+3j)"
      ]
     },
     "execution_count": 20,
     "metadata": {},
     "output_type": "execute_result"
    }
   ],
   "source": [
    "z = 2 + 3j\n",
    "z"
   ]
  },
  {
   "cell_type": "code",
   "execution_count": 21,
   "metadata": {
    "ExecuteTime": {
     "end_time": "2022-03-09T13:22:30.271343Z",
     "start_time": "2022-03-09T13:22:30.256383Z"
    }
   },
   "outputs": [
    {
     "data": {
      "text/plain": [
       "(2+3j)"
      ]
     },
     "execution_count": 21,
     "metadata": {},
     "output_type": "execute_result"
    }
   ],
   "source": [
    "z = complex(2,3)\n",
    "z"
   ]
  },
  {
   "cell_type": "code",
   "execution_count": 22,
   "metadata": {
    "ExecuteTime": {
     "end_time": "2022-03-09T13:22:42.724925Z",
     "start_time": "2022-03-09T13:22:42.711993Z"
    }
   },
   "outputs": [
    {
     "data": {
      "text/plain": [
       "(1.6741492280355401+0.8959774761298381j)"
      ]
     },
     "execution_count": 22,
     "metadata": {},
     "output_type": "execute_result"
    }
   ],
   "source": [
    "np.sqrt(z)"
   ]
  },
  {
   "cell_type": "code",
   "execution_count": 23,
   "metadata": {
    "ExecuteTime": {
     "end_time": "2022-03-09T13:23:04.661483Z",
     "start_time": "2022-03-09T13:23:04.647520Z"
    }
   },
   "outputs": [
    {
     "data": {
      "text/plain": [
       "(2+3j)"
      ]
     },
     "execution_count": 23,
     "metadata": {},
     "output_type": "execute_result"
    }
   ],
   "source": [
    "z"
   ]
  },
  {
   "cell_type": "code",
   "execution_count": 24,
   "metadata": {
    "ExecuteTime": {
     "end_time": "2022-03-09T13:23:19.721551Z",
     "start_time": "2022-03-09T13:23:19.712574Z"
    }
   },
   "outputs": [
    {
     "data": {
      "text/plain": [
       "4"
      ]
     },
     "execution_count": 24,
     "metadata": {},
     "output_type": "execute_result"
    }
   ],
   "source": [
    "abs(-4)"
   ]
  },
  {
   "cell_type": "code",
   "execution_count": 25,
   "metadata": {
    "ExecuteTime": {
     "end_time": "2022-03-09T13:23:35.448737Z",
     "start_time": "2022-03-09T13:23:35.425809Z"
    }
   },
   "outputs": [
    {
     "data": {
      "text/plain": [
       "3.605551275463989"
      ]
     },
     "execution_count": 25,
     "metadata": {},
     "output_type": "execute_result"
    }
   ],
   "source": [
    "abs(z)"
   ]
  },
  {
   "cell_type": "code",
   "execution_count": 26,
   "metadata": {
    "ExecuteTime": {
     "end_time": "2022-03-09T13:24:07.470271Z",
     "start_time": "2022-03-09T13:24:07.449312Z"
    }
   },
   "outputs": [
    {
     "data": {
      "text/plain": [
       "3.605551275463989"
      ]
     },
     "execution_count": 26,
     "metadata": {},
     "output_type": "execute_result"
    }
   ],
   "source": [
    "np.sqrt(2**2 + 3**2)"
   ]
  },
  {
   "cell_type": "code",
   "execution_count": 27,
   "metadata": {
    "ExecuteTime": {
     "end_time": "2022-03-09T13:24:25.703686Z",
     "start_time": "2022-03-09T13:24:25.685734Z"
    }
   },
   "outputs": [
    {
     "data": {
      "text/plain": [
       "2.0"
      ]
     },
     "execution_count": 27,
     "metadata": {},
     "output_type": "execute_result"
    }
   ],
   "source": [
    "z.real"
   ]
  },
  {
   "cell_type": "code",
   "execution_count": 28,
   "metadata": {
    "ExecuteTime": {
     "end_time": "2022-03-09T13:24:29.070129Z",
     "start_time": "2022-03-09T13:24:29.057167Z"
    }
   },
   "outputs": [
    {
     "data": {
      "text/plain": [
       "3.0"
      ]
     },
     "execution_count": 28,
     "metadata": {},
     "output_type": "execute_result"
    }
   ],
   "source": [
    "z.imag"
   ]
  },
  {
   "cell_type": "code",
   "execution_count": 29,
   "metadata": {
    "ExecuteTime": {
     "end_time": "2022-03-09T13:24:46.216367Z",
     "start_time": "2022-03-09T13:24:46.208423Z"
    }
   },
   "outputs": [
    {
     "data": {
      "text/plain": [
       "(2+3j)"
      ]
     },
     "execution_count": 29,
     "metadata": {},
     "output_type": "execute_result"
    }
   ],
   "source": [
    "z"
   ]
  },
  {
   "cell_type": "code",
   "execution_count": 30,
   "metadata": {
    "ExecuteTime": {
     "end_time": "2022-03-09T13:24:50.364970Z",
     "start_time": "2022-03-09T13:24:50.352039Z"
    }
   },
   "outputs": [
    {
     "data": {
      "text/plain": [
       "(2-3j)"
      ]
     },
     "execution_count": 30,
     "metadata": {},
     "output_type": "execute_result"
    }
   ],
   "source": [
    "z.conjugate()"
   ]
  },
  {
   "cell_type": "code",
   "execution_count": 31,
   "metadata": {
    "ExecuteTime": {
     "end_time": "2022-03-09T13:25:04.254181Z",
     "start_time": "2022-03-09T13:25:04.233238Z"
    }
   },
   "outputs": [
    {
     "data": {
      "text/plain": [
       "(1-5j)"
      ]
     },
     "execution_count": 31,
     "metadata": {},
     "output_type": "execute_result"
    }
   ],
   "source": [
    "z = 1 - 5j\n",
    "z"
   ]
  },
  {
   "cell_type": "code",
   "execution_count": 32,
   "metadata": {
    "ExecuteTime": {
     "end_time": "2022-03-09T13:25:12.214704Z",
     "start_time": "2022-03-09T13:25:12.205731Z"
    }
   },
   "outputs": [
    {
     "data": {
      "text/plain": [
       "(1+5j)"
      ]
     },
     "execution_count": 32,
     "metadata": {},
     "output_type": "execute_result"
    }
   ],
   "source": [
    "z.conjugate()"
   ]
  },
  {
   "cell_type": "code",
   "execution_count": 33,
   "metadata": {
    "ExecuteTime": {
     "end_time": "2022-03-09T13:25:20.773080Z",
     "start_time": "2022-03-09T13:25:20.763108Z"
    }
   },
   "outputs": [
    {
     "data": {
      "text/plain": [
       "(-24-10j)"
      ]
     },
     "execution_count": 33,
     "metadata": {},
     "output_type": "execute_result"
    }
   ],
   "source": [
    "pow(z,2)"
   ]
  },
  {
   "cell_type": "code",
   "execution_count": 34,
   "metadata": {
    "ExecuteTime": {
     "end_time": "2022-03-09T13:25:34.956067Z",
     "start_time": "2022-03-09T13:25:34.937121Z"
    }
   },
   "outputs": [
    {
     "data": {
      "text/plain": [
       "16"
      ]
     },
     "execution_count": 34,
     "metadata": {},
     "output_type": "execute_result"
    }
   ],
   "source": [
    "pow(4,2)"
   ]
  },
  {
   "cell_type": "code",
   "execution_count": null,
   "metadata": {},
   "outputs": [],
   "source": [
    "z = a + bj\n",
    "z**2 = ?\n",
    "\n",
    "(a + bj)**2 = a**2 + 2 a bj + (bj)**2 \n",
    "= a**2 + 2 a bj + b**2 j**2\n",
    "= a**2 + 2 a bj + b**2 (-1)"
   ]
  },
  {
   "cell_type": "code",
   "execution_count": 35,
   "metadata": {
    "ExecuteTime": {
     "end_time": "2022-03-09T13:27:09.971599Z",
     "start_time": "2022-03-09T13:27:09.952651Z"
    }
   },
   "outputs": [
    {
     "data": {
      "text/plain": [
       "(1+1j)"
      ]
     },
     "execution_count": 35,
     "metadata": {},
     "output_type": "execute_result"
    }
   ],
   "source": [
    "z = 1 + 1j\n",
    "z"
   ]
  },
  {
   "cell_type": "code",
   "execution_count": 36,
   "metadata": {
    "ExecuteTime": {
     "end_time": "2022-03-09T13:27:13.991563Z",
     "start_time": "2022-03-09T13:27:13.974640Z"
    }
   },
   "outputs": [
    {
     "data": {
      "text/plain": [
       "2j"
      ]
     },
     "execution_count": 36,
     "metadata": {},
     "output_type": "execute_result"
    }
   ],
   "source": [
    "pow(z,2)"
   ]
  },
  {
   "cell_type": "code",
   "execution_count": 37,
   "metadata": {
    "ExecuteTime": {
     "end_time": "2022-03-09T13:27:26.254212Z",
     "start_time": "2022-03-09T13:27:26.235260Z"
    }
   },
   "outputs": [
    {
     "data": {
      "text/plain": [
       "2j"
      ]
     },
     "execution_count": 37,
     "metadata": {},
     "output_type": "execute_result"
    }
   ],
   "source": [
    "(1+1j)**2"
   ]
  },
  {
   "cell_type": "code",
   "execution_count": 39,
   "metadata": {
    "ExecuteTime": {
     "end_time": "2022-03-09T13:27:54.354964Z",
     "start_time": "2022-03-09T13:27:54.338010Z"
    }
   },
   "outputs": [
    {
     "data": {
      "text/plain": [
       "2j"
      ]
     },
     "execution_count": 39,
     "metadata": {},
     "output_type": "execute_result"
    }
   ],
   "source": [
    "1**2 + 2*1*1j + (1j)**2"
   ]
  },
  {
   "cell_type": "code",
   "execution_count": 41,
   "metadata": {
    "ExecuteTime": {
     "end_time": "2022-03-09T13:28:10.162831Z",
     "start_time": "2022-03-09T13:28:10.153854Z"
    }
   },
   "outputs": [
    {
     "data": {
      "text/plain": [
       "(1+1j)"
      ]
     },
     "execution_count": 41,
     "metadata": {},
     "output_type": "execute_result"
    }
   ],
   "source": [
    "z"
   ]
  },
  {
   "cell_type": "code",
   "execution_count": 40,
   "metadata": {
    "ExecuteTime": {
     "end_time": "2022-03-09T13:28:04.715652Z",
     "start_time": "2022-03-09T13:28:04.703685Z"
    }
   },
   "outputs": [
    {
     "data": {
      "text/plain": [
       "(1.0986841134678098+0.45508986056222733j)"
      ]
     },
     "execution_count": 40,
     "metadata": {},
     "output_type": "execute_result"
    }
   ],
   "source": [
    "pow(z,1/2)"
   ]
  },
  {
   "cell_type": "code",
   "execution_count": null,
   "metadata": {},
   "outputs": [],
   "source": [
    "j**2 = -1"
   ]
  },
  {
   "cell_type": "code",
   "execution_count": null,
   "metadata": {},
   "outputs": [],
   "source": [
    "0 + 1j"
   ]
  },
  {
   "cell_type": "code",
   "execution_count": 45,
   "metadata": {
    "ExecuteTime": {
     "end_time": "2022-03-09T13:31:30.245075Z",
     "start_time": "2022-03-09T13:31:30.227159Z"
    }
   },
   "outputs": [
    {
     "data": {
      "text/plain": [
       "6.123233995736766e-17"
      ]
     },
     "execution_count": 45,
     "metadata": {},
     "output_type": "execute_result"
    }
   ],
   "source": [
    "6.123233995736766e-17"
   ]
  },
  {
   "cell_type": "code",
   "execution_count": 47,
   "metadata": {
    "ExecuteTime": {
     "end_time": "2022-03-09T13:32:15.166481Z",
     "start_time": "2022-03-09T13:32:15.151515Z"
    }
   },
   "outputs": [
    {
     "data": {
      "text/plain": [
       "False"
      ]
     },
     "execution_count": 47,
     "metadata": {},
     "output_type": "execute_result"
    }
   ],
   "source": [
    "10**(-17) == 0"
   ]
  },
  {
   "cell_type": "code",
   "execution_count": 42,
   "metadata": {
    "ExecuteTime": {
     "end_time": "2022-03-09T13:28:24.530950Z",
     "start_time": "2022-03-09T13:28:24.513003Z"
    }
   },
   "outputs": [
    {
     "data": {
      "text/plain": [
       "(6.123233995736766e-17+1j)"
      ]
     },
     "execution_count": 42,
     "metadata": {},
     "output_type": "execute_result"
    }
   ],
   "source": [
    "pow(-1,1/2)"
   ]
  },
  {
   "cell_type": "markdown",
   "metadata": {},
   "source": [
    "## Mais exemplos"
   ]
  },
  {
   "cell_type": "code",
   "execution_count": 48,
   "metadata": {
    "ExecuteTime": {
     "end_time": "2022-03-09T13:32:41.221890Z",
     "start_time": "2022-03-09T13:32:41.213911Z"
    }
   },
   "outputs": [
    {
     "name": "stdout",
     "output_type": "stream",
     "text": [
      "1 igual a  1\n",
      "10 maior que  1\n",
      "1 menor que  10\n"
     ]
    }
   ],
   "source": [
    "def comparador(x , y):\n",
    "    if (x > y):\n",
    "        print(x, 'maior que ', y)\n",
    "    elif (x < y):\n",
    "        print(x, 'menor que ', y)\n",
    "    else:\n",
    "        print(x, 'igual a ', y)\n",
    "        \n",
    "comparador(1,1)\n",
    "comparador(10,1)\n",
    "comparador(1,10)"
   ]
  },
  {
   "cell_type": "code",
   "execution_count": 49,
   "metadata": {
    "ExecuteTime": {
     "end_time": "2022-03-09T13:32:50.978107Z",
     "start_time": "2022-03-09T13:32:50.961184Z"
    }
   },
   "outputs": [
    {
     "name": "stdout",
     "output_type": "stream",
     "text": [
      "Textos iguais! ( aaa )\n",
      "Os textos são diferentes! ( aaa )  diferente de  ( bb )\n"
     ]
    }
   ],
   "source": [
    "def compara_string(texto_1, texto_2):\n",
    "    if (texto_1 == texto_2):\n",
    "        print('Textos iguais! (', texto_1, ')')\n",
    "    else:\n",
    "        print('Os textos são diferentes!', '(', texto_1, ')', ' diferente de ', '(', texto_2, ')')\n",
    "\n",
    "compara_string(texto_1 = 'aaa', texto_2 = 'aaa')\n",
    "compara_string(texto_1 = 'aaa', texto_2 = 'bb')"
   ]
  },
  {
   "cell_type": "markdown",
   "metadata": {},
   "source": [
    "# Recursão\n",
    "\n",
    "## Método para cálculo de fatorial usando iteração"
   ]
  },
  {
   "cell_type": "code",
   "execution_count": 52,
   "metadata": {
    "ExecuteTime": {
     "end_time": "2022-03-09T13:34:17.267325Z",
     "start_time": "2022-03-09T13:34:17.248379Z"
    }
   },
   "outputs": [
    {
     "data": {
      "text/plain": [
       "6"
      ]
     },
     "execution_count": 52,
     "metadata": {},
     "output_type": "execute_result"
    }
   ],
   "source": [
    "def f(n):\n",
    "    n = n + 1\n",
    "    return n\n",
    "\n",
    "f(5)"
   ]
  },
  {
   "cell_type": "code",
   "execution_count": 53,
   "metadata": {
    "ExecuteTime": {
     "end_time": "2022-03-09T13:34:38.761868Z",
     "start_time": "2022-03-09T13:34:38.754925Z"
    }
   },
   "outputs": [
    {
     "data": {
      "text/plain": [
       "7"
      ]
     },
     "execution_count": 53,
     "metadata": {},
     "output_type": "execute_result"
    }
   ],
   "source": [
    "f(f(5))"
   ]
  },
  {
   "cell_type": "code",
   "execution_count": null,
   "metadata": {},
   "outputs": [],
   "source": [
    "fat(n) = n*(n-1)*(n-2)*...*3*2*1"
   ]
  },
  {
   "cell_type": "code",
   "execution_count": 61,
   "metadata": {
    "ExecuteTime": {
     "end_time": "2022-03-09T13:40:39.222236Z",
     "start_time": "2022-03-09T13:40:39.208311Z"
    }
   },
   "outputs": [
    {
     "data": {
      "text/plain": [
       "120"
      ]
     },
     "execution_count": 61,
     "metadata": {},
     "output_type": "execute_result"
    }
   ],
   "source": [
    "5*4*3*2*1"
   ]
  },
  {
   "cell_type": "markdown",
   "metadata": {},
   "source": [
    "## Exemplo do que não devemos fazer"
   ]
  },
  {
   "cell_type": "code",
   "execution_count": 63,
   "metadata": {
    "ExecuteTime": {
     "end_time": "2022-03-09T13:41:11.274070Z",
     "start_time": "2022-03-09T13:41:11.265091Z"
    }
   },
   "outputs": [
    {
     "data": {
      "text/plain": [
       "120"
      ]
     },
     "execution_count": 63,
     "metadata": {},
     "output_type": "execute_result"
    }
   ],
   "source": [
    "fat = 1\n",
    "n = 5\n",
    "\n",
    "for i in range(1,n+1):\n",
    "    fat = fat*i\n",
    "    #print (fat)\n",
    "\n",
    "fat"
   ]
  },
  {
   "cell_type": "code",
   "execution_count": 64,
   "metadata": {
    "ExecuteTime": {
     "end_time": "2022-03-09T13:43:46.754689Z",
     "start_time": "2022-03-09T13:43:42.167146Z"
    }
   },
   "outputs": [
    {
     "name": "stdout",
     "output_type": "stream",
     "text": [
      "digite um número para n: 5\n",
      "5 ! =  120\n"
     ]
    }
   ],
   "source": [
    "def fatorial_it(n) :\n",
    "    k = 1\n",
    "    for i in range(1,n+1):\n",
    "        k = k * i\n",
    "    return k\n",
    "\n",
    "n = int(input('digite um número para n: '))\n",
    "print(n,'! = ',fatorial_it(n))"
   ]
  },
  {
   "cell_type": "markdown",
   "metadata": {},
   "source": [
    "## Fatorial"
   ]
  },
  {
   "cell_type": "code",
   "execution_count": 69,
   "metadata": {
    "ExecuteTime": {
     "end_time": "2022-03-09T13:47:47.633092Z",
     "start_time": "2022-03-09T13:47:42.972531Z"
    }
   },
   "outputs": [
    {
     "ename": "RecursionError",
     "evalue": "maximum recursion depth exceeded",
     "output_type": "error",
     "traceback": [
      "\u001b[1;31m---------------------------------------------------------------------------\u001b[0m",
      "\u001b[1;31mRecursionError\u001b[0m                            Traceback (most recent call last)",
      "\u001b[1;32m<ipython-input-69-45cc0b045bcf>\u001b[0m in \u001b[0;36m<module>\u001b[1;34m\u001b[0m\n\u001b[0;32m      4\u001b[0m         \u001b[1;32mreturn\u001b[0m \u001b[0mn\u001b[0m\u001b[1;33m*\u001b[0m\u001b[0mfat\u001b[0m\u001b[1;33m\u001b[0m\u001b[1;33m\u001b[0m\u001b[0m\n\u001b[0;32m      5\u001b[0m \u001b[1;33m\u001b[0m\u001b[0m\n\u001b[1;32m----> 6\u001b[1;33m \u001b[0mfatorial_1\u001b[0m\u001b[1;33m(\u001b[0m\u001b[1;36m5\u001b[0m\u001b[1;33m)\u001b[0m\u001b[1;33m\u001b[0m\u001b[1;33m\u001b[0m\u001b[0m\n\u001b[0m",
      "\u001b[1;32m<ipython-input-69-45cc0b045bcf>\u001b[0m in \u001b[0;36mfatorial_1\u001b[1;34m(n)\u001b[0m\n\u001b[0;32m      1\u001b[0m \u001b[1;32mdef\u001b[0m \u001b[0mfatorial_1\u001b[0m\u001b[1;33m(\u001b[0m\u001b[0mn\u001b[0m\u001b[1;33m)\u001b[0m\u001b[1;33m:\u001b[0m\u001b[1;33m\u001b[0m\u001b[1;33m\u001b[0m\u001b[0m\n\u001b[0;32m      2\u001b[0m         \u001b[0mx\u001b[0m \u001b[1;33m=\u001b[0m \u001b[0mn\u001b[0m\u001b[1;33m-\u001b[0m\u001b[1;36m1\u001b[0m\u001b[1;33m\u001b[0m\u001b[1;33m\u001b[0m\u001b[0m\n\u001b[1;32m----> 3\u001b[1;33m         \u001b[0mfat\u001b[0m \u001b[1;33m=\u001b[0m \u001b[0mfatorial_1\u001b[0m\u001b[1;33m(\u001b[0m\u001b[0mx\u001b[0m\u001b[1;33m)\u001b[0m\u001b[1;33m\u001b[0m\u001b[1;33m\u001b[0m\u001b[0m\n\u001b[0m\u001b[0;32m      4\u001b[0m         \u001b[1;32mreturn\u001b[0m \u001b[0mn\u001b[0m\u001b[1;33m*\u001b[0m\u001b[0mfat\u001b[0m\u001b[1;33m\u001b[0m\u001b[1;33m\u001b[0m\u001b[0m\n\u001b[0;32m      5\u001b[0m \u001b[1;33m\u001b[0m\u001b[0m\n",
      "... last 1 frames repeated, from the frame below ...\n",
      "\u001b[1;32m<ipython-input-69-45cc0b045bcf>\u001b[0m in \u001b[0;36mfatorial_1\u001b[1;34m(n)\u001b[0m\n\u001b[0;32m      1\u001b[0m \u001b[1;32mdef\u001b[0m \u001b[0mfatorial_1\u001b[0m\u001b[1;33m(\u001b[0m\u001b[0mn\u001b[0m\u001b[1;33m)\u001b[0m\u001b[1;33m:\u001b[0m\u001b[1;33m\u001b[0m\u001b[1;33m\u001b[0m\u001b[0m\n\u001b[0;32m      2\u001b[0m         \u001b[0mx\u001b[0m \u001b[1;33m=\u001b[0m \u001b[0mn\u001b[0m\u001b[1;33m-\u001b[0m\u001b[1;36m1\u001b[0m\u001b[1;33m\u001b[0m\u001b[1;33m\u001b[0m\u001b[0m\n\u001b[1;32m----> 3\u001b[1;33m         \u001b[0mfat\u001b[0m \u001b[1;33m=\u001b[0m \u001b[0mfatorial_1\u001b[0m\u001b[1;33m(\u001b[0m\u001b[0mx\u001b[0m\u001b[1;33m)\u001b[0m\u001b[1;33m\u001b[0m\u001b[1;33m\u001b[0m\u001b[0m\n\u001b[0m\u001b[0;32m      4\u001b[0m         \u001b[1;32mreturn\u001b[0m \u001b[0mn\u001b[0m\u001b[1;33m*\u001b[0m\u001b[0mfat\u001b[0m\u001b[1;33m\u001b[0m\u001b[1;33m\u001b[0m\u001b[0m\n\u001b[0;32m      5\u001b[0m \u001b[1;33m\u001b[0m\u001b[0m\n",
      "\u001b[1;31mRecursionError\u001b[0m: maximum recursion depth exceeded"
     ]
    }
   ],
   "source": [
    "def fatorial_1(n):\n",
    "        x = n-1\n",
    "        fat = fatorial_1(x)\n",
    "        return n*fat\n",
    "    \n",
    "fatorial_1(5)"
   ]
  },
  {
   "cell_type": "code",
   "execution_count": 70,
   "metadata": {
    "ExecuteTime": {
     "end_time": "2022-03-09T13:48:10.073770Z",
     "start_time": "2022-03-09T13:48:07.532702Z"
    }
   },
   "outputs": [
    {
     "name": "stdout",
     "output_type": "stream",
     "text": [
      "digite um valor para n:5\n",
      "120\n"
     ]
    }
   ],
   "source": [
    "def fatorial_1(n):\n",
    "    if n <= 1:\n",
    "        return 1\n",
    "    else: \n",
    "        x = n-1\n",
    "        fat = fatorial_1(x)\n",
    "        return n*fat\n",
    "\n",
    "n = int(input('digite um valor para n:'))\n",
    "print(fatorial_1(n))"
   ]
  },
  {
   "cell_type": "code",
   "execution_count": 71,
   "metadata": {
    "ExecuteTime": {
     "end_time": "2022-03-09T13:49:08.658599Z",
     "start_time": "2022-03-09T13:49:06.902457Z"
    }
   },
   "outputs": [
    {
     "name": "stdout",
     "output_type": "stream",
     "text": [
      "digite um valor para n: 5\n",
      "120\n"
     ]
    }
   ],
   "source": [
    "def fatorial_2(n):\n",
    "    if n <= 1:\n",
    "        return 1\n",
    "    else: \n",
    "        return n * fatorial_2(n-1)\n",
    "\n",
    "n = int(input('digite um valor para n: '))\n",
    "print(fatorial_2(n))"
   ]
  },
  {
   "cell_type": "code",
   "execution_count": 72,
   "metadata": {
    "ExecuteTime": {
     "end_time": "2022-03-09T13:49:52.613964Z",
     "start_time": "2022-03-09T13:49:50.631424Z"
    }
   },
   "outputs": [
    {
     "name": "stdout",
     "output_type": "stream",
     "text": [
      "digite um valor para n: 5\n",
      "120\n"
     ]
    }
   ],
   "source": [
    "def fatorial_3(x):\n",
    "    fat = 1\n",
    "    for i in range(1, x + 1):\n",
    "        fat = fat * i\n",
    "    return fat\n",
    "\n",
    "n = int(input('digite um valor para n: '))\n",
    "print(fatorial_3(n))"
   ]
  },
  {
   "cell_type": "markdown",
   "metadata": {},
   "source": [
    "## Simples exemplo de recursão (soma acumulada)\n",
    "\n",
    "Python também aceita recursão de função, o que significa que uma função definida pode chamar a si mesma. A recursão é um conceito matemático e de programação comum. Isso significa que uma função chama a si mesma. O desenvolvedor deve ter muito cuidado com a recursão, pois pode ser muito fácil escrever uma função que nunca termina, ou que usa uma quantidade excessiva de memória ou potência do processador. No entanto, quando escrito corretamente, a recursão pode ser uma abordagem de programação muito eficiente e matematicamente elegante. Neste exemplo, recursao() é uma função que definimos para chamar a si mesma. Usamos a variável k como os dados, que diminui (-1) toda vez que recursamos. A recursão termina quando for igual a 0."
   ]
  },
  {
   "cell_type": "code",
   "execution_count": 73,
   "metadata": {
    "ExecuteTime": {
     "end_time": "2022-03-09T13:50:39.703572Z",
     "start_time": "2022-03-09T13:50:39.691599Z"
    }
   },
   "outputs": [
    {
     "name": "stdout",
     "output_type": "stream",
     "text": [
      "1\n",
      "3\n",
      "6\n",
      "10\n",
      "15\n",
      "21\n"
     ]
    },
    {
     "data": {
      "text/plain": [
       "21"
      ]
     },
     "execution_count": 73,
     "metadata": {},
     "output_type": "execute_result"
    }
   ],
   "source": [
    "def recursao(k):\n",
    "    if(k > 0):\n",
    "        acumulado = k + recursao(k - 1)\n",
    "        print(acumulado)\n",
    "    else:\n",
    "        acumulado = 0\n",
    "    return acumulado\n",
    "\n",
    "recursao(6)"
   ]
  },
  {
   "cell_type": "code",
   "execution_count": 74,
   "metadata": {
    "ExecuteTime": {
     "end_time": "2022-03-09T13:51:28.558835Z",
     "start_time": "2022-03-09T13:51:28.542864Z"
    }
   },
   "outputs": [
    {
     "data": {
      "text/plain": [
       "0"
      ]
     },
     "execution_count": 74,
     "metadata": {},
     "output_type": "execute_result"
    }
   ],
   "source": [
    "recursao(0)"
   ]
  },
  {
   "cell_type": "code",
   "execution_count": 75,
   "metadata": {
    "ExecuteTime": {
     "end_time": "2022-03-09T13:51:35.057308Z",
     "start_time": "2022-03-09T13:51:35.043308Z"
    }
   },
   "outputs": [
    {
     "name": "stdout",
     "output_type": "stream",
     "text": [
      "1\n"
     ]
    },
    {
     "data": {
      "text/plain": [
       "1"
      ]
     },
     "execution_count": 75,
     "metadata": {},
     "output_type": "execute_result"
    }
   ],
   "source": [
    "recursao(1)"
   ]
  },
  {
   "cell_type": "code",
   "execution_count": 76,
   "metadata": {
    "ExecuteTime": {
     "end_time": "2022-03-09T13:51:40.742108Z",
     "start_time": "2022-03-09T13:51:40.720167Z"
    }
   },
   "outputs": [
    {
     "name": "stdout",
     "output_type": "stream",
     "text": [
      "1\n",
      "3\n"
     ]
    },
    {
     "data": {
      "text/plain": [
       "3"
      ]
     },
     "execution_count": 76,
     "metadata": {},
     "output_type": "execute_result"
    }
   ],
   "source": [
    "recursao(2)"
   ]
  },
  {
   "cell_type": "markdown",
   "metadata": {},
   "source": [
    "## Calcula o mdc entre x e y"
   ]
  },
  {
   "cell_type": "code",
   "execution_count": 77,
   "metadata": {
    "ExecuteTime": {
     "end_time": "2022-03-09T13:53:33.319345Z",
     "start_time": "2022-03-09T13:53:33.298366Z"
    }
   },
   "outputs": [
    {
     "data": {
      "text/plain": [
       "5"
      ]
     },
     "execution_count": 77,
     "metadata": {},
     "output_type": "execute_result"
    }
   ],
   "source": [
    "def mdc1(x, y):\n",
    "    while (y != 0):\n",
    "        (x, y) = (y, x % y)\n",
    "    return x\n",
    "\n",
    "mdc1(120, 25)"
   ]
  },
  {
   "cell_type": "code",
   "execution_count": 78,
   "metadata": {
    "ExecuteTime": {
     "end_time": "2022-03-09T13:53:43.269735Z",
     "start_time": "2022-03-09T13:53:43.251802Z"
    }
   },
   "outputs": [
    {
     "data": {
      "text/plain": [
       "4.8"
      ]
     },
     "execution_count": 78,
     "metadata": {},
     "output_type": "execute_result"
    }
   ],
   "source": [
    "120/25"
   ]
  },
  {
   "cell_type": "code",
   "execution_count": 79,
   "metadata": {
    "ExecuteTime": {
     "end_time": "2022-03-09T13:53:56.154410Z",
     "start_time": "2022-03-09T13:53:56.135461Z"
    }
   },
   "outputs": [
    {
     "data": {
      "text/plain": [
       "24.0"
      ]
     },
     "execution_count": 79,
     "metadata": {},
     "output_type": "execute_result"
    }
   ],
   "source": [
    "120/5"
   ]
  },
  {
   "cell_type": "code",
   "execution_count": 80,
   "metadata": {
    "ExecuteTime": {
     "end_time": "2022-03-09T13:54:00.979645Z",
     "start_time": "2022-03-09T13:54:00.972664Z"
    }
   },
   "outputs": [
    {
     "data": {
      "text/plain": [
       "5.0"
      ]
     },
     "execution_count": 80,
     "metadata": {},
     "output_type": "execute_result"
    }
   ],
   "source": [
    "25/5"
   ]
  },
  {
   "cell_type": "code",
   "execution_count": 82,
   "metadata": {
    "ExecuteTime": {
     "end_time": "2022-03-09T13:55:02.426731Z",
     "start_time": "2022-03-09T13:55:02.417786Z"
    }
   },
   "outputs": [],
   "source": []
  },
  {
   "cell_type": "code",
   "execution_count": 85,
   "metadata": {
    "ExecuteTime": {
     "end_time": "2022-03-09T13:56:42.233570Z",
     "start_time": "2022-03-09T13:56:42.217107Z"
    }
   },
   "outputs": [
    {
     "data": {
      "text/plain": [
       "2"
      ]
     },
     "execution_count": 85,
     "metadata": {},
     "output_type": "execute_result"
    }
   ],
   "source": [
    "a = 1\n",
    "b = 2\n",
    "c = 3\n",
    "\n",
    "a = b\n",
    "b = a\n",
    "c = b\n",
    "\n",
    "c"
   ]
  },
  {
   "cell_type": "code",
   "execution_count": 86,
   "metadata": {
    "ExecuteTime": {
     "end_time": "2022-03-09T13:57:13.335490Z",
     "start_time": "2022-03-09T13:57:13.314528Z"
    }
   },
   "outputs": [
    {
     "data": {
      "text/plain": [
       "5"
      ]
     },
     "execution_count": 86,
     "metadata": {},
     "output_type": "execute_result"
    }
   ],
   "source": [
    "def mdc2(x, y):\n",
    "    while (y != 0):\n",
    "        r = x % y\n",
    "        x = y\n",
    "        y = r\n",
    "    return x\n",
    "\n",
    "mdc2(120, 25)"
   ]
  },
  {
   "cell_type": "markdown",
   "metadata": {},
   "source": [
    "## Calcula o mmc entre x e y"
   ]
  },
  {
   "cell_type": "code",
   "execution_count": 87,
   "metadata": {
    "ExecuteTime": {
     "end_time": "2022-03-09T13:57:24.171304Z",
     "start_time": "2022-03-09T13:57:24.161334Z"
    }
   },
   "outputs": [
    {
     "data": {
      "text/plain": [
       "750"
      ]
     },
     "execution_count": 87,
     "metadata": {},
     "output_type": "execute_result"
    }
   ],
   "source": [
    "def mmc1(x, y):\n",
    "    resultado = 1\n",
    "    while (resultado % x != 0) or (resultado % y != 0):\n",
    "        resultado = resultado + 1\n",
    "    return resultado\n",
    "\n",
    "mmc1(150, 125)"
   ]
  },
  {
   "cell_type": "code",
   "execution_count": 88,
   "metadata": {
    "ExecuteTime": {
     "end_time": "2022-03-09T13:57:25.482285Z",
     "start_time": "2022-03-09T13:57:25.459346Z"
    }
   },
   "outputs": [
    {
     "data": {
      "text/plain": [
       "750"
      ]
     },
     "execution_count": 88,
     "metadata": {},
     "output_type": "execute_result"
    }
   ],
   "source": [
    "def mmc2(x, y):\n",
    "    resultado = x\n",
    "    while resultado % y != 0:\n",
    "        resultado = resultado + x\n",
    "    return resultado\n",
    "\n",
    "mmc2(150, 125)"
   ]
  },
  {
   "cell_type": "code",
   "execution_count": 89,
   "metadata": {
    "ExecuteTime": {
     "end_time": "2022-03-09T13:57:26.742322Z",
     "start_time": "2022-03-09T13:57:26.721377Z"
    }
   },
   "outputs": [
    {
     "data": {
      "text/plain": [
       "750"
      ]
     },
     "execution_count": 89,
     "metadata": {},
     "output_type": "execute_result"
    }
   ],
   "source": [
    "def mmc3(x, y):\n",
    "    resultado = max(x, y)\n",
    "    while resultado % min(x, y) != 0:\n",
    "        resultado = resultado + max(x, y)\n",
    "    return resultado\n",
    "\n",
    "mmc3(150, 125)"
   ]
  },
  {
   "cell_type": "code",
   "execution_count": 90,
   "metadata": {
    "ExecuteTime": {
     "end_time": "2022-03-09T13:57:27.892206Z",
     "start_time": "2022-03-09T13:57:27.884263Z"
    }
   },
   "outputs": [
    {
     "data": {
      "text/plain": [
       "750"
      ]
     },
     "execution_count": 90,
     "metadata": {},
     "output_type": "execute_result"
    }
   ],
   "source": [
    "def mmc4(x, y):\n",
    "    return int((x * y) / mdc2(x, y))\n",
    "\n",
    "mmc4(150, 125)"
   ]
  },
  {
   "cell_type": "code",
   "execution_count": 91,
   "metadata": {
    "ExecuteTime": {
     "end_time": "2022-03-09T13:57:28.806507Z",
     "start_time": "2022-03-09T13:57:28.785564Z"
    }
   },
   "outputs": [
    {
     "data": {
      "text/plain": [
       "750"
      ]
     },
     "execution_count": 91,
     "metadata": {},
     "output_type": "execute_result"
    }
   ],
   "source": [
    "def mmc5(x, y):\n",
    "    if (x < y):\n",
    "        (x, y) = (y, x)\n",
    "    resultado = x\n",
    "    while resultado % y != 0:\n",
    "        resultado = resultado + x\n",
    "    return resultado\n",
    "\n",
    "mmc5(150, 125)"
   ]
  },
  {
   "cell_type": "markdown",
   "metadata": {},
   "source": [
    "## Função reverso de um número"
   ]
  },
  {
   "cell_type": "code",
   "execution_count": 94,
   "metadata": {
    "ExecuteTime": {
     "end_time": "2022-03-09T13:57:57.335281Z",
     "start_time": "2022-03-09T13:57:55.099513Z"
    }
   },
   "outputs": [
    {
     "name": "stdout",
     "output_type": "stream",
     "text": [
      "63\n",
      "36\n"
     ]
    }
   ],
   "source": [
    "def reverso(x):\n",
    "    rev = 0\n",
    "    while x >0:\n",
    "        rest = x % 10\n",
    "        x = x // 10\n",
    "        rev = rev * 10 + rest\n",
    "    return rev\n",
    "\n",
    "n = int(input())\n",
    "print(reverso(n))"
   ]
  },
  {
   "cell_type": "markdown",
   "metadata": {},
   "source": [
    "## Soma dos n primeiro naturais"
   ]
  },
  {
   "cell_type": "code",
   "execution_count": null,
   "metadata": {},
   "outputs": [],
   "source": [
    "1+2+3+4+5+...+100"
   ]
  },
  {
   "cell_type": "code",
   "execution_count": 105,
   "metadata": {
    "ExecuteTime": {
     "end_time": "2022-03-09T14:00:52.070627Z",
     "start_time": "2022-03-09T14:00:52.050705Z"
    }
   },
   "outputs": [
    {
     "name": "stdout",
     "output_type": "stream",
     "text": [
      "1\n",
      "2\n",
      "3\n",
      "4\n",
      "5\n",
      "6\n",
      "7\n",
      "8\n",
      "9\n",
      "10\n"
     ]
    },
    {
     "data": {
      "text/plain": [
       "55"
      ]
     },
     "execution_count": 105,
     "metadata": {},
     "output_type": "execute_result"
    }
   ],
   "source": [
    "soma = 0\n",
    "n = 10\n",
    "\n",
    "for i in range(0,n):\n",
    "    i = i + 1\n",
    "    soma = soma + i\n",
    "    print(i)\n",
    "    \n",
    "soma"
   ]
  },
  {
   "cell_type": "code",
   "execution_count": 107,
   "metadata": {
    "ExecuteTime": {
     "end_time": "2022-03-09T14:02:39.420702Z",
     "start_time": "2022-03-09T14:02:39.410703Z"
    }
   },
   "outputs": [
    {
     "data": {
      "text/plain": [
       "5050"
      ]
     },
     "execution_count": 107,
     "metadata": {},
     "output_type": "execute_result"
    }
   ],
   "source": [
    "def soma_n1(n):\n",
    "    soma = 0\n",
    "\n",
    "    for i in range(0,n):\n",
    "        i = i + 1\n",
    "        soma = soma + i\n",
    "    \n",
    "    return soma\n",
    "\n",
    "soma_n1(100)"
   ]
  },
  {
   "cell_type": "code",
   "execution_count": 101,
   "metadata": {
    "ExecuteTime": {
     "end_time": "2022-03-09T13:59:52.035252Z",
     "start_time": "2022-03-09T13:59:52.020334Z"
    }
   },
   "outputs": [
    {
     "data": {
      "text/plain": [
       "5050"
      ]
     },
     "execution_count": 101,
     "metadata": {},
     "output_type": "execute_result"
    }
   ],
   "source": [
    "def soma_n(n):\n",
    "    total, k = 0, 1\n",
    "    while k <= n:\n",
    "        total, k = total + k, k + 1\n",
    "    return total\n",
    "\n",
    "soma_n(100)"
   ]
  },
  {
   "cell_type": "code",
   "execution_count": null,
   "metadata": {},
   "outputs": [],
   "source": [
    "def fatorial_2(n):\n",
    "    if n <= 1:\n",
    "        return 1\n",
    "    else: \n",
    "        return n * fatorial_2(n-1)"
   ]
  },
  {
   "cell_type": "code",
   "execution_count": 124,
   "metadata": {
    "ExecuteTime": {
     "end_time": "2022-03-09T14:13:09.139836Z",
     "start_time": "2022-03-09T14:13:09.126841Z"
    }
   },
   "outputs": [
    {
     "data": {
      "text/plain": [
       "55"
      ]
     },
     "execution_count": 124,
     "metadata": {},
     "output_type": "execute_result"
    }
   ],
   "source": [
    "soma"
   ]
  },
  {
   "cell_type": "code",
   "execution_count": 126,
   "metadata": {
    "ExecuteTime": {
     "end_time": "2022-03-09T14:13:36.623654Z",
     "start_time": "2022-03-09T14:13:36.613694Z"
    }
   },
   "outputs": [
    {
     "data": {
      "text/plain": [
       "5050"
      ]
     },
     "execution_count": 126,
     "metadata": {},
     "output_type": "execute_result"
    }
   ],
   "source": [
    "def somanrec(n):\n",
    "    if n <= 1:\n",
    "        return 1\n",
    "    else:\n",
    "        return n + somanrec(n-1)\n",
    "\n",
    "somanrec(100)"
   ]
  },
  {
   "cell_type": "markdown",
   "metadata": {},
   "source": [
    "## Soma dos n primeiros potências de 2 dos números naturais"
   ]
  },
  {
   "cell_type": "code",
   "execution_count": null,
   "metadata": {},
   "outputs": [],
   "source": [
    "1^k+2^k+3^k+4^k+5^k+...+n^k"
   ]
  },
  {
   "cell_type": "code",
   "execution_count": 127,
   "metadata": {
    "ExecuteTime": {
     "end_time": "2022-03-09T14:14:59.775679Z",
     "start_time": "2022-03-09T14:14:59.754732Z"
    }
   },
   "outputs": [
    {
     "data": {
      "text/plain": [
       "14"
      ]
     },
     "execution_count": 127,
     "metadata": {},
     "output_type": "execute_result"
    }
   ],
   "source": [
    "def soma_nk(n,p):\n",
    "    total, k = 0, 1\n",
    "    while k <= n:\n",
    "        total, k = total + k**p, k + 1\n",
    "    return total\n",
    "\n",
    "soma_nk(3,2)"
   ]
  },
  {
   "cell_type": "code",
   "execution_count": 128,
   "metadata": {
    "ExecuteTime": {
     "end_time": "2022-03-09T14:15:10.988402Z",
     "start_time": "2022-03-09T14:15:10.978401Z"
    }
   },
   "outputs": [
    {
     "data": {
      "text/plain": [
       "14"
      ]
     },
     "execution_count": 128,
     "metadata": {},
     "output_type": "execute_result"
    }
   ],
   "source": [
    "1**2 + 2**2 + 3**2"
   ]
  },
  {
   "cell_type": "code",
   "execution_count": 129,
   "metadata": {
    "ExecuteTime": {
     "end_time": "2022-03-09T14:15:19.364862Z",
     "start_time": "2022-03-09T14:15:19.345913Z"
    }
   },
   "outputs": [
    {
     "data": {
      "text/plain": [
       "36"
      ]
     },
     "execution_count": 129,
     "metadata": {},
     "output_type": "execute_result"
    }
   ],
   "source": [
    "soma_nk(3,3)"
   ]
  },
  {
   "cell_type": "code",
   "execution_count": 130,
   "metadata": {
    "ExecuteTime": {
     "end_time": "2022-03-09T14:15:23.944127Z",
     "start_time": "2022-03-09T14:15:23.930130Z"
    }
   },
   "outputs": [
    {
     "data": {
      "text/plain": [
       "36"
      ]
     },
     "execution_count": 130,
     "metadata": {},
     "output_type": "execute_result"
    }
   ],
   "source": [
    "1**3 + 2**3 + 3**3"
   ]
  },
  {
   "cell_type": "code",
   "execution_count": 456,
   "metadata": {
    "ExecuteTime": {
     "end_time": "2022-03-09T20:25:33.588121Z",
     "start_time": "2022-03-09T20:25:33.576148Z"
    }
   },
   "outputs": [
    {
     "name": "stdout",
     "output_type": "stream",
     "text": [
      "0.0009980201721191406\n"
     ]
    }
   ],
   "source": [
    "import time\n",
    "\n",
    "start = time.time()\n",
    "soma_nk(1000,3)\n",
    "end = time.time()\n",
    "print(end - start)"
   ]
  },
  {
   "cell_type": "code",
   "execution_count": 139,
   "metadata": {
    "ExecuteTime": {
     "end_time": "2022-03-09T14:17:49.280642Z",
     "start_time": "2022-03-09T14:17:49.271702Z"
    }
   },
   "outputs": [
    {
     "data": {
      "text/plain": [
       "14"
      ]
     },
     "execution_count": 139,
     "metadata": {},
     "output_type": "execute_result"
    }
   ],
   "source": [
    "def soma_nk(n,p):\n",
    "    if n <= 1:\n",
    "        return 1\n",
    "    else:\n",
    "        return n**p + soma_nk(n-1,p)\n",
    "\n",
    "soma_nk(3,2)"
   ]
  },
  {
   "cell_type": "markdown",
   "metadata": {},
   "source": [
    "## Sequência de Fibonacci\n",
    "\n",
    "A sequência de Fibonacci foi descoberta por Leonardo de Pisa em 1202 ao investigar a já famosa\n",
    "razão de ouro $(\\varphi)$. Neste trabalho ele descobriu a seguinte sequência de números:\n",
    "\n",
    "\\begin{equation}\n",
    "\\nonumber 1,\\;1,\\;2,\\;3,\\;5,\\;8,\\;13,\\;21,\\;34,\\;55,\\;89,\\;144,\\;\\ldots \n",
    "\\end{equation}\n",
    "\n",
    "A sequência acima é gerada recursivamente pela sequinte equação funcional.\n",
    "\n",
    "\\begin{equation}\n",
    "\\nonumber F(n+2) = F(n + 1) + F(n).\n",
    "\\end{equation}\n",
    "\n",
    "Obs.: A sequência de Fibonacci é usualmente iniciada com n = 1 e as condições de que F(1) = 1 \n",
    "e que F(2) = 1, porém muitas pessoas iniciam a sequência com n = 0 e que F(0) = 1 e que F(1) = 1.\n",
    "Nenhum dos dois modos está errado. Essa divergência acontece devido ao interminável debate se o\n",
    "número 0 faz parte ou não dos números naturais."
   ]
  },
  {
   "cell_type": "code",
   "execution_count": 141,
   "metadata": {
    "ExecuteTime": {
     "end_time": "2022-03-09T14:19:31.414754Z",
     "start_time": "2022-03-09T14:19:29.486124Z"
    }
   },
   "outputs": [
    {
     "name": "stdout",
     "output_type": "stream",
     "text": [
      "digite um número para n: 10\n",
      "Sequência de Fibonacci para n =  10\n",
      "1\n",
      "1\n",
      "2\n",
      "3\n",
      "5\n",
      "8\n",
      "13\n",
      "21\n",
      "34\n",
      "55\n"
     ]
    }
   ],
   "source": [
    "def fibo(n):\n",
    "    if n <= 1:\n",
    "        return 1\n",
    "    else:\n",
    "        return(fibo(n-1) + fibo(n-2))\n",
    "n = int(input('digite um número para n: '))\n",
    "if n <= 0:\n",
    "    print('Insira um número inteiro maior que zero.')\n",
    "else:\n",
    "    print('Sequência de Fibonacci para n = ', n)\n",
    "    for i in range(n):\n",
    "        print(fibo(i))"
   ]
  },
  {
   "cell_type": "markdown",
   "metadata": {},
   "source": [
    "Sequência dos primeiros números naturais\n",
    "\n",
    "\\[S(n) = 1 + 2 + 3 + ... + n = \\sum_{k=1}^{n} k \\ \\to \\ f(k) = k\\]\n",
    "\n",
    "Sequência das potências k dos primeiros naturais\n",
    "\n",
    "\\[S_k(n) = 1^k + 2^k + 3^k + ... + n^k = \\sum_{a=1}^{n} a^k \\ \\to \\ f(k) = a^k\\]\n",
    "\n",
    "Função geradora da sequência de Fibonnaci\n",
    "\n",
    "\\[f(n+2) = f(n+1) + f(n)\\]"
   ]
  },
  {
   "cell_type": "code",
   "execution_count": null,
   "metadata": {},
   "outputs": [],
   "source": [
    "1 + 2 + 3 + ... + n\n",
    "1**k + 2**k + ... + n**k"
   ]
  },
  {
   "cell_type": "code",
   "execution_count": 143,
   "metadata": {
    "ExecuteTime": {
     "end_time": "2022-03-09T14:26:32.631615Z",
     "start_time": "2022-03-09T14:26:32.613650Z"
    }
   },
   "outputs": [
    {
     "data": {
      "text/plain": [
       "10"
      ]
     },
     "execution_count": 143,
     "metadata": {},
     "output_type": "execute_result"
    }
   ],
   "source": [
    "def f(n):\n",
    "    f = n\n",
    "    return f\n",
    "    \n",
    "f(10)"
   ]
  },
  {
   "cell_type": "code",
   "execution_count": 156,
   "metadata": {
    "ExecuteTime": {
     "end_time": "2022-03-09T14:34:03.131732Z",
     "start_time": "2022-03-09T14:34:03.112782Z"
    }
   },
   "outputs": [
    {
     "data": {
      "text/plain": [
       "5050"
      ]
     },
     "execution_count": 156,
     "metadata": {},
     "output_type": "execute_result"
    }
   ],
   "source": [
    "def f(n):\n",
    "    f = n\n",
    "    return f\n",
    "\n",
    "def seq(n):\n",
    "    if n <=1:\n",
    "        return 1\n",
    "    else:\n",
    "        soma2 = 0\n",
    "        for x in range(0,n+1):\n",
    "            soma2 = soma2 + f(x)\n",
    "    return soma2\n",
    "    \n",
    "seq(100)"
   ]
  },
  {
   "cell_type": "code",
   "execution_count": 159,
   "metadata": {
    "ExecuteTime": {
     "end_time": "2022-03-09T14:35:56.918813Z",
     "start_time": "2022-03-09T14:35:56.911832Z"
    }
   },
   "outputs": [
    {
     "data": {
      "text/plain": [
       "36"
      ]
     },
     "execution_count": 159,
     "metadata": {},
     "output_type": "execute_result"
    }
   ],
   "source": [
    "def f(n,k):\n",
    "    f = n**k\n",
    "    return f\n",
    "\n",
    "def seq(n,k):\n",
    "    if n <=1:\n",
    "        return 1\n",
    "    else:\n",
    "        soma = 0\n",
    "        for x in range(0,n+1):\n",
    "            soma = soma + f(x,k)\n",
    "    return soma\n",
    "    \n",
    "seq(3,3)"
   ]
  },
  {
   "cell_type": "markdown",
   "metadata": {},
   "source": [
    "# Lambdas\n",
    "\n",
    "A expressão lambda é mais útil como um atalho para def, quando você precisa inserir pequenos pedaços de código executável em locais onde as declarações são sintaticamente ilegais.\n",
    "\n",
    "## Comparando lambda vs função"
   ]
  },
  {
   "cell_type": "code",
   "execution_count": 160,
   "metadata": {
    "ExecuteTime": {
     "end_time": "2022-03-09T17:09:38.385791Z",
     "start_time": "2022-03-09T17:09:38.379839Z"
    }
   },
   "outputs": [
    {
     "data": {
      "text/plain": [
       "9"
      ]
     },
     "execution_count": 160,
     "metadata": {},
     "output_type": "execute_result"
    }
   ],
   "source": [
    "def f(x, y, z):\n",
    "    return x + y + z\n",
    "\n",
    "f(2, 3, 4)"
   ]
  },
  {
   "cell_type": "code",
   "execution_count": 161,
   "metadata": {
    "ExecuteTime": {
     "end_time": "2022-03-09T17:10:35.079212Z",
     "start_time": "2022-03-09T17:10:35.072235Z"
    }
   },
   "outputs": [
    {
     "data": {
      "text/plain": [
       "9"
      ]
     },
     "execution_count": 161,
     "metadata": {},
     "output_type": "execute_result"
    }
   ],
   "source": [
    "f = lambda x, y, z: x + y + z\n",
    "\n",
    "f(2, 3, 4)"
   ]
  },
  {
   "cell_type": "markdown",
   "metadata": {},
   "source": [
    "O trecho de código abaixo constrói uma lista de três funções incorporando expressões lambda dentro de um literal de lista; um def não funcionará dentro de uma lista literal, porque é uma declaração, não uma expressão. A codificação def equivalente exigiria nomes de funções temporários (que poderiam colidir com outros nomes) e definições de funções fora do contexto de uso pretendido (que pode estar distante):"
   ]
  },
  {
   "cell_type": "code",
   "execution_count": 162,
   "metadata": {
    "ExecuteTime": {
     "end_time": "2022-03-09T17:13:12.633541Z",
     "start_time": "2022-03-09T17:13:12.627562Z"
    }
   },
   "outputs": [
    {
     "name": "stdout",
     "output_type": "stream",
     "text": [
      "4\n",
      "8\n",
      "16\n"
     ]
    }
   ],
   "source": [
    "L = [lambda x: x ** 2, lambda x: x ** 3, lambda x: x ** 4]\n",
    "\n",
    "for f in L:\n",
    "    print(f(2))"
   ]
  },
  {
   "cell_type": "code",
   "execution_count": 164,
   "metadata": {
    "ExecuteTime": {
     "end_time": "2022-03-09T17:14:03.331670Z",
     "start_time": "2022-03-09T17:14:03.324688Z"
    }
   },
   "outputs": [
    {
     "data": {
      "text/plain": [
       "[<function __main__.<lambda>(x)>,\n",
       " <function __main__.<lambda>(x)>,\n",
       " <function __main__.<lambda>(x)>]"
      ]
     },
     "execution_count": 164,
     "metadata": {},
     "output_type": "execute_result"
    }
   ],
   "source": [
    "L"
   ]
  },
  {
   "cell_type": "code",
   "execution_count": 165,
   "metadata": {
    "ExecuteTime": {
     "end_time": "2022-03-09T17:14:27.495598Z",
     "start_time": "2022-03-09T17:14:27.490650Z"
    }
   },
   "outputs": [
    {
     "data": {
      "text/plain": [
       "<function __main__.<lambda>(x)>"
      ]
     },
     "execution_count": 165,
     "metadata": {},
     "output_type": "execute_result"
    }
   ],
   "source": [
    "L[0]"
   ]
  },
  {
   "cell_type": "code",
   "execution_count": 166,
   "metadata": {
    "ExecuteTime": {
     "end_time": "2022-03-09T17:15:13.430482Z",
     "start_time": "2022-03-09T17:15:13.422506Z"
    }
   },
   "outputs": [
    {
     "data": {
      "text/plain": [
       "<function __main__.<lambda>(x)>"
      ]
     },
     "execution_count": 166,
     "metadata": {},
     "output_type": "execute_result"
    }
   ],
   "source": [
    "L[1]"
   ]
  },
  {
   "cell_type": "code",
   "execution_count": 167,
   "metadata": {
    "ExecuteTime": {
     "end_time": "2022-03-09T17:15:19.750647Z",
     "start_time": "2022-03-09T17:15:19.745635Z"
    }
   },
   "outputs": [
    {
     "data": {
      "text/plain": [
       "<function __main__.<lambda>(x)>"
      ]
     },
     "execution_count": 167,
     "metadata": {},
     "output_type": "execute_result"
    }
   ],
   "source": [
    "L[2]"
   ]
  },
  {
   "cell_type": "code",
   "execution_count": 168,
   "metadata": {
    "ExecuteTime": {
     "end_time": "2022-03-09T17:15:49.548039Z",
     "start_time": "2022-03-09T17:15:49.541085Z"
    }
   },
   "outputs": [
    {
     "data": {
      "text/plain": [
       "4"
      ]
     },
     "execution_count": 168,
     "metadata": {},
     "output_type": "execute_result"
    }
   ],
   "source": [
    "# Retorna o valor da primeira lambda tendo como argumento o número dentro dos ()\n",
    "L[0](2)"
   ]
  },
  {
   "cell_type": "code",
   "execution_count": 169,
   "metadata": {
    "ExecuteTime": {
     "end_time": "2022-03-09T17:15:56.872073Z",
     "start_time": "2022-03-09T17:15:56.867088Z"
    }
   },
   "outputs": [
    {
     "data": {
      "text/plain": [
       "8"
      ]
     },
     "execution_count": 169,
     "metadata": {},
     "output_type": "execute_result"
    }
   ],
   "source": [
    "# Retorna o valor da segunda lambda tendo como argumento o número dentro dos ()\n",
    "L[1](2)"
   ]
  },
  {
   "cell_type": "code",
   "execution_count": 170,
   "metadata": {
    "ExecuteTime": {
     "end_time": "2022-03-09T17:16:12.935739Z",
     "start_time": "2022-03-09T17:16:12.928755Z"
    }
   },
   "outputs": [
    {
     "data": {
      "text/plain": [
       "16"
      ]
     },
     "execution_count": 170,
     "metadata": {},
     "output_type": "execute_result"
    }
   ],
   "source": [
    "# Retorna o valor da terceira lambda tendo como argumento o número dentro dos ()\n",
    "L[2](2)"
   ]
  },
  {
   "cell_type": "code",
   "execution_count": 172,
   "metadata": {
    "ExecuteTime": {
     "end_time": "2022-03-09T17:18:47.623796Z",
     "start_time": "2022-03-09T17:18:47.617839Z"
    }
   },
   "outputs": [
    {
     "name": "stdout",
     "output_type": "stream",
     "text": [
      "4\n",
      "8\n",
      "16\n"
     ]
    }
   ],
   "source": [
    "def f1(x):\n",
    "    return x ** 2\n",
    "\n",
    "def f2(x):\n",
    "    return x ** 3\n",
    "\n",
    "def f3(x):\n",
    "    return x ** 4\n",
    "\n",
    "R = [f1, f2, f3]\n",
    "\n",
    "for f in R:\n",
    "    print(f(2))"
   ]
  },
  {
   "cell_type": "code",
   "execution_count": 174,
   "metadata": {
    "ExecuteTime": {
     "end_time": "2022-03-09T17:20:30.069587Z",
     "start_time": "2022-03-09T17:20:30.064631Z"
    }
   },
   "outputs": [
    {
     "data": {
      "text/plain": [
       "4"
      ]
     },
     "execution_count": 174,
     "metadata": {},
     "output_type": "execute_result"
    }
   ],
   "source": [
    "# Retorna o valor da primeira função tendo como argumento o número dentro dos ()\n",
    "R[0](2)"
   ]
  },
  {
   "cell_type": "code",
   "execution_count": 175,
   "metadata": {
    "ExecuteTime": {
     "end_time": "2022-03-09T17:20:35.261451Z",
     "start_time": "2022-03-09T17:20:35.256465Z"
    }
   },
   "outputs": [
    {
     "data": {
      "text/plain": [
       "8"
      ]
     },
     "execution_count": 175,
     "metadata": {},
     "output_type": "execute_result"
    }
   ],
   "source": [
    "# Retorna o valor da segunda função tendo como argumento o número dentro dos ()\n",
    "R[1](2)"
   ]
  },
  {
   "cell_type": "code",
   "execution_count": 176,
   "metadata": {
    "ExecuteTime": {
     "end_time": "2022-03-09T17:20:39.563852Z",
     "start_time": "2022-03-09T17:20:39.558900Z"
    }
   },
   "outputs": [
    {
     "data": {
      "text/plain": [
       "16"
      ]
     },
     "execution_count": 176,
     "metadata": {},
     "output_type": "execute_result"
    }
   ],
   "source": [
    "# Retorna o valor da terceira função tendo como argumento o número dentro dos ()\n",
    "R[2](2)"
   ]
  },
  {
   "cell_type": "markdown",
   "metadata": {},
   "source": [
    "# Funções aninhadas\n",
    "\n",
    "## Exemplos simples - soma dos n primeiros naturais"
   ]
  },
  {
   "cell_type": "code",
   "execution_count": 183,
   "metadata": {
    "ExecuteTime": {
     "end_time": "2022-03-09T17:32:45.367533Z",
     "start_time": "2022-03-09T17:32:42.461706Z"
    }
   },
   "outputs": [
    {
     "name": "stdout",
     "output_type": "stream",
     "text": [
      "Digite um número inteiro positivo:100\n",
      "5050\n"
     ]
    }
   ],
   "source": [
    "total = 0 \n",
    "k = 1\n",
    "\n",
    "n = int(input(\"Digite um número inteiro positivo:\"))\n",
    "\n",
    "while k <= n:\n",
    "    total = total + k\n",
    "    k = k + 1\n",
    "    \n",
    "print(total)"
   ]
  },
  {
   "cell_type": "code",
   "execution_count": 187,
   "metadata": {
    "ExecuteTime": {
     "end_time": "2022-03-09T17:36:36.755463Z",
     "start_time": "2022-03-09T17:36:36.746456Z"
    }
   },
   "outputs": [
    {
     "data": {
      "text/plain": [
       "5050"
      ]
     },
     "execution_count": 187,
     "metadata": {},
     "output_type": "execute_result"
    }
   ],
   "source": [
    "def f(n,k):\n",
    "    f = n**k\n",
    "    return f\n",
    "\n",
    "def seq(n,k):\n",
    "    if n <=1:\n",
    "        return 1\n",
    "    else:\n",
    "        soma = 0\n",
    "        for x in range(0,n+1):\n",
    "            soma = soma + f(x,k)\n",
    "    return soma\n",
    "    \n",
    "seq(100,1)"
   ]
  },
  {
   "cell_type": "code",
   "execution_count": 184,
   "metadata": {
    "ExecuteTime": {
     "end_time": "2022-03-09T17:33:07.244794Z",
     "start_time": "2022-03-09T17:33:07.238841Z"
    }
   },
   "outputs": [
    {
     "data": {
      "text/plain": [
       "5050"
      ]
     },
     "execution_count": 184,
     "metadata": {},
     "output_type": "execute_result"
    }
   ],
   "source": [
    "def soma(n):\n",
    "    total = 0 \n",
    "    k = 1\n",
    "    while k <= n:\n",
    "        total = total + k\n",
    "        k = k + 1\n",
    "    return total\n",
    "\n",
    "soma(100)"
   ]
  },
  {
   "cell_type": "code",
   "execution_count": 194,
   "metadata": {
    "ExecuteTime": {
     "end_time": "2022-03-09T17:42:53.982042Z",
     "start_time": "2022-03-09T17:42:53.975011Z"
    }
   },
   "outputs": [
    {
     "data": {
      "text/plain": [
       "5050"
      ]
     },
     "execution_count": 194,
     "metadata": {},
     "output_type": "execute_result"
    }
   ],
   "source": [
    "def soma(n, term):\n",
    "    total = 0\n",
    "    k = 1\n",
    "    while k <= n:\n",
    "        total = total + term(k)\n",
    "        k = k + 1\n",
    "    return total\n",
    "\n",
    "def f(x):\n",
    "    return x\n",
    "\n",
    "soma(100, f)"
   ]
  },
  {
   "cell_type": "code",
   "execution_count": 226,
   "metadata": {
    "ExecuteTime": {
     "end_time": "2022-03-09T17:59:32.631634Z",
     "start_time": "2022-03-09T17:59:32.620663Z"
    }
   },
   "outputs": [
    {
     "data": {
      "text/plain": [
       "5050"
      ]
     },
     "execution_count": 226,
     "metadata": {},
     "output_type": "execute_result"
    }
   ],
   "source": [
    "def g(n, p, a, f):\n",
    "    total = 0\n",
    "    k = 1\n",
    "    for k in range(0,n+1):\n",
    "        total = total + f(k,p,a)\n",
    "        k = k + 1\n",
    "    return total\n",
    "\n",
    "def f(x,p,a):\n",
    "    return x**p + a\n",
    "\n",
    "g(100, 1, 0, f)"
   ]
  },
  {
   "cell_type": "markdown",
   "metadata": {},
   "source": [
    "# Arrays"
   ]
  },
  {
   "cell_type": "code",
   "execution_count": 227,
   "metadata": {
    "ExecuteTime": {
     "end_time": "2022-03-09T18:01:08.319663Z",
     "start_time": "2022-03-09T18:01:07.811244Z"
    }
   },
   "outputs": [],
   "source": [
    "import numpy as np\n",
    "import pandas as pd"
   ]
  },
  {
   "cell_type": "markdown",
   "metadata": {},
   "source": [
    "## Definindo matriz"
   ]
  },
  {
   "cell_type": "code",
   "execution_count": 233,
   "metadata": {
    "ExecuteTime": {
     "end_time": "2022-03-09T18:02:59.085176Z",
     "start_time": "2022-03-09T18:02:59.079188Z"
    }
   },
   "outputs": [
    {
     "data": {
      "text/plain": [
       "array([1, 2, 3])"
      ]
     },
     "execution_count": 233,
     "metadata": {},
     "output_type": "execute_result"
    }
   ],
   "source": [
    "A = [1,2,3]\n",
    "\n",
    "A = np.array(A)\n",
    "\n",
    "A"
   ]
  },
  {
   "cell_type": "code",
   "execution_count": 234,
   "metadata": {
    "ExecuteTime": {
     "end_time": "2022-03-09T18:03:06.369118Z",
     "start_time": "2022-03-09T18:03:06.364163Z"
    }
   },
   "outputs": [
    {
     "data": {
      "text/plain": [
       "(3,)"
      ]
     },
     "execution_count": 234,
     "metadata": {},
     "output_type": "execute_result"
    }
   ],
   "source": [
    "np.shape(A)"
   ]
  },
  {
   "cell_type": "code",
   "execution_count": 235,
   "metadata": {
    "ExecuteTime": {
     "end_time": "2022-03-09T18:03:20.975556Z",
     "start_time": "2022-03-09T18:03:20.966583Z"
    }
   },
   "outputs": [
    {
     "data": {
      "text/plain": [
       "array([[1],\n",
       "       [2],\n",
       "       [3]])"
      ]
     },
     "execution_count": 235,
     "metadata": {},
     "output_type": "execute_result"
    }
   ],
   "source": [
    "A = [[1],[2],[3]]\n",
    "\n",
    "A = np.array(A)\n",
    "\n",
    "A"
   ]
  },
  {
   "cell_type": "code",
   "execution_count": 236,
   "metadata": {
    "ExecuteTime": {
     "end_time": "2022-03-09T18:03:28.563184Z",
     "start_time": "2022-03-09T18:03:28.555239Z"
    }
   },
   "outputs": [
    {
     "data": {
      "text/plain": [
       "(3, 1)"
      ]
     },
     "execution_count": 236,
     "metadata": {},
     "output_type": "execute_result"
    }
   ],
   "source": [
    "np.shape(A)"
   ]
  },
  {
   "cell_type": "code",
   "execution_count": 238,
   "metadata": {
    "ExecuteTime": {
     "end_time": "2022-03-09T18:04:28.800869Z",
     "start_time": "2022-03-09T18:04:28.792852Z"
    }
   },
   "outputs": [
    {
     "data": {
      "text/plain": [
       "array([[ 1,  4,  5],\n",
       "       [-5,  8,  9]])"
      ]
     },
     "execution_count": 238,
     "metadata": {},
     "output_type": "execute_result"
    }
   ],
   "source": [
    "# definindo uma matriz 2x3 chamada A\n",
    "A = [[1, 4, 5], \n",
    "    [-5, 8, 9]]\n",
    "\n",
    "A = np.array(A)\n",
    "\n",
    "A"
   ]
  },
  {
   "cell_type": "code",
   "execution_count": 239,
   "metadata": {
    "ExecuteTime": {
     "end_time": "2022-03-09T18:04:43.150554Z",
     "start_time": "2022-03-09T18:04:43.142581Z"
    }
   },
   "outputs": [
    {
     "data": {
      "text/plain": [
       "(2, 3)"
      ]
     },
     "execution_count": 239,
     "metadata": {},
     "output_type": "execute_result"
    }
   ],
   "source": [
    "np.shape(A)"
   ]
  },
  {
   "cell_type": "code",
   "execution_count": 240,
   "metadata": {
    "ExecuteTime": {
     "end_time": "2022-03-09T18:05:14.740716Z",
     "start_time": "2022-03-09T18:05:14.735731Z"
    }
   },
   "outputs": [],
   "source": [
    "A = ['a', 'b', 'c', 'd']"
   ]
  },
  {
   "cell_type": "code",
   "execution_count": 241,
   "metadata": {
    "ExecuteTime": {
     "end_time": "2022-03-09T18:05:20.132262Z",
     "start_time": "2022-03-09T18:05:20.126279Z"
    }
   },
   "outputs": [
    {
     "data": {
      "text/plain": [
       "'a'"
      ]
     },
     "execution_count": 241,
     "metadata": {},
     "output_type": "execute_result"
    }
   ],
   "source": [
    "A[0]"
   ]
  },
  {
   "cell_type": "code",
   "execution_count": 242,
   "metadata": {
    "ExecuteTime": {
     "end_time": "2022-03-09T18:05:27.914361Z",
     "start_time": "2022-03-09T18:05:27.907382Z"
    }
   },
   "outputs": [
    {
     "data": {
      "text/plain": [
       "'b'"
      ]
     },
     "execution_count": 242,
     "metadata": {},
     "output_type": "execute_result"
    }
   ],
   "source": [
    "A[1]"
   ]
  },
  {
   "cell_type": "code",
   "execution_count": 243,
   "metadata": {
    "ExecuteTime": {
     "end_time": "2022-03-09T18:05:55.583300Z",
     "start_time": "2022-03-09T18:05:55.575326Z"
    }
   },
   "outputs": [
    {
     "data": {
      "text/plain": [
       "array([['a'],\n",
       "       ['b'],\n",
       "       ['c'],\n",
       "       ['d']], dtype='<U1')"
      ]
     },
     "execution_count": 243,
     "metadata": {},
     "output_type": "execute_result"
    }
   ],
   "source": [
    "A = [['a'],[ 'b'], ['c'], ['d']]\n",
    "\n",
    "A = np.array(A)\n",
    "\n",
    "A"
   ]
  },
  {
   "cell_type": "code",
   "execution_count": 244,
   "metadata": {
    "ExecuteTime": {
     "end_time": "2022-03-09T18:06:04.307886Z",
     "start_time": "2022-03-09T18:06:04.301904Z"
    }
   },
   "outputs": [
    {
     "data": {
      "text/plain": [
       "(4, 1)"
      ]
     },
     "execution_count": 244,
     "metadata": {},
     "output_type": "execute_result"
    }
   ],
   "source": [
    "np.shape(A)"
   ]
  },
  {
   "cell_type": "code",
   "execution_count": 245,
   "metadata": {
    "ExecuteTime": {
     "end_time": "2022-03-09T18:06:26.990895Z",
     "start_time": "2022-03-09T18:06:26.984915Z"
    }
   },
   "outputs": [
    {
     "data": {
      "text/plain": [
       "array(['a'], dtype='<U1')"
      ]
     },
     "execution_count": 245,
     "metadata": {},
     "output_type": "execute_result"
    }
   ],
   "source": [
    "A[0]"
   ]
  },
  {
   "cell_type": "code",
   "execution_count": 246,
   "metadata": {
    "ExecuteTime": {
     "end_time": "2022-03-09T18:06:39.370703Z",
     "start_time": "2022-03-09T18:06:39.363754Z"
    }
   },
   "outputs": [
    {
     "data": {
      "text/plain": [
       "'a'"
      ]
     },
     "execution_count": 246,
     "metadata": {},
     "output_type": "execute_result"
    }
   ],
   "source": [
    "A[0][0]"
   ]
  },
  {
   "cell_type": "code",
   "execution_count": 285,
   "metadata": {
    "ExecuteTime": {
     "end_time": "2022-03-09T18:18:28.182726Z",
     "start_time": "2022-03-09T18:18:28.171755Z"
    }
   },
   "outputs": [
    {
     "data": {
      "text/plain": [
       "array([['a1', 'a2', 'a3', 'a4'],\n",
       "       ['b1', 'b2', 'b3', 'b4'],\n",
       "       ['c1', 'c2', 'c3', 'c4'],\n",
       "       ['d1', 'd2', 'd3', 'd4']], dtype='<U2')"
      ]
     },
     "execution_count": 285,
     "metadata": {},
     "output_type": "execute_result"
    }
   ],
   "source": [
    "A = [['a1', 'a2', 'a3', 'a4'],\n",
    "     [ 'b1', 'b2', 'b3', 'b4'], \n",
    "     ['c1', 'c2', 'c3', 'c4'], \n",
    "     ['d1', 'd2', 'd3', 'd4']\n",
    "    ]\n",
    "\n",
    "A = np.array(A)\n",
    "\n",
    "A"
   ]
  },
  {
   "cell_type": "code",
   "execution_count": 248,
   "metadata": {
    "ExecuteTime": {
     "end_time": "2022-03-09T18:08:30.285220Z",
     "start_time": "2022-03-09T18:08:30.279236Z"
    }
   },
   "outputs": [
    {
     "data": {
      "text/plain": [
       "(4, 4)"
      ]
     },
     "execution_count": 248,
     "metadata": {},
     "output_type": "execute_result"
    }
   ],
   "source": [
    "np.shape(A)"
   ]
  },
  {
   "cell_type": "code",
   "execution_count": 249,
   "metadata": {
    "ExecuteTime": {
     "end_time": "2022-03-09T18:08:37.851643Z",
     "start_time": "2022-03-09T18:08:37.844672Z"
    }
   },
   "outputs": [
    {
     "data": {
      "text/plain": [
       "array(['a1', 'a2', 'a3', 'a4'], dtype='<U2')"
      ]
     },
     "execution_count": 249,
     "metadata": {},
     "output_type": "execute_result"
    }
   ],
   "source": [
    "# acessamos a primeira linha da matriz A(4x4)\n",
    "A[0]"
   ]
  },
  {
   "cell_type": "code",
   "execution_count": 250,
   "metadata": {
    "ExecuteTime": {
     "end_time": "2022-03-09T18:09:04.193783Z",
     "start_time": "2022-03-09T18:09:04.188829Z"
    }
   },
   "outputs": [
    {
     "data": {
      "text/plain": [
       "array(['b1', 'b2', 'b3', 'b4'], dtype='<U2')"
      ]
     },
     "execution_count": 250,
     "metadata": {},
     "output_type": "execute_result"
    }
   ],
   "source": [
    "# acessamos a segunda linha da matriz A(4x4)\n",
    "A[1]"
   ]
  },
  {
   "cell_type": "code",
   "execution_count": 256,
   "metadata": {
    "ExecuteTime": {
     "end_time": "2022-03-09T18:11:05.157147Z",
     "start_time": "2022-03-09T18:11:05.151161Z"
    }
   },
   "outputs": [
    {
     "data": {
      "text/plain": [
       "array(['a2', 'b2', 'c2', 'd2'], dtype='<U2')"
      ]
     },
     "execution_count": 256,
     "metadata": {},
     "output_type": "execute_result"
    }
   ],
   "source": [
    "# acessando a segunda coluna da matriz A(4x4)\n",
    "A[:,1]"
   ]
  },
  {
   "cell_type": "code",
   "execution_count": 266,
   "metadata": {
    "ExecuteTime": {
     "end_time": "2022-03-09T18:13:27.485917Z",
     "start_time": "2022-03-09T18:13:27.478942Z"
    }
   },
   "outputs": [
    {
     "data": {
      "text/plain": [
       "array(['c1', 'c2'], dtype='<U2')"
      ]
     },
     "execution_count": 266,
     "metadata": {},
     "output_type": "execute_result"
    }
   ],
   "source": [
    "A[2,:2]"
   ]
  },
  {
   "cell_type": "code",
   "execution_count": 272,
   "metadata": {
    "ExecuteTime": {
     "end_time": "2022-03-09T18:14:37.458056Z",
     "start_time": "2022-03-09T18:14:37.451081Z"
    }
   },
   "outputs": [
    {
     "data": {
      "text/plain": [
       "array(['b1', 'c1', 'd1'], dtype='<U2')"
      ]
     },
     "execution_count": 272,
     "metadata": {},
     "output_type": "execute_result"
    }
   ],
   "source": [
    "A[1:,0]"
   ]
  },
  {
   "cell_type": "code",
   "execution_count": 273,
   "metadata": {
    "ExecuteTime": {
     "end_time": "2022-03-09T18:15:06.283394Z",
     "start_time": "2022-03-09T18:15:06.277413Z"
    }
   },
   "outputs": [
    {
     "data": {
      "text/plain": [
       "array(['a1', 'b1', 'c1', 'd1'], dtype='<U2')"
      ]
     },
     "execution_count": 273,
     "metadata": {},
     "output_type": "execute_result"
    }
   ],
   "source": [
    "A[0:,0]"
   ]
  },
  {
   "cell_type": "code",
   "execution_count": 274,
   "metadata": {
    "ExecuteTime": {
     "end_time": "2022-03-09T18:15:20.357881Z",
     "start_time": "2022-03-09T18:15:20.351898Z"
    }
   },
   "outputs": [
    {
     "data": {
      "text/plain": [
       "array(['c1', 'd1'], dtype='<U2')"
      ]
     },
     "execution_count": 274,
     "metadata": {},
     "output_type": "execute_result"
    }
   ],
   "source": [
    "A[2:,0]"
   ]
  },
  {
   "cell_type": "code",
   "execution_count": 275,
   "metadata": {
    "ExecuteTime": {
     "end_time": "2022-03-09T18:15:34.388522Z",
     "start_time": "2022-03-09T18:15:34.381539Z"
    }
   },
   "outputs": [
    {
     "data": {
      "text/plain": [
       "array(['c2', 'd2'], dtype='<U2')"
      ]
     },
     "execution_count": 275,
     "metadata": {},
     "output_type": "execute_result"
    }
   ],
   "source": [
    "A[2:,1]"
   ]
  },
  {
   "cell_type": "code",
   "execution_count": 278,
   "metadata": {
    "ExecuteTime": {
     "end_time": "2022-03-09T18:16:42.570777Z",
     "start_time": "2022-03-09T18:16:42.564795Z"
    }
   },
   "outputs": [
    {
     "data": {
      "text/plain": [
       "(2,)"
      ]
     },
     "execution_count": 278,
     "metadata": {},
     "output_type": "execute_result"
    }
   ],
   "source": [
    "v = A[2:,1]\n",
    "\n",
    "np.shape(v)"
   ]
  },
  {
   "cell_type": "code",
   "execution_count": 281,
   "metadata": {
    "ExecuteTime": {
     "end_time": "2022-03-09T18:17:05.530624Z",
     "start_time": "2022-03-09T18:17:05.525673Z"
    }
   },
   "outputs": [
    {
     "data": {
      "text/plain": [
       "'c2'"
      ]
     },
     "execution_count": 281,
     "metadata": {},
     "output_type": "execute_result"
    }
   ],
   "source": [
    "v[0]"
   ]
  },
  {
   "cell_type": "code",
   "execution_count": 280,
   "metadata": {
    "ExecuteTime": {
     "end_time": "2022-03-09T18:17:03.664801Z",
     "start_time": "2022-03-09T18:17:03.658854Z"
    }
   },
   "outputs": [
    {
     "data": {
      "text/plain": [
       "'d2'"
      ]
     },
     "execution_count": 280,
     "metadata": {},
     "output_type": "execute_result"
    }
   ],
   "source": [
    "v[1]"
   ]
  },
  {
   "cell_type": "markdown",
   "metadata": {},
   "source": [
    "## Entradas da matriz\n",
    "\n",
    "Em geral representamos uma matriz por uma letra maiúscula qualquer, e seus elementos pelos sub índices, em geral utilizamos letras romandas (m,n,p,q,i,j,k,l) para designar as linhas e colunas de uma matriz.\n",
    "\n",
    "\\[A_{ij} = \\begin{pmatrix} \n",
    "a_{11} & a_{12} \\\\ \n",
    "a_{21} & a_{22}\n",
    "\\end{pmatrix}\\]\n",
    "\n",
    "Por exemplo, o termo (11) da matriz é o termo $A_{11} = a_{11}$, o termo da primeira linha, e segunda coluna é o termo $A_{12} = a_{12}$. No Python, os contadores iniciam do zero por default, enquanto que em matemática, é comum utilizarmos o contador a partir de 1. Tomar cuidado com este tipo de detalhe."
   ]
  },
  {
   "cell_type": "code",
   "execution_count": 286,
   "metadata": {
    "ExecuteTime": {
     "end_time": "2022-03-09T18:18:34.749004Z",
     "start_time": "2022-03-09T18:18:34.743020Z"
    }
   },
   "outputs": [
    {
     "data": {
      "text/plain": [
       "array([['a1', 'a2', 'a3', 'a4'],\n",
       "       ['b1', 'b2', 'b3', 'b4'],\n",
       "       ['c1', 'c2', 'c3', 'c4'],\n",
       "       ['d1', 'd2', 'd3', 'd4']], dtype='<U2')"
      ]
     },
     "execution_count": 286,
     "metadata": {},
     "output_type": "execute_result"
    }
   ],
   "source": [
    "A"
   ]
  },
  {
   "cell_type": "code",
   "execution_count": 287,
   "metadata": {
    "ExecuteTime": {
     "end_time": "2022-03-09T18:19:01.470393Z",
     "start_time": "2022-03-09T18:19:01.463415Z"
    }
   },
   "outputs": [
    {
     "data": {
      "text/plain": [
       "'b3'"
      ]
     },
     "execution_count": 287,
     "metadata": {},
     "output_type": "execute_result"
    }
   ],
   "source": [
    "# verificando componentes da matriz A\n",
    "A[1][2]"
   ]
  },
  {
   "cell_type": "code",
   "execution_count": 288,
   "metadata": {
    "ExecuteTime": {
     "end_time": "2022-03-09T18:26:29.086133Z",
     "start_time": "2022-03-09T18:26:29.078119Z"
    }
   },
   "outputs": [
    {
     "data": {
      "text/plain": [
       "array([[1],\n",
       "       [2],\n",
       "       [3]])"
      ]
     },
     "execution_count": 288,
     "metadata": {},
     "output_type": "execute_result"
    }
   ],
   "source": [
    "# definir uma matriz de 3 linhas e 1 coluna\n",
    "B = [[1],[2],[3]]\n",
    "\n",
    "B = np.array(B)\n",
    "\n",
    "B"
   ]
  },
  {
   "cell_type": "code",
   "execution_count": 289,
   "metadata": {
    "ExecuteTime": {
     "end_time": "2022-03-09T18:26:44.448413Z",
     "start_time": "2022-03-09T18:26:44.443395Z"
    }
   },
   "outputs": [
    {
     "data": {
      "text/plain": [
       "(3, 1)"
      ]
     },
     "execution_count": 289,
     "metadata": {},
     "output_type": "execute_result"
    }
   ],
   "source": [
    "np.shape(B)"
   ]
  },
  {
   "cell_type": "code",
   "execution_count": 292,
   "metadata": {
    "ExecuteTime": {
     "end_time": "2022-03-09T18:29:03.689900Z",
     "start_time": "2022-03-09T18:29:03.680927Z"
    }
   },
   "outputs": [
    {
     "data": {
      "text/plain": [
       "array([[1, 2, 3]])"
      ]
     },
     "execution_count": 292,
     "metadata": {},
     "output_type": "execute_result"
    }
   ],
   "source": [
    "# definir uma matriz de 1 linha e 3 colunas\n",
    "C = [[1,2,3]]\n",
    "\n",
    "C = np.array(C)\n",
    "\n",
    "C"
   ]
  },
  {
   "cell_type": "code",
   "execution_count": 293,
   "metadata": {
    "ExecuteTime": {
     "end_time": "2022-03-09T18:29:04.960837Z",
     "start_time": "2022-03-09T18:29:04.955814Z"
    }
   },
   "outputs": [
    {
     "data": {
      "text/plain": [
       "(1, 3)"
      ]
     },
     "execution_count": 293,
     "metadata": {},
     "output_type": "execute_result"
    }
   ],
   "source": [
    "np.shape(C)"
   ]
  },
  {
   "cell_type": "code",
   "execution_count": null,
   "metadata": {},
   "outputs": [],
   "source": [
    "# [] = lista == vetor\n",
    "# [[]] = lista de lista == matriz\n",
    "# [[[]]] = lista de lista de lista == tensor"
   ]
  },
  {
   "cell_type": "code",
   "execution_count": 297,
   "metadata": {
    "ExecuteTime": {
     "end_time": "2022-03-09T18:31:45.473133Z",
     "start_time": "2022-03-09T18:31:45.467183Z"
    }
   },
   "outputs": [
    {
     "data": {
      "text/plain": [
       "1"
      ]
     },
     "execution_count": 297,
     "metadata": {},
     "output_type": "execute_result"
    }
   ],
   "source": [
    "v = [1,2,3]\n",
    "\n",
    "v = np.array(v)\n",
    "\n",
    "v[0]"
   ]
  },
  {
   "cell_type": "code",
   "execution_count": 298,
   "metadata": {
    "ExecuteTime": {
     "end_time": "2022-03-09T18:31:56.386814Z",
     "start_time": "2022-03-09T18:31:56.379873Z"
    }
   },
   "outputs": [
    {
     "data": {
      "text/plain": [
       "(3,)"
      ]
     },
     "execution_count": 298,
     "metadata": {},
     "output_type": "execute_result"
    }
   ],
   "source": [
    "np.shape(v)"
   ]
  },
  {
   "cell_type": "code",
   "execution_count": 303,
   "metadata": {
    "ExecuteTime": {
     "end_time": "2022-03-09T18:34:47.743943Z",
     "start_time": "2022-03-09T18:34:47.736958Z"
    }
   },
   "outputs": [
    {
     "data": {
      "text/plain": [
       "array([[1, 2, 3]])"
      ]
     },
     "execution_count": 303,
     "metadata": {},
     "output_type": "execute_result"
    }
   ],
   "source": [
    "A = [[1,2,3] # --> primeira coluna\n",
    "    ]\n",
    "\n",
    "A = np.array(A)\n",
    "\n",
    "A"
   ]
  },
  {
   "cell_type": "code",
   "execution_count": 304,
   "metadata": {
    "ExecuteTime": {
     "end_time": "2022-03-09T18:35:47.241578Z",
     "start_time": "2022-03-09T18:35:47.233594Z"
    }
   },
   "outputs": [
    {
     "data": {
      "text/plain": [
       "array([[1, 2, 3],\n",
       "       [4, 5, 6],\n",
       "       [7, 8, 9]])"
      ]
     },
     "execution_count": 304,
     "metadata": {},
     "output_type": "execute_result"
    }
   ],
   "source": [
    "A = [[1,2,3], # --> primeira linha\n",
    "     [4,5,6], # --> segunda linha\n",
    "     [7,8,9]  # --> terceira linha\n",
    "    ]\n",
    "\n",
    "A = np.array(A)\n",
    "\n",
    "A"
   ]
  },
  {
   "cell_type": "code",
   "execution_count": 299,
   "metadata": {
    "ExecuteTime": {
     "end_time": "2022-03-09T18:32:13.250653Z",
     "start_time": "2022-03-09T18:32:13.243672Z"
    }
   },
   "outputs": [
    {
     "data": {
      "text/plain": [
       "(1, 3)"
      ]
     },
     "execution_count": 299,
     "metadata": {},
     "output_type": "execute_result"
    }
   ],
   "source": [
    "np.shape(A)"
   ]
  },
  {
   "cell_type": "code",
   "execution_count": 305,
   "metadata": {
    "ExecuteTime": {
     "end_time": "2022-03-09T18:36:18.565347Z",
     "start_time": "2022-03-09T18:36:18.558367Z"
    }
   },
   "outputs": [
    {
     "data": {
      "text/plain": [
       "5"
      ]
     },
     "execution_count": 305,
     "metadata": {},
     "output_type": "execute_result"
    }
   ],
   "source": [
    "A[1][1]"
   ]
  },
  {
   "cell_type": "code",
   "execution_count": 306,
   "metadata": {
    "ExecuteTime": {
     "end_time": "2022-03-09T18:36:50.788518Z",
     "start_time": "2022-03-09T18:36:50.782570Z"
    }
   },
   "outputs": [
    {
     "data": {
      "text/plain": [
       "8"
      ]
     },
     "execution_count": 306,
     "metadata": {},
     "output_type": "execute_result"
    }
   ],
   "source": [
    "A[2][1]"
   ]
  },
  {
   "cell_type": "code",
   "execution_count": 300,
   "metadata": {
    "ExecuteTime": {
     "end_time": "2022-03-09T18:32:42.332308Z",
     "start_time": "2022-03-09T18:32:42.326321Z"
    }
   },
   "outputs": [
    {
     "data": {
      "text/plain": [
       "array([[[1, 2, 3]]])"
      ]
     },
     "execution_count": 300,
     "metadata": {},
     "output_type": "execute_result"
    }
   ],
   "source": [
    "T = [[[1,2,3]]]\n",
    "\n",
    "T = np.array(T)\n",
    "\n",
    "T"
   ]
  },
  {
   "cell_type": "code",
   "execution_count": 301,
   "metadata": {
    "ExecuteTime": {
     "end_time": "2022-03-09T18:32:51.506609Z",
     "start_time": "2022-03-09T18:32:51.499660Z"
    }
   },
   "outputs": [
    {
     "data": {
      "text/plain": [
       "(1, 1, 3)"
      ]
     },
     "execution_count": 301,
     "metadata": {},
     "output_type": "execute_result"
    }
   ],
   "source": [
    "np.shape(T)"
   ]
  },
  {
   "cell_type": "code",
   "execution_count": 283,
   "metadata": {
    "ExecuteTime": {
     "end_time": "2022-03-09T18:17:46.829965Z",
     "start_time": "2022-03-09T18:17:46.821988Z"
    }
   },
   "outputs": [
    {
     "data": {
      "text/plain": [
       "'3'"
      ]
     },
     "execution_count": 283,
     "metadata": {},
     "output_type": "execute_result"
    }
   ],
   "source": [
    "# redefinindo componentes da matriz B\n",
    "B[1][2] = 3\n",
    "\n",
    "B[1][2]"
   ]
  },
  {
   "cell_type": "markdown",
   "metadata": {},
   "source": [
    "## Soma de matrizes\n",
    "\n",
    "Para somarmos duas ou mais matrizes, estas devem ter o mesmo número de linhas e de colunas, caso contrário, esta operação não funciona. Então, por exemplo se tivermos uma matriz $A(3x2)$, podemos somá-la à outra matriz $B(3x2)$, e esta soma é realizada termo a termo, ou seja, somamos da seguinte forma\n",
    "\n",
    "\\[C_{ij} = A_{ij} + B_{ij}\\]"
   ]
  },
  {
   "cell_type": "code",
   "execution_count": 309,
   "metadata": {
    "ExecuteTime": {
     "end_time": "2022-03-09T18:38:52.791121Z",
     "start_time": "2022-03-09T18:38:52.781148Z"
    }
   },
   "outputs": [
    {
     "data": {
      "text/plain": [
       "array([[17, 15,  4],\n",
       "       [10, 12,  9],\n",
       "       [11, 13, 18]])"
      ]
     },
     "execution_count": 309,
     "metadata": {},
     "output_type": "execute_result"
    }
   ],
   "source": [
    "# definindo matriz X 3x3\n",
    "X = [[12,7,3],\n",
    "    [4 ,5,6],\n",
    "    [7 ,8,9]]\n",
    "\n",
    "X = np.array(X)\n",
    "\n",
    "# definindo matriz Y 3x3\n",
    "Y = [[5,8,1],\n",
    "    [6,7,3],\n",
    "    [4,5,9]]\n",
    "\n",
    "Y = np.array(Y)\n",
    "\n",
    "Z = X + Y\n",
    "\n",
    "Z"
   ]
  },
  {
   "cell_type": "code",
   "execution_count": 311,
   "metadata": {
    "ExecuteTime": {
     "end_time": "2022-03-09T18:41:32.229488Z",
     "start_time": "2022-03-09T18:41:32.222509Z"
    }
   },
   "outputs": [
    {
     "data": {
      "text/plain": [
       "array([[12,  7,  3],\n",
       "       [ 4,  5,  6],\n",
       "       [ 7,  8,  9]])"
      ]
     },
     "execution_count": 311,
     "metadata": {},
     "output_type": "execute_result"
    }
   ],
   "source": [
    "X"
   ]
  },
  {
   "cell_type": "code",
   "execution_count": 312,
   "metadata": {
    "ExecuteTime": {
     "end_time": "2022-03-09T18:41:36.410406Z",
     "start_time": "2022-03-09T18:41:36.404422Z"
    }
   },
   "outputs": [
    {
     "data": {
      "text/plain": [
       "array([[5, 8, 1],\n",
       "       [6, 7, 3],\n",
       "       [4, 5, 9]])"
      ]
     },
     "execution_count": 312,
     "metadata": {},
     "output_type": "execute_result"
    }
   ],
   "source": [
    "Y"
   ]
  },
  {
   "cell_type": "code",
   "execution_count": 310,
   "metadata": {
    "ExecuteTime": {
     "end_time": "2022-03-09T18:41:18.185600Z",
     "start_time": "2022-03-09T18:41:18.178621Z"
    }
   },
   "outputs": [
    {
     "data": {
      "text/plain": [
       "12"
      ]
     },
     "execution_count": 310,
     "metadata": {},
     "output_type": "execute_result"
    }
   ],
   "source": [
    "X[0][0]"
   ]
  },
  {
   "cell_type": "code",
   "execution_count": 313,
   "metadata": {
    "ExecuteTime": {
     "end_time": "2022-03-09T18:41:39.958315Z",
     "start_time": "2022-03-09T18:41:39.952327Z"
    }
   },
   "outputs": [
    {
     "data": {
      "text/plain": [
       "5"
      ]
     },
     "execution_count": 313,
     "metadata": {},
     "output_type": "execute_result"
    }
   ],
   "source": [
    "Y[0][0]"
   ]
  },
  {
   "cell_type": "code",
   "execution_count": 314,
   "metadata": {
    "ExecuteTime": {
     "end_time": "2022-03-09T18:42:01.329148Z",
     "start_time": "2022-03-09T18:42:01.324146Z"
    }
   },
   "outputs": [
    {
     "data": {
      "text/plain": [
       "17"
      ]
     },
     "execution_count": 314,
     "metadata": {},
     "output_type": "execute_result"
    }
   ],
   "source": [
    "z00 = X[0][0] + Y[0][0]\n",
    "\n",
    "z00"
   ]
  },
  {
   "cell_type": "code",
   "execution_count": 316,
   "metadata": {
    "ExecuteTime": {
     "end_time": "2022-03-09T18:42:17.650461Z",
     "start_time": "2022-03-09T18:42:17.643480Z"
    }
   },
   "outputs": [
    {
     "data": {
      "text/plain": [
       "array([[17, 15,  4],\n",
       "       [10, 12,  9],\n",
       "       [11, 13, 18]])"
      ]
     },
     "execution_count": 316,
     "metadata": {},
     "output_type": "execute_result"
    }
   ],
   "source": [
    "Z"
   ]
  },
  {
   "cell_type": "code",
   "execution_count": 315,
   "metadata": {
    "ExecuteTime": {
     "end_time": "2022-03-09T18:42:12.124152Z",
     "start_time": "2022-03-09T18:42:12.118169Z"
    }
   },
   "outputs": [
    {
     "data": {
      "text/plain": [
       "17"
      ]
     },
     "execution_count": 315,
     "metadata": {},
     "output_type": "execute_result"
    }
   ],
   "source": [
    "Z[0][0]"
   ]
  },
  {
   "cell_type": "markdown",
   "metadata": {},
   "source": [
    "## Exemplo de soma que não dá certo\n",
    "\n",
    "Neste exemplo, vamos somar duas matrizes com diferentes quantidades de linhas e colunas, e vamos ver que esta operação resulta em erro"
   ]
  },
  {
   "cell_type": "code",
   "execution_count": 317,
   "metadata": {
    "ExecuteTime": {
     "end_time": "2022-03-09T18:43:43.597148Z",
     "start_time": "2022-03-09T18:43:43.591163Z"
    }
   },
   "outputs": [
    {
     "data": {
      "text/plain": [
       "array([[1, 2],\n",
       "       [3, 4]])"
      ]
     },
     "execution_count": 317,
     "metadata": {},
     "output_type": "execute_result"
    }
   ],
   "source": [
    "X = [[1,2],[3,4]]\n",
    "\n",
    "X = np.array(X)\n",
    "\n",
    "X"
   ]
  },
  {
   "cell_type": "code",
   "execution_count": 318,
   "metadata": {
    "ExecuteTime": {
     "end_time": "2022-03-09T18:44:20.769357Z",
     "start_time": "2022-03-09T18:44:20.762375Z"
    }
   },
   "outputs": [
    {
     "data": {
      "text/plain": [
       "array([[1, 2, 3, 4]])"
      ]
     },
     "execution_count": 318,
     "metadata": {},
     "output_type": "execute_result"
    }
   ],
   "source": [
    "Y = [[1,2,3,4]]\n",
    "\n",
    "Y = np.array(Y)\n",
    "\n",
    "Y"
   ]
  },
  {
   "cell_type": "code",
   "execution_count": 319,
   "metadata": {
    "ExecuteTime": {
     "end_time": "2022-03-09T18:44:30.041052Z",
     "start_time": "2022-03-09T18:44:30.030083Z"
    }
   },
   "outputs": [
    {
     "ename": "ValueError",
     "evalue": "operands could not be broadcast together with shapes (2,2) (1,4) ",
     "output_type": "error",
     "traceback": [
      "\u001b[1;31m---------------------------------------------------------------------------\u001b[0m",
      "\u001b[1;31mValueError\u001b[0m                                Traceback (most recent call last)",
      "\u001b[1;32m<ipython-input-319-18170305d0a0>\u001b[0m in \u001b[0;36m<module>\u001b[1;34m\u001b[0m\n\u001b[1;32m----> 1\u001b[1;33m \u001b[0mZ\u001b[0m \u001b[1;33m=\u001b[0m \u001b[0mX\u001b[0m \u001b[1;33m+\u001b[0m \u001b[0mY\u001b[0m\u001b[1;33m\u001b[0m\u001b[1;33m\u001b[0m\u001b[0m\n\u001b[0m",
      "\u001b[1;31mValueError\u001b[0m: operands could not be broadcast together with shapes (2,2) (1,4) "
     ]
    }
   ],
   "source": [
    "Z = X + Y"
   ]
  },
  {
   "cell_type": "markdown",
   "metadata": {},
   "source": [
    "## Exemplos de geração de matrizes"
   ]
  },
  {
   "cell_type": "code",
   "execution_count": 322,
   "metadata": {
    "ExecuteTime": {
     "end_time": "2022-03-09T18:45:47.963290Z",
     "start_time": "2022-03-09T18:45:47.954312Z"
    }
   },
   "outputs": [
    {
     "data": {
      "text/plain": [
       "array([[0., 0., 0.],\n",
       "       [0., 0., 0.],\n",
       "       [0., 0., 0.]])"
      ]
     },
     "execution_count": 322,
     "metadata": {},
     "output_type": "execute_result"
    }
   ],
   "source": [
    "# definindo matriz nula/inicializando uma matriz com entradas igual a 0\n",
    "Z = np.zeros((3,3))\n",
    "\n",
    "Z"
   ]
  },
  {
   "cell_type": "code",
   "execution_count": 326,
   "metadata": {
    "ExecuteTime": {
     "end_time": "2022-03-09T18:47:06.167591Z",
     "start_time": "2022-03-09T18:47:06.161607Z"
    }
   },
   "outputs": [
    {
     "data": {
      "text/plain": [
       "array([[1., 0., 0.],\n",
       "       [0., 1., 0.],\n",
       "       [0., 0., 1.]])"
      ]
     },
     "execution_count": 326,
     "metadata": {},
     "output_type": "execute_result"
    }
   ],
   "source": [
    "I = np.identity(3)\n",
    "\n",
    "I"
   ]
  },
  {
   "cell_type": "markdown",
   "metadata": {},
   "source": [
    "# Matriz inversa\n",
    "\n",
    "A matriz inversa só existe no caso de matrizes quadradas que não são singulares. Uma matriz não singular é definida como uma matriz qualquer que tenha o valor do determinante diferente de zero. Em outras palavras, a matriz inversa de uma matriz qualquer só existe no caso do determinante ser não nulo. Como propriedade de matrizes não singulares quadradas, tem-se que\n",
    "\n",
    "\\[A . A^{-1} = A^{-1} . A = I\\]\n",
    "\n",
    "sendo $A$ uma matriz quadrada nxn, $A^{-1}$ a matriz inversa de $A$, e $I$ a matriz inversa de I."
   ]
  },
  {
   "cell_type": "code",
   "execution_count": 327,
   "metadata": {
    "ExecuteTime": {
     "end_time": "2022-03-09T18:50:24.514962Z",
     "start_time": "2022-03-09T18:50:24.508015Z"
    }
   },
   "outputs": [
    {
     "data": {
      "text/plain": [
       "array([[12,  7,  3],\n",
       "       [ 4,  5,  6],\n",
       "       [ 7,  8,  9]])"
      ]
     },
     "execution_count": 327,
     "metadata": {},
     "output_type": "execute_result"
    }
   ],
   "source": [
    "X = [[12,7,3],\n",
    "    [4 ,5,6],\n",
    "    [7 ,8,9]]\n",
    "\n",
    "X = np.array(X)\n",
    "\n",
    "X"
   ]
  },
  {
   "cell_type": "code",
   "execution_count": 330,
   "metadata": {
    "ExecuteTime": {
     "end_time": "2022-03-09T18:51:04.154878Z",
     "start_time": "2022-03-09T18:51:04.149891Z"
    }
   },
   "outputs": [
    {
     "data": {
      "text/plain": [
       "-2.9999999999999982"
      ]
     },
     "execution_count": 330,
     "metadata": {},
     "output_type": "execute_result"
    }
   ],
   "source": [
    "det_X = np.linalg.det(X)\n",
    "\n",
    "det_X"
   ]
  },
  {
   "cell_type": "code",
   "execution_count": 331,
   "metadata": {
    "ExecuteTime": {
     "end_time": "2022-03-09T18:52:36.380384Z",
     "start_time": "2022-03-09T18:52:36.371441Z"
    }
   },
   "outputs": [
    {
     "data": {
      "text/plain": [
       "array([[  1.        ,  13.        ,  -9.        ],\n",
       "       [ -2.        , -29.        ,  20.        ],\n",
       "       [  1.        ,  15.66666667, -10.66666667]])"
      ]
     },
     "execution_count": 331,
     "metadata": {},
     "output_type": "execute_result"
    }
   ],
   "source": [
    "inv_X = np.linalg.inv(X)\n",
    "\n",
    "inv_X"
   ]
  },
  {
   "cell_type": "code",
   "execution_count": 357,
   "metadata": {
    "ExecuteTime": {
     "end_time": "2022-03-09T19:23:52.633330Z",
     "start_time": "2022-03-09T19:23:52.626349Z"
    }
   },
   "outputs": [
    {
     "data": {
      "text/plain": [
       "array([[ 1.00000000e+00, -7.10542736e-15,  1.95399252e-14],\n",
       "       [ 0.00000000e+00,  1.00000000e+00, -3.55271368e-15],\n",
       "       [-4.44089210e-16, -1.42108547e-14,  1.00000000e+00]])"
      ]
     },
     "execution_count": 357,
     "metadata": {},
     "output_type": "execute_result"
    }
   ],
   "source": [
    "np.matmul(X,inv_X)"
   ]
  },
  {
   "cell_type": "code",
   "execution_count": 358,
   "metadata": {
    "ExecuteTime": {
     "end_time": "2022-03-09T19:23:53.850048Z",
     "start_time": "2022-03-09T19:23:53.843068Z"
    }
   },
   "outputs": [
    {
     "data": {
      "text/plain": [
       "array([[ 1.00000000e+00,  0.00000000e+00,  1.42108547e-14],\n",
       "       [ 2.48689958e-14,  1.00000000e+00,  3.55271368e-15],\n",
       "       [-1.77635684e-15,  0.00000000e+00,  1.00000000e+00]])"
      ]
     },
     "execution_count": 358,
     "metadata": {},
     "output_type": "execute_result"
    }
   ],
   "source": [
    "np.matmul(inv_X,X)"
   ]
  },
  {
   "cell_type": "code",
   "execution_count": 333,
   "metadata": {
    "ExecuteTime": {
     "end_time": "2022-03-09T18:53:45.849882Z",
     "start_time": "2022-03-09T18:53:45.843905Z"
    }
   },
   "outputs": [
    {
     "data": {
      "text/plain": [
       "True"
      ]
     },
     "execution_count": 333,
     "metadata": {},
     "output_type": "execute_result"
    }
   ],
   "source": [
    "3*4 == 4*3"
   ]
  },
  {
   "cell_type": "markdown",
   "metadata": {},
   "source": [
    "## Definindo matrizes usando loop"
   ]
  },
  {
   "cell_type": "code",
   "execution_count": 335,
   "metadata": {
    "ExecuteTime": {
     "end_time": "2022-03-09T18:57:42.328006Z",
     "start_time": "2022-03-09T18:57:42.315041Z"
    }
   },
   "outputs": [
    {
     "name": "stdout",
     "output_type": "stream",
     "text": [
      "[17. 15.  4.]\n",
      "[10. 12.  9.]\n",
      "[11. 13. 18.]\n"
     ]
    }
   ],
   "source": [
    "X = [[12,7,3],\n",
    "    [4 ,5,6],\n",
    "    [7 ,8,9]]\n",
    "\n",
    "X = np.array(X)\n",
    "\n",
    "# definindo matriz Y 3x3\n",
    "Y = [[5,8,1],\n",
    "    [6,7,3],\n",
    "    [4,5,9]]\n",
    "\n",
    "Y = np.array(Y)\n",
    "\n",
    "# definindo uma nova matriz somando duas matrizes\n",
    "# utilizando um loop for\n",
    "# iterando nas linhas\n",
    "for i in range(len(X)):\n",
    "    # iterando nas colunas\n",
    "    for j in range(len(X[0])):\n",
    "        Z[i][j] = X[i][j] + Y[i][j]\n",
    "\n",
    "for r in Z:\n",
    "    print(r)"
   ]
  },
  {
   "cell_type": "markdown",
   "metadata": {},
   "source": [
    "## Matriz transposta\n",
    "\n",
    "A matriz transposta inverte linhas e colunas de uma matriz, ou seja dada uma matriz A (nxm) transformamos as linhas de A em colunas, e as colunas de A em linhas."
   ]
  },
  {
   "cell_type": "code",
   "execution_count": 336,
   "metadata": {
    "ExecuteTime": {
     "end_time": "2022-03-09T18:58:24.098702Z",
     "start_time": "2022-03-09T18:58:24.092713Z"
    }
   },
   "outputs": [
    {
     "data": {
      "text/plain": [
       "array([[12,  7],\n",
       "       [ 4,  5],\n",
       "       [ 3,  8]])"
      ]
     },
     "execution_count": 336,
     "metadata": {},
     "output_type": "execute_result"
    }
   ],
   "source": [
    "X = [[12,7],\n",
    "    [4 ,5],\n",
    "    [3 ,8]]\n",
    "\n",
    "X = np.array(X)\n",
    "\n",
    "X"
   ]
  },
  {
   "cell_type": "code",
   "execution_count": 337,
   "metadata": {
    "ExecuteTime": {
     "end_time": "2022-03-09T18:58:51.249524Z",
     "start_time": "2022-03-09T18:58:51.243535Z"
    }
   },
   "outputs": [
    {
     "data": {
      "text/plain": [
       "(3, 2)"
      ]
     },
     "execution_count": 337,
     "metadata": {},
     "output_type": "execute_result"
    }
   ],
   "source": [
    "np.shape(X)"
   ]
  },
  {
   "cell_type": "code",
   "execution_count": 338,
   "metadata": {
    "ExecuteTime": {
     "end_time": "2022-03-09T18:59:24.244378Z",
     "start_time": "2022-03-09T18:59:24.238394Z"
    }
   },
   "outputs": [
    {
     "data": {
      "text/plain": [
       "array([[12,  4,  3],\n",
       "       [ 7,  5,  8]])"
      ]
     },
     "execution_count": 338,
     "metadata": {},
     "output_type": "execute_result"
    }
   ],
   "source": [
    "# usando função transpose do numpy\n",
    "Xt = np.transpose(X)\n",
    "\n",
    "Xt"
   ]
  },
  {
   "cell_type": "code",
   "execution_count": 339,
   "metadata": {
    "ExecuteTime": {
     "end_time": "2022-03-09T18:59:34.639386Z",
     "start_time": "2022-03-09T18:59:34.631414Z"
    }
   },
   "outputs": [
    {
     "data": {
      "text/plain": [
       "(2, 3)"
      ]
     },
     "execution_count": 339,
     "metadata": {},
     "output_type": "execute_result"
    }
   ],
   "source": [
    "np.shape(Xt)"
   ]
  },
  {
   "cell_type": "code",
   "execution_count": 340,
   "metadata": {
    "ExecuteTime": {
     "end_time": "2022-03-09T19:01:57.103765Z",
     "start_time": "2022-03-09T19:01:57.092795Z"
    }
   },
   "outputs": [
    {
     "name": "stdout",
     "output_type": "stream",
     "text": [
      "[12.  4.  3.]\n",
      "[7. 5. 8.]\n"
     ]
    }
   ],
   "source": [
    "Xt = np.zeros((2,3))\n",
    "\n",
    "Xt\n",
    "\n",
    "# iterando nas linhas\n",
    "for i in range(len(X)):\n",
    "    # iterando nas colunas\n",
    "    for j in range(len(X[0])):\n",
    "        Xt[j][i] = X[i][j]\n",
    "\n",
    "for r in Xt:\n",
    "    print(r)"
   ]
  },
  {
   "cell_type": "markdown",
   "metadata": {},
   "source": [
    "## Transpose usando compreensão de listas"
   ]
  },
  {
   "cell_type": "code",
   "execution_count": 342,
   "metadata": {
    "ExecuteTime": {
     "end_time": "2022-03-09T19:03:31.876145Z",
     "start_time": "2022-03-09T19:03:31.867170Z"
    }
   },
   "outputs": [
    {
     "data": {
      "text/plain": [
       "array([[12,  7],\n",
       "       [ 4,  5],\n",
       "       [ 3,  8]])"
      ]
     },
     "execution_count": 342,
     "metadata": {},
     "output_type": "execute_result"
    }
   ],
   "source": [
    "X = [[12,7],\n",
    "    [4 ,5],\n",
    "    [3 ,8]]\n",
    "\n",
    "X = np.array(X)\n",
    "\n",
    "X"
   ]
  },
  {
   "cell_type": "code",
   "execution_count": 343,
   "metadata": {
    "ExecuteTime": {
     "end_time": "2022-03-09T19:03:43.889307Z",
     "start_time": "2022-03-09T19:03:43.884316Z"
    }
   },
   "outputs": [
    {
     "data": {
      "text/plain": [
       "array([12,  7])"
      ]
     },
     "execution_count": 343,
     "metadata": {},
     "output_type": "execute_result"
    }
   ],
   "source": [
    "X[0]"
   ]
  },
  {
   "cell_type": "code",
   "execution_count": 344,
   "metadata": {
    "ExecuteTime": {
     "end_time": "2022-03-09T19:04:01.338906Z",
     "start_time": "2022-03-09T19:04:01.332923Z"
    }
   },
   "outputs": [
    {
     "data": {
      "text/plain": [
       "3"
      ]
     },
     "execution_count": 344,
     "metadata": {},
     "output_type": "execute_result"
    }
   ],
   "source": [
    "len(X)"
   ]
  },
  {
   "cell_type": "code",
   "execution_count": 345,
   "metadata": {
    "ExecuteTime": {
     "end_time": "2022-03-09T19:04:19.803419Z",
     "start_time": "2022-03-09T19:04:19.796438Z"
    }
   },
   "outputs": [
    {
     "data": {
      "text/plain": [
       "2"
      ]
     },
     "execution_count": 345,
     "metadata": {},
     "output_type": "execute_result"
    }
   ],
   "source": [
    "len(X[0])"
   ]
  },
  {
   "cell_type": "code",
   "execution_count": 346,
   "metadata": {
    "ExecuteTime": {
     "end_time": "2022-03-09T19:04:23.108988Z",
     "start_time": "2022-03-09T19:04:23.103005Z"
    }
   },
   "outputs": [
    {
     "name": "stdout",
     "output_type": "stream",
     "text": [
      "[12, 4, 3]\n",
      "[7, 5, 8]\n"
     ]
    }
   ],
   "source": [
    "Xt = [[X[j][i] for j in range(len(X))] for i in range(len(X[0]))]\n",
    "\n",
    "for r in Xt:\n",
    "    print(r)"
   ]
  },
  {
   "cell_type": "markdown",
   "metadata": {},
   "source": [
    "## Multiplicando matrizes\n",
    "\n",
    "Para que a multiplicação de matrizes seja possível, supondo uma matriz $A_{ij}$, e outra matriz $B_{nm}$, para que a multiplicação de A por B seja possível, é necessário que $j = n$, e o resultado desta multiplicação é uma matriz $C_{im}$.\n",
    "\n",
    "**Exemplo**\n",
    "\n",
    "Supondo uma matriz A(2x2), e uma matriz B(2x3), vamos calcular a multiplicação destas duas matrizes\n",
    "\n",
    "\\[A = \\begin{pmatrix}1 & 2 \\\\\n",
    "3 & 4\n",
    "\\end{pmatrix}\n",
    "\\]\n",
    "\n",
    "\\[B = \\begin{pmatrix}\n",
    "1 & 1 & 2\\\\\n",
    "3 & 4 & 1\n",
    "\\end{pmatrix}\n",
    "\\]\n",
    "\n",
    "O resultado da multiplicação de A por B resulta numa matriz C(2x3)\n",
    "\n",
    "\\[C = \\begin{pmatrix}\n",
    "c_{11} & c_{12} & c_{13}\\\\\n",
    "c_{21} & c_{22} & c_{23}\n",
    "\\end{pmatrix}\n",
    "\\]"
   ]
  },
  {
   "cell_type": "markdown",
   "metadata": {},
   "source": [
    "\\[c_{11} = a_{11} * b_{11} + a_{12}*b_{21} = 1*1 + 2*3 = 7\\]\n",
    "\n",
    "\\[c_{12} = a_{11} * b_{12} + a_{12}*b_{22} = 1*1 + 2*4 = 9\\]\n",
    "\n",
    "\\[c_{13} = a_{11} * b_{13} + a_{12}*b_{23} = 1*2 + 2*1 = 4\\]"
   ]
  },
  {
   "cell_type": "code",
   "execution_count": 347,
   "metadata": {
    "ExecuteTime": {
     "end_time": "2022-03-09T19:05:03.986490Z",
     "start_time": "2022-03-09T19:05:03.980513Z"
    }
   },
   "outputs": [
    {
     "data": {
      "text/plain": [
       "array([[12,  7,  3],\n",
       "       [ 4,  5,  6],\n",
       "       [ 7,  8,  9]])"
      ]
     },
     "execution_count": 347,
     "metadata": {},
     "output_type": "execute_result"
    }
   ],
   "source": [
    "X = [[12,7,3],\n",
    "    [4 ,5,6],\n",
    "    [7 ,8,9]]\n",
    "\n",
    "X = np.array(X)\n",
    "\n",
    "X"
   ]
  },
  {
   "cell_type": "code",
   "execution_count": 348,
   "metadata": {
    "ExecuteTime": {
     "end_time": "2022-03-09T19:05:14.839756Z",
     "start_time": "2022-03-09T19:05:14.830808Z"
    }
   },
   "outputs": [
    {
     "data": {
      "text/plain": [
       "array([[5, 8, 1, 2],\n",
       "       [6, 7, 3, 0],\n",
       "       [4, 5, 9, 1]])"
      ]
     },
     "execution_count": 348,
     "metadata": {},
     "output_type": "execute_result"
    }
   ],
   "source": [
    "Y = [[5,8,1,2],\n",
    "    [6,7,3,0],\n",
    "    [4,5,9,1]]\n",
    "\n",
    "Y = np.array(Y)\n",
    "\n",
    "Y"
   ]
  },
  {
   "cell_type": "code",
   "execution_count": 355,
   "metadata": {
    "ExecuteTime": {
     "end_time": "2022-03-09T19:23:29.875044Z",
     "start_time": "2022-03-09T19:23:29.869059Z"
    }
   },
   "outputs": [
    {
     "data": {
      "text/plain": [
       "array([[114, 160,  60,  27],\n",
       "       [ 74,  97,  73,  14],\n",
       "       [119, 157, 112,  23]])"
      ]
     },
     "execution_count": 355,
     "metadata": {},
     "output_type": "execute_result"
    }
   ],
   "source": [
    "np.matmul(X,Y)"
   ]
  },
  {
   "cell_type": "code",
   "execution_count": 356,
   "metadata": {
    "ExecuteTime": {
     "end_time": "2022-03-09T19:23:32.256390Z",
     "start_time": "2022-03-09T19:23:32.243424Z"
    }
   },
   "outputs": [
    {
     "ename": "ValueError",
     "evalue": "matmul: Input operand 1 has a mismatch in its core dimension 0, with gufunc signature (n?,k),(k,m?)->(n?,m?) (size 3 is different from 4)",
     "output_type": "error",
     "traceback": [
      "\u001b[1;31m---------------------------------------------------------------------------\u001b[0m",
      "\u001b[1;31mValueError\u001b[0m                                Traceback (most recent call last)",
      "\u001b[1;32m<ipython-input-356-d2fafa9e52fe>\u001b[0m in \u001b[0;36m<module>\u001b[1;34m\u001b[0m\n\u001b[1;32m----> 1\u001b[1;33m \u001b[0mnp\u001b[0m\u001b[1;33m.\u001b[0m\u001b[0mmatmul\u001b[0m\u001b[1;33m(\u001b[0m\u001b[0mY\u001b[0m\u001b[1;33m,\u001b[0m\u001b[0mX\u001b[0m\u001b[1;33m)\u001b[0m\u001b[1;33m\u001b[0m\u001b[1;33m\u001b[0m\u001b[0m\n\u001b[0m",
      "\u001b[1;31mValueError\u001b[0m: matmul: Input operand 1 has a mismatch in its core dimension 0, with gufunc signature (n?,k),(k,m?)->(n?,m?) (size 3 is different from 4)"
     ]
    }
   ],
   "source": [
    "np.matmul(Y,X)"
   ]
  },
  {
   "cell_type": "code",
   "execution_count": 351,
   "metadata": {
    "ExecuteTime": {
     "end_time": "2022-03-09T19:23:04.025042Z",
     "start_time": "2022-03-09T19:23:04.016103Z"
    }
   },
   "outputs": [
    {
     "data": {
      "text/plain": [
       "3"
      ]
     },
     "execution_count": 351,
     "metadata": {},
     "output_type": "execute_result"
    }
   ],
   "source": [
    "n = len(X[0])\n",
    "\n",
    "n"
   ]
  },
  {
   "cell_type": "code",
   "execution_count": 352,
   "metadata": {
    "ExecuteTime": {
     "end_time": "2022-03-09T19:23:04.914639Z",
     "start_time": "2022-03-09T19:23:04.904654Z"
    }
   },
   "outputs": [
    {
     "data": {
      "text/plain": [
       "4"
      ]
     },
     "execution_count": 352,
     "metadata": {},
     "output_type": "execute_result"
    }
   ],
   "source": [
    "m = len(Y[0])\n",
    "\n",
    "m"
   ]
  },
  {
   "cell_type": "code",
   "execution_count": 353,
   "metadata": {
    "ExecuteTime": {
     "end_time": "2022-03-09T19:23:05.870310Z",
     "start_time": "2022-03-09T19:23:05.861333Z"
    }
   },
   "outputs": [
    {
     "data": {
      "text/plain": [
       "array([[0., 0., 0., 0.],\n",
       "       [0., 0., 0., 0.],\n",
       "       [0., 0., 0., 0.]])"
      ]
     },
     "execution_count": 353,
     "metadata": {},
     "output_type": "execute_result"
    }
   ],
   "source": [
    "# definindo matriz nula/inicializando uma matriz com entradas igual a 0\n",
    "Z = np.zeros((n,m))\n",
    "\n",
    "Z"
   ]
  },
  {
   "cell_type": "code",
   "execution_count": 354,
   "metadata": {
    "ExecuteTime": {
     "end_time": "2022-03-09T19:23:09.446047Z",
     "start_time": "2022-03-09T19:23:09.434044Z"
    }
   },
   "outputs": [
    {
     "name": "stdout",
     "output_type": "stream",
     "text": [
      "[114. 160.  60.  27.]\n",
      "[74. 97. 73. 14.]\n",
      "[119. 157. 112.  23.]\n"
     ]
    }
   ],
   "source": [
    "# iterando nas colunas de X\n",
    "for i in range(len(X)):\n",
    "   # iterando nas colunas de Y\n",
    "    for j in range(len(Y[0])):\n",
    "       # iterando nas linhas de Y\n",
    "        for k in range(len(Y)):\n",
    "            Z[i][j] += X[i][k] * Y[k][j]\n",
    "\n",
    "for r in Z:\n",
    "    print(r)"
   ]
  },
  {
   "cell_type": "code",
   "execution_count": 359,
   "metadata": {
    "ExecuteTime": {
     "end_time": "2022-03-09T19:25:27.325541Z",
     "start_time": "2022-03-09T19:25:27.317560Z"
    }
   },
   "outputs": [
    {
     "data": {
      "text/plain": [
       "array([[114, 160,  60,  27],\n",
       "       [ 74,  97,  73,  14],\n",
       "       [119, 157, 112,  23]])"
      ]
     },
     "execution_count": 359,
     "metadata": {},
     "output_type": "execute_result"
    }
   ],
   "source": [
    "# usando numpy para multiplicar matrizes\n",
    "np.matmul(X, Y)"
   ]
  },
  {
   "cell_type": "markdown",
   "metadata": {},
   "source": [
    "## Definindo matrizes via for"
   ]
  },
  {
   "cell_type": "code",
   "execution_count": 360,
   "metadata": {
    "ExecuteTime": {
     "end_time": "2022-03-09T19:26:15.097712Z",
     "start_time": "2022-03-09T19:26:15.091730Z"
    }
   },
   "outputs": [
    {
     "data": {
      "text/plain": [
       "array([[0., 0., 0.],\n",
       "       [0., 0., 0.],\n",
       "       [0., 0., 0.]])"
      ]
     },
     "execution_count": 360,
     "metadata": {},
     "output_type": "execute_result"
    }
   ],
   "source": [
    "n,m = 3,3\n",
    "\n",
    "X = np.zeros((n,m))\n",
    "\n",
    "X"
   ]
  },
  {
   "cell_type": "code",
   "execution_count": 361,
   "metadata": {
    "ExecuteTime": {
     "end_time": "2022-03-09T19:26:58.865996Z",
     "start_time": "2022-03-09T19:26:58.860000Z"
    }
   },
   "outputs": [
    {
     "data": {
      "text/plain": [
       "12"
      ]
     },
     "execution_count": 361,
     "metadata": {},
     "output_type": "execute_result"
    }
   ],
   "source": [
    "def f(i,j):\n",
    "    f = (i+1)*(j+1)\n",
    "    return f\n",
    "\n",
    "f(2,3)"
   ]
  },
  {
   "cell_type": "code",
   "execution_count": 365,
   "metadata": {
    "ExecuteTime": {
     "end_time": "2022-03-09T19:29:50.427115Z",
     "start_time": "2022-03-09T19:29:50.420100Z"
    }
   },
   "outputs": [
    {
     "data": {
      "text/plain": [
       "1"
      ]
     },
     "execution_count": 365,
     "metadata": {},
     "output_type": "execute_result"
    }
   ],
   "source": [
    "f(0,0)"
   ]
  },
  {
   "cell_type": "code",
   "execution_count": 366,
   "metadata": {
    "ExecuteTime": {
     "end_time": "2022-03-09T19:29:56.087573Z",
     "start_time": "2022-03-09T19:29:56.080593Z"
    }
   },
   "outputs": [
    {
     "data": {
      "text/plain": [
       "2"
      ]
     },
     "execution_count": 366,
     "metadata": {},
     "output_type": "execute_result"
    }
   ],
   "source": [
    "f(0,1)"
   ]
  },
  {
   "cell_type": "code",
   "execution_count": 367,
   "metadata": {
    "ExecuteTime": {
     "end_time": "2022-03-09T19:30:03.359366Z",
     "start_time": "2022-03-09T19:30:03.353383Z"
    }
   },
   "outputs": [
    {
     "data": {
      "text/plain": [
       "3"
      ]
     },
     "execution_count": 367,
     "metadata": {},
     "output_type": "execute_result"
    }
   ],
   "source": [
    "f(0,2)"
   ]
  },
  {
   "cell_type": "code",
   "execution_count": 368,
   "metadata": {
    "ExecuteTime": {
     "end_time": "2022-03-09T19:31:12.704013Z",
     "start_time": "2022-03-09T19:31:12.699022Z"
    }
   },
   "outputs": [
    {
     "data": {
      "text/plain": [
       "2"
      ]
     },
     "execution_count": 368,
     "metadata": {},
     "output_type": "execute_result"
    }
   ],
   "source": [
    "f(1,0)"
   ]
  },
  {
   "cell_type": "code",
   "execution_count": 369,
   "metadata": {
    "ExecuteTime": {
     "end_time": "2022-03-09T19:31:35.733767Z",
     "start_time": "2022-03-09T19:31:35.725757Z"
    }
   },
   "outputs": [
    {
     "data": {
      "text/plain": [
       "4"
      ]
     },
     "execution_count": 369,
     "metadata": {},
     "output_type": "execute_result"
    }
   ],
   "source": [
    "f(1,1)"
   ]
  },
  {
   "cell_type": "code",
   "execution_count": 370,
   "metadata": {
    "ExecuteTime": {
     "end_time": "2022-03-09T19:31:48.938190Z",
     "start_time": "2022-03-09T19:31:48.931208Z"
    }
   },
   "outputs": [
    {
     "data": {
      "text/plain": [
       "6"
      ]
     },
     "execution_count": 370,
     "metadata": {},
     "output_type": "execute_result"
    }
   ],
   "source": [
    "f(1,2)"
   ]
  },
  {
   "cell_type": "code",
   "execution_count": 364,
   "metadata": {
    "ExecuteTime": {
     "end_time": "2022-03-09T19:29:37.774994Z",
     "start_time": "2022-03-09T19:29:37.769042Z"
    }
   },
   "outputs": [
    {
     "name": "stdout",
     "output_type": "stream",
     "text": [
      "[1. 2. 3.]\n",
      "[2. 4. 6.]\n",
      "[3. 6. 9.]\n"
     ]
    }
   ],
   "source": [
    "for i in range(len(X)):\n",
    "    # iterando nas colunas\n",
    "    for j in range(len(X[0])):\n",
    "        X[i][j] = f(i,j)\n",
    "        \n",
    "for r in X:\n",
    "    print(r)"
   ]
  },
  {
   "cell_type": "code",
   "execution_count": 371,
   "metadata": {
    "ExecuteTime": {
     "end_time": "2022-03-09T19:32:15.782892Z",
     "start_time": "2022-03-09T19:32:15.777902Z"
    }
   },
   "outputs": [
    {
     "data": {
      "text/plain": [
       "array([[1., 2., 3.],\n",
       "       [2., 4., 6.],\n",
       "       [3., 6., 9.]])"
      ]
     },
     "execution_count": 371,
     "metadata": {},
     "output_type": "execute_result"
    }
   ],
   "source": [
    "X"
   ]
  },
  {
   "cell_type": "markdown",
   "metadata": {},
   "source": [
    "## Matriz identidade utilizando for aninhado"
   ]
  },
  {
   "cell_type": "code",
   "execution_count": 380,
   "metadata": {
    "ExecuteTime": {
     "end_time": "2022-03-09T19:38:27.511341Z",
     "start_time": "2022-03-09T19:38:27.501368Z"
    }
   },
   "outputs": [
    {
     "name": "stdout",
     "output_type": "stream",
     "text": [
      "[1. 0. 0.]\n",
      "[0. 1. 0.]\n",
      "[0. 0. 1.]\n"
     ]
    }
   ],
   "source": [
    "def f(i,j):\n",
    "    if i == j:\n",
    "        return 1\n",
    "    else:\n",
    "        return 0\n",
    "\n",
    "for i in range(len(X)):\n",
    "    # iterando nas colunas\n",
    "    for j in range(len(X[0])):\n",
    "        X[i][j] = f(i,j)\n",
    "        \n",
    "for r in X:\n",
    "    print(r)"
   ]
  },
  {
   "cell_type": "markdown",
   "metadata": {},
   "source": [
    "## Outro exemplo de matriz por lei de formação"
   ]
  },
  {
   "cell_type": "code",
   "execution_count": 389,
   "metadata": {
    "ExecuteTime": {
     "end_time": "2022-03-09T19:44:27.624032Z",
     "start_time": "2022-03-09T19:44:27.615046Z"
    }
   },
   "outputs": [
    {
     "name": "stdout",
     "output_type": "stream",
     "text": [
      "[0. 0. 0.]\n",
      "[0. 1. 2.]\n",
      "[0. 2. 4.]\n"
     ]
    }
   ],
   "source": [
    "def f(i,j):\n",
    "    f = i * j\n",
    "    return f\n",
    "\n",
    "for i in range(len(X)):\n",
    "    # iterando nas colunas\n",
    "    for j in range(len(X[0])):\n",
    "        X[i][j] = f(i,j)\n",
    "        \n",
    "for r in X:\n",
    "    print(r)"
   ]
  },
  {
   "cell_type": "markdown",
   "metadata": {},
   "source": [
    "## Soma da diagonal principal\n",
    "\n",
    "Esta soma da diagonal principal é também conhecida por traço da matriz (quadrada). A diagonal principal são os termos $a_{ii}$ de uma matriz A."
   ]
  },
  {
   "cell_type": "code",
   "execution_count": 390,
   "metadata": {
    "ExecuteTime": {
     "end_time": "2022-03-09T19:45:19.970306Z",
     "start_time": "2022-03-09T19:45:19.960339Z"
    }
   },
   "outputs": [
    {
     "data": {
      "text/plain": [
       "array([[12,  7,  3],\n",
       "       [ 4,  5,  6],\n",
       "       [ 7,  8,  9]])"
      ]
     },
     "execution_count": 390,
     "metadata": {},
     "output_type": "execute_result"
    }
   ],
   "source": [
    "X = [[12,7,3],\n",
    "    [4 ,5,6],\n",
    "    [7 ,8,9]]\n",
    "\n",
    "X = np.array(X)\n",
    "\n",
    "X"
   ]
  },
  {
   "cell_type": "code",
   "execution_count": 391,
   "metadata": {
    "ExecuteTime": {
     "end_time": "2022-03-09T19:47:27.502048Z",
     "start_time": "2022-03-09T19:47:27.493036Z"
    }
   },
   "outputs": [
    {
     "data": {
      "text/plain": [
       "26"
      ]
     },
     "execution_count": 391,
     "metadata": {},
     "output_type": "execute_result"
    }
   ],
   "source": [
    "traco = X[0][0] + X[1][1] + X[2][2]\n",
    "\n",
    "traco"
   ]
  },
  {
   "cell_type": "code",
   "execution_count": 392,
   "metadata": {
    "ExecuteTime": {
     "end_time": "2022-03-09T19:48:14.613611Z",
     "start_time": "2022-03-09T19:48:14.607660Z"
    }
   },
   "outputs": [
    {
     "data": {
      "text/plain": [
       "array([[4, 5, 6],\n",
       "       [7, 8, 9]])"
      ]
     },
     "execution_count": 392,
     "metadata": {},
     "output_type": "execute_result"
    }
   ],
   "source": [
    "X[1:]"
   ]
  },
  {
   "cell_type": "code",
   "execution_count": 395,
   "metadata": {
    "ExecuteTime": {
     "end_time": "2022-03-09T19:49:10.045962Z",
     "start_time": "2022-03-09T19:49:10.038982Z"
    }
   },
   "outputs": [
    {
     "data": {
      "text/plain": [
       "array([4, 5, 6])"
      ]
     },
     "execution_count": 395,
     "metadata": {},
     "output_type": "execute_result"
    }
   ],
   "source": [
    "X[1,:]"
   ]
  },
  {
   "cell_type": "code",
   "execution_count": 396,
   "metadata": {
    "ExecuteTime": {
     "end_time": "2022-03-09T19:49:19.204453Z",
     "start_time": "2022-03-09T19:49:19.196508Z"
    }
   },
   "outputs": [
    {
     "data": {
      "text/plain": [
       "array([3, 6, 9])"
      ]
     },
     "execution_count": 396,
     "metadata": {},
     "output_type": "execute_result"
    }
   ],
   "source": [
    "X[:,2]"
   ]
  },
  {
   "cell_type": "code",
   "execution_count": 397,
   "metadata": {
    "ExecuteTime": {
     "end_time": "2022-03-09T19:49:52.740972Z",
     "start_time": "2022-03-09T19:49:52.733035Z"
    }
   },
   "outputs": [
    {
     "data": {
      "text/plain": [
       "26"
      ]
     },
     "execution_count": 397,
     "metadata": {},
     "output_type": "execute_result"
    }
   ],
   "source": [
    "soma = 0\n",
    "traco = 0\n",
    "for i in range(len(X)):\n",
    "    traco = traco + X[i][i] \n",
    "\n",
    "traco"
   ]
  },
  {
   "cell_type": "markdown",
   "metadata": {},
   "source": [
    "## Matriz de Vandermonde\n",
    "\n",
    "Em álgebra linear, a matriz de Vandermonde, nomeada por causa de seu descobridor Alexandre-Théophile Vandermonde, é uma matriz cujos termos representam uma progressão geométrica em cada uma de suas linhas (matriz m × n)\n",
    "\n",
    "\\[ V = {\\begin{bmatrix}1&x_{1}&x_{1}^{2}&\\dots &x_{1}^{n-1}\\\\1&x_{2}&x_{2}^{2}&\\dots &x_{2}^{n-1}\\\\1&x_{3}&x_{3}^{2}&\\dots &x_{3}^{n-1}\\\\\\vdots &\\vdots &\\vdots &\\ddots &\\vdots \\\\1&x_{m}&x_{m}^{2}&\\dots &x_{m}^{n-1}\\end{bmatrix}}\\]\n",
    "\n",
    "A lei de geração da matriz de Vandermonde é\n",
    "\n",
    "\\[\\displaystyle V_{i,j}=x_{i}^{j-1}\\]"
   ]
  },
  {
   "cell_type": "code",
   "execution_count": null,
   "metadata": {},
   "outputs": [],
   "source": [
    "def f(n,i,j):\n",
    "    x = np.array([input(), 2, 3])\n",
    "    f = i ** (j-1)\n",
    "    return f\n",
    "\n",
    "x = np.array()\n",
    "for i in range(0,n):\n",
    "    x[i] = input()\n",
    "\n",
    "for i in range(len(X)):\n",
    "    # iterando nas colunas\n",
    "    for j in range(len(X[0])):\n",
    "        X[i][j] = f(i,j)\n",
    "        \n",
    "for r in X:\n",
    "    print(r)"
   ]
  },
  {
   "cell_type": "code",
   "execution_count": 398,
   "metadata": {
    "ExecuteTime": {
     "end_time": "2022-03-09T19:52:23.381611Z",
     "start_time": "2022-03-09T19:52:23.372630Z"
    }
   },
   "outputs": [
    {
     "data": {
      "text/plain": [
       "array([[1, 1, 1],\n",
       "       [4, 2, 1],\n",
       "       [9, 3, 1]])"
      ]
     },
     "execution_count": 398,
     "metadata": {},
     "output_type": "execute_result"
    }
   ],
   "source": [
    "# \n",
    "x = np.array([1, 2, 3])\n",
    "\n",
    "# grau da matriz de vandermonde\n",
    "n = 3\n",
    "\n",
    "# gera matriz de vandermonde\n",
    "np.vander(x, n)"
   ]
  },
  {
   "cell_type": "code",
   "execution_count": null,
   "metadata": {
    "ExecuteTime": {
     "end_time": "2022-03-07T22:58:36.224840Z",
     "start_time": "2022-03-07T22:58:36.207098Z"
    }
   },
   "outputs": [],
   "source": [
    "# \n",
    "x = np.array([1, 2, 3])\n",
    "\n",
    "# grau da matriz de vandermonde\n",
    "n = 4\n",
    "\n",
    "# gera matriz de vandermonde\n",
    "np.vander(x, n)"
   ]
  },
  {
   "cell_type": "code",
   "execution_count": null,
   "metadata": {
    "ExecuteTime": {
     "end_time": "2022-03-07T22:21:15.493655Z",
     "start_time": "2022-03-07T22:21:15.485711Z"
    }
   },
   "outputs": [],
   "source": [
    "# \n",
    "x = np.array([1, 2, 3, 4, 5])\n",
    "\n",
    "# grau da matriz de vandermonde\n",
    "n = 5\n",
    "\n",
    "# gera matriz de vandermonde\n",
    "np.vander(x, n)"
   ]
  },
  {
   "cell_type": "code",
   "execution_count": 444,
   "metadata": {
    "ExecuteTime": {
     "end_time": "2022-03-09T20:19:29.057214Z",
     "start_time": "2022-03-09T20:19:16.347386Z"
    }
   },
   "outputs": [
    {
     "name": "stdout",
     "output_type": "stream",
     "text": [
      "n = 5\n",
      "m = 3\n",
      "2\n",
      "3\n",
      "5\n"
     ]
    },
    {
     "data": {
      "text/plain": [
       "array([[  1.,   2.,   4.,   8.,  16.],\n",
       "       [  1.,   3.,   9.,  27.,  81.],\n",
       "       [  1.,   5.,  25., 125., 625.]])"
      ]
     },
     "execution_count": 444,
     "metadata": {},
     "output_type": "execute_result"
    }
   ],
   "source": [
    "x = []\n",
    "n = int(input('n = '))\n",
    "m = int(input('m = '))\n",
    "\n",
    "W = np.zeros((m,n))\n",
    "\n",
    "\n",
    "for i in range(m):\n",
    "    a = int(input())\n",
    "    x.append(a)\n",
    "    \n",
    "for i in range(m):\n",
    "    for j in range(n):\n",
    "        W[i][j] = x[i]**(j)\n",
    "        \n",
    "W"
   ]
  },
  {
   "cell_type": "markdown",
   "metadata": {},
   "source": [
    "## Matriz circulante"
   ]
  },
  {
   "cell_type": "code",
   "execution_count": 448,
   "metadata": {
    "ExecuteTime": {
     "end_time": "2022-03-09T20:20:47.041599Z",
     "start_time": "2022-03-09T20:20:47.034613Z"
    }
   },
   "outputs": [
    {
     "data": {
      "text/plain": [
       "array([[1, 3, 2],\n",
       "       [2, 1, 3],\n",
       "       [3, 2, 1]])"
      ]
     },
     "execution_count": 448,
     "metadata": {},
     "output_type": "execute_result"
    }
   ],
   "source": [
    "from scipy.linalg import circulant\n",
    "\n",
    "A = np.array(circulant([1, 2, 3]))\n",
    "\n",
    "A"
   ]
  },
  {
   "cell_type": "code",
   "execution_count": 449,
   "metadata": {
    "ExecuteTime": {
     "end_time": "2022-03-09T20:21:06.233243Z",
     "start_time": "2022-03-09T20:21:06.226264Z"
    }
   },
   "outputs": [
    {
     "data": {
      "text/plain": [
       "array([[1, 2, 3],\n",
       "       [3, 1, 2],\n",
       "       [2, 3, 1]])"
      ]
     },
     "execution_count": 449,
     "metadata": {},
     "output_type": "execute_result"
    }
   ],
   "source": [
    "np.transpose(A)"
   ]
  },
  {
   "cell_type": "markdown",
   "metadata": {},
   "source": [
    "# Desafios\n",
    "\n",
    "## Desafio Clark\n",
    "\n",
    "Crie uma função para calcular a soma de uma série de números dada pela seguinte lei de geração\n",
    "\n",
    "\\[S_n(k) = 1^k + 2^k + 3^k + \\cdots + n^k\\]\n",
    "\n",
    "A função deve ter como entrada os números n (número natural que varia de 0 até infinito), e o valor de k (número inteiro que varia de menos infinito a mais infinito). A função deve retornar o valor da soma dos primeiros n números naturais dada a potência k, e o tempo de execução da função. Criar um loop for para criar um dataframe para um valor fixo de k (pode escolher k = 1), que contenha o tempo de execução para cada um dos valores de n, e depois plotar a curva tempo vs n. O dataframe deve ter 2 colunas, o valor de n, e o tempo de execução para n, sendo que n pode variar de 1 até infinito. Utilize uma quantidade de pontos suficientes para plotar o gráfico de tempo vs n e perceber padrões no tempo de execução.\n",
    "\n",
    "## Desafio Luis Felipe\n",
    "\n",
    "Criar uma função para calcular as raízes de uma equação do segundo grau. A função deve ter como entrada os valores dos coeficientes (a,b,c) da função do segundo grau\n",
    "\n",
    "\\[f(x) = ax^2 + bx + c\\]\n",
    "\n",
    "A função deve retornar: o valor do x do vértice, valor do y do vértice, valor do discriminante, valor das duas raízes, gráfico da função dada pelos coeficientes (a,b,c). A função também deve calcular algebricamente as raízes mesmo em caso de raízes complexas (determinante menor que zero).\n",
    "\n",
    "## Desafio Felipe\n",
    "\n",
    "Crie uma função usando laço com for loop para receber como entrada uma matriz quadrada e a função deve retornar o traço da matriz (soma dos termos da diagonal principal), a norma_1 (soma de todos os elementos da matriz), norma_abs (soma dos valores absolutos de todos os termos da matriz), norma_2 (soma dos quadrados de todos os termos da matriz). Crie funções para definir funções das linhas e colunas de uma matriz (i,j) e as utilize para dentro de um laço for criar tipos especiais de matrizes quadradas e retornar os valores da função que retorna os valores calculados do item anterior. Defina as seguintes funções abaixo\n",
    "\n",
    "1. Matriz de Vandermonde\n",
    "2. Matriz circulante\n",
    "3. f(i,j) = 1 se i for igual a j, e f(i,j) = 0 caso contrário\n",
    "4. f(i,j) = (i+1)^(j+1)\n",
    "5. f(i,j) = (i+1)*(j+1)"
   ]
  }
 ],
 "metadata": {
  "hide_input": false,
  "kernelspec": {
   "display_name": "Python 3",
   "language": "python",
   "name": "python3"
  },
  "language_info": {
   "codemirror_mode": {
    "name": "ipython",
    "version": 3
   },
   "file_extension": ".py",
   "mimetype": "text/x-python",
   "name": "python",
   "nbconvert_exporter": "python",
   "pygments_lexer": "ipython3",
   "version": "3.8.3"
  },
  "latex_envs": {
   "LaTeX_envs_menu_present": true,
   "autoclose": false,
   "autocomplete": true,
   "bibliofile": "biblio.bib",
   "cite_by": "apalike",
   "current_citInitial": 1,
   "eqLabelWithNumbers": true,
   "eqNumInitial": 1,
   "hotkeys": {
    "equation": "Ctrl-E",
    "itemize": "Ctrl-I"
   },
   "labels_anchors": false,
   "latex_user_defs": false,
   "report_style_numbering": false,
   "user_envs_cfg": false
  },
  "toc": {
   "base_numbering": 1,
   "nav_menu": {},
   "number_sections": true,
   "sideBar": true,
   "skip_h1_title": false,
   "title_cell": "Table of Contents",
   "title_sidebar": "Contents",
   "toc_cell": false,
   "toc_position": {
    "height": "calc(100% - 180px)",
    "left": "10px",
    "top": "150px",
    "width": "362.099px"
   },
   "toc_section_display": true,
   "toc_window_display": true
  },
  "varInspector": {
   "cols": {
    "lenName": 16,
    "lenType": 16,
    "lenVar": 40
   },
   "kernels_config": {
    "python": {
     "delete_cmd_postfix": "",
     "delete_cmd_prefix": "del ",
     "library": "var_list.py",
     "varRefreshCmd": "print(var_dic_list())"
    },
    "r": {
     "delete_cmd_postfix": ") ",
     "delete_cmd_prefix": "rm(",
     "library": "var_list.r",
     "varRefreshCmd": "cat(var_dic_list()) "
    }
   },
   "types_to_exclude": [
    "module",
    "function",
    "builtin_function_or_method",
    "instance",
    "_Feature"
   ],
   "window_display": false
  }
 },
 "nbformat": 4,
 "nbformat_minor": 4
}
