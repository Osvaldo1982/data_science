{
 "cells": [
  {
   "cell_type": "markdown",
   "metadata": {},
   "source": [
    "https://stackoverflow.com/questions/23377108/pandas-percentage-of-total-with-groupby"
   ]
  },
  {
   "cell_type": "code",
   "execution_count": 1,
   "metadata": {
    "ExecuteTime": {
     "end_time": "2021-05-12T18:42:30.969495Z",
     "start_time": "2021-05-12T18:42:30.288388Z"
    }
   },
   "outputs": [
    {
     "data": {
      "text/html": [
       "<div>\n",
       "<style scoped>\n",
       "    .dataframe tbody tr th:only-of-type {\n",
       "        vertical-align: middle;\n",
       "    }\n",
       "\n",
       "    .dataframe tbody tr th {\n",
       "        vertical-align: top;\n",
       "    }\n",
       "\n",
       "    .dataframe thead th {\n",
       "        text-align: right;\n",
       "    }\n",
       "</style>\n",
       "<table border=\"1\" class=\"dataframe\">\n",
       "  <thead>\n",
       "    <tr style=\"text-align: right;\">\n",
       "      <th></th>\n",
       "      <th>Group 1</th>\n",
       "      <th>Group 2</th>\n",
       "      <th>Final Group</th>\n",
       "      <th>Numbers I want as percents</th>\n",
       "    </tr>\n",
       "  </thead>\n",
       "  <tbody>\n",
       "    <tr>\n",
       "      <th>0</th>\n",
       "      <td>LCJE</td>\n",
       "      <td>XASW</td>\n",
       "      <td>VPJL</td>\n",
       "      <td>784</td>\n",
       "    </tr>\n",
       "    <tr>\n",
       "      <th>1</th>\n",
       "      <td>KWRR</td>\n",
       "      <td>GTPI</td>\n",
       "      <td>WPMV</td>\n",
       "      <td>659</td>\n",
       "    </tr>\n",
       "    <tr>\n",
       "      <th>2</th>\n",
       "      <td>IXYO</td>\n",
       "      <td>PJQU</td>\n",
       "      <td>ULWK</td>\n",
       "      <td>729</td>\n",
       "    </tr>\n",
       "    <tr>\n",
       "      <th>3</th>\n",
       "      <td>NAGF</td>\n",
       "      <td>EZRO</td>\n",
       "      <td>BBRR</td>\n",
       "      <td>292</td>\n",
       "    </tr>\n",
       "    <tr>\n",
       "      <th>4</th>\n",
       "      <td>TUFK</td>\n",
       "      <td>NPKR</td>\n",
       "      <td>BPHM</td>\n",
       "      <td>935</td>\n",
       "    </tr>\n",
       "  </tbody>\n",
       "</table>\n",
       "</div>"
      ],
      "text/plain": [
       "  Group 1 Group 2 Final Group  Numbers I want as percents\n",
       "0    LCJE    XASW        VPJL                         784\n",
       "1    KWRR    GTPI        WPMV                         659\n",
       "2    IXYO    PJQU        ULWK                         729\n",
       "3    NAGF    EZRO        BBRR                         292\n",
       "4    TUFK    NPKR        BPHM                         935"
      ]
     },
     "execution_count": 1,
     "metadata": {},
     "output_type": "execute_result"
    }
   ],
   "source": [
    "import random\n",
    "import string\n",
    "import pandas as pd\n",
    "import numpy as np\n",
    "np.random.seed(0)\n",
    "\n",
    "# This is the total number of groups to be created\n",
    "NumberOfGroups = 50000\n",
    "\n",
    "# Create a lot of groups (random strings of 4 letters)\n",
    "Group1     = [''.join(random.choice(string.ascii_uppercase) \n",
    "                for _ in range(4)) for x in range(NumberOfGroups//10)]*10\n",
    "\n",
    "Group2     = [''.join(random.choice(string.ascii_uppercase) \n",
    "                for _ in range(4)) for x in range(NumberOfGroups//2)]*2\n",
    "\n",
    "FinalGroup = [''.join(random.choice(string.ascii_uppercase) \n",
    "                for _ in range(4)) for x in range(NumberOfGroups)]\n",
    "\n",
    "# Make the numbers\n",
    "NumbersForPercents = [np.random.randint(100, 999) for _ in range(NumberOfGroups)]\n",
    "\n",
    "# Make the dataframe\n",
    "df = pd.DataFrame({'Group 1': Group1,\n",
    "                   'Group 2': Group2,\n",
    "                   'Final Group': FinalGroup,\n",
    "                   'Numbers I want as percents': NumbersForPercents})\n",
    "\n",
    "df.head()"
   ]
  },
  {
   "cell_type": "code",
   "execution_count": 2,
   "metadata": {
    "ExecuteTime": {
     "end_time": "2021-05-12T18:42:34.484235Z",
     "start_time": "2021-05-12T18:42:34.256284Z"
    }
   },
   "outputs": [],
   "source": [
    "# Initial grouping (basically a sorted version of df)\n",
    "PreGroupby_df = df.groupby([\"Group 1\",\"Group 2\",\"Final Group\"]).agg({'Numbers I want as percents': 'sum'}).reset_index()\n",
    "\n",
    "# Get the sum of values for the \"final group\", append \"_Sum\" to it's column name, and change it into a dataframe (.reset_index)\n",
    "SumGroup_df = df.groupby([\"Group 1\",\"Group 2\"]).agg({'Numbers I want as percents': 'sum'}).add_suffix('_Sum').reset_index()\n",
    "\n",
    "# Merge the two dataframes\n",
    "Percents_df = pd.merge(PreGroupby_df, SumGroup_df)\n",
    "\n",
    "# Divide the two columns\n",
    "Percents_df[\"Percent of Final Group\"] = Percents_df[\"Numbers I want as percents\"] / Percents_df[\"Numbers I want as percents_Sum\"] * 100\n",
    "\n",
    "# Drop the extra _Sum column\n",
    "Percents_df.drop([\"Numbers I want as percents_Sum\"], inplace=True, axis=1)"
   ]
  },
  {
   "cell_type": "code",
   "execution_count": 3,
   "metadata": {
    "ExecuteTime": {
     "end_time": "2021-05-12T18:42:57.874514Z",
     "start_time": "2021-05-12T18:42:35.053587Z"
    }
   },
   "outputs": [],
   "source": [
    "state_office = df.groupby(['Group 1','Group 2','Final Group']).agg({'Numbers I want as percents': 'sum'})\n",
    "\n",
    "state_pcts = state_office.groupby(level=['Group 1','Group 2']).apply(lambda x: 100 * x / float(x.sum()))"
   ]
  },
  {
   "cell_type": "code",
   "execution_count": 4,
   "metadata": {
    "ExecuteTime": {
     "end_time": "2021-05-12T18:42:58.016593Z",
     "start_time": "2021-05-12T18:42:58.003626Z"
    }
   },
   "outputs": [
    {
     "data": {
      "text/html": [
       "<div>\n",
       "<style scoped>\n",
       "    .dataframe tbody tr th:only-of-type {\n",
       "        vertical-align: middle;\n",
       "    }\n",
       "\n",
       "    .dataframe tbody tr th {\n",
       "        vertical-align: top;\n",
       "    }\n",
       "\n",
       "    .dataframe thead th {\n",
       "        text-align: right;\n",
       "    }\n",
       "</style>\n",
       "<table border=\"1\" class=\"dataframe\">\n",
       "  <thead>\n",
       "    <tr style=\"text-align: right;\">\n",
       "      <th></th>\n",
       "      <th>state</th>\n",
       "      <th>office_id</th>\n",
       "      <th>sales</th>\n",
       "    </tr>\n",
       "  </thead>\n",
       "  <tbody>\n",
       "    <tr>\n",
       "      <th>0</th>\n",
       "      <td>CA</td>\n",
       "      <td>1</td>\n",
       "      <td>297165</td>\n",
       "    </tr>\n",
       "    <tr>\n",
       "      <th>1</th>\n",
       "      <td>WA</td>\n",
       "      <td>2</td>\n",
       "      <td>781450</td>\n",
       "    </tr>\n",
       "    <tr>\n",
       "      <th>2</th>\n",
       "      <td>CO</td>\n",
       "      <td>3</td>\n",
       "      <td>238940</td>\n",
       "    </tr>\n",
       "    <tr>\n",
       "      <th>3</th>\n",
       "      <td>AZ</td>\n",
       "      <td>4</td>\n",
       "      <td>343315</td>\n",
       "    </tr>\n",
       "    <tr>\n",
       "      <th>4</th>\n",
       "      <td>CA</td>\n",
       "      <td>5</td>\n",
       "      <td>280502</td>\n",
       "    </tr>\n",
       "  </tbody>\n",
       "</table>\n",
       "</div>"
      ],
      "text/plain": [
       "  state  office_id   sales\n",
       "0    CA          1  297165\n",
       "1    WA          2  781450\n",
       "2    CO          3  238940\n",
       "3    AZ          4  343315\n",
       "4    CA          5  280502"
      ]
     },
     "execution_count": 4,
     "metadata": {},
     "output_type": "execute_result"
    }
   ],
   "source": [
    "df = pd.DataFrame({'state': ['CA', 'WA', 'CO', 'AZ'] * 3,\n",
    "               'office_id': list(range(1, 7)) * 2,\n",
    "               'sales': [np.random.randint(100000, 999999) for _ in range(12)]})\n",
    "\n",
    "df.head()"
   ]
  },
  {
   "cell_type": "code",
   "execution_count": 5,
   "metadata": {
    "ExecuteTime": {
     "end_time": "2021-05-12T18:42:58.187632Z",
     "start_time": "2021-05-12T18:42:58.142822Z"
    }
   },
   "outputs": [
    {
     "name": "stdout",
     "output_type": "stream",
     "text": [
      "office_id      1      2      3      4      5      6\n",
      "state                                              \n",
      "AZ         0.00%  0.37%  0.00%  0.16%  0.00%  0.47%\n",
      "CA         0.28%  0.00%  0.45%  0.00%  0.27%  0.00%\n",
      "CO         0.52%  0.00%  0.13%  0.00%  0.35%  0.00%\n",
      "WA         0.00%  0.45%  0.00%  0.23%  0.00%  0.32%\n"
     ]
    }
   ],
   "source": [
    "result = pd.crosstab(index=df['state'], \n",
    "                     columns=df['office_id'], \n",
    "                     values=df['sales'], \n",
    "                     aggfunc='sum', \n",
    "                     normalize='index').applymap('{:.2f}%'.format)\n",
    "\n",
    "\n",
    "\n",
    "\n",
    "print(result)"
   ]
  },
  {
   "cell_type": "code",
   "execution_count": 6,
   "metadata": {
    "ExecuteTime": {
     "end_time": "2021-05-12T18:43:12.961010Z",
     "start_time": "2021-05-12T18:43:12.937182Z"
    }
   },
   "outputs": [
    {
     "name": "stdout",
     "output_type": "stream",
     "text": [
      "office_id         1         2         3         4         5         6\n",
      "state                                                                \n",
      "AZ              NaN  789538.0       NaN  343315.0       NaN  984643.0\n",
      "CA         297165.0       NaN  468434.0       NaN  280502.0       NaN\n",
      "CO         941115.0       NaN  238940.0       NaN  640671.0       NaN\n",
      "WA              NaN  781450.0       NaN  409238.0       NaN  556211.0\n"
     ]
    }
   ],
   "source": [
    "result = pd.crosstab(index=df['state'], \n",
    "                     columns=df['office_id'], \n",
    "                     values=df['sales'], \n",
    "                     aggfunc='sum'\n",
    "                    )\n",
    "\n",
    "\n",
    "\n",
    "\n",
    "print(result)"
   ]
  },
  {
   "cell_type": "code",
   "execution_count": null,
   "metadata": {},
   "outputs": [],
   "source": []
  }
 ],
 "metadata": {
  "hide_input": false,
  "kernelspec": {
   "display_name": "Python 3",
   "language": "python",
   "name": "python3"
  },
  "language_info": {
   "codemirror_mode": {
    "name": "ipython",
    "version": 3
   },
   "file_extension": ".py",
   "mimetype": "text/x-python",
   "name": "python",
   "nbconvert_exporter": "python",
   "pygments_lexer": "ipython3",
   "version": "3.8.3"
  },
  "latex_envs": {
   "LaTeX_envs_menu_present": true,
   "autoclose": false,
   "autocomplete": true,
   "bibliofile": "biblio.bib",
   "cite_by": "apalike",
   "current_citInitial": 1,
   "eqLabelWithNumbers": true,
   "eqNumInitial": 1,
   "hotkeys": {
    "equation": "Ctrl-E",
    "itemize": "Ctrl-I"
   },
   "labels_anchors": false,
   "latex_user_defs": false,
   "report_style_numbering": false,
   "user_envs_cfg": false
  },
  "toc": {
   "base_numbering": 1,
   "nav_menu": {},
   "number_sections": true,
   "sideBar": true,
   "skip_h1_title": false,
   "title_cell": "Table of Contents",
   "title_sidebar": "Contents",
   "toc_cell": false,
   "toc_position": {},
   "toc_section_display": true,
   "toc_window_display": false
  },
  "varInspector": {
   "cols": {
    "lenName": 16,
    "lenType": 16,
    "lenVar": 40
   },
   "kernels_config": {
    "python": {
     "delete_cmd_postfix": "",
     "delete_cmd_prefix": "del ",
     "library": "var_list.py",
     "varRefreshCmd": "print(var_dic_list())"
    },
    "r": {
     "delete_cmd_postfix": ") ",
     "delete_cmd_prefix": "rm(",
     "library": "var_list.r",
     "varRefreshCmd": "cat(var_dic_list()) "
    }
   },
   "types_to_exclude": [
    "module",
    "function",
    "builtin_function_or_method",
    "instance",
    "_Feature"
   ],
   "window_display": false
  }
 },
 "nbformat": 4,
 "nbformat_minor": 4
}
