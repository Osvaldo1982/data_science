{
 "cells": [
  {
   "cell_type": "markdown",
   "metadata": {},
   "source": [
    "* Name: Osvaldo Luiz dos Santos Pereira. \n",
    "* email: osvald23@gmail.com / osvaldo.pereira@sciencedata.ai / olsp@if.ufrj.br\n",
    "* LinkedIn: https://www.linkedin.com/in/osvaldo-pereira\n",
    "* Currículo Lattes: http://lattes.cnpq.br/6730251976463283\n",
    "* Personal web page: https://www.sciencedata.ai/osvaldolspereira\n",
    "* [Curriculum Vitae in PDF Format](https://www.sciencedata.ai/osvaldolspereira/wp-content/uploads/2020/09/CV_English_osvaldo_pereira.pdf)"
   ]
  },
  {
   "cell_type": "markdown",
   "metadata": {},
   "source": [
    "# Desafio\n",
    "\n",
    "Este é o primeiro de uma série de desafios realizados na linguagem Python na comunidade [**Data Science Brasil**](https://chat.whatsapp.com/Fxqrit6Q99hI95P0okSLqT). Estes desafios valem R$50,00 para o vencedor, mas também possuem menções honrosas para quem completa os desafios.\n",
    "\n",
    "## Desafio de script\n",
    "\n",
    "Crie uma função em Python que constrói um dataframe (ou um array) com as seguintes propriedades. O dataframe final deve possuir k colunas com nome 'coluna'{sufixo}, sendo que cada coluna deve ter uma distribuição normal com média mu{sufixo} e desvio padrão sd_{sufixo}). Os parâmetros dessa função devem ser a quantidade k de colunas, e as médias e desvios de cada coluna do dataframe (array).\n",
    "\n",
    "## Dicas\n",
    "\n",
    "1. Passe o nome das colunas de forma global dentro de um loop for, já pedindo input das médias e desvios.\n",
    "\n",
    "2. Construa um array para os nomes das colunas\n",
    "\n",
    "3. Construa um array com os valores das colunas\n",
    "\n",
    "4. Construa um array para os valores das medias e dos desvios\n",
    "\n",
    "5. É interessante guardar esses valores de médias e desvios globalmente como boas práticas para recobrar as distribuições de cada coluna"
   ]
  },
  {
   "cell_type": "markdown",
   "metadata": {},
   "source": [
    "# Requerimentos"
   ]
  },
  {
   "cell_type": "code",
   "execution_count": 1,
   "metadata": {
    "ExecuteTime": {
     "end_time": "2022-04-11T09:13:10.068845Z",
     "start_time": "2022-04-11T09:13:09.219972Z"
    }
   },
   "outputs": [],
   "source": [
    "import pandas as pd\n",
    "import numpy as np\n",
    "import matplotlib.pyplot as plt\n",
    "import datetime as dt\n",
    "import random as rnd\n",
    "\n",
    "pd.set_option('display.max_rows', 10)\n",
    "pd.set_option('display.max_columns', 500)"
   ]
  },
  {
   "cell_type": "markdown",
   "metadata": {},
   "source": [
    "# Resposta esperada do desafio"
   ]
  },
  {
   "cell_type": "code",
   "execution_count": 2,
   "metadata": {
    "ExecuteTime": {
     "end_time": "2022-04-11T09:13:10.130754Z",
     "start_time": "2022-04-11T09:13:10.109765Z"
    }
   },
   "outputs": [],
   "source": [
    "def cria_df(k,n):\n",
    "    \n",
    "    # inicializa um dataframe\n",
    "    df = pd.DataFrame()\n",
    "       \n",
    "    # inicializa uma lista com os nomes das colunas do dataframe\n",
    "    x = []\n",
    "    \n",
    "    # inicializa uma lista com os valores guardados das médias das colunas do dataframe\n",
    "    mu_x = []\n",
    "    \n",
    "    # inicializa uma lista com os valores de desvios padrões das colunas do dataframe\n",
    "    sd_x = []\n",
    "    \n",
    "    # inicializa uma lista com os nomes das variáveis que guardam os valores das médias\n",
    "    nome_mu = []\n",
    "    \n",
    "    # inicializa uma lista com os nomes das variáveis que guardam os valores dos desvios padrões\n",
    "    nome_sd = []\n",
    "    \n",
    "    # script que cria todas as listas inicializadas\n",
    "    for i in range(3):\n",
    "        \n",
    "        # cria a lista de colunas do dataframe\n",
    "        x.append(str('x_' + str(i+1)))\n",
    "        \n",
    "        # pede o input dos valores das médias para a distribuição de cada coluna do dataframe\n",
    "        globals()[f'mu_x{i+1}'] = int(input(f'valor da media {i+1}: '))\n",
    "        \n",
    "        # pede o input dos valores dos desvios para a distribuição de cada coluna do dataframe\n",
    "        globals()[f'sd_x{i+1}'] = int(input(f'valor do desvio {i+1}: '))\n",
    "        \n",
    "        # cria a lista com valores das médias para cada coluna do dataframe\n",
    "        nome_mu.append(globals()[f'mu_x{i+1}']) \n",
    "        \n",
    "        # cria a lista com valores dos desvios para cada coluna do dataframe\n",
    "        nome_sd.append(globals()[f'sd_x{i+1}'])\n",
    "        \n",
    "        # cria a lista com variáveis dos valores médios\n",
    "        mu_x.append(globals()[f'mu_x{i+1}'])\n",
    "        \n",
    "        # cria a lista com variáveis dos valores de desvios\n",
    "        sd_x.append(globals()[f'sd_x{i+1}'])\n",
    "        \n",
    "        # gera as colunas do dataframe com distribuições normais dadas pelas médias e desvios inputadas\n",
    "        globals()[f'v{i}'] = np.round(np.random.normal(mu_x[i], sd_x[i], n), decimals = 0).astype(int)\n",
    "        \n",
    "        # cria o dataframe\n",
    "        df[str('x_' + str(i+1))] = globals()[f'v{i}']\n",
    "    \n",
    "    # return das principais variáveis/objetos do script\n",
    "    return df, x, mu_x, sd_x, nome_mu, nome_sd"
   ]
  },
  {
   "cell_type": "markdown",
   "metadata": {},
   "source": [
    "## Execução da função e criação dos objetos"
   ]
  },
  {
   "cell_type": "code",
   "execution_count": 3,
   "metadata": {
    "ExecuteTime": {
     "end_time": "2022-04-11T09:13:21.417678Z",
     "start_time": "2022-04-11T09:13:10.136889Z"
    }
   },
   "outputs": [
    {
     "name": "stdout",
     "output_type": "stream",
     "text": [
      "valor da media 1: 800\n",
      "valor do desvio 1: 100\n",
      "valor da media 2: 650\n",
      "valor do desvio 2: 350\n",
      "valor da media 3: 900\n",
      "valor do desvio 3: 10\n"
     ]
    }
   ],
   "source": [
    "df, x, mu_x, sd_x, nome_mu, nome_sd = cria_df(k = 3, n = 100)"
   ]
  },
  {
   "cell_type": "markdown",
   "metadata": {},
   "source": [
    "## Cara do dataframe"
   ]
  },
  {
   "cell_type": "code",
   "execution_count": 4,
   "metadata": {
    "ExecuteTime": {
     "end_time": "2022-04-11T09:13:21.455058Z",
     "start_time": "2022-04-11T09:13:21.419639Z"
    }
   },
   "outputs": [
    {
     "data": {
      "text/html": [
       "<div>\n",
       "<style scoped>\n",
       "    .dataframe tbody tr th:only-of-type {\n",
       "        vertical-align: middle;\n",
       "    }\n",
       "\n",
       "    .dataframe tbody tr th {\n",
       "        vertical-align: top;\n",
       "    }\n",
       "\n",
       "    .dataframe thead th {\n",
       "        text-align: right;\n",
       "    }\n",
       "</style>\n",
       "<table border=\"1\" class=\"dataframe\">\n",
       "  <thead>\n",
       "    <tr style=\"text-align: right;\">\n",
       "      <th></th>\n",
       "      <th>x_1</th>\n",
       "      <th>x_2</th>\n",
       "      <th>x_3</th>\n",
       "    </tr>\n",
       "  </thead>\n",
       "  <tbody>\n",
       "    <tr>\n",
       "      <th>0</th>\n",
       "      <td>853</td>\n",
       "      <td>634</td>\n",
       "      <td>911</td>\n",
       "    </tr>\n",
       "    <tr>\n",
       "      <th>1</th>\n",
       "      <td>660</td>\n",
       "      <td>723</td>\n",
       "      <td>915</td>\n",
       "    </tr>\n",
       "    <tr>\n",
       "      <th>2</th>\n",
       "      <td>765</td>\n",
       "      <td>401</td>\n",
       "      <td>908</td>\n",
       "    </tr>\n",
       "  </tbody>\n",
       "</table>\n",
       "</div>"
      ],
      "text/plain": [
       "   x_1  x_2  x_3\n",
       "0  853  634  911\n",
       "1  660  723  915\n",
       "2  765  401  908"
      ]
     },
     "execution_count": 4,
     "metadata": {},
     "output_type": "execute_result"
    }
   ],
   "source": [
    "df.head(3)"
   ]
  },
  {
   "cell_type": "markdown",
   "metadata": {},
   "source": [
    "## Lista com valores guardados dos nomes das colunas"
   ]
  },
  {
   "cell_type": "code",
   "execution_count": 5,
   "metadata": {
    "ExecuteTime": {
     "end_time": "2022-04-11T09:13:21.471012Z",
     "start_time": "2022-04-11T09:13:21.458050Z"
    }
   },
   "outputs": [
    {
     "data": {
      "text/plain": [
       "['x_1', 'x_2', 'x_3']"
      ]
     },
     "execution_count": 5,
     "metadata": {},
     "output_type": "execute_result"
    }
   ],
   "source": [
    "x"
   ]
  },
  {
   "cell_type": "markdown",
   "metadata": {},
   "source": [
    "## Lista que guarda os valores das médias de cada coluna do dataframe"
   ]
  },
  {
   "cell_type": "code",
   "execution_count": 6,
   "metadata": {
    "ExecuteTime": {
     "end_time": "2022-04-11T09:13:21.502927Z",
     "start_time": "2022-04-11T09:13:21.481986Z"
    }
   },
   "outputs": [
    {
     "data": {
      "text/plain": [
       "[800, 650, 900]"
      ]
     },
     "execution_count": 6,
     "metadata": {},
     "output_type": "execute_result"
    }
   ],
   "source": [
    "mu_x"
   ]
  },
  {
   "cell_type": "markdown",
   "metadata": {},
   "source": [
    "## Lista que guarda os valores dos desvios de cada coluna do dataframe"
   ]
  },
  {
   "cell_type": "code",
   "execution_count": 7,
   "metadata": {
    "ExecuteTime": {
     "end_time": "2022-04-11T09:13:21.534841Z",
     "start_time": "2022-04-11T09:13:21.512907Z"
    }
   },
   "outputs": [
    {
     "data": {
      "text/plain": [
       "[100, 350, 10]"
      ]
     },
     "execution_count": 7,
     "metadata": {},
     "output_type": "execute_result"
    }
   ],
   "source": [
    "sd_x"
   ]
  },
  {
   "cell_type": "markdown",
   "metadata": {},
   "source": [
    "## Lista que guarda as variáveis de média de cada coluna do dataframe"
   ]
  },
  {
   "cell_type": "code",
   "execution_count": 8,
   "metadata": {
    "ExecuteTime": {
     "end_time": "2022-04-11T09:13:21.566756Z",
     "start_time": "2022-04-11T09:13:21.543822Z"
    }
   },
   "outputs": [
    {
     "data": {
      "text/plain": [
       "[800, 650, 900]"
      ]
     },
     "execution_count": 8,
     "metadata": {},
     "output_type": "execute_result"
    }
   ],
   "source": [
    "nome_mu"
   ]
  },
  {
   "cell_type": "markdown",
   "metadata": {},
   "source": [
    "## Lista que guarda as variáveis de desvio de cada coluna do dataframe"
   ]
  },
  {
   "cell_type": "code",
   "execution_count": 9,
   "metadata": {
    "ExecuteTime": {
     "end_time": "2022-04-11T09:13:21.597674Z",
     "start_time": "2022-04-11T09:13:21.573742Z"
    }
   },
   "outputs": [
    {
     "data": {
      "text/plain": [
       "[100, 350, 10]"
      ]
     },
     "execution_count": 9,
     "metadata": {},
     "output_type": "execute_result"
    }
   ],
   "source": [
    "nome_sd"
   ]
  },
  {
   "cell_type": "markdown",
   "metadata": {},
   "source": [
    "# Resposta Vencedora #1\n",
    "\n",
    "* **Autor**: Eduardo Salis\n",
    "* **Github**: https://github.com/rafaelktakahashi\n",
    "* **Referência**: [Stackoverflow - Create an array with a pre determined mean and standard deviation](https://stackoverflow.com/questions/50177594/create-an-array-with-a-pre-determined-mean-and-standard-deviation)"
   ]
  },
  {
   "cell_type": "code",
   "execution_count": 10,
   "metadata": {
    "ExecuteTime": {
     "end_time": "2022-04-11T09:13:21.660505Z",
     "start_time": "2022-04-11T09:13:21.602662Z"
    }
   },
   "outputs": [
    {
     "data": {
      "text/html": [
       "<div>\n",
       "<style scoped>\n",
       "    .dataframe tbody tr th:only-of-type {\n",
       "        vertical-align: middle;\n",
       "    }\n",
       "\n",
       "    .dataframe tbody tr th {\n",
       "        vertical-align: top;\n",
       "    }\n",
       "\n",
       "    .dataframe thead th {\n",
       "        text-align: right;\n",
       "    }\n",
       "</style>\n",
       "<table border=\"1\" class=\"dataframe\">\n",
       "  <thead>\n",
       "    <tr style=\"text-align: right;\">\n",
       "      <th></th>\n",
       "      <th>coluna_0</th>\n",
       "      <th>coluna_1</th>\n",
       "      <th>coluna_2</th>\n",
       "      <th>coluna_3</th>\n",
       "    </tr>\n",
       "  </thead>\n",
       "  <tbody>\n",
       "    <tr>\n",
       "      <th>0</th>\n",
       "      <td>0.0</td>\n",
       "      <td>1.290620</td>\n",
       "      <td>1.066465</td>\n",
       "      <td>4.358066</td>\n",
       "    </tr>\n",
       "    <tr>\n",
       "      <th>1</th>\n",
       "      <td>0.0</td>\n",
       "      <td>-0.969846</td>\n",
       "      <td>1.170681</td>\n",
       "      <td>1.310340</td>\n",
       "    </tr>\n",
       "    <tr>\n",
       "      <th>2</th>\n",
       "      <td>0.0</td>\n",
       "      <td>0.107223</td>\n",
       "      <td>0.446805</td>\n",
       "      <td>1.351422</td>\n",
       "    </tr>\n",
       "    <tr>\n",
       "      <th>3</th>\n",
       "      <td>0.0</td>\n",
       "      <td>1.040895</td>\n",
       "      <td>0.487219</td>\n",
       "      <td>3.229416</td>\n",
       "    </tr>\n",
       "    <tr>\n",
       "      <th>4</th>\n",
       "      <td>0.0</td>\n",
       "      <td>-0.006519</td>\n",
       "      <td>4.887632</td>\n",
       "      <td>4.024127</td>\n",
       "    </tr>\n",
       "    <tr>\n",
       "      <th>5</th>\n",
       "      <td>0.0</td>\n",
       "      <td>2.222895</td>\n",
       "      <td>0.133544</td>\n",
       "      <td>2.640486</td>\n",
       "    </tr>\n",
       "    <tr>\n",
       "      <th>6</th>\n",
       "      <td>0.0</td>\n",
       "      <td>2.030099</td>\n",
       "      <td>2.131730</td>\n",
       "      <td>6.712021</td>\n",
       "    </tr>\n",
       "    <tr>\n",
       "      <th>7</th>\n",
       "      <td>0.0</td>\n",
       "      <td>1.041320</td>\n",
       "      <td>1.688260</td>\n",
       "      <td>1.573336</td>\n",
       "    </tr>\n",
       "    <tr>\n",
       "      <th>8</th>\n",
       "      <td>0.0</td>\n",
       "      <td>0.095933</td>\n",
       "      <td>0.919138</td>\n",
       "      <td>5.888185</td>\n",
       "    </tr>\n",
       "    <tr>\n",
       "      <th>9</th>\n",
       "      <td>0.0</td>\n",
       "      <td>1.213398</td>\n",
       "      <td>1.357021</td>\n",
       "      <td>3.498056</td>\n",
       "    </tr>\n",
       "  </tbody>\n",
       "</table>\n",
       "</div>"
      ],
      "text/plain": [
       "   coluna_0  coluna_1  coluna_2  coluna_3\n",
       "0       0.0  1.290620  1.066465  4.358066\n",
       "1       0.0 -0.969846  1.170681  1.310340\n",
       "2       0.0  0.107223  0.446805  1.351422\n",
       "3       0.0  1.040895  0.487219  3.229416\n",
       "4       0.0 -0.006519  4.887632  4.024127\n",
       "5       0.0  2.222895  0.133544  2.640486\n",
       "6       0.0  2.030099  2.131730  6.712021\n",
       "7       0.0  1.041320  1.688260  1.573336\n",
       "8       0.0  0.095933  0.919138  5.888185\n",
       "9       0.0  1.213398  1.357021  3.498056"
      ]
     },
     "execution_count": 10,
     "metadata": {},
     "output_type": "execute_result"
    }
   ],
   "source": [
    "import numpy as np \n",
    "import pandas as pd\n",
    "\n",
    "def colunas_distrib(k,n_linhas):\n",
    "    df = pd.DataFrame()\n",
    "\n",
    "    for i in range(k+1):\n",
    "        i_str = str(i)\n",
    "        nome_coluna = f'coluna_{i_str}'\n",
    "        df[nome_coluna] = np.random.normal(loc=i, scale=i, size=n_linhas)\n",
    "\n",
    "    return df\n",
    "\n",
    "df = colunas_distrib(3,10)\n",
    "\n",
    "df"
   ]
  },
  {
   "cell_type": "markdown",
   "metadata": {},
   "source": [
    "# Resposta vencedora #2\n",
    "\n",
    "* **Autor**: Rafael Takahashi\n",
    "* **Github**: https://github.com/rafaelktakahashi"
   ]
  },
  {
   "cell_type": "code",
   "execution_count": 11,
   "metadata": {
    "ExecuteTime": {
     "end_time": "2022-04-11T09:13:21.724336Z",
     "start_time": "2022-04-11T09:13:21.664495Z"
    }
   },
   "outputs": [
    {
     "name": "stdout",
     "output_type": "stream",
     "text": [
      "100 linhas e 3 colunas\n",
      "mean and std of coluna_1 - 0.08727179874466208 0.9389074430289129\n",
      "mean and std of coluna_2 - 0.7179370579805089 2.0957866153773836\n",
      "mean and std of coluna_3 - 2.299139355586701 3.046520688246317\n"
     ]
    },
    {
     "data": {
      "text/html": [
       "<div>\n",
       "<style scoped>\n",
       "    .dataframe tbody tr th:only-of-type {\n",
       "        vertical-align: middle;\n",
       "    }\n",
       "\n",
       "    .dataframe tbody tr th {\n",
       "        vertical-align: top;\n",
       "    }\n",
       "\n",
       "    .dataframe thead th {\n",
       "        text-align: right;\n",
       "    }\n",
       "</style>\n",
       "<table border=\"1\" class=\"dataframe\">\n",
       "  <thead>\n",
       "    <tr style=\"text-align: right;\">\n",
       "      <th></th>\n",
       "      <th>coluna_1</th>\n",
       "      <th>coluna_2</th>\n",
       "      <th>coluna_3</th>\n",
       "    </tr>\n",
       "  </thead>\n",
       "  <tbody>\n",
       "    <tr>\n",
       "      <th>0</th>\n",
       "      <td>-0.444477</td>\n",
       "      <td>-1.716239</td>\n",
       "      <td>3.734170</td>\n",
       "    </tr>\n",
       "    <tr>\n",
       "      <th>1</th>\n",
       "      <td>1.895834</td>\n",
       "      <td>0.770034</td>\n",
       "      <td>-0.199684</td>\n",
       "    </tr>\n",
       "    <tr>\n",
       "      <th>2</th>\n",
       "      <td>0.980886</td>\n",
       "      <td>4.845068</td>\n",
       "      <td>0.989972</td>\n",
       "    </tr>\n",
       "    <tr>\n",
       "      <th>3</th>\n",
       "      <td>0.369349</td>\n",
       "      <td>1.143696</td>\n",
       "      <td>2.045411</td>\n",
       "    </tr>\n",
       "    <tr>\n",
       "      <th>4</th>\n",
       "      <td>-1.652093</td>\n",
       "      <td>1.287886</td>\n",
       "      <td>2.917258</td>\n",
       "    </tr>\n",
       "    <tr>\n",
       "      <th>...</th>\n",
       "      <td>...</td>\n",
       "      <td>...</td>\n",
       "      <td>...</td>\n",
       "    </tr>\n",
       "    <tr>\n",
       "      <th>95</th>\n",
       "      <td>-0.035837</td>\n",
       "      <td>-1.288656</td>\n",
       "      <td>1.734919</td>\n",
       "    </tr>\n",
       "    <tr>\n",
       "      <th>96</th>\n",
       "      <td>0.303324</td>\n",
       "      <td>-3.381710</td>\n",
       "      <td>2.900959</td>\n",
       "    </tr>\n",
       "    <tr>\n",
       "      <th>97</th>\n",
       "      <td>-1.168190</td>\n",
       "      <td>1.821179</td>\n",
       "      <td>-1.195626</td>\n",
       "    </tr>\n",
       "    <tr>\n",
       "      <th>98</th>\n",
       "      <td>-0.294328</td>\n",
       "      <td>1.926179</td>\n",
       "      <td>5.185188</td>\n",
       "    </tr>\n",
       "    <tr>\n",
       "      <th>99</th>\n",
       "      <td>-0.413559</td>\n",
       "      <td>1.243728</td>\n",
       "      <td>1.515427</td>\n",
       "    </tr>\n",
       "  </tbody>\n",
       "</table>\n",
       "<p>100 rows × 3 columns</p>\n",
       "</div>"
      ],
      "text/plain": [
       "    coluna_1  coluna_2  coluna_3\n",
       "0  -0.444477 -1.716239  3.734170\n",
       "1   1.895834  0.770034 -0.199684\n",
       "2   0.980886  4.845068  0.989972\n",
       "3   0.369349  1.143696  2.045411\n",
       "4  -1.652093  1.287886  2.917258\n",
       "..       ...       ...       ...\n",
       "95 -0.035837 -1.288656  1.734919\n",
       "96  0.303324 -3.381710  2.900959\n",
       "97 -1.168190  1.821179 -1.195626\n",
       "98 -0.294328  1.926179  5.185188\n",
       "99 -0.413559  1.243728  1.515427\n",
       "\n",
       "[100 rows x 3 columns]"
      ]
     },
     "execution_count": 11,
     "metadata": {},
     "output_type": "execute_result"
    }
   ],
   "source": [
    "import pandas as pd\n",
    "import numpy as np\n",
    "\n",
    "\n",
    "def create_series(n, k, *stats):\n",
    "    \"pass number of rows n, columns k and stats in order as a list: [mean, std]\"\n",
    "    print (n, 'linhas e', k, 'colunas')\n",
    "    \n",
    "    #c_names, series, stts = [], [], []\n",
    "    df = pd.DataFrame()\n",
    "        \n",
    "    for i, j in zip(range(1, k+1), stats):\n",
    "        df[\"coluna_\"+str(i)] = np.random.normal(loc=j[0], scale=j[1], size=n)\n",
    "    \n",
    "    global mean_std\n",
    "    mean_std = []\n",
    "    for column in df:\n",
    "        c_mean = np.mean(df[column])\n",
    "        c_std = np.std(df[column])\n",
    "        mean_std.append([column, c_mean, c_std])\n",
    "        print ('mean and std of', column, '-', c_mean, c_std)\n",
    "    \n",
    "    return df, mean_std\n",
    "\n",
    "# exemplo:\n",
    "df, mean_std = create_series(100, 3, [0, 1], [1, 2], [2, 3])\n",
    "\n",
    "#\n",
    "df"
   ]
  },
  {
   "cell_type": "markdown",
   "metadata": {},
   "source": [
    "# Referências\n",
    "\n",
    "* [Create a Pandas DataFrame from Lists](https://www.geeksforgeeks.org/create-a-pandas-dataframe-from-lists/)\n",
    "* [How to Dynamically Declare Variables Inside a Loop in Python](https://python.plainenglish.io/how-to-dynamically-declare-variables-inside-a-loop-in-python-21e6880aaf8a)\n",
    "* [When to Use a List Comprehension in Python](https://realpython.com/list-comprehension-python/)\n",
    "* [how to print the for loop index with the input statement?](https://stackoverflow.com/questions/61960949/how-to-print-the-for-loop-index-with-the-input-statement)\n",
    "* [Python Dynamic Variable Name](https://www.delftstack.com/howto/python/python-dynamic-variable-name/)\n",
    "* [Get Column Names as List in Pandas DataFrame](https://datascienceparichay.com/article/get-column-names-as-list-in-pandas-dataframe/)\n",
    "* [List comprehension for first 10 alphabets](https://stackoverflow.com/questions/34101161/list-comprehension-for-first-10-alphabets)\n",
    "* [Python library random](https://docs.python.org/3/library/random.html)"
   ]
  }
 ],
 "metadata": {
  "hide_input": false,
  "kernelspec": {
   "display_name": "Python 3",
   "language": "python",
   "name": "python3"
  },
  "language_info": {
   "codemirror_mode": {
    "name": "ipython",
    "version": 3
   },
   "file_extension": ".py",
   "mimetype": "text/x-python",
   "name": "python",
   "nbconvert_exporter": "python",
   "pygments_lexer": "ipython3",
   "version": "3.8.3"
  },
  "latex_envs": {
   "LaTeX_envs_menu_present": true,
   "autoclose": false,
   "autocomplete": true,
   "bibliofile": "biblio.bib",
   "cite_by": "apalike",
   "current_citInitial": 1,
   "eqLabelWithNumbers": true,
   "eqNumInitial": 1,
   "hotkeys": {
    "equation": "Ctrl-E",
    "itemize": "Ctrl-I"
   },
   "labels_anchors": false,
   "latex_user_defs": false,
   "report_style_numbering": false,
   "user_envs_cfg": false
  },
  "toc": {
   "base_numbering": 1,
   "nav_menu": {},
   "number_sections": true,
   "sideBar": true,
   "skip_h1_title": false,
   "title_cell": "Table of Contents",
   "title_sidebar": "Contents",
   "toc_cell": false,
   "toc_position": {
    "height": "calc(100% - 180px)",
    "left": "10px",
    "top": "150px",
    "width": "304.475px"
   },
   "toc_section_display": true,
   "toc_window_display": true
  },
  "varInspector": {
   "cols": {
    "lenName": 16,
    "lenType": 16,
    "lenVar": 40
   },
   "kernels_config": {
    "python": {
     "delete_cmd_postfix": "",
     "delete_cmd_prefix": "del ",
     "library": "var_list.py",
     "varRefreshCmd": "print(var_dic_list())"
    },
    "r": {
     "delete_cmd_postfix": ") ",
     "delete_cmd_prefix": "rm(",
     "library": "var_list.r",
     "varRefreshCmd": "cat(var_dic_list()) "
    }
   },
   "types_to_exclude": [
    "module",
    "function",
    "builtin_function_or_method",
    "instance",
    "_Feature"
   ],
   "window_display": false
  }
 },
 "nbformat": 4,
 "nbformat_minor": 4
}
