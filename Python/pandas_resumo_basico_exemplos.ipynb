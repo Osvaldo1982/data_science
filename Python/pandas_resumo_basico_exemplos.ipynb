{
 "cells": [
  {
   "cell_type": "markdown",
   "metadata": {
    "colab_type": "text",
    "id": "HgiML5FabFEt"
   },
   "source": [
    "# Pandas Crosstab\n",
    "\n",
    "## Exemplo 1.\n",
    "\n",
    "* [pandas.crosstab](https://pandas.pydata.org/pandas-docs/stable/reference/api/pandas.crosstab.html)"
   ]
  },
  {
   "cell_type": "code",
   "execution_count": 1,
   "metadata": {
    "ExecuteTime": {
     "end_time": "2020-03-29T15:20:32.254240Z",
     "start_time": "2020-03-29T15:20:29.870641Z"
    },
    "colab": {},
    "colab_type": "code",
    "id": "a74roNA9ayqp"
   },
   "outputs": [],
   "source": [
    "import pandas as pd\n",
    "import numpy as np"
   ]
  },
  {
   "cell_type": "code",
   "execution_count": 0,
   "metadata": {
    "colab": {
     "base_uri": "https://localhost:8080/",
     "height": 34
    },
    "colab_type": "code",
    "executionInfo": {
     "elapsed": 667,
     "status": "ok",
     "timestamp": 1567955510640,
     "user": {
      "displayName": "Osvaldo Pereira",
      "photoUrl": "https://lh3.googleusercontent.com/a-/AAuE7mAnkb6EHQKZbtrluLoR9n9gLHCEzz9To0MH1UpwbA=s64",
      "userId": "08686613136230694087"
     },
     "user_tz": 180
    },
    "id": "-P6WJsGWa1v4",
    "outputId": "b23ba296-7042-4dbc-f69b-cb02def4da49"
   },
   "outputs": [
    {
     "name": "stdout",
     "output_type": "stream",
     "text": [
      "a= ['foo' 'foo' 'foo' 'foo' 'bar' 'bar' 'bar' 'bar' 'foo' 'foo' 'foo']\n"
     ]
    }
   ],
   "source": [
    "a = np.array([\"foo\", \"foo\", \"foo\", \"foo\", \"bar\", \"bar\", \"bar\", \"bar\", \"foo\", \"foo\", \"foo\"], dtype=object)\n",
    "print('a=',a)"
   ]
  },
  {
   "cell_type": "code",
   "execution_count": 0,
   "metadata": {
    "colab": {
     "base_uri": "https://localhost:8080/",
     "height": 34
    },
    "colab_type": "code",
    "executionInfo": {
     "elapsed": 662,
     "status": "ok",
     "timestamp": 1567955543623,
     "user": {
      "displayName": "Osvaldo Pereira",
      "photoUrl": "https://lh3.googleusercontent.com/a-/AAuE7mAnkb6EHQKZbtrluLoR9n9gLHCEzz9To0MH1UpwbA=s64",
      "userId": "08686613136230694087"
     },
     "user_tz": 180
    },
    "id": "kVX-0tXjbnJC",
    "outputId": "934d17ac-82fa-4983-cf54-b95df50ed3eb"
   },
   "outputs": [
    {
     "name": "stdout",
     "output_type": "stream",
     "text": [
      "b =  ['one' 'one' 'one' 'two' 'one' 'one' 'one' 'two' 'two' 'two' 'one']\n"
     ]
    }
   ],
   "source": [
    "b = np.array([\"one\", \"one\", \"one\", \"two\", \"one\", \"one\", \"one\", \"two\", \"two\", \"two\", \"one\"], dtype=object)\n",
    "print('b = ', b)"
   ]
  },
  {
   "cell_type": "code",
   "execution_count": 0,
   "metadata": {
    "colab": {
     "base_uri": "https://localhost:8080/",
     "height": 51
    },
    "colab_type": "code",
    "executionInfo": {
     "elapsed": 785,
     "status": "ok",
     "timestamp": 1567956226201,
     "user": {
      "displayName": "Osvaldo Pereira",
      "photoUrl": "https://lh3.googleusercontent.com/a-/AAuE7mAnkb6EHQKZbtrluLoR9n9gLHCEzz9To0MH1UpwbA=s64",
      "userId": "08686613136230694087"
     },
     "user_tz": 180
    },
    "id": "ThQkLLosbnTB",
    "outputId": "3ee30298-4c07-468c-85dc-a6c6f6050a03"
   },
   "outputs": [
    {
     "name": "stdout",
     "output_type": "stream",
     "text": [
      "c =  ['dull' 'dull' 'shiny' 'dull' 'dull' 'shiny' 'shiny' 'dull' 'shiny'\n",
      " 'shiny' 'shiny']\n"
     ]
    }
   ],
   "source": [
    "c = np.array([\"dull\", \"dull\", \"shiny\", \"dull\", \"dull\", \"shiny\",\"shiny\", \"dull\", \"shiny\", \"shiny\", \"shiny\"], dtype=object)\n",
    "print('c = ',c)"
   ]
  },
  {
   "cell_type": "code",
   "execution_count": 0,
   "metadata": {
    "colab": {
     "base_uri": "https://localhost:8080/",
     "height": 204
    },
    "colab_type": "code",
    "executionInfo": {
     "elapsed": 819,
     "status": "ok",
     "timestamp": 1567956468885,
     "user": {
      "displayName": "Osvaldo Pereira",
      "photoUrl": "https://lh3.googleusercontent.com/a-/AAuE7mAnkb6EHQKZbtrluLoR9n9gLHCEzz9To0MH1UpwbA=s64",
      "userId": "08686613136230694087"
     },
     "user_tz": 180
    },
    "id": "LbgAE7ApdddN",
    "outputId": "6b005497-a47f-401c-9cbe-8e970d116688"
   },
   "outputs": [
    {
     "name": "stdout",
     "output_type": "stream",
     "text": [
      "[['foo' 'one' 'dull']\n",
      " ['foo' 'one' 'dull']\n",
      " ['foo' 'one' 'shiny']\n",
      " ['foo' 'two' 'dull']\n",
      " ['bar' 'one' 'dull']\n",
      " ['bar' 'one' 'shiny']\n",
      " ['bar' 'one' 'shiny']\n",
      " ['bar' 'two' 'dull']\n",
      " ['foo' 'two' 'shiny']\n",
      " ['foo' 'two' 'shiny']\n",
      " ['foo' 'one' 'shiny']]\n"
     ]
    }
   ],
   "source": [
    "df2 = np.stack([a, b, c], axis=1)\n",
    "print(df2)"
   ]
  },
  {
   "cell_type": "code",
   "execution_count": 0,
   "metadata": {
    "colab": {
     "base_uri": "https://localhost:8080/",
     "height": 221
    },
    "colab_type": "code",
    "executionInfo": {
     "elapsed": 2134,
     "status": "ok",
     "timestamp": 1567956683969,
     "user": {
      "displayName": "Osvaldo Pereira",
      "photoUrl": "https://lh3.googleusercontent.com/a-/AAuE7mAnkb6EHQKZbtrluLoR9n9gLHCEzz9To0MH1UpwbA=s64",
      "userId": "08686613136230694087"
     },
     "user_tz": 180
    },
    "id": "YuM0CzF2evln",
    "outputId": "a850e598-c7ca-4822-e501-6c70e13a8626"
   },
   "outputs": [
    {
     "name": "stdout",
     "output_type": "stream",
     "text": [
      "      a    b      c\n",
      "0   foo  one   dull\n",
      "1   foo  one   dull\n",
      "2   foo  one  shiny\n",
      "3   foo  two   dull\n",
      "4   bar  one   dull\n",
      "5   bar  one  shiny\n",
      "6   bar  one  shiny\n",
      "7   bar  two   dull\n",
      "8   foo  two  shiny\n",
      "9   foo  two  shiny\n",
      "10  foo  one  shiny\n"
     ]
    }
   ],
   "source": [
    "df3 = pd.DataFrame(df2,columns=['a', 'b', 'c'])\n",
    "print(df3)"
   ]
  },
  {
   "cell_type": "code",
   "execution_count": 0,
   "metadata": {
    "colab": {
     "base_uri": "https://localhost:8080/",
     "height": 173
    },
    "colab_type": "code",
    "executionInfo": {
     "elapsed": 868,
     "status": "ok",
     "timestamp": 1567955604814,
     "user": {
      "displayName": "Osvaldo Pereira",
      "photoUrl": "https://lh3.googleusercontent.com/a-/AAuE7mAnkb6EHQKZbtrluLoR9n9gLHCEzz9To0MH1UpwbA=s64",
      "userId": "08686613136230694087"
     },
     "user_tz": 180
    },
    "id": "sklFtvzRbnaC",
    "outputId": "e334c8ab-d5e7-4934-aa61-5d7b7f9b6e4c"
   },
   "outputs": [
    {
     "data": {
      "text/html": [
       "<div>\n",
       "<style scoped>\n",
       "    .dataframe tbody tr th:only-of-type {\n",
       "        vertical-align: middle;\n",
       "    }\n",
       "\n",
       "    .dataframe tbody tr th {\n",
       "        vertical-align: top;\n",
       "    }\n",
       "\n",
       "    .dataframe thead tr th {\n",
       "        text-align: left;\n",
       "    }\n",
       "\n",
       "    .dataframe thead tr:last-of-type th {\n",
       "        text-align: right;\n",
       "    }\n",
       "</style>\n",
       "<table border=\"1\" class=\"dataframe\">\n",
       "  <thead>\n",
       "    <tr>\n",
       "      <th>b</th>\n",
       "      <th colspan=\"2\" halign=\"left\">one</th>\n",
       "      <th colspan=\"2\" halign=\"left\">two</th>\n",
       "    </tr>\n",
       "    <tr>\n",
       "      <th>c</th>\n",
       "      <th>dull</th>\n",
       "      <th>shiny</th>\n",
       "      <th>dull</th>\n",
       "      <th>shiny</th>\n",
       "    </tr>\n",
       "    <tr>\n",
       "      <th>a</th>\n",
       "      <th></th>\n",
       "      <th></th>\n",
       "      <th></th>\n",
       "      <th></th>\n",
       "    </tr>\n",
       "  </thead>\n",
       "  <tbody>\n",
       "    <tr>\n",
       "      <th>bar</th>\n",
       "      <td>1</td>\n",
       "      <td>2</td>\n",
       "      <td>1</td>\n",
       "      <td>0</td>\n",
       "    </tr>\n",
       "    <tr>\n",
       "      <th>foo</th>\n",
       "      <td>2</td>\n",
       "      <td>2</td>\n",
       "      <td>1</td>\n",
       "      <td>2</td>\n",
       "    </tr>\n",
       "  </tbody>\n",
       "</table>\n",
       "</div>"
      ],
      "text/plain": [
       "b    one        two      \n",
       "c   dull shiny dull shiny\n",
       "a                        \n",
       "bar    1     2    1     0\n",
       "foo    2     2    1     2"
      ]
     },
     "execution_count": 9,
     "metadata": {
      "tags": []
     },
     "output_type": "execute_result"
    }
   ],
   "source": [
    "pd.crosstab(a, [b, c], rownames=['a'], colnames=['b', 'c'])"
   ]
  },
  {
   "cell_type": "code",
   "execution_count": 0,
   "metadata": {
    "colab": {
     "base_uri": "https://localhost:8080/",
     "height": 34
    },
    "colab_type": "code",
    "executionInfo": {
     "elapsed": 667,
     "status": "ok",
     "timestamp": 1567957217093,
     "user": {
      "displayName": "Osvaldo Pereira",
      "photoUrl": "https://lh3.googleusercontent.com/a-/AAuE7mAnkb6EHQKZbtrluLoR9n9gLHCEzz9To0MH1UpwbA=s64",
      "userId": "08686613136230694087"
     },
     "user_tz": 180
    },
    "id": "VY9lpmFsiE9T",
    "outputId": "9bc506e4-df01-4aa7-db34-fd4ec05f0b74"
   },
   "outputs": [
    {
     "name": "stdout",
     "output_type": "stream",
     "text": [
      "{'f', 'd', 'b', 'e', 'a', 'c'}\n"
     ]
    }
   ],
   "source": [
    "x = {\"a\", \"b\", \"c\"}\n",
    "y = {\"f\", \"d\", \"a\"}\n",
    "z = {\"c\", \"d\", \"e\"}\n",
    "\n",
    "result = x.union(y, z) \n",
    "\n",
    "print(result)"
   ]
  },
  {
   "cell_type": "markdown",
   "metadata": {},
   "source": [
    "# Merge de dataframes no Pandas"
   ]
  },
  {
   "cell_type": "markdown",
   "metadata": {},
   "source": [
    "## Exemplo de merge de dataframes\n",
    "\n",
    "* [Exemplo - vlookup no Pandas](https://stackoverflow.com/questions/25493625/vlookup-in-pandas-using-join)"
   ]
  },
  {
   "cell_type": "code",
   "execution_count": 10,
   "metadata": {
    "ExecuteTime": {
     "end_time": "2020-03-29T15:24:58.176681Z",
     "start_time": "2020-03-29T15:24:58.161025Z"
    }
   },
   "outputs": [
    {
     "name": "stdout",
     "output_type": "stream",
     "text": [
      "   sku  loc   flag\n",
      "0  122   61   True\n",
      "1  123   61   True\n",
      "2  113   62   True\n",
      "3  122   62   True\n",
      "4  123   62  False\n",
      "5  122   63  False\n",
      "6  301   63   True\n"
     ]
    }
   ],
   "source": [
    "df1 = pd.DataFrame(\n",
    "{\n",
    "'sku':[122,123,113,122,123,122,301],\n",
    "'loc':[61,61,62,62,62,63,63],\n",
    "'flag':['True','True','True','True','False','False','True']\n",
    " })\n",
    "\n",
    "print(df1)"
   ]
  },
  {
   "cell_type": "code",
   "execution_count": 11,
   "metadata": {
    "ExecuteTime": {
     "end_time": "2020-03-29T15:25:00.756346Z",
     "start_time": "2020-03-29T15:25:00.748350Z"
    }
   },
   "outputs": [
    {
     "name": "stdout",
     "output_type": "stream",
     "text": [
      "   sku dept\n",
      "0  113    a\n",
      "1  122    b\n",
      "2  123    b\n",
      "3  301    c\n"
     ]
    }
   ],
   "source": [
    "df2 = pd.DataFrame(\n",
    "{\n",
    "'sku':[113,122,123,301],\n",
    "'dept':['a','b','b','c']\n",
    "})\n",
    "\n",
    "print(df2)"
   ]
  },
  {
   "cell_type": "code",
   "execution_count": 12,
   "metadata": {
    "ExecuteTime": {
     "end_time": "2020-03-29T15:25:01.697344Z",
     "start_time": "2020-03-29T15:25:01.686358Z"
    }
   },
   "outputs": [
    {
     "name": "stdout",
     "output_type": "stream",
     "text": [
      "   sku dept  loc   flag\n",
      "0  113    a   62   True\n",
      "1  122    b   61   True\n",
      "2  122    b   62   True\n",
      "3  122    b   63  False\n",
      "4  123    b   61   True\n",
      "5  123    b   62  False\n",
      "6  301    c   63   True\n"
     ]
    }
   ],
   "source": [
    "df3 = df2.merge(df1, on='sku', how='left')\n",
    "\n",
    "print(df3)"
   ]
  },
  {
   "cell_type": "code",
   "execution_count": 13,
   "metadata": {
    "ExecuteTime": {
     "end_time": "2020-03-29T15:25:03.549762Z",
     "start_time": "2020-03-29T15:25:03.537724Z"
    }
   },
   "outputs": [
    {
     "name": "stdout",
     "output_type": "stream",
     "text": [
      "   sku  loc   flag dept\n",
      "0  122   61   True    b\n",
      "1  123   61   True    b\n",
      "2  113   62   True    a\n",
      "3  122   62   True    b\n",
      "4  123   62  False    b\n",
      "5  122   63  False    b\n",
      "6  301   63   True    c\n"
     ]
    }
   ],
   "source": [
    "aux = df2.set_index('sku')['dept'].to_dict()\n",
    "df1['dept'] = df1.sku.map(aux)\n",
    "\n",
    "print(df1)"
   ]
  },
  {
   "cell_type": "code",
   "execution_count": 14,
   "metadata": {
    "ExecuteTime": {
     "end_time": "2020-03-29T15:25:12.165204Z",
     "start_time": "2020-03-29T15:25:12.161244Z"
    }
   },
   "outputs": [],
   "source": [
    "dict1 = {113:'a',\n",
    "         122:'b',\n",
    "         123:'b',\n",
    "         301:'c'}"
   ]
  },
  {
   "cell_type": "code",
   "execution_count": 15,
   "metadata": {
    "ExecuteTime": {
     "end_time": "2020-03-29T15:25:15.888563Z",
     "start_time": "2020-03-29T15:25:15.881562Z"
    }
   },
   "outputs": [
    {
     "name": "stdout",
     "output_type": "stream",
     "text": [
      "   sku  loc   flag dept dept2\n",
      "0  122   61   True    b     b\n",
      "1  123   61   True    b     b\n",
      "2  113   62   True    a     a\n",
      "3  122   62   True    b     b\n",
      "4  123   62  False    b     b\n",
      "5  122   63  False    b     b\n",
      "6  301   63   True    c     c\n"
     ]
    }
   ],
   "source": [
    "df1['dept2'] = df1['sku'].apply(lambda x: dict1[x])\n",
    "print(df1)"
   ]
  },
  {
   "cell_type": "markdown",
   "metadata": {},
   "source": [
    "# Matrizes de incidência"
   ]
  },
  {
   "cell_type": "markdown",
   "metadata": {},
   "source": [
    "## Exemplo de pivot table e matriz de incidência no Pandas"
   ]
  },
  {
   "cell_type": "code",
   "execution_count": 16,
   "metadata": {
    "ExecuteTime": {
     "end_time": "2020-03-29T15:26:26.015861Z",
     "start_time": "2020-03-29T15:26:26.011850Z"
    }
   },
   "outputs": [
    {
     "name": "stdout",
     "output_type": "stream",
     "text": [
      "['a' 'a' 'a' 'a' 'a' 'b' 'b']\n"
     ]
    }
   ],
   "source": [
    "cat = np.array(['a','a','a','a','a','b','b'])\n",
    "print(cat)"
   ]
  },
  {
   "cell_type": "code",
   "execution_count": 17,
   "metadata": {
    "ExecuteTime": {
     "end_time": "2020-03-29T15:26:33.232912Z",
     "start_time": "2020-03-29T15:26:33.228946Z"
    }
   },
   "outputs": [
    {
     "name": "stdout",
     "output_type": "stream",
     "text": [
      "['product 1' 'product 2' 'product 3' 'product 1' 'product 4' 'product 5'\n",
      " 'product 6']\n"
     ]
    }
   ],
   "source": [
    "prod = np.array(['product 1','product 2','product 3','product 1','product 4','product 5','product 6'])\n",
    "print(prod)"
   ]
  },
  {
   "cell_type": "code",
   "execution_count": 18,
   "metadata": {
    "ExecuteTime": {
     "end_time": "2020-03-29T15:26:42.637343Z",
     "start_time": "2020-03-29T15:26:42.632383Z"
    }
   },
   "outputs": [
    {
     "name": "stdout",
     "output_type": "stream",
     "text": [
      "[['a' 'product 1']\n",
      " ['a' 'product 2']\n",
      " ['a' 'product 3']\n",
      " ['a' 'product 1']\n",
      " ['a' 'product 4']\n",
      " ['b' 'product 5']\n",
      " ['b' 'product 6']]\n"
     ]
    }
   ],
   "source": [
    "dfx = np.stack([cat,prod],axis=1)\n",
    "print(dfx)"
   ]
  },
  {
   "cell_type": "code",
   "execution_count": 19,
   "metadata": {
    "ExecuteTime": {
     "end_time": "2020-03-29T15:26:50.272311Z",
     "start_time": "2020-03-29T15:26:50.262317Z"
    }
   },
   "outputs": [
    {
     "name": "stdout",
     "output_type": "stream",
     "text": [
      "           0          1          2          3          4          5          6\n",
      "0          a          a          a          a          a          b          b\n",
      "1  product 1  product 2  product 3  product 1  product 4  product 5  product 6\n"
     ]
    }
   ],
   "source": [
    "df1 = pd.DataFrame([cat,prod])\n",
    "print(df1)"
   ]
  },
  {
   "cell_type": "code",
   "execution_count": 20,
   "metadata": {
    "ExecuteTime": {
     "end_time": "2020-03-29T15:26:57.024112Z",
     "start_time": "2020-03-29T15:26:57.018150Z"
    }
   },
   "outputs": [
    {
     "name": "stdout",
     "output_type": "stream",
     "text": [
      "  Category Product_ID\n",
      "0        a  product 1\n",
      "1        a  product 2\n",
      "2        a  product 3\n",
      "3        a  product 1\n",
      "4        a  product 4\n",
      "5        b  product 5\n",
      "6        b  product 6\n"
     ]
    }
   ],
   "source": [
    "df = pd.DataFrame(\n",
    "{'Category':['a','a','a','a','a','b','b'],\n",
    "'Product_ID':['product 1','product 2','product 3','product 1','product 4','product 5','product 6']}\n",
    ")\n",
    "print(df)"
   ]
  },
  {
   "cell_type": "code",
   "execution_count": 21,
   "metadata": {
    "ExecuteTime": {
     "end_time": "2020-03-29T15:27:04.874492Z",
     "start_time": "2020-03-29T15:27:04.819139Z"
    }
   },
   "outputs": [
    {
     "data": {
      "text/html": [
       "<div>\n",
       "<style scoped>\n",
       "    .dataframe tbody tr th:only-of-type {\n",
       "        vertical-align: middle;\n",
       "    }\n",
       "\n",
       "    .dataframe tbody tr th {\n",
       "        vertical-align: top;\n",
       "    }\n",
       "\n",
       "    .dataframe thead th {\n",
       "        text-align: right;\n",
       "    }\n",
       "</style>\n",
       "<table border=\"1\" class=\"dataframe\">\n",
       "  <thead>\n",
       "    <tr style=\"text-align: right;\">\n",
       "      <th>Product_ID</th>\n",
       "      <th>product 1</th>\n",
       "      <th>product 2</th>\n",
       "      <th>product 3</th>\n",
       "      <th>product 4</th>\n",
       "      <th>product 5</th>\n",
       "      <th>product 6</th>\n",
       "    </tr>\n",
       "    <tr>\n",
       "      <th>Product_ID</th>\n",
       "      <th></th>\n",
       "      <th></th>\n",
       "      <th></th>\n",
       "      <th></th>\n",
       "      <th></th>\n",
       "      <th></th>\n",
       "    </tr>\n",
       "  </thead>\n",
       "  <tbody>\n",
       "    <tr>\n",
       "      <th>product 1</th>\n",
       "      <td>2</td>\n",
       "      <td>0</td>\n",
       "      <td>0</td>\n",
       "      <td>0</td>\n",
       "      <td>0</td>\n",
       "      <td>0</td>\n",
       "    </tr>\n",
       "    <tr>\n",
       "      <th>product 2</th>\n",
       "      <td>0</td>\n",
       "      <td>1</td>\n",
       "      <td>0</td>\n",
       "      <td>0</td>\n",
       "      <td>0</td>\n",
       "      <td>0</td>\n",
       "    </tr>\n",
       "    <tr>\n",
       "      <th>product 3</th>\n",
       "      <td>0</td>\n",
       "      <td>0</td>\n",
       "      <td>1</td>\n",
       "      <td>0</td>\n",
       "      <td>0</td>\n",
       "      <td>0</td>\n",
       "    </tr>\n",
       "    <tr>\n",
       "      <th>product 4</th>\n",
       "      <td>0</td>\n",
       "      <td>0</td>\n",
       "      <td>0</td>\n",
       "      <td>1</td>\n",
       "      <td>0</td>\n",
       "      <td>0</td>\n",
       "    </tr>\n",
       "    <tr>\n",
       "      <th>product 5</th>\n",
       "      <td>0</td>\n",
       "      <td>0</td>\n",
       "      <td>0</td>\n",
       "      <td>0</td>\n",
       "      <td>1</td>\n",
       "      <td>0</td>\n",
       "    </tr>\n",
       "    <tr>\n",
       "      <th>product 6</th>\n",
       "      <td>0</td>\n",
       "      <td>0</td>\n",
       "      <td>0</td>\n",
       "      <td>0</td>\n",
       "      <td>0</td>\n",
       "      <td>1</td>\n",
       "    </tr>\n",
       "  </tbody>\n",
       "</table>\n",
       "</div>"
      ],
      "text/plain": [
       "Product_ID  product 1  product 2  product 3  product 4  product 5  product 6\n",
       "Product_ID                                                                  \n",
       "product 1           2          0          0          0          0          0\n",
       "product 2           0          1          0          0          0          0\n",
       "product 3           0          0          1          0          0          0\n",
       "product 4           0          0          0          1          0          0\n",
       "product 5           0          0          0          0          1          0\n",
       "product 6           0          0          0          0          0          1"
      ]
     },
     "execution_count": 21,
     "metadata": {},
     "output_type": "execute_result"
    }
   ],
   "source": [
    "pd.crosstab(df['Product_ID'], df['Product_ID'])"
   ]
  },
  {
   "cell_type": "code",
   "execution_count": 22,
   "metadata": {
    "ExecuteTime": {
     "end_time": "2020-03-29T15:27:12.731618Z",
     "start_time": "2020-03-29T15:27:12.662624Z"
    }
   },
   "outputs": [
    {
     "data": {
      "text/html": [
       "<div>\n",
       "<style scoped>\n",
       "    .dataframe tbody tr th:only-of-type {\n",
       "        vertical-align: middle;\n",
       "    }\n",
       "\n",
       "    .dataframe tbody tr th {\n",
       "        vertical-align: top;\n",
       "    }\n",
       "\n",
       "    .dataframe thead th {\n",
       "        text-align: right;\n",
       "    }\n",
       "</style>\n",
       "<table border=\"1\" class=\"dataframe\">\n",
       "  <thead>\n",
       "    <tr style=\"text-align: right;\">\n",
       "      <th>Product_ID</th>\n",
       "      <th>product 1</th>\n",
       "      <th>product 2</th>\n",
       "      <th>product 3</th>\n",
       "      <th>product 4</th>\n",
       "      <th>product 5</th>\n",
       "      <th>product 6</th>\n",
       "    </tr>\n",
       "    <tr>\n",
       "      <th>Product_ID</th>\n",
       "      <th></th>\n",
       "      <th></th>\n",
       "      <th></th>\n",
       "      <th></th>\n",
       "      <th></th>\n",
       "      <th></th>\n",
       "    </tr>\n",
       "  </thead>\n",
       "  <tbody>\n",
       "    <tr>\n",
       "      <th>product 1</th>\n",
       "      <td>0.285714</td>\n",
       "      <td>0.000000</td>\n",
       "      <td>0.000000</td>\n",
       "      <td>0.000000</td>\n",
       "      <td>0.000000</td>\n",
       "      <td>0.000000</td>\n",
       "    </tr>\n",
       "    <tr>\n",
       "      <th>product 2</th>\n",
       "      <td>0.000000</td>\n",
       "      <td>0.142857</td>\n",
       "      <td>0.000000</td>\n",
       "      <td>0.000000</td>\n",
       "      <td>0.000000</td>\n",
       "      <td>0.000000</td>\n",
       "    </tr>\n",
       "    <tr>\n",
       "      <th>product 3</th>\n",
       "      <td>0.000000</td>\n",
       "      <td>0.000000</td>\n",
       "      <td>0.142857</td>\n",
       "      <td>0.000000</td>\n",
       "      <td>0.000000</td>\n",
       "      <td>0.000000</td>\n",
       "    </tr>\n",
       "    <tr>\n",
       "      <th>product 4</th>\n",
       "      <td>0.000000</td>\n",
       "      <td>0.000000</td>\n",
       "      <td>0.000000</td>\n",
       "      <td>0.142857</td>\n",
       "      <td>0.000000</td>\n",
       "      <td>0.000000</td>\n",
       "    </tr>\n",
       "    <tr>\n",
       "      <th>product 5</th>\n",
       "      <td>0.000000</td>\n",
       "      <td>0.000000</td>\n",
       "      <td>0.000000</td>\n",
       "      <td>0.000000</td>\n",
       "      <td>0.142857</td>\n",
       "      <td>0.000000</td>\n",
       "    </tr>\n",
       "    <tr>\n",
       "      <th>product 6</th>\n",
       "      <td>0.000000</td>\n",
       "      <td>0.000000</td>\n",
       "      <td>0.000000</td>\n",
       "      <td>0.000000</td>\n",
       "      <td>0.000000</td>\n",
       "      <td>0.142857</td>\n",
       "    </tr>\n",
       "  </tbody>\n",
       "</table>\n",
       "</div>"
      ],
      "text/plain": [
       "Product_ID  product 1  product 2  product 3  product 4  product 5  product 6\n",
       "Product_ID                                                                  \n",
       "product 1    0.285714   0.000000   0.000000   0.000000   0.000000   0.000000\n",
       "product 2    0.000000   0.142857   0.000000   0.000000   0.000000   0.000000\n",
       "product 3    0.000000   0.000000   0.142857   0.000000   0.000000   0.000000\n",
       "product 4    0.000000   0.000000   0.000000   0.142857   0.000000   0.000000\n",
       "product 5    0.000000   0.000000   0.000000   0.000000   0.142857   0.000000\n",
       "product 6    0.000000   0.000000   0.000000   0.000000   0.000000   0.142857"
      ]
     },
     "execution_count": 22,
     "metadata": {},
     "output_type": "execute_result"
    }
   ],
   "source": [
    "pd.crosstab(df['Product_ID'], df['Product_ID'], normalize=True)"
   ]
  },
  {
   "cell_type": "markdown",
   "metadata": {},
   "source": [
    "## Outro exemplo de matriz de incidência"
   ]
  },
  {
   "cell_type": "code",
   "execution_count": 23,
   "metadata": {
    "ExecuteTime": {
     "end_time": "2020-03-29T15:33:40.715423Z",
     "start_time": "2020-03-29T15:33:40.709427Z"
    }
   },
   "outputs": [
    {
     "name": "stdout",
     "output_type": "stream",
     "text": [
      "   index Name_A Name_B\n",
      "0      0   Adam    Ben\n",
      "1      1  Chris  David\n",
      "2      2   Adam  Chris\n",
      "3      3    Ben  Chris\n"
     ]
    }
   ],
   "source": [
    "df1 = pd.DataFrame(\n",
    "{\n",
    "'index':[0,1,2,3],\n",
    "'Name_A':['Adam', 'Chris', 'Adam', 'Ben'],\n",
    "'Name_B':['Ben', 'David', 'Chris', 'Chris']\n",
    " })\n",
    "print(df1)"
   ]
  },
  {
   "cell_type": "code",
   "execution_count": 24,
   "metadata": {
    "ExecuteTime": {
     "end_time": "2020-03-29T15:33:47.852393Z",
     "start_time": "2020-03-29T15:33:47.830442Z"
    }
   },
   "outputs": [
    {
     "name": "stdout",
     "output_type": "stream",
     "text": [
      "Name_B  Ben  Chris  David\n",
      "Name_A                   \n",
      "Adam      1      1      0\n",
      "Ben       0      1      0\n",
      "Chris     0      0      1\n"
     ]
    }
   ],
   "source": [
    "df = pd.crosstab(df1.Name_A, df1.Name_B)\n",
    "print(df)"
   ]
  },
  {
   "cell_type": "code",
   "execution_count": 25,
   "metadata": {
    "ExecuteTime": {
     "end_time": "2020-03-29T15:33:55.773111Z",
     "start_time": "2020-03-29T15:33:55.744118Z"
    }
   },
   "outputs": [
    {
     "name": "stdout",
     "output_type": "stream",
     "text": [
      "       Adam  Ben  Chris  David\n",
      "Adam      0    1      1      0\n",
      "Ben       0    0      1      0\n",
      "Chris     0    0      0      1\n",
      "David     0    0      0      0\n"
     ]
    }
   ],
   "source": [
    "df = pd.crosstab(df1.Name_A, df1.Name_B)\n",
    "idx = df.columns.union(df.index)\n",
    "df = df.reindex(index = idx, columns=idx, fill_value=0)\n",
    "print (df)"
   ]
  },
  {
   "cell_type": "code",
   "execution_count": 26,
   "metadata": {
    "ExecuteTime": {
     "end_time": "2020-03-29T15:34:03.031771Z",
     "start_time": "2020-03-29T15:34:03.027775Z"
    }
   },
   "outputs": [
    {
     "name": "stdout",
     "output_type": "stream",
     "text": [
      "Index(['Adam', 'Ben', 'Chris', 'David'], dtype='object')\n"
     ]
    }
   ],
   "source": [
    "print(df.index)"
   ]
  },
  {
   "cell_type": "code",
   "execution_count": 27,
   "metadata": {
    "ExecuteTime": {
     "end_time": "2020-03-29T15:34:09.555300Z",
     "start_time": "2020-03-29T15:34:09.549304Z"
    }
   },
   "outputs": [
    {
     "name": "stdout",
     "output_type": "stream",
     "text": [
      "<bound method DataFrame.reindex of        Adam  Ben  Chris  David\n",
      "Adam      0    1      1      0\n",
      "Ben       0    0      1      0\n",
      "Chris     0    0      0      1\n",
      "David     0    0      0      0>\n"
     ]
    }
   ],
   "source": [
    "print(df.reindex)"
   ]
  },
  {
   "cell_type": "markdown",
   "metadata": {},
   "source": [
    "# Operações básicas com colunas\n",
    "\n",
    "* [How do I sum values in a column that match a given condition using pandas?](https://intellipaat.com/community/49/how-do-i-sum-values-in-a-column-that-match-a-given-condition-using-pandas)\n",
    "* []()\n",
    "* []()"
   ]
  },
  {
   "cell_type": "code",
   "execution_count": null,
   "metadata": {},
   "outputs": [],
   "source": []
  }
 ],
 "metadata": {
  "colab": {
   "collapsed_sections": [],
   "name": "Copy of Example of pandas crosstab.ipynb",
   "provenance": [
    {
     "file_id": "1NiZNqo4gAqMFFp3w5YRDTBmFqzDsinKc",
     "timestamp": 1567991185808
    }
   ],
   "version": "0.3.2"
  },
  "hide_input": false,
  "kernelspec": {
   "display_name": "Python 3",
   "language": "python",
   "name": "python3"
  },
  "language_info": {
   "codemirror_mode": {
    "name": "ipython",
    "version": 3
   },
   "file_extension": ".py",
   "mimetype": "text/x-python",
   "name": "python",
   "nbconvert_exporter": "python",
   "pygments_lexer": "ipython3",
   "version": "3.8.3"
  },
  "latex_envs": {
   "LaTeX_envs_menu_present": true,
   "autoclose": false,
   "autocomplete": true,
   "bibliofile": "biblio.bib",
   "cite_by": "apalike",
   "current_citInitial": 1,
   "eqLabelWithNumbers": true,
   "eqNumInitial": 1,
   "hotkeys": {
    "equation": "Ctrl-E",
    "itemize": "Ctrl-I"
   },
   "labels_anchors": false,
   "latex_user_defs": false,
   "report_style_numbering": false,
   "user_envs_cfg": false
  },
  "toc": {
   "base_numbering": 1,
   "nav_menu": {},
   "number_sections": true,
   "sideBar": true,
   "skip_h1_title": false,
   "title_cell": "Table of Contents",
   "title_sidebar": "Contents",
   "toc_cell": false,
   "toc_position": {},
   "toc_section_display": true,
   "toc_window_display": true
  },
  "varInspector": {
   "cols": {
    "lenName": 16,
    "lenType": 16,
    "lenVar": 40
   },
   "kernels_config": {
    "python": {
     "delete_cmd_postfix": "",
     "delete_cmd_prefix": "del ",
     "library": "var_list.py",
     "varRefreshCmd": "print(var_dic_list())"
    },
    "r": {
     "delete_cmd_postfix": ") ",
     "delete_cmd_prefix": "rm(",
     "library": "var_list.r",
     "varRefreshCmd": "cat(var_dic_list()) "
    }
   },
   "types_to_exclude": [
    "module",
    "function",
    "builtin_function_or_method",
    "instance",
    "_Feature"
   ],
   "window_display": false
  }
 },
 "nbformat": 4,
 "nbformat_minor": 1
}
