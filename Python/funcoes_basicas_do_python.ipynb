{
 "cells": [
  {
   "cell_type": "markdown",
   "metadata": {},
   "source": [
    "Onde encontrar mais materiais para aprendizado?\n",
    "\n",
    "* https://www.learnpython.org/\n",
    "\n",
    "* https://www.w3schools.com/python/"
   ]
  },
  {
   "cell_type": "code",
   "execution_count": 23,
   "metadata": {
    "ExecuteTime": {
     "end_time": "2020-04-01T19:38:58.437107Z",
     "start_time": "2020-04-01T19:38:58.433152Z"
    }
   },
   "outputs": [],
   "source": [
    "import pandas as pd\n",
    "import numpy as np\n",
    "import sympy as sym\n",
    "sym.init_printing() "
   ]
  },
  {
   "cell_type": "markdown",
   "metadata": {},
   "source": [
    "# Funções básicas de Python"
   ]
  },
  {
   "cell_type": "markdown",
   "metadata": {},
   "source": [
    "## Interpretador interativo e operações básicas"
   ]
  },
  {
   "cell_type": "code",
   "execution_count": 2,
   "metadata": {
    "ExecuteTime": {
     "end_time": "2020-03-25T22:39:18.898898Z",
     "start_time": "2020-03-25T22:39:18.885933Z"
    }
   },
   "outputs": [
    {
     "data": {
      "text/plain": [
       "4"
      ]
     },
     "execution_count": 2,
     "metadata": {},
     "output_type": "execute_result"
    }
   ],
   "source": [
    "# Soma\n",
    "1 + 3"
   ]
  },
  {
   "cell_type": "code",
   "execution_count": 17,
   "metadata": {
    "ExecuteTime": {
     "end_time": "2020-03-24T22:40:05.134343Z",
     "start_time": "2020-03-24T22:40:05.129357Z"
    }
   },
   "outputs": [
    {
     "data": {
      "text/plain": [
       "-2"
      ]
     },
     "execution_count": 17,
     "metadata": {},
     "output_type": "execute_result"
    }
   ],
   "source": [
    "# Subtração\n",
    "7 - 9"
   ]
  },
  {
   "cell_type": "code",
   "execution_count": 18,
   "metadata": {
    "ExecuteTime": {
     "end_time": "2020-03-24T22:40:06.816255Z",
     "start_time": "2020-03-24T22:40:06.811272Z"
    }
   },
   "outputs": [
    {
     "data": {
      "text/plain": [
       "3.3333333333333335"
      ]
     },
     "execution_count": 18,
     "metadata": {},
     "output_type": "execute_result"
    }
   ],
   "source": [
    "# Divisão\n",
    "10 / 3"
   ]
  },
  {
   "cell_type": "code",
   "execution_count": 3,
   "metadata": {
    "ExecuteTime": {
     "end_time": "2020-03-25T22:39:25.363625Z",
     "start_time": "2020-03-25T22:39:25.357635Z"
    }
   },
   "outputs": [
    {
     "data": {
      "text/plain": [
       "3"
      ]
     },
     "execution_count": 3,
     "metadata": {},
     "output_type": "execute_result"
    }
   ],
   "source": [
    "# Divisão sem resto\n",
    "10 // 3 "
   ]
  },
  {
   "cell_type": "code",
   "execution_count": 4,
   "metadata": {
    "ExecuteTime": {
     "end_time": "2020-03-25T22:39:35.951395Z",
     "start_time": "2020-03-25T22:39:35.945409Z"
    }
   },
   "outputs": [
    {
     "data": {
      "text/plain": [
       "'Texto'"
      ]
     },
     "execution_count": 4,
     "metadata": {},
     "output_type": "execute_result"
    }
   ],
   "source": [
    "# String\n",
    "\"Texto\""
   ]
  },
  {
   "cell_type": "code",
   "execution_count": null,
   "metadata": {},
   "outputs": [],
   "source": [
    "# String e multiplicação"
   ]
  },
  {
   "cell_type": "code",
   "execution_count": 3,
   "metadata": {
    "ExecuteTime": {
     "end_time": "2020-03-04T19:05:35.925485Z",
     "start_time": "2020-03-04T19:05:35.909487Z"
    }
   },
   "outputs": [
    {
     "data": {
      "text/plain": [
       "'Avião Teco'"
      ]
     },
     "execution_count": 3,
     "metadata": {},
     "output_type": "execute_result"
    }
   ],
   "source": [
    "\"Avião \" + \"Teco\""
   ]
  },
  {
   "cell_type": "code",
   "execution_count": 6,
   "metadata": {
    "ExecuteTime": {
     "end_time": "2020-03-25T22:39:59.554993Z",
     "start_time": "2020-03-25T22:39:59.548042Z"
    }
   },
   "outputs": [
    {
     "data": {
      "text/plain": [
       "'Avião TecoTeco'"
      ]
     },
     "execution_count": 6,
     "metadata": {},
     "output_type": "execute_result"
    }
   ],
   "source": [
    "\"Avião \" + \"Teco\"*2"
   ]
  },
  {
   "cell_type": "code",
   "execution_count": 10,
   "metadata": {
    "ExecuteTime": {
     "end_time": "2020-03-25T22:40:44.537823Z",
     "start_time": "2020-03-25T22:40:44.532840Z"
    }
   },
   "outputs": [
    {
     "data": {
      "text/plain": [
       "'Tex'"
      ]
     },
     "execution_count": 10,
     "metadata": {},
     "output_type": "execute_result"
    }
   ],
   "source": [
    "\"Texto\"[0:3]"
   ]
  },
  {
   "cell_type": "code",
   "execution_count": 11,
   "metadata": {
    "ExecuteTime": {
     "end_time": "2020-03-25T22:40:54.703267Z",
     "start_time": "2020-03-25T22:40:54.697283Z"
    }
   },
   "outputs": [
    {
     "data": {
      "text/plain": [
       "'Texto'"
      ]
     },
     "execution_count": 11,
     "metadata": {},
     "output_type": "execute_result"
    }
   ],
   "source": [
    "\"Textosss\"[:-3]"
   ]
  },
  {
   "cell_type": "code",
   "execution_count": 20,
   "metadata": {
    "ExecuteTime": {
     "end_time": "2020-02-10T19:09:28.521410Z",
     "start_time": "2020-02-10T19:09:28.514463Z"
    }
   },
   "outputs": [
    {
     "data": {
      "text/plain": [
       "0.75"
      ]
     },
     "execution_count": 20,
     "metadata": {},
     "output_type": "execute_result"
    }
   ],
   "source": [
    "# Sem print()\n",
    "1 + 3\n",
    "4 * 12\n",
    "3 / 4"
   ]
  },
  {
   "cell_type": "code",
   "execution_count": 8,
   "metadata": {
    "ExecuteTime": {
     "end_time": "2020-03-24T22:17:19.339919Z",
     "start_time": "2020-03-24T22:17:19.333935Z"
    }
   },
   "outputs": [
    {
     "name": "stdout",
     "output_type": "stream",
     "text": [
      "4\n",
      "48\n",
      "0.75\n"
     ]
    }
   ],
   "source": [
    "# Com print()\n",
    "print(1 + 3)\n",
    "print(4 * 12)\n",
    "print(3 / 4)"
   ]
  },
  {
   "cell_type": "code",
   "execution_count": 46,
   "metadata": {
    "ExecuteTime": {
     "end_time": "2020-04-01T20:26:05.847418Z",
     "start_time": "2020-04-01T20:26:05.841415Z"
    }
   },
   "outputs": [
    {
     "name": "stdout",
     "output_type": "stream",
     "text": [
      "um vezes dois: 2\n"
     ]
    }
   ],
   "source": [
    "# Print\n",
    "print('um vezes dois:', 1 * 2)"
   ]
  },
  {
   "cell_type": "markdown",
   "metadata": {},
   "source": [
    "## Estrutura básica de programas: variáveis, objetos, expressões,...\n",
    "Neste primeiro exemplo vamos explorar as funções **input**, **float** e **print** com um exemplo de uma calculadora que executa uma adição **+** entre dois números que o usuário irá digitar."
   ]
  },
  {
   "cell_type": "code",
   "execution_count": 12,
   "metadata": {
    "ExecuteTime": {
     "end_time": "2020-03-25T22:41:36.169884Z",
     "start_time": "2020-03-25T22:41:16.992562Z"
    }
   },
   "outputs": [
    {
     "name": "stdout",
     "output_type": "stream",
     "text": [
      "digite um número:3\n",
      "digite outro número:2\n",
      "A soma dos números é: 5.0\n"
     ]
    }
   ],
   "source": [
    "a = float(input('digite um número:'))\n",
    "b = float(input('digite outro número:'))\n",
    "print('A soma dos números é:', (a + b))"
   ]
  },
  {
   "cell_type": "markdown",
   "metadata": {},
   "source": [
    "Neste próximo exemplo vamos introduzir o operador matemático que calcula potências (******) de um número. Por exemplo se quisermos calcular o valor de $5^2$, basta realizar o seguinte cálculo 5**2. "
   ]
  },
  {
   "cell_type": "code",
   "execution_count": 48,
   "metadata": {
    "ExecuteTime": {
     "end_time": "2020-04-01T20:28:32.822644Z",
     "start_time": "2020-04-01T20:28:32.819647Z"
    }
   },
   "outputs": [],
   "source": [
    "numero = 2"
   ]
  },
  {
   "cell_type": "code",
   "execution_count": 49,
   "metadata": {
    "ExecuteTime": {
     "end_time": "2020-04-01T20:28:34.763532Z",
     "start_time": "2020-04-01T20:28:33.718808Z"
    }
   },
   "outputs": [
    {
     "data": {
      "image/png": "[encoded data removed]",
      "text/latex": [
       "$\\displaystyle 1024$"
      ],
      "text/plain": [
       "1024"
      ]
     },
     "execution_count": 49,
     "metadata": {},
     "output_type": "execute_result"
    }
   ],
   "source": [
    "numero**10"
   ]
  },
  {
   "cell_type": "code",
   "execution_count": 13,
   "metadata": {
    "ExecuteTime": {
     "end_time": "2020-03-25T22:42:02.865290Z",
     "start_time": "2020-03-25T22:42:02.857313Z"
    }
   },
   "outputs": [
    {
     "name": "stdout",
     "output_type": "stream",
     "text": [
      "b = 5 , c = b**3 = 125\n"
     ]
    }
   ],
   "source": [
    "b = 5\n",
    "c = b**3\n",
    "print('b =', b, ',', 'c = b**3 =', c)"
   ]
  },
  {
   "cell_type": "code",
   "execution_count": 16,
   "metadata": {
    "ExecuteTime": {
     "end_time": "2020-03-25T22:43:05.303171Z",
     "start_time": "2020-03-25T22:43:05.296188Z"
    }
   },
   "outputs": [
    {
     "data": {
      "text/plain": [
       "3.0"
      ]
     },
     "execution_count": 16,
     "metadata": {},
     "output_type": "execute_result"
    }
   ],
   "source": [
    "np.sqrt(9)"
   ]
  },
  {
   "cell_type": "markdown",
   "metadata": {},
   "source": [
    "## Funções"
   ]
  },
  {
   "cell_type": "code",
   "execution_count": 19,
   "metadata": {
    "ExecuteTime": {
     "end_time": "2020-03-25T22:44:42.863349Z",
     "start_time": "2020-03-25T22:44:42.858365Z"
    }
   },
   "outputs": [],
   "source": [
    "def x_ao_quadrado(x_):\n",
    "    return x_*x_"
   ]
  },
  {
   "cell_type": "code",
   "execution_count": 20,
   "metadata": {
    "ExecuteTime": {
     "end_time": "2020-03-25T22:44:56.754958Z",
     "start_time": "2020-03-25T22:44:56.747973Z"
    }
   },
   "outputs": [
    {
     "data": {
      "text/plain": [
       "4"
      ]
     },
     "execution_count": 20,
     "metadata": {},
     "output_type": "execute_result"
    }
   ],
   "source": [
    "x_ao_quadrado(2)"
   ]
  },
  {
   "cell_type": "code",
   "execution_count": 21,
   "metadata": {
    "ExecuteTime": {
     "end_time": "2020-03-25T22:45:10.411710Z",
     "start_time": "2020-03-25T22:45:10.405726Z"
    }
   },
   "outputs": [],
   "source": [
    "def func(x, y, z):\n",
    "    print('x: ', x)\n",
    "    print('y: ', y)\n",
    "    print('z: ', z)\n",
    "\n",
    "    return (x * y)**z"
   ]
  },
  {
   "cell_type": "code",
   "execution_count": 22,
   "metadata": {
    "ExecuteTime": {
     "end_time": "2020-03-25T22:45:16.955054Z",
     "start_time": "2020-03-25T22:45:16.942089Z"
    }
   },
   "outputs": [
    {
     "name": "stdout",
     "output_type": "stream",
     "text": [
      "x:  1\n",
      "y:  3\n",
      "z:  4\n"
     ]
    },
    {
     "data": {
      "text/plain": [
       "81"
      ]
     },
     "execution_count": 22,
     "metadata": {},
     "output_type": "execute_result"
    }
   ],
   "source": [
    "func(1, 3, 4)"
   ]
  },
  {
   "cell_type": "code",
   "execution_count": 36,
   "metadata": {
    "ExecuteTime": {
     "end_time": "2020-02-10T19:21:19.653866Z",
     "start_time": "2020-02-10T19:21:19.646886Z"
    }
   },
   "outputs": [
    {
     "name": "stdout",
     "output_type": "stream",
     "text": [
      "x:  1\n",
      "y:  3\n",
      "z:  0\n"
     ]
    },
    {
     "data": {
      "text/plain": [
       "1"
      ]
     },
     "execution_count": 36,
     "metadata": {},
     "output_type": "execute_result"
    }
   ],
   "source": [
    "func(x=1, y=3, z=0)"
   ]
  },
  {
   "cell_type": "code",
   "execution_count": 7,
   "metadata": {
    "ExecuteTime": {
     "end_time": "2020-04-01T19:34:47.992480Z",
     "start_time": "2020-04-01T19:34:47.982477Z"
    }
   },
   "outputs": [
    {
     "data": {
      "text/plain": [
       "2.0"
      ]
     },
     "execution_count": 7,
     "metadata": {},
     "output_type": "execute_result"
    }
   ],
   "source": [
    "def raiz(a):\n",
    "    if a < 0:\n",
    "        return 'raíz complexa'\n",
    "    else:\n",
    "        return np.sqrt(a)\n",
    "\n",
    "raiz(4)"
   ]
  },
  {
   "cell_type": "code",
   "execution_count": 33,
   "metadata": {
    "ExecuteTime": {
     "end_time": "2020-04-01T19:48:18.397451Z",
     "start_time": "2020-04-01T19:48:18.391443Z"
    }
   },
   "outputs": [
    {
     "name": "stdout",
     "output_type": "stream",
     "text": [
      "4\n"
     ]
    }
   ],
   "source": [
    "a = 3\n",
    "b = 4\n",
    "c = 1\n",
    "\n",
    "discriminante = b**2 - 4*a*c\n",
    "print(discriminante)"
   ]
  },
  {
   "cell_type": "code",
   "execution_count": 40,
   "metadata": {
    "ExecuteTime": {
     "end_time": "2020-04-01T19:52:42.968160Z",
     "start_time": "2020-04-01T19:52:42.963160Z"
    }
   },
   "outputs": [
    {
     "name": "stdout",
     "output_type": "stream",
     "text": [
      "discriminante = 4\n",
      "x = -0.3333333333333333\n"
     ]
    }
   ],
   "source": [
    "a = 3\n",
    "b = 4\n",
    "c = 1\n",
    "\n",
    "discriminante = b**2 - 4*a*c\n",
    "\n",
    "x = (-b + np.sqrt(discriminante))/(2*a)  \n",
    "\n",
    "print('discriminante =', discriminante)\n",
    "print('x =', x)"
   ]
  },
  {
   "cell_type": "code",
   "execution_count": 34,
   "metadata": {
    "ExecuteTime": {
     "end_time": "2020-04-01T19:48:45.551410Z",
     "start_time": "2020-04-01T19:48:45.544413Z"
    }
   },
   "outputs": [],
   "source": [
    "# Resposta:\n",
    "def eq_solver(a,b,c):\n",
    "    # \n",
    "    discriminante = b**2 - 4*a*c\n",
    "    if discriminante < 0: \n",
    "        return 'sem raízes reais'\n",
    "    else:\n",
    "        print('Discriminante = ', discriminante)\n",
    "        # \n",
    "        x1 = (-b + np.sqrt(discriminante))/(2*a)\n",
    "        x2 = (-b - np.sqrt(discriminante))/(2*a)\n",
    "\n",
    "        print('x1 =', x1)\n",
    "        print('x2 =', x2)\n",
    "\n",
    "        return x1, x2"
   ]
  },
  {
   "cell_type": "code",
   "execution_count": 35,
   "metadata": {
    "ExecuteTime": {
     "end_time": "2020-04-01T19:48:48.386247Z",
     "start_time": "2020-04-01T19:48:47.519479Z"
    }
   },
   "outputs": [
    {
     "name": "stdout",
     "output_type": "stream",
     "text": [
      "Discriminante =  0\n",
      "x1 = -1.0\n",
      "x2 = -1.0\n"
     ]
    },
    {
     "data": {
      "image/png": "[encoded data removed]",
      "text/latex": [
       "$\\displaystyle \\left( -1.0, \\  -1.0\\right)$"
      ],
      "text/plain": [
       "(-1.0, -1.0)"
      ]
     },
     "execution_count": 35,
     "metadata": {},
     "output_type": "execute_result"
    }
   ],
   "source": [
    "eq_solver(a = 1,b = 2,c = 1)"
   ]
  },
  {
   "cell_type": "markdown",
   "metadata": {},
   "source": [
    "# Tipos de expressões\n",
    "\n",
    "Nesta seção iremos estudar tipos de expressões lógicas, relacionais, condicionais, etc."
   ]
  },
  {
   "cell_type": "markdown",
   "metadata": {},
   "source": [
    "## Comparações"
   ]
  },
  {
   "cell_type": "code",
   "execution_count": 40,
   "metadata": {
    "ExecuteTime": {
     "end_time": "2020-02-10T19:29:38.797600Z",
     "start_time": "2020-02-10T19:29:38.792612Z"
    }
   },
   "outputs": [
    {
     "data": {
      "text/plain": [
       "False"
      ]
     },
     "execution_count": 40,
     "metadata": {},
     "output_type": "execute_result"
    }
   ],
   "source": [
    "1 > 2"
   ]
  },
  {
   "cell_type": "code",
   "execution_count": 39,
   "metadata": {
    "ExecuteTime": {
     "end_time": "2020-02-10T19:29:38.011700Z",
     "start_time": "2020-02-10T19:29:38.004726Z"
    }
   },
   "outputs": [
    {
     "data": {
      "text/plain": [
       "True"
      ]
     },
     "execution_count": 39,
     "metadata": {},
     "output_type": "execute_result"
    }
   ],
   "source": [
    "2 == 2"
   ]
  },
  {
   "cell_type": "code",
   "execution_count": 38,
   "metadata": {
    "ExecuteTime": {
     "end_time": "2020-02-10T19:29:36.066905Z",
     "start_time": "2020-02-10T19:29:36.061919Z"
    }
   },
   "outputs": [
    {
     "data": {
      "text/plain": [
       "False"
      ]
     },
     "execution_count": 38,
     "metadata": {},
     "output_type": "execute_result"
    }
   ],
   "source": [
    "3 == 'Tartaruga'"
   ]
  },
  {
   "cell_type": "code",
   "execution_count": 34,
   "metadata": {
    "ExecuteTime": {
     "end_time": "2020-03-25T23:00:34.205910Z",
     "start_time": "2020-03-25T23:00:34.195937Z"
    }
   },
   "outputs": [
    {
     "data": {
      "text/plain": [
       "False"
      ]
     },
     "execution_count": 34,
     "metadata": {},
     "output_type": "execute_result"
    }
   ],
   "source": [
    "\"Cachorro\" == \"Gato\""
   ]
  },
  {
   "cell_type": "code",
   "execution_count": 41,
   "metadata": {
    "ExecuteTime": {
     "end_time": "2020-02-10T19:29:45.245347Z",
     "start_time": "2020-02-10T19:29:45.240360Z"
    }
   },
   "outputs": [
    {
     "data": {
      "text/plain": [
       "True"
      ]
     },
     "execution_count": 41,
     "metadata": {},
     "output_type": "execute_result"
    }
   ],
   "source": [
    "3 >= 3"
   ]
  },
  {
   "cell_type": "code",
   "execution_count": 42,
   "metadata": {
    "ExecuteTime": {
     "end_time": "2020-02-10T19:30:01.151790Z",
     "start_time": "2020-02-10T19:30:01.146804Z"
    }
   },
   "outputs": [
    {
     "data": {
      "text/plain": [
       "False"
      ]
     },
     "execution_count": 42,
     "metadata": {},
     "output_type": "execute_result"
    }
   ],
   "source": [
    "x = 10\n",
    "y = 11\n",
    "\n",
    "x > y "
   ]
  },
  {
   "cell_type": "code",
   "execution_count": 43,
   "metadata": {
    "ExecuteTime": {
     "end_time": "2020-02-10T19:30:13.565578Z",
     "start_time": "2020-02-10T19:30:13.560591Z"
    }
   },
   "outputs": [
    {
     "data": {
      "text/plain": [
       "True"
      ]
     },
     "execution_count": 43,
     "metadata": {},
     "output_type": "execute_result"
    }
   ],
   "source": [
    "x != y"
   ]
  },
  {
   "cell_type": "code",
   "execution_count": 67,
   "metadata": {
    "ExecuteTime": {
     "end_time": "2020-02-10T19:42:20.622241Z",
     "start_time": "2020-02-10T19:42:20.617254Z"
    }
   },
   "outputs": [
    {
     "data": {
      "text/plain": [
       "1"
      ]
     },
     "execution_count": 67,
     "metadata": {},
     "output_type": "execute_result"
    }
   ],
   "source": [
    "5 % 2"
   ]
  },
  {
   "cell_type": "markdown",
   "metadata": {},
   "source": [
    "## Condicionais"
   ]
  },
  {
   "cell_type": "code",
   "execution_count": 45,
   "metadata": {
    "ExecuteTime": {
     "end_time": "2020-02-10T19:31:19.566998Z",
     "start_time": "2020-02-10T19:31:19.561040Z"
    }
   },
   "outputs": [
    {
     "name": "stdout",
     "output_type": "stream",
     "text": [
      "Dois menor que quatro\n"
     ]
    }
   ],
   "source": [
    "if (2 < 4):\n",
    "    print('Dois menor que quatro')"
   ]
  },
  {
   "cell_type": "code",
   "execution_count": 47,
   "metadata": {
    "ExecuteTime": {
     "end_time": "2020-02-10T19:32:48.028398Z",
     "start_time": "2020-02-10T19:32:48.023380Z"
    }
   },
   "outputs": [
    {
     "name": "stdout",
     "output_type": "stream",
     "text": [
      "1 menor que  3\n"
     ]
    }
   ],
   "source": [
    "x = 1\n",
    "y = 3\n",
    "\n",
    "if (x > y):\n",
    "    print(x, 'maior que ', y)\n",
    "else:\n",
    "    print(x, 'menor que ', y)\n"
   ]
  },
  {
   "cell_type": "code",
   "execution_count": 48,
   "metadata": {
    "ExecuteTime": {
     "end_time": "2020-02-10T19:33:46.941013Z",
     "start_time": "2020-02-10T19:33:46.936027Z"
    }
   },
   "outputs": [],
   "source": [
    "def comparador(x , y):\n",
    "    if (x > y):\n",
    "        print(x, 'maior que ', y)\n",
    "    elif (x < y):\n",
    "        print(x, 'menor que ', y)\n",
    "    else:\n",
    "        print(x, 'igual a ', y)"
   ]
  },
  {
   "cell_type": "code",
   "execution_count": 50,
   "metadata": {
    "ExecuteTime": {
     "end_time": "2020-02-10T19:34:05.794570Z",
     "start_time": "2020-02-10T19:34:05.788586Z"
    }
   },
   "outputs": [
    {
     "name": "stdout",
     "output_type": "stream",
     "text": [
      "1 igual a  1\n",
      "10 maior que  1\n",
      "1 menor que  10\n"
     ]
    }
   ],
   "source": [
    "comparador(1,1)\n",
    "comparador(10,1)\n",
    "comparador(1,10)"
   ]
  },
  {
   "cell_type": "code",
   "execution_count": 64,
   "metadata": {
    "ExecuteTime": {
     "end_time": "2020-02-10T19:39:57.375405Z",
     "start_time": "2020-02-10T19:39:57.371414Z"
    }
   },
   "outputs": [],
   "source": [
    "#Resposta:\n",
    "def compara_string(texto_1, texto_2):\n",
    "    if (texto_1 == texto_2):\n",
    "        print('Textos iguais! (', texto_1, ')')\n",
    "    else:\n",
    "        print('Os textos são diferentes!', '(', texto_1, ')', ' diferente de ', '(', texto_2, ')')"
   ]
  },
  {
   "cell_type": "code",
   "execution_count": 65,
   "metadata": {
    "ExecuteTime": {
     "end_time": "2020-02-10T19:39:58.046607Z",
     "start_time": "2020-02-10T19:39:58.039628Z"
    }
   },
   "outputs": [
    {
     "name": "stdout",
     "output_type": "stream",
     "text": [
      "Textos iguais! ( aaa )\n",
      "Os textos são diferentes! ( aaa )  diferente de  ( bb )\n"
     ]
    }
   ],
   "source": [
    "compara_string(texto_1 = 'aaa', texto_2 = 'aaa')\n",
    "compara_string(texto_1 = 'aaa', texto_2 = 'bb')"
   ]
  },
  {
   "cell_type": "markdown",
   "metadata": {},
   "source": [
    "## Exercícios propostos"
   ]
  },
  {
   "cell_type": "markdown",
   "metadata": {
    "ExecuteTime": {
     "end_time": "2020-03-04T18:59:20.227356Z",
     "start_time": "2020-03-04T18:59:20.219355Z"
    }
   },
   "source": [
    "Resolva os primeiros 11 exercícios em https://www.w3schools.com/python/"
   ]
  },
  {
   "cell_type": "markdown",
   "metadata": {},
   "source": [
    "Resolva o exercício de condicionais: https://www.w3schools.com/python/python_conditions.asp"
   ]
  }
 ],
 "metadata": {
  "hide_input": false,
  "kernelspec": {
   "display_name": "Python 3",
   "language": "python",
   "name": "python3"
  },
  "language_info": {
   "codemirror_mode": {
    "name": "ipython",
    "version": 3
   },
   "file_extension": ".py",
   "mimetype": "text/x-python",
   "name": "python",
   "nbconvert_exporter": "python",
   "pygments_lexer": "ipython3",
   "version": "3.8.3"
  },
  "latex_envs": {
   "LaTeX_envs_menu_present": true,
   "autoclose": false,
   "autocomplete": true,
   "bibliofile": "biblio.bib",
   "cite_by": "apalike",
   "current_citInitial": 1,
   "eqLabelWithNumbers": true,
   "eqNumInitial": 1,
   "hotkeys": {
    "equation": "Ctrl-E",
    "itemize": "Ctrl-I"
   },
   "labels_anchors": false,
   "latex_user_defs": false,
   "report_style_numbering": false,
   "user_envs_cfg": false
  },
  "toc": {
   "base_numbering": 1,
   "nav_menu": {
    "height": "167px",
    "width": "352px"
   },
   "number_sections": true,
   "sideBar": true,
   "skip_h1_title": false,
   "title_cell": "Table of Contents",
   "title_sidebar": "Contents",
   "toc_cell": false,
   "toc_position": {
    "height": "calc(100% - 180px)",
    "left": "10px",
    "top": "150px",
    "width": "250.82px"
   },
   "toc_section_display": true,
   "toc_window_display": true
  },
  "varInspector": {
   "cols": {
    "lenName": 16,
    "lenType": 16,
    "lenVar": 40
   },
   "kernels_config": {
    "python": {
     "delete_cmd_postfix": "",
     "delete_cmd_prefix": "del ",
     "library": "var_list.py",
     "varRefreshCmd": "print(var_dic_list())"
    },
    "r": {
     "delete_cmd_postfix": ") ",
     "delete_cmd_prefix": "rm(",
     "library": "var_list.r",
     "varRefreshCmd": "cat(var_dic_list()) "
    }
   },
   "types_to_exclude": [
    "module",
    "function",
    "builtin_function_or_method",
    "instance",
    "_Feature"
   ],
   "window_display": false
  }
 },
 "nbformat": 4,
 "nbformat_minor": 2
}
