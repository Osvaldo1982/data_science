{
 "cells": [
  {
   "cell_type": "markdown",
   "metadata": {},
   "source": [
    "# Recursão: Exemplos básicos"
   ]
  },
  {
   "cell_type": "markdown",
   "metadata": {},
   "source": [
    "## Fatorial"
   ]
  },
  {
   "cell_type": "code",
   "execution_count": 4,
   "metadata": {
    "ExecuteTime": {
     "end_time": "2021-06-22T22:51:21.873991Z",
     "start_time": "2021-06-22T22:51:20.546649Z"
    }
   },
   "outputs": [
    {
     "name": "stdout",
     "output_type": "stream",
     "text": [
      "digite um valor para n:5\n",
      "120\n"
     ]
    }
   ],
   "source": [
    "def fatorial_1(n):\n",
    "    if n <= 1:\n",
    "        return 1\n",
    "    else: \n",
    "        x = n-1\n",
    "        fat = fatorial_1(x)\n",
    "        return n*fat\n",
    "\n",
    "n = int(input('digite um valor para n:'))\n",
    "print(fatorial_1(n))"
   ]
  },
  {
   "cell_type": "code",
   "execution_count": 5,
   "metadata": {
    "ExecuteTime": {
     "end_time": "2021-06-22T22:51:32.784972Z",
     "start_time": "2021-06-22T22:51:31.039129Z"
    }
   },
   "outputs": [
    {
     "name": "stdout",
     "output_type": "stream",
     "text": [
      "digite um valor para n: 8\n",
      "40320\n"
     ]
    }
   ],
   "source": [
    "def fatorial_2(n):\n",
    "    if n <= 1:\n",
    "        return 1\n",
    "    else: \n",
    "        return n * fatorial_2(n-1)\n",
    "\n",
    "n = int(input('digite um valor para n: '))\n",
    "print(fatorial_2(n))"
   ]
  },
  {
   "cell_type": "markdown",
   "metadata": {},
   "source": [
    "## Sequência de Fibonacci\n",
    "\n",
    "A sequência de Fibonacci foi descoberta por Leonardo de Pisa em 1202 ao investigar a já famosa\n",
    "razão de ouro $(\\varphi)$. Neste trabalho ele descobriu a seguinte sequência de números:\n",
    "\n",
    "\\begin{equation}\n",
    "\\nonumber 1,\\;1,\\;2,\\;3,\\;5,\\;8,\\;13,\\;21,\\;34,\\;55,\\;89,\\;144,\\;\\ldots \n",
    "\\end{equation}\n",
    "\n",
    "A sequência acima é gerada recursivamente pela sequinte equação funcional.\n",
    "\n",
    "\\begin{equation}\n",
    "\\nonumber F(n+2) = F(n + 1) + F(n).\n",
    "\\end{equation}\n",
    "\n",
    "Obs.: A sequência de Fibonacci é usualmente iniciada com n = 1 e as condições de que F(1) = 1 \n",
    "e que F(2) = 1, porém muitas pessoas iniciam a sequência com n = 0 e que F(0) = 1 e que F(1) = 1.\n",
    "Nenhum dos dois modos está errado. Essa divergência acontece devido ao interminável debate se o\n",
    "número 0 faz parte ou não dos números naturais."
   ]
  },
  {
   "cell_type": "code",
   "execution_count": 6,
   "metadata": {
    "ExecuteTime": {
     "end_time": "2021-06-23T13:55:55.768156Z",
     "start_time": "2021-06-23T13:55:53.104205Z"
    }
   },
   "outputs": [
    {
     "name": "stdout",
     "output_type": "stream",
     "text": [
      "digite um número para n: 6\n",
      "Sequência de Fibonacci para n =  6\n",
      "1\n",
      "1\n",
      "2\n",
      "3\n",
      "5\n",
      "8\n"
     ]
    }
   ],
   "source": [
    "def fibo(n):\n",
    "    if n <= 1:\n",
    "        return 1\n",
    "    else:\n",
    "        return(fibo(n-1) + fibo(n-2))\n",
    "n = int(input('digite um número para n: '))\n",
    "if n <= 0:\n",
    "    print('Insira um número inteiro maior que zero.')\n",
    "else:\n",
    "    print('Sequência de Fibonacci para n = ', n)\n",
    "    for i in range(n):\n",
    "        print(fibo(i))"
   ]
  },
  {
   "cell_type": "markdown",
   "metadata": {},
   "source": [
    "## Razão de ouro\n",
    "\n",
    "A razão de ouro, representada comumente pela letra grega $\\varphi$ é definida pela seguinte expressão\n",
    "\n",
    "\\begin{equation}\n",
    "\\nonumber \\varphi = \\frac{1+{\\sqrt{5}}}{2} = 1.6180339887\\ldots \n",
    "\\end{equation}\n",
    "\n",
    "O valor acima pode ser encontrado encontrando as raízes da seguinte equação do segundo grau:\n",
    "\n",
    "\\begin{equation}\n",
    "\\nonumber \\varphi^{2} - \\varphi - 1 = 0.\n",
    "\\end{equation}\n",
    "\n",
    "Porém nesta seção mostraremos como calcular a razão de ouro em termos dos números de\n",
    "Fibonacci. O cálculo da razão é dada pela razão entre números de Fibonacci consecutivos\n",
    "e a razão de ouro é encontrada quando estes números consecutivos se tornam muito grandes.\n",
    "\n",
    "\\begin{equation}\n",
    "\\nonumber \\varphi_n = \\frac{F(n+1)}{F(n)}.\n",
    "\\end{equation}\n",
    "\n",
    "Abaixo o código para calcular a razão de ouro através da sequência de Fibonacci. Note\n",
    "que neste código estamos usando uma mescla de recursão para o cálculo de Fibonacci e\n",
    "uma iteração para o cálculo do número de ouro. \n",
    "\n",
    "**Obs.:** O código abaixo possui um problema grave de consumo de memória. Como dever de casa procure uma maneira de melhorar o código abaixo."
   ]
  },
  {
   "cell_type": "code",
   "execution_count": 7,
   "metadata": {
    "ExecuteTime": {
     "end_time": "2021-06-23T13:56:02.017389Z",
     "start_time": "2021-06-23T13:55:59.350382Z"
    }
   },
   "outputs": [
    {
     "name": "stdout",
     "output_type": "stream",
     "text": [
      "digite um número para n: 7\n",
      "Sequência de Fibonacci para n =  7\n",
      "1.0\n",
      "1.0\n",
      "3.0\n",
      "1.6666666666666667\n",
      "1.6\n",
      "1.625\n",
      "1.6153846153846154\n"
     ]
    }
   ],
   "source": [
    "def fibo_ouro(n):\n",
    "    if n <= 2:\n",
    "        return 1\n",
    "    else:\n",
    "        return(fibo(n-1) + fibo(n-2))\n",
    "n = int(input('digite um número para n: '))\n",
    "if n <= 0:\n",
    "    print('Insira um número inteiro maior que zero.')\n",
    "else:\n",
    "    print('Sequência de Fibonacci para n = ', n)\n",
    "    for i in range(n):\n",
    "        print(fibo_ouro(i+1)/fibo_ouro(i))"
   ]
  },
  {
   "cell_type": "markdown",
   "metadata": {},
   "source": [
    "## Método para cálculo de fatorial usando iteração"
   ]
  },
  {
   "cell_type": "code",
   "execution_count": 8,
   "metadata": {
    "ExecuteTime": {
     "end_time": "2021-06-23T13:56:07.683011Z",
     "start_time": "2021-06-23T13:56:05.227285Z"
    },
    "scrolled": true
   },
   "outputs": [
    {
     "name": "stdout",
     "output_type": "stream",
     "text": [
      "digite um número para n: 12\n",
      "12 ! =  479001600\n"
     ]
    }
   ],
   "source": [
    "def fatorial_it(n) :\n",
    "    k = 1\n",
    "    for i in range(1,n+1):\n",
    "        k = k * i\n",
    "    return k\n",
    "\n",
    "n = int(input('digite um número para n: '))\n",
    "print(n,'! = ',fatorial_it(n))"
   ]
  },
  {
   "cell_type": "code",
   "execution_count": 9,
   "metadata": {
    "ExecuteTime": {
     "end_time": "2021-06-23T13:56:11.205083Z",
     "start_time": "2021-06-23T13:56:11.184114Z"
    }
   },
   "outputs": [
    {
     "data": {
      "text/plain": [
       "21"
      ]
     },
     "execution_count": 9,
     "metadata": {},
     "output_type": "execute_result"
    }
   ],
   "source": [
    "def soma(v,n):\n",
    "    if n == 0:\n",
    "        return v[0]\n",
    "    else:\n",
    "        return v[n] + soma(v,n-1)\n",
    "\n",
    "v = [1,2,3,4,5,6]\n",
    "soma(v,5)"
   ]
  },
  {
   "cell_type": "markdown",
   "metadata": {},
   "source": [
    "# Outros Exemplos \n",
    "\n",
    "* [Fibonacci Sequence and Recursions, Socratica](https://www.youtube.com/watch?v=Qk0zUZW-U_M)\n",
    "* https://en.wikipedia.org/wiki/Fibonacci_number\n",
    "* https://en.wikipedia.org/wiki/Golden_ratio"
   ]
  },
  {
   "cell_type": "code",
   "execution_count": 16,
   "metadata": {
    "ExecuteTime": {
     "end_time": "2021-06-23T15:36:16.563835Z",
     "start_time": "2021-06-23T15:36:16.545921Z"
    }
   },
   "outputs": [
    {
     "name": "stdout",
     "output_type": "stream",
     "text": [
      "1 : 1\n",
      "2 : 1\n",
      "3 : 2\n",
      "4 : 3\n",
      "5 : 5\n",
      "6 : 8\n",
      "7 : 13\n",
      "8 : 21\n",
      "9 : 34\n"
     ]
    }
   ],
   "source": [
    "# Essa função é muito lenta pois precisa guardar valores na memória\n",
    "def fibo(n):\n",
    "    if n == 1:\n",
    "        return 1\n",
    "    elif n == 2:\n",
    "        return 1\n",
    "    elif n > 2:\n",
    "        return fibo(n-1) + fibo(n-2)\n",
    "    \n",
    "for n in range(1,10):\n",
    "    print(n,\":\",fibo(n))"
   ]
  },
  {
   "cell_type": "code",
   "execution_count": 24,
   "metadata": {
    "ExecuteTime": {
     "end_time": "2021-06-23T15:43:34.190637Z",
     "start_time": "2021-06-23T15:43:34.173656Z"
    },
    "scrolled": false
   },
   "outputs": [
    {
     "name": "stdout",
     "output_type": "stream",
     "text": [
      "1 : 1\n",
      "2 : 1\n",
      "3 : 2\n",
      "4 : 3\n",
      "5 : 5\n",
      "6 : 8\n",
      "7 : 13\n",
      "8 : 21\n",
      "9 : 34\n"
     ]
    }
   ],
   "source": [
    "fibo_cache = {}\n",
    "\n",
    "# This function performs much better because of the dictionary\n",
    "def fibo(n):\n",
    "    if n in fibo_cache:\n",
    "        return fibo_cache[n]\n",
    "    \n",
    "    if n == 1:\n",
    "        return 1\n",
    "    elif n == 2:\n",
    "        return 1\n",
    "    elif n > 2:\n",
    "         value = fibo(n-1) + fibo(n-2)\n",
    "    \n",
    "    fibo_cache[n] = value\n",
    "    return value\n",
    "\n",
    "\n",
    "\n",
    "for n in range(1,10):\n",
    "    print(n,\":\",fibo(n))\n",
    "    \n"
   ]
  },
  {
   "cell_type": "code",
   "execution_count": 28,
   "metadata": {
    "ExecuteTime": {
     "end_time": "2021-06-23T15:48:09.135867Z",
     "start_time": "2021-06-23T15:48:09.116898Z"
    }
   },
   "outputs": [
    {
     "name": "stdout",
     "output_type": "stream",
     "text": [
      "1 : 1\n",
      "2 : 1\n",
      "3 : 2\n",
      "4 : 3\n",
      "5 : 5\n",
      "6 : 8\n",
      "7 : 13\n",
      "8 : 21\n",
      "9 : 34\n"
     ]
    }
   ],
   "source": [
    "from functools import lru_cache\n",
    "\n",
    "@lru_cache(maxsize=1000)\n",
    "def fibo(n):\n",
    "    \n",
    "    if type(n) != int:\n",
    "        raise TypeError('n precisa ser um inteiro positivo')\n",
    "    \n",
    "    if n < 1:\n",
    "        raise TypeError('n precisa ser um inteiro positivo')\n",
    "    \n",
    "    if n == 1:\n",
    "        return 1\n",
    "    elif n == 2:\n",
    "        return 1\n",
    "    elif n > 2:\n",
    "         return fibo(n-1) + fibo(n-2)\n",
    "        \n",
    "for n in range(1,10):\n",
    "    print(n,\":\",fibo(n))"
   ]
  },
  {
   "cell_type": "code",
   "execution_count": 30,
   "metadata": {
    "ExecuteTime": {
     "end_time": "2021-06-23T15:49:44.002507Z",
     "start_time": "2021-06-23T15:49:43.990540Z"
    }
   },
   "outputs": [
    {
     "name": "stdout",
     "output_type": "stream",
     "text": [
      "1.0\n",
      "2.0\n",
      "1.5\n",
      "1.6666666666666667\n",
      "1.6\n",
      "1.625\n",
      "1.6153846153846154\n",
      "1.619047619047619\n",
      "1.6176470588235294\n",
      "1.6181818181818182\n",
      "1.6179775280898876\n",
      "1.6180555555555556\n",
      "1.6180257510729614\n",
      "1.6180371352785146\n"
     ]
    }
   ],
   "source": [
    "# imprime a razão áurea retornando o cálculo fibo(n+1)/fibo(n)\n",
    "# até a convergência\n",
    "for n in range(1,15):\n",
    "    print(fibo(n+1)/fibo(n))"
   ]
  },
  {
   "cell_type": "code",
   "execution_count": null,
   "metadata": {},
   "outputs": [],
   "source": []
  }
 ],
 "metadata": {
  "hide_input": false,
  "kernelspec": {
   "display_name": "Python 3",
   "language": "python",
   "name": "python3"
  },
  "language_info": {
   "codemirror_mode": {
    "name": "ipython",
    "version": 3
   },
   "file_extension": ".py",
   "mimetype": "text/x-python",
   "name": "python",
   "nbconvert_exporter": "python",
   "pygments_lexer": "ipython3",
   "version": "3.8.3"
  },
  "latex_envs": {
   "LaTeX_envs_menu_present": true,
   "autoclose": false,
   "autocomplete": true,
   "bibliofile": "biblio.bib",
   "cite_by": "apalike",
   "current_citInitial": 1,
   "eqLabelWithNumbers": true,
   "eqNumInitial": 1,
   "hotkeys": {
    "equation": "Ctrl-E",
    "itemize": "Ctrl-I"
   },
   "labels_anchors": false,
   "latex_user_defs": false,
   "report_style_numbering": false,
   "user_envs_cfg": false
  },
  "toc": {
   "base_numbering": 1,
   "nav_menu": {
    "height": "167px",
    "width": "352px"
   },
   "number_sections": true,
   "sideBar": true,
   "skip_h1_title": false,
   "title_cell": "Table of Contents",
   "title_sidebar": "Contents",
   "toc_cell": false,
   "toc_position": {
    "height": "calc(100% - 180px)",
    "left": "10px",
    "top": "150px",
    "width": "250.82px"
   },
   "toc_section_display": true,
   "toc_window_display": false
  },
  "varInspector": {
   "cols": {
    "lenName": 16,
    "lenType": 16,
    "lenVar": 40
   },
   "kernels_config": {
    "python": {
     "delete_cmd_postfix": "",
     "delete_cmd_prefix": "del ",
     "library": "var_list.py",
     "varRefreshCmd": "print(var_dic_list())"
    },
    "r": {
     "delete_cmd_postfix": ") ",
     "delete_cmd_prefix": "rm(",
     "library": "var_list.r",
     "varRefreshCmd": "cat(var_dic_list()) "
    }
   },
   "types_to_exclude": [
    "module",
    "function",
    "builtin_function_or_method",
    "instance",
    "_Feature"
   ],
   "window_display": false
  }
 },
 "nbformat": 4,
 "nbformat_minor": 2
}
