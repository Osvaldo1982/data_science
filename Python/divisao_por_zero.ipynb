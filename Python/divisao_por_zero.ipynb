{
 "cells": [
  {
   "cell_type": "code",
   "execution_count": 1,
   "metadata": {
    "ExecuteTime": {
     "end_time": "2020-02-14T22:46:25.632308Z",
     "start_time": "2020-02-14T22:46:24.986266Z"
    }
   },
   "outputs": [
    {
     "name": "stdout",
     "output_type": "stream",
     "text": [
      "Results for lots of caught errors:\n",
      "safe_div function took 84.000 ms\n",
      "Results for lots of caught errors:\n",
      "try_div function took 320.000 ms\n",
      "Results for no caught errors:\n",
      "safe_div function took 121.000 ms\n",
      "Results for no caught errors:\n",
      "try_div function took 110.000 ms\n"
     ]
    }
   ],
   "source": [
    "import time\n",
    "\n",
    "def timing(func):\n",
    "    def wrap(f):\n",
    "        time1 = time.time()\n",
    "        ret = func(f)\n",
    "        time2 = time.time()\n",
    "        print('%s function took %0.3f ms' % (f.__name__, int((time2-time1)*1000.0)))\n",
    "        return ret\n",
    "    return wrap\n",
    "\n",
    "def safe_div(x,y):\n",
    "    if y==0: return 0\n",
    "    return x/y\n",
    "\n",
    "def try_div(x,y):\n",
    "    try: return x/y\n",
    "    except ZeroDivisionError: return 0\n",
    "\n",
    "@timing\n",
    "def test_many_errors(f):\n",
    "    print(\"Results for lots of caught errors:\")\n",
    "    for i in range(1000000):\n",
    "        f(i,0)\n",
    "\n",
    "@timing\n",
    "def test_few_errors(f):\n",
    "    print(\"Results for no caught errors:\")\n",
    "    for i in range(1000000):\n",
    "        f(i,1)\n",
    "\n",
    "test_many_errors(safe_div)\n",
    "test_many_errors(try_div)\n",
    "test_few_errors(safe_div)\n",
    "test_few_errors(try_div)"
   ]
  }
 ],
 "metadata": {
  "kernelspec": {
   "display_name": "Python 3",
   "language": "python",
   "name": "python3"
  },
  "language_info": {
   "codemirror_mode": {
    "name": "ipython",
    "version": 3
   },
   "file_extension": ".py",
   "mimetype": "text/x-python",
   "name": "python",
   "nbconvert_exporter": "python",
   "pygments_lexer": "ipython3",
   "version": "3.8.3"
  },
  "latex_envs": {
   "LaTeX_envs_menu_present": true,
   "autoclose": false,
   "autocomplete": true,
   "bibliofile": "biblio.bib",
   "cite_by": "apalike",
   "current_citInitial": 1,
   "eqLabelWithNumbers": true,
   "eqNumInitial": 1,
   "hotkeys": {
    "equation": "Ctrl-E",
    "itemize": "Ctrl-I"
   },
   "labels_anchors": false,
   "latex_user_defs": false,
   "report_style_numbering": false,
   "user_envs_cfg": false
  },
  "toc": {
   "base_numbering": 1,
   "nav_menu": {},
   "number_sections": true,
   "sideBar": true,
   "skip_h1_title": false,
   "title_cell": "Table of Contents",
   "title_sidebar": "Contents",
   "toc_cell": false,
   "toc_position": {},
   "toc_section_display": true,
   "toc_window_display": false
  },
  "varInspector": {
   "cols": {
    "lenName": 16,
    "lenType": 16,
    "lenVar": 40
   },
   "kernels_config": {
    "python": {
     "delete_cmd_postfix": "",
     "delete_cmd_prefix": "del ",
     "library": "var_list.py",
     "varRefreshCmd": "print(var_dic_list())"
    },
    "r": {
     "delete_cmd_postfix": ") ",
     "delete_cmd_prefix": "rm(",
     "library": "var_list.r",
     "varRefreshCmd": "cat(var_dic_list()) "
    }
   },
   "types_to_exclude": [
    "module",
    "function",
    "builtin_function_or_method",
    "instance",
    "_Feature"
   ],
   "window_display": false
  }
 },
 "nbformat": 4,
 "nbformat_minor": 2
}
