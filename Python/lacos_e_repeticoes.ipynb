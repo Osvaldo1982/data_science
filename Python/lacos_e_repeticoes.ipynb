{
 "cells": [
  {
   "cell_type": "markdown",
   "metadata": {},
   "source": [
    "# Laços e repetições"
   ]
  },
  {
   "cell_type": "markdown",
   "metadata": {
    "ExecuteTime": {
     "end_time": "2020-02-10T19:59:51.085740Z",
     "start_time": "2020-02-10T19:59:51.081751Z"
    }
   },
   "source": [
    "## for()"
   ]
  },
  {
   "cell_type": "code",
   "execution_count": 36,
   "metadata": {
    "ExecuteTime": {
     "end_time": "2020-03-25T23:03:46.538735Z",
     "start_time": "2020-03-25T23:03:46.532751Z"
    }
   },
   "outputs": [
    {
     "data": {
      "text/plain": [
       "[1, 3, 'um']"
      ]
     },
     "execution_count": 36,
     "metadata": {},
     "output_type": "execute_result"
    }
   ],
   "source": [
    "[1, 3, 'um']"
   ]
  },
  {
   "cell_type": "code",
   "execution_count": 68,
   "metadata": {
    "ExecuteTime": {
     "end_time": "2020-02-10T19:44:43.903313Z",
     "start_time": "2020-02-10T19:44:43.898328Z"
    }
   },
   "outputs": [
    {
     "name": "stdout",
     "output_type": "stream",
     "text": [
      "1\n",
      "3\n",
      "um\n",
      "dez\n",
      "carro\n"
     ]
    }
   ],
   "source": [
    "for valor in [1, 3, 'um', 'dez', 'carro']:\n",
    "    print(valor)"
   ]
  },
  {
   "cell_type": "code",
   "execution_count": 69,
   "metadata": {
    "ExecuteTime": {
     "end_time": "2020-02-10T19:45:02.281165Z",
     "start_time": "2020-02-10T19:45:02.276178Z"
    }
   },
   "outputs": [
    {
     "name": "stdout",
     "output_type": "stream",
     "text": [
      "p\n",
      "a\n",
      "l\n",
      "a\n",
      "v\n",
      "r\n",
      "a\n"
     ]
    }
   ],
   "source": [
    "for letra in 'palavra':\n",
    "    print(letra)"
   ]
  },
  {
   "cell_type": "markdown",
   "metadata": {},
   "source": [
    "## while()"
   ]
  },
  {
   "cell_type": "code",
   "execution_count": 95,
   "metadata": {
    "ExecuteTime": {
     "end_time": "2020-02-10T20:02:27.344904Z",
     "start_time": "2020-02-10T20:02:27.338922Z"
    }
   },
   "outputs": [
    {
     "name": "stdout",
     "output_type": "stream",
     "text": [
      "Valor de i == 10\n",
      "Finalizando, i == 30\n"
     ]
    }
   ],
   "source": [
    "i = 0\n",
    "while(True):\n",
    "    i += 1\n",
    "    if (i == 10):\n",
    "        print('Valor de i == 10')\n",
    "    elif(i == 30):\n",
    "        print('Finalizando, i == 30')\n",
    "        break"
   ]
  },
  {
   "cell_type": "code",
   "execution_count": 71,
   "metadata": {
    "ExecuteTime": {
     "end_time": "2020-02-10T19:46:57.076099Z",
     "start_time": "2020-02-10T19:46:57.072110Z"
    }
   },
   "outputs": [],
   "source": [
    "seq = [1,2,3,4,6]"
   ]
  },
  {
   "cell_type": "code",
   "execution_count": 72,
   "metadata": {
    "ExecuteTime": {
     "end_time": "2020-02-10T19:47:29.926419Z",
     "start_time": "2020-02-10T19:47:29.921433Z"
    }
   },
   "outputs": [
    {
     "name": "stdout",
     "output_type": "stream",
     "text": [
      "2\n",
      "4\n",
      "6\n"
     ]
    }
   ],
   "source": [
    "for num in seq:\n",
    "    if (num % 2 == 0):\n",
    "        print(num)"
   ]
  },
  {
   "cell_type": "markdown",
   "metadata": {},
   "source": [
    "**2.** Repita a mesma função ignorando valores que não são inteiros:"
   ]
  },
  {
   "cell_type": "code",
   "execution_count": 74,
   "metadata": {
    "ExecuteTime": {
     "end_time": "2020-02-10T19:48:56.858840Z",
     "start_time": "2020-02-10T19:48:56.854881Z"
    }
   },
   "outputs": [],
   "source": [
    "seq_2 = [1, 1.1, 3, 20, 999.99, 10000]"
   ]
  },
  {
   "cell_type": "code",
   "execution_count": 80,
   "metadata": {
    "ExecuteTime": {
     "end_time": "2020-02-10T19:52:46.299295Z",
     "start_time": "2020-02-10T19:52:46.294311Z"
    }
   },
   "outputs": [
    {
     "name": "stdout",
     "output_type": "stream",
     "text": [
      "<class 'float'>\n",
      "<class 'int'>\n"
     ]
    }
   ],
   "source": [
    "# Dicas:\n",
    "print(type(1.1))\n",
    "print(type(1))"
   ]
  },
  {
   "cell_type": "code",
   "execution_count": 79,
   "metadata": {
    "ExecuteTime": {
     "end_time": "2020-02-10T19:52:21.845732Z",
     "start_time": "2020-02-10T19:52:21.840732Z"
    }
   },
   "outputs": [
    {
     "name": "stdout",
     "output_type": "stream",
     "text": [
      "Não é inteiro, o valor interido ( 1 ), é do tipo  <class 'str'>\n"
     ]
    }
   ],
   "source": [
    "entrada = '1'\n",
    "if (type(entrada) == int):\n",
    "    print('Inteiro')\n",
    "else:\n",
    "    print('Não é inteiro, o valor interido (', entrada, '), é do tipo ', type(entrada)  )"
   ]
  },
  {
   "cell_type": "code",
   "execution_count": 89,
   "metadata": {
    "ExecuteTime": {
     "end_time": "2020-02-10T19:57:00.885511Z",
     "start_time": "2020-02-10T19:57:00.878531Z"
    }
   },
   "outputs": [
    {
     "name": "stdout",
     "output_type": "stream",
     "text": [
      "É uma número ímpar:  1\n",
      "Não é inteiro: 1.1\n",
      "É uma número ímpar:  3\n",
      "É uma número par:  20\n",
      "Não é inteiro: 999.99\n",
      "É uma número par:  10000\n"
     ]
    }
   ],
   "source": [
    "# Resposta:\n",
    "def par_ou_nao(entrada):\n",
    "    if (type(valor) != int):\n",
    "        print('Não é inteiro:', valor)\n",
    "    elif (valor % 2 == 0):\n",
    "        print('É um número par: ', valor)\n",
    "    elif (valor % 2 == 1):\n",
    "        print('É um número ímpar: ', valor)\n",
    "\n",
    "for valor in seq_2:\n",
    "    par_ou_nao(entrada = valor)"
   ]
  },
  {
   "cell_type": "markdown",
   "metadata": {
    "ExecuteTime": {
     "end_time": "2020-03-04T19:00:08.839016Z",
     "start_time": "2020-03-04T19:00:08.831019Z"
    }
   },
   "source": [
    "## Exercícios propostos:\n",
    "Resolva os exercícios abaixo."
   ]
  },
  {
   "cell_type": "markdown",
   "metadata": {},
   "source": [
    "https://www.w3schools.com/python/python_while_loops.asp"
   ]
  },
  {
   "cell_type": "markdown",
   "metadata": {},
   "source": [
    "https://www.w3schools.com/python/python_for_loops.asp"
   ]
  }
 ],
 "metadata": {
  "hide_input": false,
  "kernelspec": {
   "display_name": "Python 3",
   "language": "python",
   "name": "python3"
  },
  "language_info": {
   "codemirror_mode": {
    "name": "ipython",
    "version": 3
   },
   "file_extension": ".py",
   "mimetype": "text/x-python",
   "name": "python",
   "nbconvert_exporter": "python",
   "pygments_lexer": "ipython3",
   "version": "3.8.3"
  },
  "latex_envs": {
   "LaTeX_envs_menu_present": true,
   "autoclose": false,
   "autocomplete": true,
   "bibliofile": "biblio.bib",
   "cite_by": "apalike",
   "current_citInitial": 1,
   "eqLabelWithNumbers": true,
   "eqNumInitial": 1,
   "hotkeys": {
    "equation": "Ctrl-E",
    "itemize": "Ctrl-I"
   },
   "labels_anchors": false,
   "latex_user_defs": false,
   "report_style_numbering": false,
   "user_envs_cfg": false
  },
  "toc": {
   "base_numbering": 1,
   "nav_menu": {
    "height": "167px",
    "width": "352px"
   },
   "number_sections": true,
   "sideBar": true,
   "skip_h1_title": false,
   "title_cell": "Table of Contents",
   "title_sidebar": "Contents",
   "toc_cell": false,
   "toc_position": {
    "height": "calc(100% - 180px)",
    "left": "10px",
    "top": "150px",
    "width": "250.82px"
   },
   "toc_section_display": true,
   "toc_window_display": false
  },
  "varInspector": {
   "cols": {
    "lenName": 16,
    "lenType": 16,
    "lenVar": 40
   },
   "kernels_config": {
    "python": {
     "delete_cmd_postfix": "",
     "delete_cmd_prefix": "del ",
     "library": "var_list.py",
     "varRefreshCmd": "print(var_dic_list())"
    },
    "r": {
     "delete_cmd_postfix": ") ",
     "delete_cmd_prefix": "rm(",
     "library": "var_list.r",
     "varRefreshCmd": "cat(var_dic_list()) "
    }
   },
   "types_to_exclude": [
    "module",
    "function",
    "builtin_function_or_method",
    "instance",
    "_Feature"
   ],
   "window_display": false
  }
 },
 "nbformat": 4,
 "nbformat_minor": 2
}
