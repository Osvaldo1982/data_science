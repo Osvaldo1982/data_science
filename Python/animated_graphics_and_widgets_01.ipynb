{
 "cells": [
  {
   "cell_type": "markdown",
   "metadata": {},
   "source": [
    "# Requirements"
   ]
  },
  {
   "cell_type": "code",
   "execution_count": 1,
   "metadata": {
    "ExecuteTime": {
     "end_time": "2023-11-04T22:44:47.713982Z",
     "start_time": "2023-11-04T22:44:45.834644Z"
    }
   },
   "outputs": [
    {
     "ename": "ModuleNotFoundError",
     "evalue": "No module named 'dash'",
     "output_type": "error",
     "traceback": [
      "\u001b[1;31m---------------------------------------------------------------------------\u001b[0m",
      "\u001b[1;31mModuleNotFoundError\u001b[0m                       Traceback (most recent call last)",
      "\u001b[1;32m~\\AppData\\Local\\Temp\\ipykernel_25144\\3530342330.py\u001b[0m in \u001b[0;36m<module>\u001b[1;34m\u001b[0m\n\u001b[0;32m      1\u001b[0m \u001b[1;32mimport\u001b[0m \u001b[0mplotly\u001b[0m\u001b[1;33m.\u001b[0m\u001b[0mexpress\u001b[0m \u001b[1;32mas\u001b[0m \u001b[0mpx\u001b[0m\u001b[1;33m\u001b[0m\u001b[1;33m\u001b[0m\u001b[0m\n\u001b[1;32m----> 2\u001b[1;33m \u001b[1;32mimport\u001b[0m \u001b[0mdash\u001b[0m\u001b[1;33m\u001b[0m\u001b[1;33m\u001b[0m\u001b[0m\n\u001b[0m\u001b[0;32m      3\u001b[0m \u001b[1;32mimport\u001b[0m \u001b[0mdash_core_components\u001b[0m \u001b[1;32mas\u001b[0m \u001b[0mdcc\u001b[0m\u001b[1;33m\u001b[0m\u001b[1;33m\u001b[0m\u001b[0m\n\u001b[0;32m      4\u001b[0m \u001b[1;32mimport\u001b[0m \u001b[0mdash_html_components\u001b[0m \u001b[1;32mas\u001b[0m \u001b[0mhtml\u001b[0m\u001b[1;33m\u001b[0m\u001b[1;33m\u001b[0m\u001b[0m\n\u001b[0;32m      5\u001b[0m \u001b[1;32mfrom\u001b[0m \u001b[0mdash\u001b[0m\u001b[1;33m.\u001b[0m\u001b[0mdependencies\u001b[0m \u001b[1;32mimport\u001b[0m \u001b[0mInput\u001b[0m\u001b[1;33m,\u001b[0m \u001b[0mOutput\u001b[0m\u001b[1;33m\u001b[0m\u001b[1;33m\u001b[0m\u001b[0m\n",
      "\u001b[1;31mModuleNotFoundError\u001b[0m: No module named 'dash'"
     ]
    }
   ],
   "source": [
    "import plotly.express as px\n",
    "import dash\n",
    "import dash_core_components as dcc\n",
    "import dash_html_components as html\n",
    "from dash.dependencies import Input, Output\n",
    "import plotly.graph_objects as go\n",
    "import pandas as pd"
   ]
  },
  {
   "cell_type": "code",
   "execution_count": null,
   "metadata": {
    "ExecuteTime": {
     "end_time": "2023-11-04T22:44:47.714983Z",
     "start_time": "2023-11-04T22:44:47.714983Z"
    }
   },
   "outputs": [],
   "source": [
    "# import plotly.express as px\n",
    "df = px.data.gapminder()\n",
    "px.scatter(df, x=\"gdpPercap\", y=\"lifeExp\", animation_frame=\"year\", animation_group=\"country\",\n",
    "           size=\"pop\", color=\"continent\", hover_name=\"country\",\n",
    "           log_x=True, size_max=55, range_x=[100,100000], range_y=[25,90])"
   ]
  },
  {
   "cell_type": "code",
   "execution_count": null,
   "metadata": {
    "ExecuteTime": {
     "end_time": "2023-11-04T22:44:47.715983Z",
     "start_time": "2023-11-04T22:44:47.715983Z"
    }
   },
   "outputs": [],
   "source": [
    "# import dash\n",
    "# import dash_core_components as dcc\n",
    "# import dash_html_components as html\n",
    "# from dash.dependencies import Input, Output\n",
    "# import plotly.express as px\n",
    "\n",
    "df = px.data.gapminder()\n",
    "animations = {\n",
    "    'Scatter': px.scatter(\n",
    "        df, x=\"gdpPercap\", y=\"lifeExp\", animation_frame=\"year\", \n",
    "        animation_group=\"country\", size=\"pop\", color=\"continent\", \n",
    "        hover_name=\"country\", log_x=True, size_max=55, \n",
    "        range_x=[100,100000], range_y=[25,90]),\n",
    "    'Bar': px.bar(\n",
    "        df, x=\"continent\", y=\"pop\", color=\"continent\", \n",
    "        animation_frame=\"year\", animation_group=\"country\", \n",
    "        range_y=[0,4000000000]),\n",
    "}\n",
    "\n",
    "app = dash.Dash(__name__)\n",
    "\n",
    "app.layout = html.Div([\n",
    "    html.P(\"Select an animation:\"),\n",
    "    dcc.RadioItems(\n",
    "        id='selection',\n",
    "        options=[{'label': x, 'value': x} for x in animations],\n",
    "        value='Scatter'\n",
    "    ),\n",
    "    dcc.Graph(id=\"graph\"),\n",
    "])\n",
    "\n",
    "@app.callback(\n",
    "    Output(\"graph\", \"figure\"), \n",
    "    [Input(\"selection\", \"value\")])\n",
    "def display_animated_graph(s):\n",
    "    return animations[s]\n",
    "\n",
    "app.run_server(debug=True)"
   ]
  },
  {
   "cell_type": "code",
   "execution_count": null,
   "metadata": {
    "ExecuteTime": {
     "end_time": "2023-11-04T22:44:47.716983Z",
     "start_time": "2023-11-04T22:44:47.716983Z"
    }
   },
   "outputs": [],
   "source": [
    "# import plotly.express as px\n",
    "\n",
    "df = px.data.gapminder()\n",
    "\n",
    "fig = px.bar(df, x=\"continent\", y=\"pop\", color=\"continent\",\n",
    "  animation_frame=\"year\", animation_group=\"country\", range_y=[0,4000000000])\n",
    "fig.show()"
   ]
  },
  {
   "cell_type": "code",
   "execution_count": null,
   "metadata": {
    "ExecuteTime": {
     "end_time": "2023-11-04T22:44:47.717984Z",
     "start_time": "2023-11-04T22:44:47.717984Z"
    }
   },
   "outputs": [],
   "source": [
    "# import plotly.graph_objects as go\n",
    "# import numpy as np\n",
    "\n",
    "# Generate curve data\n",
    "t = np.linspace(-1, 1, 100)\n",
    "x = t + t ** 2\n",
    "y = t - t ** 2\n",
    "xm = np.min(x) - 1.5\n",
    "xM = np.max(x) + 1.5\n",
    "ym = np.min(y) - 1.5\n",
    "yM = np.max(y) + 1.5\n",
    "N = 50\n",
    "s = np.linspace(-1, 1, N)\n",
    "xx = s + s ** 2\n",
    "yy = s - s ** 2\n",
    "\n",
    "\n",
    "# Create figure\n",
    "fig = go.Figure(\n",
    "    data=[go.Scatter(x=x, y=y,\n",
    "                     mode=\"lines\",\n",
    "                     line=dict(width=2, color=\"blue\")),\n",
    "          go.Scatter(x=x, y=y,\n",
    "                     mode=\"lines\",\n",
    "                     line=dict(width=2, color=\"blue\"))],\n",
    "    layout=go.Layout(\n",
    "        xaxis=dict(range=[xm, xM], autorange=False, zeroline=False),\n",
    "        yaxis=dict(range=[ym, yM], autorange=False, zeroline=False),\n",
    "        title_text=\"Kinematic Generation of a Planar Curve\", hovermode=\"closest\",\n",
    "        updatemenus=[dict(type=\"buttons\",\n",
    "                          buttons=[dict(label=\"Play\",\n",
    "                                        method=\"animate\",\n",
    "                                        args=[None])])]),\n",
    "    frames=[go.Frame(\n",
    "        data=[go.Scatter(\n",
    "            x=[xx[k]],\n",
    "            y=[yy[k]],\n",
    "            mode=\"markers\",\n",
    "            marker=dict(color=\"red\", size=10))])\n",
    "\n",
    "        for k in range(N)]\n",
    ")\n",
    "\n",
    "fig.show()"
   ]
  },
  {
   "cell_type": "code",
   "execution_count": null,
   "metadata": {
    "ExecuteTime": {
     "end_time": "2023-11-04T22:44:47.719985Z",
     "start_time": "2023-11-04T22:44:47.719985Z"
    }
   },
   "outputs": [],
   "source": [
    "# Generate curve data\n",
    "t = np.linspace(-1, 1, 100)\n",
    "x = t + t ** 2\n",
    "y = t - t ** 2\n",
    "xm = np.min(x) - 1.5\n",
    "xM = np.max(x) + 1.5\n",
    "ym = np.min(y) - 1.5\n",
    "yM = np.max(y) + 1.5\n",
    "N = 50\n",
    "s = np.linspace(-1, 1, N)\n",
    "xx = s + s ** 2\n",
    "yy = s - s ** 2\n",
    "vx = 1 + 2 * s\n",
    "vy = 1 - 2 * s  # v=(vx, vy) is the velocity\n",
    "speed = np.sqrt(vx ** 2 + vy ** 2)\n",
    "ux = vx / speed  # (ux, uy) unit tangent vector, (-uy, ux) unit normal vector\n",
    "uy = vy / speed\n",
    "\n",
    "xend = xx + ux  # end coordinates for the unit tangent vector at (xx, yy)\n",
    "yend = yy + uy\n",
    "\n",
    "xnoe = xx - uy  # end coordinates for the unit normal vector at (xx,yy)\n",
    "ynoe = yy + ux\n",
    "\n",
    "\n",
    "# Create figure\n",
    "fig = go.Figure(\n",
    "    data=[go.Scatter(x=x, y=y,\n",
    "                     name=\"frame\",\n",
    "                     mode=\"lines\",\n",
    "                     line=dict(width=2, color=\"blue\")),\n",
    "          go.Scatter(x=x, y=y,\n",
    "                     name=\"curve\",\n",
    "                     mode=\"lines\",\n",
    "                     line=dict(width=2, color=\"blue\"))\n",
    "          ],\n",
    "    layout=go.Layout(width=600, height=600,\n",
    "                     xaxis=dict(range=[xm, xM], autorange=False, zeroline=False),\n",
    "                     yaxis=dict(range=[ym, yM], autorange=False, zeroline=False),\n",
    "                     title=\"Moving Frenet Frame Along a Planar Curve\",\n",
    "                     hovermode=\"closest\",\n",
    "                     updatemenus=[dict(type=\"buttons\",\n",
    "                                       buttons=[dict(label=\"Play\",\n",
    "                                                     method=\"animate\",\n",
    "                                                     args=[None])])]),\n",
    "\n",
    "    frames=[go.Frame(\n",
    "        data=[go.Scatter(\n",
    "            x=[xx[k], xend[k], None, xx[k], xnoe[k]],\n",
    "            y=[yy[k], yend[k], None, yy[k], ynoe[k]],\n",
    "            mode=\"lines\",\n",
    "            line=dict(color=\"red\", width=2))\n",
    "        ]) for k in range(N)]\n",
    ")\n",
    "\n",
    "fig.show()"
   ]
  },
  {
   "cell_type": "code",
   "execution_count": null,
   "metadata": {
    "ExecuteTime": {
     "end_time": "2023-11-04T22:44:47.720984Z",
     "start_time": "2023-11-04T22:44:47.720984Z"
    }
   },
   "outputs": [],
   "source": [
    "url = \"https://raw.githubusercontent.com/plotly/datasets/master/gapminderDataFiveYear.csv\"\n",
    "dataset = pd.read_csv(url)\n",
    "\n",
    "years = [\"1952\", \"1962\", \"1967\", \"1972\", \"1977\", \"1982\", \"1987\", \"1992\", \"1997\", \"2002\",\n",
    "         \"2007\"]\n",
    "\n",
    "# make list of continents\n",
    "continents = []\n",
    "for continent in dataset[\"continent\"]:\n",
    "    if continent not in continents:\n",
    "        continents.append(continent)\n",
    "# make figure\n",
    "fig_dict = {\n",
    "    \"data\": [],\n",
    "    \"layout\": {},\n",
    "    \"frames\": []\n",
    "}\n",
    "\n",
    "# fill in most of layout\n",
    "fig_dict[\"layout\"][\"xaxis\"] = {\"range\": [30, 85], \"title\": \"Life Expectancy\"}\n",
    "fig_dict[\"layout\"][\"yaxis\"] = {\"title\": \"GDP per Capita\", \"type\": \"log\"}\n",
    "fig_dict[\"layout\"][\"hovermode\"] = \"closest\"\n",
    "fig_dict[\"layout\"][\"updatemenus\"] = [\n",
    "    {\n",
    "        \"buttons\": [\n",
    "            {\n",
    "                \"args\": [None, {\"frame\": {\"duration\": 500, \"redraw\": False},\n",
    "                                \"fromcurrent\": True, \"transition\": {\"duration\": 300,\n",
    "                                                                    \"easing\": \"quadratic-in-out\"}}],\n",
    "                \"label\": \"Play\",\n",
    "                \"method\": \"animate\"\n",
    "            },\n",
    "            {\n",
    "                \"args\": [[None], {\"frame\": {\"duration\": 0, \"redraw\": False},\n",
    "                                  \"mode\": \"immediate\",\n",
    "                                  \"transition\": {\"duration\": 0}}],\n",
    "                \"label\": \"Pause\",\n",
    "                \"method\": \"animate\"\n",
    "            }\n",
    "        ],\n",
    "        \"direction\": \"left\",\n",
    "        \"pad\": {\"r\": 10, \"t\": 87},\n",
    "        \"showactive\": False,\n",
    "        \"type\": \"buttons\",\n",
    "        \"x\": 0.1,\n",
    "        \"xanchor\": \"right\",\n",
    "        \"y\": 0,\n",
    "        \"yanchor\": \"top\"\n",
    "    }\n",
    "]\n",
    "\n",
    "sliders_dict = {\n",
    "    \"active\": 0,\n",
    "    \"yanchor\": \"top\",\n",
    "    \"xanchor\": \"left\",\n",
    "    \"currentvalue\": {\n",
    "        \"font\": {\"size\": 20},\n",
    "        \"prefix\": \"Year:\",\n",
    "        \"visible\": True,\n",
    "        \"xanchor\": \"right\"\n",
    "    },\n",
    "    \"transition\": {\"duration\": 300, \"easing\": \"cubic-in-out\"},\n",
    "    \"pad\": {\"b\": 10, \"t\": 50},\n",
    "    \"len\": 0.9,\n",
    "    \"x\": 0.1,\n",
    "    \"y\": 0,\n",
    "    \"steps\": []\n",
    "}\n",
    "\n",
    "# make data\n",
    "year = 1952\n",
    "for continent in continents:\n",
    "    dataset_by_year = dataset[dataset[\"year\"] == year]\n",
    "    dataset_by_year_and_cont = dataset_by_year[\n",
    "        dataset_by_year[\"continent\"] == continent]\n",
    "\n",
    "    data_dict = {\n",
    "        \"x\": list(dataset_by_year_and_cont[\"lifeExp\"]),\n",
    "        \"y\": list(dataset_by_year_and_cont[\"gdpPercap\"]),\n",
    "        \"mode\": \"markers\",\n",
    "        \"text\": list(dataset_by_year_and_cont[\"country\"]),\n",
    "        \"marker\": {\n",
    "            \"sizemode\": \"area\",\n",
    "            \"sizeref\": 200000,\n",
    "            \"size\": list(dataset_by_year_and_cont[\"pop\"])\n",
    "        },\n",
    "        \"name\": continent\n",
    "    }\n",
    "    fig_dict[\"data\"].append(data_dict)\n",
    "\n",
    "# make frames\n",
    "for year in years:\n",
    "    frame = {\"data\": [], \"name\": str(year)}\n",
    "    for continent in continents:\n",
    "        dataset_by_year = dataset[dataset[\"year\"] == int(year)]\n",
    "        dataset_by_year_and_cont = dataset_by_year[\n",
    "            dataset_by_year[\"continent\"] == continent]\n",
    "\n",
    "        data_dict = {\n",
    "            \"x\": list(dataset_by_year_and_cont[\"lifeExp\"]),\n",
    "            \"y\": list(dataset_by_year_and_cont[\"gdpPercap\"]),\n",
    "            \"mode\": \"markers\",\n",
    "            \"text\": list(dataset_by_year_and_cont[\"country\"]),\n",
    "            \"marker\": {\n",
    "                \"sizemode\": \"area\",\n",
    "                \"sizeref\": 200000,\n",
    "                \"size\": list(dataset_by_year_and_cont[\"pop\"])\n",
    "            },\n",
    "            \"name\": continent\n",
    "        }\n",
    "        frame[\"data\"].append(data_dict)\n",
    "\n",
    "    fig_dict[\"frames\"].append(frame)\n",
    "    slider_step = {\"args\": [\n",
    "        [year],\n",
    "        {\"frame\": {\"duration\": 300, \"redraw\": False},\n",
    "         \"mode\": \"immediate\",\n",
    "         \"transition\": {\"duration\": 300}}\n",
    "    ],\n",
    "        \"label\": year,\n",
    "        \"method\": \"animate\"}\n",
    "    sliders_dict[\"steps\"].append(slider_step)\n",
    "\n",
    "\n",
    "fig_dict[\"layout\"][\"sliders\"] = [sliders_dict]\n",
    "\n",
    "fig = go.Figure(fig_dict)\n",
    "\n",
    "fig.show()"
   ]
  },
  {
   "cell_type": "code",
   "execution_count": null,
   "metadata": {},
   "outputs": [],
   "source": []
  },
  {
   "cell_type": "markdown",
   "metadata": {},
   "source": [
    "# References\n",
    "\n",
    "* https://plotly.com/python/animations/"
   ]
  }
 ],
 "metadata": {
  "hide_input": false,
  "kernelspec": {
   "display_name": "Python 3 (ipykernel)",
   "language": "python",
   "name": "python3"
  },
  "language_info": {
   "codemirror_mode": {
    "name": "ipython",
    "version": 3
   },
   "file_extension": ".py",
   "mimetype": "text/x-python",
   "name": "python",
   "nbconvert_exporter": "python",
   "pygments_lexer": "ipython3",
   "version": "3.9.13"
  },
  "latex_envs": {
   "LaTeX_envs_menu_present": true,
   "autoclose": false,
   "autocomplete": true,
   "bibliofile": "biblio.bib",
   "cite_by": "apalike",
   "current_citInitial": 1,
   "eqLabelWithNumbers": true,
   "eqNumInitial": 1,
   "hotkeys": {
    "equation": "Ctrl-E",
    "itemize": "Ctrl-I"
   },
   "labels_anchors": false,
   "latex_user_defs": false,
   "report_style_numbering": false,
   "user_envs_cfg": false
  },
  "toc": {
   "base_numbering": 1,
   "nav_menu": {},
   "number_sections": true,
   "sideBar": true,
   "skip_h1_title": false,
   "title_cell": "Table of Contents",
   "title_sidebar": "Contents",
   "toc_cell": false,
   "toc_position": {},
   "toc_section_display": true,
   "toc_window_display": false
  },
  "varInspector": {
   "cols": {
    "lenName": 16,
    "lenType": 16,
    "lenVar": 40
   },
   "kernels_config": {
    "python": {
     "delete_cmd_postfix": "",
     "delete_cmd_prefix": "del ",
     "library": "var_list.py",
     "varRefreshCmd": "print(var_dic_list())"
    },
    "r": {
     "delete_cmd_postfix": ") ",
     "delete_cmd_prefix": "rm(",
     "library": "var_list.r",
     "varRefreshCmd": "cat(var_dic_list()) "
    }
   },
   "types_to_exclude": [
    "module",
    "function",
    "builtin_function_or_method",
    "instance",
    "_Feature"
   ],
   "window_display": false
  }
 },
 "nbformat": 4,
 "nbformat_minor": 4
}
