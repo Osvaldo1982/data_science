{
 "cells": [
  {
   "cell_type": "code",
   "execution_count": 73,
   "id": "8cd365bb",
   "metadata": {
    "ExecuteTime": {
     "end_time": "2023-04-07T13:01:49.501903Z",
     "start_time": "2023-04-07T13:01:49.476202Z"
    }
   },
   "outputs": [],
   "source": [
    "import time\n",
    "import collections\n",
    "\n",
    "# Define the function you want to test\n",
    "def testing_function_run_time(text: str):\n",
    "    time.sleep(1)  # simulate some work\n",
    "    # Test the function's runtime\n",
    "    start_time = time.time()\n",
    "    find_first_unique_character_1(text)\n",
    "    end_time = time.time()\n",
    "    # Test the function's runtime\n",
    "    start_time = time.time()\n",
    "    find_first_unique_character_2(text)\n",
    "    end_time = time.time()\n",
    "    # Test the function's runtime\n",
    "    start_time = time.time()\n",
    "    find_first_unique_character_3(text)\n",
    "    end_time = time.time()\n",
    "    print(f\"Elapsed time for first function: {end_time - start_time:.2f} seconds\")\n",
    "    print(f\"Elapsed time for second function: {end_time - start_time:.2f} seconds\")\n",
    "    print(f\"Elapsed time for third function: {end_time - start_time:.2f} seconds\")\n",
    "\n",
    "#\n",
    "def find_first_unique_character_1(text: str) -> int:\n",
    "    # creates an empty dictionary\n",
    "    count = {}\n",
    "    # creates a for loop that runs o the input string\n",
    "    for c in text:\n",
    "        # creates a for loop that runs on the dictionary\n",
    "        if c in count:\n",
    "            # iterates the counter dictionary if c is in count\n",
    "            count[c] += 1\n",
    "        else:\n",
    "            # gives else condition if c is not in count\n",
    "            count[c] = 1\n",
    "            \n",
    "    for i in range(len(text)):\n",
    "        if count[text[i]] == 1:\n",
    "            return i,c\n",
    "    return -1\n",
    "\n",
    "#\n",
    "def find_first_unique_character_2(text: str) -> int:\n",
    "    for i, c in enumerate(text):\n",
    "        if text.count(c) == 1:\n",
    "            return i,c\n",
    "    return -1\n",
    "\n",
    "#\n",
    "def find_first_unique_character_3(text: str) -> int:\n",
    "    counter = collections.Counter(text)\n",
    "    for i,c in enumerate(text):\n",
    "        if counter[c] == 1:\n",
    "            return i,c\n",
    "    return -1"
   ]
  },
  {
   "cell_type": "code",
   "execution_count": 76,
   "id": "04fb4733",
   "metadata": {
    "ExecuteTime": {
     "end_time": "2023-04-07T13:02:47.367538Z",
     "start_time": "2023-04-07T13:02:46.339910Z"
    }
   },
   "outputs": [
    {
     "name": "stdout",
     "output_type": "stream",
     "text": [
      "Elapsed time for first function: 0.00 seconds\n",
      "Elapsed time for second function: 0.00 seconds\n",
      "Elapsed time for third function: 0.00 seconds\n"
     ]
    }
   ],
   "source": [
    "#\n",
    "text_string = 'avocado'\n",
    "#\n",
    "testing_function_run_time(text_string)"
   ]
  },
  {
   "cell_type": "code",
   "execution_count": 77,
   "id": "34c26138",
   "metadata": {
    "ExecuteTime": {
     "end_time": "2023-04-07T13:02:48.507295Z",
     "start_time": "2023-04-07T13:02:48.484749Z"
    }
   },
   "outputs": [
    {
     "data": {
      "text/plain": [
       "(1, 'o')"
      ]
     },
     "execution_count": 77,
     "metadata": {},
     "output_type": "execute_result"
    }
   ],
   "source": [
    "find_first_unique_character_1(text_string)"
   ]
  },
  {
   "cell_type": "code",
   "execution_count": 78,
   "id": "94295335",
   "metadata": {
    "ExecuteTime": {
     "end_time": "2023-04-07T13:02:49.307258Z",
     "start_time": "2023-04-07T13:02:49.284323Z"
    }
   },
   "outputs": [
    {
     "data": {
      "text/plain": [
       "(1, 'v')"
      ]
     },
     "execution_count": 78,
     "metadata": {},
     "output_type": "execute_result"
    }
   ],
   "source": [
    "find_first_unique_character_2(text_string)"
   ]
  },
  {
   "cell_type": "code",
   "execution_count": 79,
   "id": "3d4c86fb",
   "metadata": {
    "ExecuteTime": {
     "end_time": "2023-04-07T13:02:50.002665Z",
     "start_time": "2023-04-07T13:02:49.987667Z"
    }
   },
   "outputs": [
    {
     "data": {
      "text/plain": [
       "(1, 'v')"
      ]
     },
     "execution_count": 79,
     "metadata": {},
     "output_type": "execute_result"
    }
   ],
   "source": [
    "find_first_unique_character_3(text_string)"
   ]
  }
 ],
 "metadata": {
  "hide_input": false,
  "kernelspec": {
   "display_name": "Python 3 (ipykernel)",
   "language": "python",
   "name": "python3"
  },
  "language_info": {
   "codemirror_mode": {
    "name": "ipython",
    "version": 3
   },
   "file_extension": ".py",
   "mimetype": "text/x-python",
   "name": "python",
   "nbconvert_exporter": "python",
   "pygments_lexer": "ipython3",
   "version": "3.9.13"
  },
  "toc": {
   "base_numbering": 1,
   "nav_menu": {},
   "number_sections": true,
   "sideBar": true,
   "skip_h1_title": false,
   "title_cell": "Table of Contents",
   "title_sidebar": "Contents",
   "toc_cell": false,
   "toc_position": {},
   "toc_section_display": true,
   "toc_window_display": false
  }
 },
 "nbformat": 4,
 "nbformat_minor": 5
}
