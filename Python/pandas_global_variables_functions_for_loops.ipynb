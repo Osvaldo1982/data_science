{
 "cells": [
  {
   "cell_type": "markdown",
   "metadata": {},
   "source": [
    "* Name: Osvaldo Luiz dos Santos Pereira. \n",
    "* email: osvald23@gmail.com / osvaldo.pereira@sciencedata.ai / olsp@if.ufrj.br\n",
    "* LinkedIn: https://www.linkedin.com/in/osvaldo-pereira\n",
    "* Currículo Lattes: http://lattes.cnpq.br/6730251976463283\n",
    "* Personal web page: https://www.sciencedata.ai/osvaldolspereira\n",
    "* [Curriculum Vitae in PDF Format](https://www.sciencedata.ai/osvaldolspereira/wp-content/uploads/2020/09/CV_English_osvaldo_pereira.pdf)"
   ]
  },
  {
   "cell_type": "markdown",
   "metadata": {},
   "source": [
    "# Introdução\n",
    "\n",
    "Nesta aula iremos aprender sobre variáveis globais, e como fazer o \"assign\" de colunas e variáveis dinâmicamente usando a função global do Python.\n"
   ]
  },
  {
   "cell_type": "markdown",
   "metadata": {},
   "source": [
    "# Requerimentos"
   ]
  },
  {
   "cell_type": "code",
   "execution_count": 97,
   "metadata": {
    "ExecuteTime": {
     "end_time": "2022-04-10T03:53:08.130565Z",
     "start_time": "2022-04-10T03:53:08.115573Z"
    }
   },
   "outputs": [],
   "source": [
    "import pandas as pd\n",
    "import numpy as np\n",
    "import matplotlib.pyplot as plt\n",
    "import datetime as dt\n",
    "import random as rnd\n",
    "\n",
    "pd.set_option('display.max_rows', 10)\n",
    "pd.set_option('display.max_columns', 500)"
   ]
  },
  {
   "cell_type": "markdown",
   "metadata": {},
   "source": [
    "# Um pouco sobre listas"
   ]
  },
  {
   "cell_type": "markdown",
   "metadata": {},
   "source": [
    "## Printando listas com for loop"
   ]
  },
  {
   "cell_type": "code",
   "execution_count": 2,
   "metadata": {
    "ExecuteTime": {
     "end_time": "2022-04-10T03:00:10.251766Z",
     "start_time": "2022-04-10T03:00:10.233814Z"
    }
   },
   "outputs": [
    {
     "name": "stdout",
     "output_type": "stream",
     "text": [
      "1\n",
      "3\n",
      "5\n",
      "7\n",
      "9\n"
     ]
    }
   ],
   "source": [
    "# criando uma lista\n",
    "lista = [1, 3, 5, 7, 9]\n",
    "\n",
    "#\n",
    "length = len(lista)\n",
    "\n",
    "#\n",
    "for i in range(length):\n",
    "    print(lista[i])"
   ]
  },
  {
   "cell_type": "markdown",
   "metadata": {},
   "source": [
    "## Printando listas com while loop"
   ]
  },
  {
   "cell_type": "code",
   "execution_count": 3,
   "metadata": {
    "ExecuteTime": {
     "end_time": "2022-04-10T03:00:10.266732Z",
     "start_time": "2022-04-10T03:00:10.255753Z"
    }
   },
   "outputs": [
    {
     "name": "stdout",
     "output_type": "stream",
     "text": [
      "1\n",
      "3\n",
      "5\n",
      "7\n",
      "9\n"
     ]
    }
   ],
   "source": [
    "i = 0\n",
    "while i < length:\n",
    "    print(lista[i])\n",
    "    i += 1"
   ]
  },
  {
   "cell_type": "markdown",
   "metadata": {},
   "source": [
    "## Printando listas com list comprehension"
   ]
  },
  {
   "cell_type": "code",
   "execution_count": 4,
   "metadata": {
    "ExecuteTime": {
     "end_time": "2022-04-10T03:00:10.298675Z",
     "start_time": "2022-04-10T03:00:10.271714Z"
    }
   },
   "outputs": [
    {
     "name": "stdout",
     "output_type": "stream",
     "text": [
      "1\n",
      "3\n",
      "5\n",
      "7\n",
      "9\n"
     ]
    },
    {
     "data": {
      "text/plain": [
       "[None, None, None, None, None]"
      ]
     },
     "execution_count": 4,
     "metadata": {},
     "output_type": "execute_result"
    }
   ],
   "source": [
    "[print(i) for i in lista]"
   ]
  },
  {
   "cell_type": "markdown",
   "metadata": {},
   "source": [
    "## Criando tupla iterável"
   ]
  },
  {
   "cell_type": "code",
   "execution_count": 5,
   "metadata": {
    "ExecuteTime": {
     "end_time": "2022-04-10T03:00:10.314600Z",
     "start_time": "2022-04-10T03:00:10.302627Z"
    }
   },
   "outputs": [
    {
     "name": "stdout",
     "output_type": "stream",
     "text": [
      "0 , 1\n",
      "1 , 3\n",
      "2 , 5\n",
      "3 , 7\n",
      "4 , 9\n"
     ]
    }
   ],
   "source": [
    "for i, value in enumerate(lista):\n",
    "    print (i, ',' ,value)"
   ]
  },
  {
   "cell_type": "markdown",
   "metadata": {},
   "source": [
    "# Dicionários e variáveis dinâmicas"
   ]
  },
  {
   "cell_type": "markdown",
   "metadata": {},
   "source": [
    "## Criando lista com nomes e sufixos indexados"
   ]
  },
  {
   "cell_type": "code",
   "execution_count": 6,
   "metadata": {
    "ExecuteTime": {
     "end_time": "2022-04-10T03:00:10.346510Z",
     "start_time": "2022-04-10T03:00:10.325573Z"
    }
   },
   "outputs": [
    {
     "data": {
      "text/plain": [
       "array([['col_1', '3'],\n",
       "       ['col_2', '4'],\n",
       "       ['col_3', '5'],\n",
       "       ['col_4', '10']], dtype='<U11')"
      ]
     },
     "execution_count": 6,
     "metadata": {},
     "output_type": "execute_result"
    }
   ],
   "source": [
    "# inicializando uma lista\n",
    "v_name = []\n",
    "\n",
    "# inicializando uma lista\n",
    "v_value = []\n",
    "\n",
    "#\n",
    "k = 4\n",
    "\n",
    "#\n",
    "for i in range(k):\n",
    "    # cria lista com nomes das colunas\n",
    "    v_name.append(str('col_' + str(i+1)))\n",
    "    # cria lista de valores com base em uma função\n",
    "    v_value.append(i^2 + 2*i + 1)\n",
    "\n",
    "v_value = [int(i) for i in v_value]\n",
    "\n",
    "array = np.column_stack((v_name,v_value))\n",
    "\n",
    "array"
   ]
  },
  {
   "cell_type": "markdown",
   "metadata": {},
   "source": [
    "## Usando dicionários"
   ]
  },
  {
   "cell_type": "code",
   "execution_count": 7,
   "metadata": {
    "ExecuteTime": {
     "end_time": "2022-04-10T03:00:10.378427Z",
     "start_time": "2022-04-10T03:00:10.351500Z"
    }
   },
   "outputs": [
    {
     "data": {
      "text/plain": [
       "{'x0': 0, 'x1': 1, 'x2': 4, 'x3': 9}"
      ]
     },
     "execution_count": 7,
     "metadata": {},
     "output_type": "execute_result"
    }
   ],
   "source": [
    "# inicializando dicionário\n",
    "dicio = {}\n",
    "\n",
    "for i in range(4):\n",
    "    chave = str('x'+str(i))\n",
    "    dicio[chave] = i**2\n",
    "    \n",
    "for key,value in dicio.items():\n",
    "    exec(f'{key} = {value}')\n",
    "    \n",
    "dicio"
   ]
  },
  {
   "cell_type": "code",
   "execution_count": 10,
   "metadata": {
    "ExecuteTime": {
     "end_time": "2022-04-10T03:00:35.379472Z",
     "start_time": "2022-04-10T03:00:35.372465Z"
    }
   },
   "outputs": [
    {
     "data": {
      "text/plain": [
       "{'col1': 'val1', 'col2': 'val2', 'col3': 'val3', 'col4': 'val4'}"
      ]
     },
     "execution_count": 10,
     "metadata": {},
     "output_type": "execute_result"
    }
   ],
   "source": [
    "class vec():\n",
    "    pass\n",
    "\n",
    "\n",
    "k = 4\n",
    "v = vec()\n",
    "\n",
    "\n",
    "#\n",
    "chaves = 'col1 col2 col3 col4'.split()\n",
    "\n",
    "#\n",
    "valores = 'val1 val2 val3 val4'.split()\n",
    "\n",
    "for key,values in zip(chaves,valores):\n",
    "    setattr(v,key,values)\n",
    "    \n",
    "v.__dict__"
   ]
  },
  {
   "cell_type": "markdown",
   "metadata": {},
   "source": [
    "## setattr e getattr"
   ]
  },
  {
   "cell_type": "code",
   "execution_count": 61,
   "metadata": {
    "ExecuteTime": {
     "end_time": "2022-04-10T03:34:04.322790Z",
     "start_time": "2022-04-10T03:34:04.301584Z"
    }
   },
   "outputs": [
    {
     "name": "stdout",
     "output_type": "stream",
     "text": [
      "x =  2 \n",
      "y = 40\n"
     ]
    }
   ],
   "source": [
    "class classe:\n",
    "    atributo1 = 'val1'\n",
    "    atributo2 = 2\n",
    "    atributo3 = 0.5\n",
    "\n",
    "#\n",
    "x = getattr(classe,'atributo2')\n",
    "\n",
    "#\n",
    "setattr(classe, 'atributo2', 40)\n",
    "\n",
    "#\n",
    "y = getattr(classe, 'atributo2')\n",
    "\n",
    "#\n",
    "print('x = ', x, '\\ny =', y)"
   ]
  },
  {
   "cell_type": "markdown",
   "metadata": {},
   "source": [
    "# Programação funcional e map"
   ]
  },
  {
   "cell_type": "code",
   "execution_count": 14,
   "metadata": {
    "ExecuteTime": {
     "end_time": "2022-04-10T03:04:35.571096Z",
     "start_time": "2022-04-10T03:04:35.560127Z"
    }
   },
   "outputs": [
    {
     "data": {
      "text/plain": [
       "[0, 1, 4, 9, 16]"
      ]
     },
     "execution_count": 14,
     "metadata": {},
     "output_type": "execute_result"
    }
   ],
   "source": [
    "# cria uma lista e valores baseado numa lógica\n",
    "iteravel = [i for i in range(5)]\n",
    "\n",
    "# cria uma função baseado numa lógica \n",
    "def funcional(x):\n",
    "    return x**2\n",
    "\n",
    "# aplica a função map na função e na lista iterável\n",
    "resultado1 = map(funcional, iteravel)\n",
    "\n",
    "# gera a lista de valores aplicadas na função\n",
    "list(resultado1)"
   ]
  },
  {
   "cell_type": "code",
   "execution_count": 16,
   "metadata": {
    "ExecuteTime": {
     "end_time": "2022-04-10T03:07:07.372731Z",
     "start_time": "2022-04-10T03:07:07.357773Z"
    }
   },
   "outputs": [
    {
     "data": {
      "text/plain": [
       "[0, 1, 4, 9, 16]"
      ]
     },
     "execution_count": 16,
     "metadata": {},
     "output_type": "execute_result"
    }
   ],
   "source": [
    "resultado2 = [i**2 for i in range(5)]\n",
    "\n",
    "resultado2"
   ]
  },
  {
   "cell_type": "code",
   "execution_count": 18,
   "metadata": {
    "ExecuteTime": {
     "end_time": "2022-04-10T03:07:40.460877Z",
     "start_time": "2022-04-10T03:07:40.445893Z"
    }
   },
   "outputs": [
    {
     "data": {
      "text/plain": [
       "[0, 1, 4, 9, 16]"
      ]
     },
     "execution_count": 18,
     "metadata": {},
     "output_type": "execute_result"
    }
   ],
   "source": [
    "resultado3 = [funcional(x) for x in iteravel]\n",
    "\n",
    "resultado3"
   ]
  },
  {
   "cell_type": "markdown",
   "metadata": {},
   "source": [
    "# Compreensão de listas e dicionários"
   ]
  },
  {
   "cell_type": "markdown",
   "metadata": {},
   "source": [
    "## Compreensão de listas (exemplo)"
   ]
  },
  {
   "cell_type": "code",
   "execution_count": 19,
   "metadata": {
    "ExecuteTime": {
     "end_time": "2022-04-10T03:08:28.927804Z",
     "start_time": "2022-04-10T03:08:28.912085Z"
    }
   },
   "outputs": [
    {
     "data": {
      "text/plain": [
       "['col0', 'col1', 'col2', 'col3']"
      ]
     },
     "execution_count": 19,
     "metadata": {},
     "output_type": "execute_result"
    }
   ],
   "source": [
    "lista = ['col'+str(i) for i in range(4)]\n",
    "\n",
    "lista"
   ]
  },
  {
   "cell_type": "markdown",
   "metadata": {},
   "source": [
    "## Compreensão de dicionários (exemplo)"
   ]
  },
  {
   "cell_type": "code",
   "execution_count": 26,
   "metadata": {
    "ExecuteTime": {
     "end_time": "2022-04-10T03:10:17.022905Z",
     "start_time": "2022-04-10T03:10:17.000633Z"
    }
   },
   "outputs": [
    {
     "data": {
      "text/plain": [
       "{'x0': 0, 'x1': 1, 'x2': 4, 'x3': 9, 'x4': 16}"
      ]
     },
     "execution_count": 26,
     "metadata": {},
     "output_type": "execute_result"
    }
   ],
   "source": [
    "quadrados = {'x'+str(i): i * i for i in range(5)}\n",
    "\n",
    "quadrados"
   ]
  },
  {
   "cell_type": "markdown",
   "metadata": {},
   "source": [
    "## Compreensão de arrays (exemplo)"
   ]
  },
  {
   "cell_type": "code",
   "execution_count": 35,
   "metadata": {
    "ExecuteTime": {
     "end_time": "2022-04-10T03:15:11.774114Z",
     "start_time": "2022-04-10T03:15:11.758460Z"
    }
   },
   "outputs": [
    {
     "data": {
      "text/plain": [
       "[[0, 1, 2, 3, 4],\n",
       " [0, 1, 2, 3, 4],\n",
       " [0, 1, 2, 3, 4],\n",
       " [0, 1, 2, 3, 4],\n",
       " [0, 1, 2, 3, 4],\n",
       " [0, 1, 2, 3, 4]]"
      ]
     },
     "execution_count": 35,
     "metadata": {},
     "output_type": "execute_result"
    }
   ],
   "source": [
    "matriz = [[i for i in range(5)] for j in range(6)]\n",
    "\n",
    "matriz"
   ]
  },
  {
   "cell_type": "code",
   "execution_count": 41,
   "metadata": {
    "ExecuteTime": {
     "end_time": "2022-04-10T03:17:00.436915Z",
     "start_time": "2022-04-10T03:17:00.429897Z"
    }
   },
   "outputs": [
    {
     "data": {
      "text/plain": [
       "[[1, 0, 0, 0, 0],\n",
       " [0, 1, 0, 0, 0],\n",
       " [0, 0, 1, 0, 0],\n",
       " [0, 0, 0, 1, 0],\n",
       " [0, 0, 0, 0, 1]]"
      ]
     },
     "execution_count": 41,
     "metadata": {},
     "output_type": "execute_result"
    }
   ],
   "source": [
    "matriz_unit = [[0 if i!=j else 1 for i in range(5)] for j in range(5)]\n",
    "\n",
    "matriz_unit"
   ]
  },
  {
   "cell_type": "code",
   "execution_count": 46,
   "metadata": {
    "ExecuteTime": {
     "end_time": "2022-04-10T03:21:48.008485Z",
     "start_time": "2022-04-10T03:21:47.977899Z"
    }
   },
   "outputs": [
    {
     "data": {
      "text/plain": [
       "[[0, 1, 2, 3, 4],\n",
       " [0, 1, 4, 9, 16],\n",
       " [0, 1, 8, 27, 64],\n",
       " [0, 1, 16, 81, 256],\n",
       " [0, 1, 32, 243, 1024]]"
      ]
     },
     "execution_count": 46,
     "metadata": {},
     "output_type": "execute_result"
    }
   ],
   "source": [
    "vandermonde = [[i**j for i in range(5)] for j in (1,2,3,4,5)]\n",
    "\n",
    "vandermonde"
   ]
  },
  {
   "cell_type": "markdown",
   "metadata": {},
   "source": [
    "# Criando pandas dataframe"
   ]
  },
  {
   "cell_type": "code",
   "execution_count": 74,
   "metadata": {
    "ExecuteTime": {
     "end_time": "2022-04-10T03:41:52.073445Z",
     "start_time": "2022-04-10T03:41:52.060491Z"
    }
   },
   "outputs": [
    {
     "name": "stdout",
     "output_type": "stream",
     "text": [
      "abcdefghijklmnopqrstuvwxyz\n"
     ]
    },
    {
     "data": {
      "text/plain": [
       "['a',\n",
       " 'b',\n",
       " 'c',\n",
       " 'd',\n",
       " 'e',\n",
       " 'f',\n",
       " 'g',\n",
       " 'h',\n",
       " 'i',\n",
       " 'j',\n",
       " 'k',\n",
       " 'l',\n",
       " 'm',\n",
       " 'n',\n",
       " 'o',\n",
       " 'p',\n",
       " 'q',\n",
       " 'r',\n",
       " 's',\n",
       " 't',\n",
       " 'u',\n",
       " 'v',\n",
       " 'w',\n",
       " 'x',\n",
       " 'y',\n",
       " 'z']"
      ]
     },
     "execution_count": 74,
     "metadata": {},
     "output_type": "execute_result"
    }
   ],
   "source": [
    "import string\n",
    "\n",
    "abc = string.ascii_lowercase\n",
    "\n",
    "print(abc)\n",
    "    \n",
    "col1 = [i for i in abc]\n",
    "\n",
    "col1"
   ]
  },
  {
   "cell_type": "code",
   "execution_count": 98,
   "metadata": {
    "ExecuteTime": {
     "end_time": "2022-04-10T03:53:20.409741Z",
     "start_time": "2022-04-10T03:53:20.379089Z"
    }
   },
   "outputs": [
    {
     "data": {
      "text/html": [
       "<div>\n",
       "<style scoped>\n",
       "    .dataframe tbody tr th:only-of-type {\n",
       "        vertical-align: middle;\n",
       "    }\n",
       "\n",
       "    .dataframe tbody tr th {\n",
       "        vertical-align: top;\n",
       "    }\n",
       "\n",
       "    .dataframe thead th {\n",
       "        text-align: right;\n",
       "    }\n",
       "</style>\n",
       "<table border=\"1\" class=\"dataframe\">\n",
       "  <thead>\n",
       "    <tr style=\"text-align: right;\">\n",
       "      <th></th>\n",
       "      <th>a</th>\n",
       "      <th>b</th>\n",
       "      <th>c</th>\n",
       "      <th>d</th>\n",
       "      <th>e</th>\n",
       "    </tr>\n",
       "  </thead>\n",
       "  <tbody>\n",
       "    <tr>\n",
       "      <th>0</th>\n",
       "      <td>0.916151</td>\n",
       "      <td>0.025753</td>\n",
       "      <td>0.070676</td>\n",
       "      <td>0.072989</td>\n",
       "      <td>0.578618</td>\n",
       "    </tr>\n",
       "    <tr>\n",
       "      <th>1</th>\n",
       "      <td>0.924575</td>\n",
       "      <td>0.720495</td>\n",
       "      <td>0.126412</td>\n",
       "      <td>0.431161</td>\n",
       "      <td>0.960857</td>\n",
       "    </tr>\n",
       "    <tr>\n",
       "      <th>2</th>\n",
       "      <td>0.951136</td>\n",
       "      <td>0.716051</td>\n",
       "      <td>0.820812</td>\n",
       "      <td>0.319373</td>\n",
       "      <td>0.960693</td>\n",
       "    </tr>\n",
       "    <tr>\n",
       "      <th>3</th>\n",
       "      <td>0.156595</td>\n",
       "      <td>0.792206</td>\n",
       "      <td>0.098032</td>\n",
       "      <td>0.572935</td>\n",
       "      <td>0.081642</td>\n",
       "    </tr>\n",
       "    <tr>\n",
       "      <th>4</th>\n",
       "      <td>0.739901</td>\n",
       "      <td>0.167968</td>\n",
       "      <td>0.225014</td>\n",
       "      <td>0.671978</td>\n",
       "      <td>0.658220</td>\n",
       "    </tr>\n",
       "    <tr>\n",
       "      <th>5</th>\n",
       "      <td>0.685227</td>\n",
       "      <td>0.603106</td>\n",
       "      <td>0.328643</td>\n",
       "      <td>0.809331</td>\n",
       "      <td>0.602765</td>\n",
       "    </tr>\n",
       "    <tr>\n",
       "      <th>6</th>\n",
       "      <td>0.516057</td>\n",
       "      <td>0.500931</td>\n",
       "      <td>0.898296</td>\n",
       "      <td>0.587881</td>\n",
       "      <td>0.181034</td>\n",
       "    </tr>\n",
       "    <tr>\n",
       "      <th>7</th>\n",
       "      <td>0.929151</td>\n",
       "      <td>0.887283</td>\n",
       "      <td>0.224433</td>\n",
       "      <td>0.405510</td>\n",
       "      <td>0.901865</td>\n",
       "    </tr>\n",
       "    <tr>\n",
       "      <th>8</th>\n",
       "      <td>0.959845</td>\n",
       "      <td>0.018404</td>\n",
       "      <td>0.552788</td>\n",
       "      <td>0.352084</td>\n",
       "      <td>0.354032</td>\n",
       "    </tr>\n",
       "    <tr>\n",
       "      <th>9</th>\n",
       "      <td>0.929850</td>\n",
       "      <td>0.799185</td>\n",
       "      <td>0.366537</td>\n",
       "      <td>0.823348</td>\n",
       "      <td>0.162138</td>\n",
       "    </tr>\n",
       "  </tbody>\n",
       "</table>\n",
       "</div>"
      ],
      "text/plain": [
       "          a         b         c         d         e\n",
       "0  0.916151  0.025753  0.070676  0.072989  0.578618\n",
       "1  0.924575  0.720495  0.126412  0.431161  0.960857\n",
       "2  0.951136  0.716051  0.820812  0.319373  0.960693\n",
       "3  0.156595  0.792206  0.098032  0.572935  0.081642\n",
       "4  0.739901  0.167968  0.225014  0.671978  0.658220\n",
       "5  0.685227  0.603106  0.328643  0.809331  0.602765\n",
       "6  0.516057  0.500931  0.898296  0.587881  0.181034\n",
       "7  0.929151  0.887283  0.224433  0.405510  0.901865\n",
       "8  0.959845  0.018404  0.552788  0.352084  0.354032\n",
       "9  0.929850  0.799185  0.366537  0.823348  0.162138"
      ]
     },
     "execution_count": 98,
     "metadata": {},
     "output_type": "execute_result"
    }
   ],
   "source": [
    "#\n",
    "n = 10\n",
    "\n",
    "#\n",
    "colunas = [i for i in 'abcde']\n",
    "\n",
    "qtd_cols = len(colunas)\n",
    "\n",
    "#\n",
    "valores = [[rnd.random() for i in range(qtd_cols)] for j in range(n)]\n",
    "\n",
    "#\n",
    "df = pd.DataFrame(data = valores, columns = colunas)\n",
    "\n",
    "#\n",
    "df"
   ]
  },
  {
   "cell_type": "code",
   "execution_count": 99,
   "metadata": {
    "ExecuteTime": {
     "end_time": "2022-04-10T03:54:39.223318Z",
     "start_time": "2022-04-10T03:54:39.203501Z"
    }
   },
   "outputs": [
    {
     "data": {
      "text/html": [
       "<div>\n",
       "<style scoped>\n",
       "    .dataframe tbody tr th:only-of-type {\n",
       "        vertical-align: middle;\n",
       "    }\n",
       "\n",
       "    .dataframe tbody tr th {\n",
       "        vertical-align: top;\n",
       "    }\n",
       "\n",
       "    .dataframe thead th {\n",
       "        text-align: right;\n",
       "    }\n",
       "</style>\n",
       "<table border=\"1\" class=\"dataframe\">\n",
       "  <thead>\n",
       "    <tr style=\"text-align: right;\">\n",
       "      <th></th>\n",
       "      <th>a</th>\n",
       "      <th>b</th>\n",
       "      <th>c</th>\n",
       "      <th>d</th>\n",
       "      <th>e</th>\n",
       "    </tr>\n",
       "  </thead>\n",
       "  <tbody>\n",
       "    <tr>\n",
       "      <th>0</th>\n",
       "      <td>9</td>\n",
       "      <td>5</td>\n",
       "      <td>2</td>\n",
       "      <td>7</td>\n",
       "      <td>7</td>\n",
       "    </tr>\n",
       "    <tr>\n",
       "      <th>1</th>\n",
       "      <td>5</td>\n",
       "      <td>6</td>\n",
       "      <td>9</td>\n",
       "      <td>8</td>\n",
       "      <td>7</td>\n",
       "    </tr>\n",
       "    <tr>\n",
       "      <th>2</th>\n",
       "      <td>3</td>\n",
       "      <td>4</td>\n",
       "      <td>1</td>\n",
       "      <td>3</td>\n",
       "      <td>1</td>\n",
       "    </tr>\n",
       "    <tr>\n",
       "      <th>3</th>\n",
       "      <td>6</td>\n",
       "      <td>1</td>\n",
       "      <td>4</td>\n",
       "      <td>5</td>\n",
       "      <td>4</td>\n",
       "    </tr>\n",
       "    <tr>\n",
       "      <th>4</th>\n",
       "      <td>5</td>\n",
       "      <td>1</td>\n",
       "      <td>2</td>\n",
       "      <td>3</td>\n",
       "      <td>3</td>\n",
       "    </tr>\n",
       "    <tr>\n",
       "      <th>5</th>\n",
       "      <td>5</td>\n",
       "      <td>7</td>\n",
       "      <td>3</td>\n",
       "      <td>4</td>\n",
       "      <td>1</td>\n",
       "    </tr>\n",
       "    <tr>\n",
       "      <th>6</th>\n",
       "      <td>2</td>\n",
       "      <td>0</td>\n",
       "      <td>9</td>\n",
       "      <td>2</td>\n",
       "      <td>0</td>\n",
       "    </tr>\n",
       "    <tr>\n",
       "      <th>7</th>\n",
       "      <td>0</td>\n",
       "      <td>9</td>\n",
       "      <td>6</td>\n",
       "      <td>2</td>\n",
       "      <td>5</td>\n",
       "    </tr>\n",
       "    <tr>\n",
       "      <th>8</th>\n",
       "      <td>5</td>\n",
       "      <td>2</td>\n",
       "      <td>1</td>\n",
       "      <td>0</td>\n",
       "      <td>7</td>\n",
       "    </tr>\n",
       "    <tr>\n",
       "      <th>9</th>\n",
       "      <td>9</td>\n",
       "      <td>0</td>\n",
       "      <td>7</td>\n",
       "      <td>1</td>\n",
       "      <td>1</td>\n",
       "    </tr>\n",
       "  </tbody>\n",
       "</table>\n",
       "</div>"
      ],
      "text/plain": [
       "   a  b  c  d  e\n",
       "0  9  5  2  7  7\n",
       "1  5  6  9  8  7\n",
       "2  3  4  1  3  1\n",
       "3  6  1  4  5  4\n",
       "4  5  1  2  3  3\n",
       "5  5  7  3  4  1\n",
       "6  2  0  9  2  0\n",
       "7  0  9  6  2  5\n",
       "8  5  2  1  0  7\n",
       "9  9  0  7  1  1"
      ]
     },
     "execution_count": 99,
     "metadata": {},
     "output_type": "execute_result"
    }
   ],
   "source": [
    "#\n",
    "valores = [[rnd.randrange(10) for i in range(qtd_cols)] for j in range(n)]\n",
    "\n",
    "#\n",
    "df = pd.DataFrame(data = valores, columns = colunas)\n",
    "\n",
    "#\n",
    "df"
   ]
  },
  {
   "cell_type": "code",
   "execution_count": 100,
   "metadata": {
    "ExecuteTime": {
     "end_time": "2022-04-10T03:55:30.391962Z",
     "start_time": "2022-04-10T03:55:30.372244Z"
    }
   },
   "outputs": [
    {
     "data": {
      "text/html": [
       "<div>\n",
       "<style scoped>\n",
       "    .dataframe tbody tr th:only-of-type {\n",
       "        vertical-align: middle;\n",
       "    }\n",
       "\n",
       "    .dataframe tbody tr th {\n",
       "        vertical-align: top;\n",
       "    }\n",
       "\n",
       "    .dataframe thead th {\n",
       "        text-align: right;\n",
       "    }\n",
       "</style>\n",
       "<table border=\"1\" class=\"dataframe\">\n",
       "  <thead>\n",
       "    <tr style=\"text-align: right;\">\n",
       "      <th></th>\n",
       "      <th>a</th>\n",
       "      <th>b</th>\n",
       "      <th>c</th>\n",
       "      <th>d</th>\n",
       "      <th>e</th>\n",
       "    </tr>\n",
       "  </thead>\n",
       "  <tbody>\n",
       "    <tr>\n",
       "      <th>0</th>\n",
       "      <td>70</td>\n",
       "      <td>28</td>\n",
       "      <td>40</td>\n",
       "      <td>60</td>\n",
       "      <td>74</td>\n",
       "    </tr>\n",
       "    <tr>\n",
       "      <th>1</th>\n",
       "      <td>88</td>\n",
       "      <td>2</td>\n",
       "      <td>96</td>\n",
       "      <td>74</td>\n",
       "      <td>18</td>\n",
       "    </tr>\n",
       "    <tr>\n",
       "      <th>2</th>\n",
       "      <td>82</td>\n",
       "      <td>84</td>\n",
       "      <td>46</td>\n",
       "      <td>42</td>\n",
       "      <td>16</td>\n",
       "    </tr>\n",
       "    <tr>\n",
       "      <th>3</th>\n",
       "      <td>20</td>\n",
       "      <td>90</td>\n",
       "      <td>18</td>\n",
       "      <td>64</td>\n",
       "      <td>70</td>\n",
       "    </tr>\n",
       "    <tr>\n",
       "      <th>4</th>\n",
       "      <td>14</td>\n",
       "      <td>36</td>\n",
       "      <td>0</td>\n",
       "      <td>98</td>\n",
       "      <td>10</td>\n",
       "    </tr>\n",
       "    <tr>\n",
       "      <th>5</th>\n",
       "      <td>74</td>\n",
       "      <td>64</td>\n",
       "      <td>90</td>\n",
       "      <td>62</td>\n",
       "      <td>62</td>\n",
       "    </tr>\n",
       "    <tr>\n",
       "      <th>6</th>\n",
       "      <td>98</td>\n",
       "      <td>14</td>\n",
       "      <td>20</td>\n",
       "      <td>52</td>\n",
       "      <td>52</td>\n",
       "    </tr>\n",
       "    <tr>\n",
       "      <th>7</th>\n",
       "      <td>94</td>\n",
       "      <td>26</td>\n",
       "      <td>38</td>\n",
       "      <td>14</td>\n",
       "      <td>78</td>\n",
       "    </tr>\n",
       "    <tr>\n",
       "      <th>8</th>\n",
       "      <td>94</td>\n",
       "      <td>4</td>\n",
       "      <td>44</td>\n",
       "      <td>66</td>\n",
       "      <td>34</td>\n",
       "    </tr>\n",
       "    <tr>\n",
       "      <th>9</th>\n",
       "      <td>78</td>\n",
       "      <td>90</td>\n",
       "      <td>74</td>\n",
       "      <td>28</td>\n",
       "      <td>54</td>\n",
       "    </tr>\n",
       "  </tbody>\n",
       "</table>\n",
       "</div>"
      ],
      "text/plain": [
       "    a   b   c   d   e\n",
       "0  70  28  40  60  74\n",
       "1  88   2  96  74  18\n",
       "2  82  84  46  42  16\n",
       "3  20  90  18  64  70\n",
       "4  14  36   0  98  10\n",
       "5  74  64  90  62  62\n",
       "6  98  14  20  52  52\n",
       "7  94  26  38  14  78\n",
       "8  94   4  44  66  34\n",
       "9  78  90  74  28  54"
      ]
     },
     "execution_count": 100,
     "metadata": {},
     "output_type": "execute_result"
    }
   ],
   "source": [
    "#\n",
    "valores = [[rnd.randrange(0,100,2) for i in range(qtd_cols)] for j in range(n)]\n",
    "\n",
    "#\n",
    "df = pd.DataFrame(data = valores, columns = colunas)\n",
    "\n",
    "#\n",
    "df"
   ]
  },
  {
   "cell_type": "code",
   "execution_count": 103,
   "metadata": {
    "ExecuteTime": {
     "end_time": "2022-04-10T03:57:15.304627Z",
     "start_time": "2022-04-10T03:57:15.291662Z"
    }
   },
   "outputs": [
    {
     "data": {
      "text/html": [
       "<div>\n",
       "<style scoped>\n",
       "    .dataframe tbody tr th:only-of-type {\n",
       "        vertical-align: middle;\n",
       "    }\n",
       "\n",
       "    .dataframe tbody tr th {\n",
       "        vertical-align: top;\n",
       "    }\n",
       "\n",
       "    .dataframe thead th {\n",
       "        text-align: right;\n",
       "    }\n",
       "</style>\n",
       "<table border=\"1\" class=\"dataframe\">\n",
       "  <thead>\n",
       "    <tr style=\"text-align: right;\">\n",
       "      <th></th>\n",
       "      <th>a</th>\n",
       "      <th>b</th>\n",
       "      <th>c</th>\n",
       "      <th>d</th>\n",
       "      <th>e</th>\n",
       "    </tr>\n",
       "  </thead>\n",
       "  <tbody>\n",
       "    <tr>\n",
       "      <th>0</th>\n",
       "      <td>59</td>\n",
       "      <td>65</td>\n",
       "      <td>91</td>\n",
       "      <td>85</td>\n",
       "      <td>69</td>\n",
       "    </tr>\n",
       "    <tr>\n",
       "      <th>1</th>\n",
       "      <td>53</td>\n",
       "      <td>27</td>\n",
       "      <td>65</td>\n",
       "      <td>43</td>\n",
       "      <td>89</td>\n",
       "    </tr>\n",
       "    <tr>\n",
       "      <th>2</th>\n",
       "      <td>53</td>\n",
       "      <td>7</td>\n",
       "      <td>57</td>\n",
       "      <td>31</td>\n",
       "      <td>33</td>\n",
       "    </tr>\n",
       "    <tr>\n",
       "      <th>3</th>\n",
       "      <td>93</td>\n",
       "      <td>43</td>\n",
       "      <td>17</td>\n",
       "      <td>23</td>\n",
       "      <td>51</td>\n",
       "    </tr>\n",
       "    <tr>\n",
       "      <th>4</th>\n",
       "      <td>75</td>\n",
       "      <td>21</td>\n",
       "      <td>85</td>\n",
       "      <td>71</td>\n",
       "      <td>49</td>\n",
       "    </tr>\n",
       "    <tr>\n",
       "      <th>5</th>\n",
       "      <td>19</td>\n",
       "      <td>1</td>\n",
       "      <td>95</td>\n",
       "      <td>93</td>\n",
       "      <td>53</td>\n",
       "    </tr>\n",
       "    <tr>\n",
       "      <th>6</th>\n",
       "      <td>85</td>\n",
       "      <td>79</td>\n",
       "      <td>79</td>\n",
       "      <td>37</td>\n",
       "      <td>79</td>\n",
       "    </tr>\n",
       "    <tr>\n",
       "      <th>7</th>\n",
       "      <td>53</td>\n",
       "      <td>83</td>\n",
       "      <td>81</td>\n",
       "      <td>55</td>\n",
       "      <td>87</td>\n",
       "    </tr>\n",
       "    <tr>\n",
       "      <th>8</th>\n",
       "      <td>35</td>\n",
       "      <td>83</td>\n",
       "      <td>27</td>\n",
       "      <td>99</td>\n",
       "      <td>93</td>\n",
       "    </tr>\n",
       "    <tr>\n",
       "      <th>9</th>\n",
       "      <td>23</td>\n",
       "      <td>3</td>\n",
       "      <td>89</td>\n",
       "      <td>3</td>\n",
       "      <td>17</td>\n",
       "    </tr>\n",
       "  </tbody>\n",
       "</table>\n",
       "</div>"
      ],
      "text/plain": [
       "    a   b   c   d   e\n",
       "0  59  65  91  85  69\n",
       "1  53  27  65  43  89\n",
       "2  53   7  57  31  33\n",
       "3  93  43  17  23  51\n",
       "4  75  21  85  71  49\n",
       "5  19   1  95  93  53\n",
       "6  85  79  79  37  79\n",
       "7  53  83  81  55  87\n",
       "8  35  83  27  99  93\n",
       "9  23   3  89   3  17"
      ]
     },
     "execution_count": 103,
     "metadata": {},
     "output_type": "execute_result"
    }
   ],
   "source": [
    "#\n",
    "valores = [[rnd.randrange(1,100,2) for i in range(qtd_cols)] for j in range(n)]\n",
    "\n",
    "#\n",
    "df = pd.DataFrame(data = valores, columns = colunas)\n",
    "\n",
    "#\n",
    "df"
   ]
  },
  {
   "cell_type": "code",
   "execution_count": 105,
   "metadata": {
    "ExecuteTime": {
     "end_time": "2022-04-10T03:58:38.322322Z",
     "start_time": "2022-04-10T03:58:38.302370Z"
    }
   },
   "outputs": [
    {
     "data": {
      "text/html": [
       "<div>\n",
       "<style scoped>\n",
       "    .dataframe tbody tr th:only-of-type {\n",
       "        vertical-align: middle;\n",
       "    }\n",
       "\n",
       "    .dataframe tbody tr th {\n",
       "        vertical-align: top;\n",
       "    }\n",
       "\n",
       "    .dataframe thead th {\n",
       "        text-align: right;\n",
       "    }\n",
       "</style>\n",
       "<table border=\"1\" class=\"dataframe\">\n",
       "  <thead>\n",
       "    <tr style=\"text-align: right;\">\n",
       "      <th></th>\n",
       "      <th>a</th>\n",
       "      <th>b</th>\n",
       "      <th>c</th>\n",
       "      <th>d</th>\n",
       "      <th>e</th>\n",
       "    </tr>\n",
       "  </thead>\n",
       "  <tbody>\n",
       "    <tr>\n",
       "      <th>0</th>\n",
       "      <td>?</td>\n",
       "      <td>M</td>\n",
       "      <td>?</td>\n",
       "      <td>F</td>\n",
       "      <td>M</td>\n",
       "    </tr>\n",
       "    <tr>\n",
       "      <th>1</th>\n",
       "      <td>M</td>\n",
       "      <td>?</td>\n",
       "      <td>?</td>\n",
       "      <td>?</td>\n",
       "      <td>F</td>\n",
       "    </tr>\n",
       "    <tr>\n",
       "      <th>2</th>\n",
       "      <td>M</td>\n",
       "      <td>F</td>\n",
       "      <td>?</td>\n",
       "      <td>M</td>\n",
       "      <td>M</td>\n",
       "    </tr>\n",
       "    <tr>\n",
       "      <th>3</th>\n",
       "      <td>?</td>\n",
       "      <td>F</td>\n",
       "      <td>M</td>\n",
       "      <td>M</td>\n",
       "      <td>?</td>\n",
       "    </tr>\n",
       "    <tr>\n",
       "      <th>4</th>\n",
       "      <td>M</td>\n",
       "      <td>F</td>\n",
       "      <td>F</td>\n",
       "      <td>M</td>\n",
       "      <td>F</td>\n",
       "    </tr>\n",
       "    <tr>\n",
       "      <th>5</th>\n",
       "      <td>?</td>\n",
       "      <td>?</td>\n",
       "      <td>?</td>\n",
       "      <td>?</td>\n",
       "      <td>M</td>\n",
       "    </tr>\n",
       "    <tr>\n",
       "      <th>6</th>\n",
       "      <td>?</td>\n",
       "      <td>M</td>\n",
       "      <td>F</td>\n",
       "      <td>M</td>\n",
       "      <td>F</td>\n",
       "    </tr>\n",
       "    <tr>\n",
       "      <th>7</th>\n",
       "      <td>M</td>\n",
       "      <td>F</td>\n",
       "      <td>M</td>\n",
       "      <td>M</td>\n",
       "      <td>?</td>\n",
       "    </tr>\n",
       "    <tr>\n",
       "      <th>8</th>\n",
       "      <td>F</td>\n",
       "      <td>M</td>\n",
       "      <td>M</td>\n",
       "      <td>M</td>\n",
       "      <td>F</td>\n",
       "    </tr>\n",
       "    <tr>\n",
       "      <th>9</th>\n",
       "      <td>F</td>\n",
       "      <td>M</td>\n",
       "      <td>?</td>\n",
       "      <td>?</td>\n",
       "      <td>M</td>\n",
       "    </tr>\n",
       "  </tbody>\n",
       "</table>\n",
       "</div>"
      ],
      "text/plain": [
       "   a  b  c  d  e\n",
       "0  ?  M  ?  F  M\n",
       "1  M  ?  ?  ?  F\n",
       "2  M  F  ?  M  M\n",
       "3  ?  F  M  M  ?\n",
       "4  M  F  F  M  F\n",
       "5  ?  ?  ?  ?  M\n",
       "6  ?  M  F  M  F\n",
       "7  M  F  M  M  ?\n",
       "8  F  M  M  M  F\n",
       "9  F  M  ?  ?  M"
      ]
     },
     "execution_count": 105,
     "metadata": {},
     "output_type": "execute_result"
    }
   ],
   "source": [
    "lista = ['M','F','?']\n",
    "\n",
    "#\n",
    "valores = [[rnd.choice(lista) for i in range(qtd_cols)] for j in range(n)]\n",
    "\n",
    "#\n",
    "df = pd.DataFrame(data = valores, columns = colunas)\n",
    "\n",
    "#\n",
    "df"
   ]
  },
  {
   "cell_type": "code",
   "execution_count": 106,
   "metadata": {
    "ExecuteTime": {
     "end_time": "2022-04-10T03:59:23.224711Z",
     "start_time": "2022-04-10T03:59:23.195906Z"
    }
   },
   "outputs": [
    {
     "data": {
      "text/html": [
       "<div>\n",
       "<style scoped>\n",
       "    .dataframe tbody tr th:only-of-type {\n",
       "        vertical-align: middle;\n",
       "    }\n",
       "\n",
       "    .dataframe tbody tr th {\n",
       "        vertical-align: top;\n",
       "    }\n",
       "\n",
       "    .dataframe thead th {\n",
       "        text-align: right;\n",
       "    }\n",
       "</style>\n",
       "<table border=\"1\" class=\"dataframe\">\n",
       "  <thead>\n",
       "    <tr style=\"text-align: right;\">\n",
       "      <th></th>\n",
       "      <th>a</th>\n",
       "      <th>b</th>\n",
       "      <th>c</th>\n",
       "      <th>d</th>\n",
       "      <th>e</th>\n",
       "    </tr>\n",
       "  </thead>\n",
       "  <tbody>\n",
       "    <tr>\n",
       "      <th>0</th>\n",
       "      <td>2.660181</td>\n",
       "      <td>9.436722</td>\n",
       "      <td>9.061429</td>\n",
       "      <td>7.296805</td>\n",
       "      <td>3.955107</td>\n",
       "    </tr>\n",
       "    <tr>\n",
       "      <th>1</th>\n",
       "      <td>6.370762</td>\n",
       "      <td>8.654086</td>\n",
       "      <td>4.707545</td>\n",
       "      <td>4.984431</td>\n",
       "      <td>5.453521</td>\n",
       "    </tr>\n",
       "    <tr>\n",
       "      <th>2</th>\n",
       "      <td>8.876630</td>\n",
       "      <td>5.205876</td>\n",
       "      <td>4.936471</td>\n",
       "      <td>3.761063</td>\n",
       "      <td>3.447359</td>\n",
       "    </tr>\n",
       "    <tr>\n",
       "      <th>3</th>\n",
       "      <td>9.059885</td>\n",
       "      <td>3.767109</td>\n",
       "      <td>3.395472</td>\n",
       "      <td>9.451692</td>\n",
       "      <td>9.761096</td>\n",
       "    </tr>\n",
       "    <tr>\n",
       "      <th>4</th>\n",
       "      <td>3.941083</td>\n",
       "      <td>5.505370</td>\n",
       "      <td>4.984412</td>\n",
       "      <td>5.800436</td>\n",
       "      <td>6.570672</td>\n",
       "    </tr>\n",
       "    <tr>\n",
       "      <th>5</th>\n",
       "      <td>7.514137</td>\n",
       "      <td>7.487610</td>\n",
       "      <td>3.911789</td>\n",
       "      <td>7.573013</td>\n",
       "      <td>5.675249</td>\n",
       "    </tr>\n",
       "    <tr>\n",
       "      <th>6</th>\n",
       "      <td>3.939897</td>\n",
       "      <td>9.797134</td>\n",
       "      <td>9.076284</td>\n",
       "      <td>6.628986</td>\n",
       "      <td>7.405282</td>\n",
       "    </tr>\n",
       "    <tr>\n",
       "      <th>7</th>\n",
       "      <td>8.021292</td>\n",
       "      <td>3.177935</td>\n",
       "      <td>6.520465</td>\n",
       "      <td>5.781174</td>\n",
       "      <td>8.433707</td>\n",
       "    </tr>\n",
       "    <tr>\n",
       "      <th>8</th>\n",
       "      <td>4.005727</td>\n",
       "      <td>4.942205</td>\n",
       "      <td>4.854677</td>\n",
       "      <td>8.696187</td>\n",
       "      <td>8.305125</td>\n",
       "    </tr>\n",
       "    <tr>\n",
       "      <th>9</th>\n",
       "      <td>8.754704</td>\n",
       "      <td>6.790636</td>\n",
       "      <td>2.941301</td>\n",
       "      <td>6.907376</td>\n",
       "      <td>6.053579</td>\n",
       "    </tr>\n",
       "  </tbody>\n",
       "</table>\n",
       "</div>"
      ],
      "text/plain": [
       "          a         b         c         d         e\n",
       "0  2.660181  9.436722  9.061429  7.296805  3.955107\n",
       "1  6.370762  8.654086  4.707545  4.984431  5.453521\n",
       "2  8.876630  5.205876  4.936471  3.761063  3.447359\n",
       "3  9.059885  3.767109  3.395472  9.451692  9.761096\n",
       "4  3.941083  5.505370  4.984412  5.800436  6.570672\n",
       "5  7.514137  7.487610  3.911789  7.573013  5.675249\n",
       "6  3.939897  9.797134  9.076284  6.628986  7.405282\n",
       "7  8.021292  3.177935  6.520465  5.781174  8.433707\n",
       "8  4.005727  4.942205  4.854677  8.696187  8.305125\n",
       "9  8.754704  6.790636  2.941301  6.907376  6.053579"
      ]
     },
     "execution_count": 106,
     "metadata": {},
     "output_type": "execute_result"
    }
   ],
   "source": [
    "#\n",
    "valores = [[rnd.uniform(2.5, 10.0) for i in range(qtd_cols)] for j in range(n)]\n",
    "\n",
    "#\n",
    "df = pd.DataFrame(data = valores, columns = colunas)\n",
    "\n",
    "#\n",
    "df"
   ]
  },
  {
   "cell_type": "code",
   "execution_count": 193,
   "metadata": {
    "ExecuteTime": {
     "end_time": "2022-04-10T05:19:57.582148Z",
     "start_time": "2022-04-10T05:19:57.562202Z"
    }
   },
   "outputs": [
    {
     "data": {
      "text/html": [
       "<div>\n",
       "<style scoped>\n",
       "    .dataframe tbody tr th:only-of-type {\n",
       "        vertical-align: middle;\n",
       "    }\n",
       "\n",
       "    .dataframe tbody tr th {\n",
       "        vertical-align: top;\n",
       "    }\n",
       "\n",
       "    .dataframe thead th {\n",
       "        text-align: right;\n",
       "    }\n",
       "</style>\n",
       "<table border=\"1\" class=\"dataframe\">\n",
       "  <thead>\n",
       "    <tr style=\"text-align: right;\">\n",
       "      <th></th>\n",
       "      <th>a</th>\n",
       "      <th>b</th>\n",
       "      <th>c</th>\n",
       "    </tr>\n",
       "  </thead>\n",
       "  <tbody>\n",
       "    <tr>\n",
       "      <th>0</th>\n",
       "      <td>0.608052</td>\n",
       "      <td>0.803802</td>\n",
       "      <td>0.811528</td>\n",
       "    </tr>\n",
       "    <tr>\n",
       "      <th>1</th>\n",
       "      <td>0.335656</td>\n",
       "      <td>0.619446</td>\n",
       "      <td>0.879622</td>\n",
       "    </tr>\n",
       "    <tr>\n",
       "      <th>2</th>\n",
       "      <td>0.021672</td>\n",
       "      <td>0.294737</td>\n",
       "      <td>0.905177</td>\n",
       "    </tr>\n",
       "    <tr>\n",
       "      <th>3</th>\n",
       "      <td>0.553473</td>\n",
       "      <td>0.052339</td>\n",
       "      <td>0.937720</td>\n",
       "    </tr>\n",
       "    <tr>\n",
       "      <th>4</th>\n",
       "      <td>0.613235</td>\n",
       "      <td>0.263342</td>\n",
       "      <td>0.046770</td>\n",
       "    </tr>\n",
       "    <tr>\n",
       "      <th>...</th>\n",
       "      <td>...</td>\n",
       "      <td>...</td>\n",
       "      <td>...</td>\n",
       "    </tr>\n",
       "    <tr>\n",
       "      <th>95</th>\n",
       "      <td>0.298478</td>\n",
       "      <td>0.331581</td>\n",
       "      <td>0.214239</td>\n",
       "    </tr>\n",
       "    <tr>\n",
       "      <th>96</th>\n",
       "      <td>0.565765</td>\n",
       "      <td>0.125825</td>\n",
       "      <td>0.636423</td>\n",
       "    </tr>\n",
       "    <tr>\n",
       "      <th>97</th>\n",
       "      <td>0.325405</td>\n",
       "      <td>0.289795</td>\n",
       "      <td>0.332985</td>\n",
       "    </tr>\n",
       "    <tr>\n",
       "      <th>98</th>\n",
       "      <td>0.482400</td>\n",
       "      <td>0.728728</td>\n",
       "      <td>0.438815</td>\n",
       "    </tr>\n",
       "    <tr>\n",
       "      <th>99</th>\n",
       "      <td>0.740233</td>\n",
       "      <td>0.135972</td>\n",
       "      <td>0.044636</td>\n",
       "    </tr>\n",
       "  </tbody>\n",
       "</table>\n",
       "<p>100 rows × 3 columns</p>\n",
       "</div>"
      ],
      "text/plain": [
       "           a         b         c\n",
       "0   0.608052  0.803802  0.811528\n",
       "1   0.335656  0.619446  0.879622\n",
       "2   0.021672  0.294737  0.905177\n",
       "3   0.553473  0.052339  0.937720\n",
       "4   0.613235  0.263342  0.046770\n",
       "..       ...       ...       ...\n",
       "95  0.298478  0.331581  0.214239\n",
       "96  0.565765  0.125825  0.636423\n",
       "97  0.325405  0.289795  0.332985\n",
       "98  0.482400  0.728728  0.438815\n",
       "99  0.740233  0.135972  0.044636\n",
       "\n",
       "[100 rows x 3 columns]"
      ]
     },
     "execution_count": 193,
     "metadata": {},
     "output_type": "execute_result"
    }
   ],
   "source": [
    "#\n",
    "n = 100\n",
    "\n",
    "#\n",
    "colunas = [i for i in 'abc']\n",
    "\n",
    "qtd_cols = len(colunas)\n",
    "\n",
    "lista_nome = []\n",
    "\n",
    "#\n",
    "for i in range(qtd_cols):\n",
    "    globals()[f'val{i}'] = np.array([rnd.random() for j in range(n)])\n",
    "    lista_nome.append(f'val{i}')\n",
    "\n",
    "#\n",
    "df = pd.DataFrame(data = list(zip(val1,val2,val3)), columns = colunas)\n",
    "\n",
    "#\n",
    "df"
   ]
  },
  {
   "cell_type": "markdown",
   "metadata": {},
   "source": [
    "# Desafio"
   ]
  },
  {
   "cell_type": "markdown",
   "metadata": {},
   "source": [
    "## Resposta esperada"
   ]
  },
  {
   "cell_type": "code",
   "execution_count": 114,
   "metadata": {
    "ExecuteTime": {
     "end_time": "2022-04-10T04:04:48.884521Z",
     "start_time": "2022-04-10T04:04:48.873586Z"
    }
   },
   "outputs": [],
   "source": [
    "def cria_df(k,n):\n",
    "    \n",
    "    # inicializa um dataframe\n",
    "    df = pd.DataFrame()\n",
    "       \n",
    "    # inicializa uma lista com os nomes das colunas do dataframe\n",
    "    x = []\n",
    "    \n",
    "    # inicializa uma lista com os valores guardados das médias das colunas do dataframe\n",
    "    mu_x = []\n",
    "    \n",
    "    # inicializa uma lista com os valores de desvios padrões das colunas do dataframe\n",
    "    sd_x = []\n",
    "    \n",
    "    # inicializa uma lista com os nomes das variáveis que guardam os valores das médias\n",
    "    nome_mu = []\n",
    "    \n",
    "    # inicializa uma lista com os nomes das variáveis que guardam os valores dos desvios padrões\n",
    "    nome_sd = []\n",
    "    \n",
    "    # script que cria todas as listas inicializadas\n",
    "    for i in range(3):\n",
    "        \n",
    "        # cria a lista de colunas do dataframe\n",
    "        x.append(str('x_' + str(i+1)))\n",
    "        \n",
    "        # pede o input dos valores das médias para a distribuição de cada coluna do dataframe\n",
    "        globals()[f'mu_x{i+1}'] = int(input(f'valor da media {i+1}: '))\n",
    "        \n",
    "        # pede o input dos valores dos desvios para a distribuição de cada coluna do dataframe\n",
    "        globals()[f'sd_x{i+1}'] = int(input(f'valor do desvio {i+1}: '))\n",
    "        \n",
    "        # cria a lista com valores das médias para cada coluna do dataframe\n",
    "        nome_mu.append(globals()[f'mu_x{i+1}']) \n",
    "        \n",
    "        # cria a lista com valores dos desvios para cada coluna do dataframe\n",
    "        nome_sd.append(globals()[f'sd_x{i+1}'])\n",
    "        \n",
    "        # cria a lista com variáveis dos valores médios\n",
    "        mu_x.append(globals()[f'mu_x{i+1}'])\n",
    "        \n",
    "        # cria a lista com variáveis dos valores de desvios\n",
    "        sd_x.append(globals()[f'sd_x{i+1}'])\n",
    "        \n",
    "        # gera as colunas do dataframe com distribuições normais dadas pelas médias e desvios inputadas\n",
    "        globals()[f'v{i}'] = np.round(np.random.normal(mu_x[i], sd_x[i], n), decimals = 0).astype(int)\n",
    "        \n",
    "        # cria o dataframe\n",
    "        df[str('x_' + str(i+1))] = globals()[f'v{i}']\n",
    "    \n",
    "    # return das principais variáveis/objetos do script\n",
    "    return df, x, mu_x, sd_x, nome_mu, nome_sd"
   ]
  },
  {
   "cell_type": "markdown",
   "metadata": {},
   "source": [
    "## Execução da função e criação dos objetos"
   ]
  },
  {
   "cell_type": "code",
   "execution_count": 116,
   "metadata": {
    "ExecuteTime": {
     "end_time": "2022-04-10T04:05:14.825413Z",
     "start_time": "2022-04-10T04:05:09.467536Z"
    }
   },
   "outputs": [
    {
     "name": "stdout",
     "output_type": "stream",
     "text": [
      "valor da media 1: 100\n",
      "valor do desvio 1: 10\n",
      "valor da media 2: 200\n",
      "valor do desvio 2: 20\n",
      "valor da media 3: 300\n",
      "valor do desvio 3: 30\n"
     ]
    }
   ],
   "source": [
    "df, x, mu_x, sd_x, nome_mu, nome_sd = cria_df(k = 3, n = 100)"
   ]
  },
  {
   "cell_type": "markdown",
   "metadata": {},
   "source": [
    "## Cara do dataframe"
   ]
  },
  {
   "cell_type": "code",
   "execution_count": 119,
   "metadata": {
    "ExecuteTime": {
     "end_time": "2022-04-10T04:05:34.658053Z",
     "start_time": "2022-04-10T04:05:34.642391Z"
    }
   },
   "outputs": [
    {
     "data": {
      "text/html": [
       "<div>\n",
       "<style scoped>\n",
       "    .dataframe tbody tr th:only-of-type {\n",
       "        vertical-align: middle;\n",
       "    }\n",
       "\n",
       "    .dataframe tbody tr th {\n",
       "        vertical-align: top;\n",
       "    }\n",
       "\n",
       "    .dataframe thead th {\n",
       "        text-align: right;\n",
       "    }\n",
       "</style>\n",
       "<table border=\"1\" class=\"dataframe\">\n",
       "  <thead>\n",
       "    <tr style=\"text-align: right;\">\n",
       "      <th></th>\n",
       "      <th>x_1</th>\n",
       "      <th>x_2</th>\n",
       "      <th>x_3</th>\n",
       "    </tr>\n",
       "  </thead>\n",
       "  <tbody>\n",
       "    <tr>\n",
       "      <th>0</th>\n",
       "      <td>111</td>\n",
       "      <td>186</td>\n",
       "      <td>356</td>\n",
       "    </tr>\n",
       "    <tr>\n",
       "      <th>1</th>\n",
       "      <td>110</td>\n",
       "      <td>176</td>\n",
       "      <td>330</td>\n",
       "    </tr>\n",
       "    <tr>\n",
       "      <th>2</th>\n",
       "      <td>116</td>\n",
       "      <td>202</td>\n",
       "      <td>323</td>\n",
       "    </tr>\n",
       "  </tbody>\n",
       "</table>\n",
       "</div>"
      ],
      "text/plain": [
       "   x_1  x_2  x_3\n",
       "0  111  186  356\n",
       "1  110  176  330\n",
       "2  116  202  323"
      ]
     },
     "execution_count": 119,
     "metadata": {},
     "output_type": "execute_result"
    }
   ],
   "source": [
    "df.head(3)"
   ]
  },
  {
   "cell_type": "markdown",
   "metadata": {},
   "source": [
    "## Lista com valores guardados dos nomes das colunas"
   ]
  },
  {
   "cell_type": "code",
   "execution_count": 118,
   "metadata": {
    "ExecuteTime": {
     "end_time": "2022-04-10T04:05:28.651486Z",
     "start_time": "2022-04-10T04:05:28.634532Z"
    }
   },
   "outputs": [
    {
     "data": {
      "text/plain": [
       "['x_1', 'x_2', 'x_3']"
      ]
     },
     "execution_count": 118,
     "metadata": {},
     "output_type": "execute_result"
    }
   ],
   "source": [
    "x"
   ]
  },
  {
   "cell_type": "markdown",
   "metadata": {},
   "source": [
    "## Lista que guarda os valores das médias de cada coluna do dataframe"
   ]
  },
  {
   "cell_type": "code",
   "execution_count": 120,
   "metadata": {
    "ExecuteTime": {
     "end_time": "2022-04-10T04:05:44.302370Z",
     "start_time": "2022-04-10T04:05:44.289374Z"
    }
   },
   "outputs": [
    {
     "data": {
      "text/plain": [
       "[100, 200, 300]"
      ]
     },
     "execution_count": 120,
     "metadata": {},
     "output_type": "execute_result"
    }
   ],
   "source": [
    "mu_x"
   ]
  },
  {
   "cell_type": "markdown",
   "metadata": {},
   "source": [
    "## Lista que guarda os valores dos desvios de cada coluna do dataframe"
   ]
  },
  {
   "cell_type": "code",
   "execution_count": 121,
   "metadata": {
    "ExecuteTime": {
     "end_time": "2022-04-10T04:05:49.869862Z",
     "start_time": "2022-04-10T04:05:49.850953Z"
    }
   },
   "outputs": [
    {
     "data": {
      "text/plain": [
       "[10, 20, 30]"
      ]
     },
     "execution_count": 121,
     "metadata": {},
     "output_type": "execute_result"
    }
   ],
   "source": [
    "sd_x"
   ]
  },
  {
   "cell_type": "markdown",
   "metadata": {},
   "source": [
    "## Lista que guarda as variáveis de média de cada coluna do dataframe"
   ]
  },
  {
   "cell_type": "code",
   "execution_count": 122,
   "metadata": {
    "ExecuteTime": {
     "end_time": "2022-04-10T04:05:54.737052Z",
     "start_time": "2022-04-10T04:05:54.732081Z"
    }
   },
   "outputs": [
    {
     "data": {
      "text/plain": [
       "[100, 200, 300]"
      ]
     },
     "execution_count": 122,
     "metadata": {},
     "output_type": "execute_result"
    }
   ],
   "source": [
    "nome_mu"
   ]
  },
  {
   "cell_type": "markdown",
   "metadata": {},
   "source": [
    "## Lista que guarda as variáveis de desvio de cada coluna do dataframe"
   ]
  },
  {
   "cell_type": "code",
   "execution_count": 123,
   "metadata": {
    "ExecuteTime": {
     "end_time": "2022-04-10T04:06:00.204389Z",
     "start_time": "2022-04-10T04:06:00.194417Z"
    }
   },
   "outputs": [
    {
     "data": {
      "text/plain": [
       "[10, 20, 30]"
      ]
     },
     "execution_count": 123,
     "metadata": {},
     "output_type": "execute_result"
    }
   ],
   "source": [
    "nome_sd"
   ]
  },
  {
   "cell_type": "markdown",
   "metadata": {},
   "source": [
    "# Resposta Vencedora #1\n",
    "\n",
    "* **Autor**: Eduardo Salis\n",
    "* **Github**: https://github.com/rafaelktakahashi\n",
    "* **Referência**: [Stackoverflow - Create an array with a pre determined mean and standard deviation](https://stackoverflow.com/questions/50177594/create-an-array-with-a-pre-determined-mean-and-standard-deviation)"
   ]
  },
  {
   "cell_type": "code",
   "execution_count": 202,
   "metadata": {
    "ExecuteTime": {
     "end_time": "2022-04-10T14:10:30.583251Z",
     "start_time": "2022-04-10T14:10:30.562309Z"
    }
   },
   "outputs": [
    {
     "data": {
      "text/html": [
       "<div>\n",
       "<style scoped>\n",
       "    .dataframe tbody tr th:only-of-type {\n",
       "        vertical-align: middle;\n",
       "    }\n",
       "\n",
       "    .dataframe tbody tr th {\n",
       "        vertical-align: top;\n",
       "    }\n",
       "\n",
       "    .dataframe thead th {\n",
       "        text-align: right;\n",
       "    }\n",
       "</style>\n",
       "<table border=\"1\" class=\"dataframe\">\n",
       "  <thead>\n",
       "    <tr style=\"text-align: right;\">\n",
       "      <th></th>\n",
       "      <th>coluna_0</th>\n",
       "      <th>coluna_1</th>\n",
       "      <th>coluna_2</th>\n",
       "      <th>coluna_3</th>\n",
       "    </tr>\n",
       "  </thead>\n",
       "  <tbody>\n",
       "    <tr>\n",
       "      <th>0</th>\n",
       "      <td>0.0</td>\n",
       "      <td>0.850501</td>\n",
       "      <td>0.558760</td>\n",
       "      <td>-0.580568</td>\n",
       "    </tr>\n",
       "    <tr>\n",
       "      <th>1</th>\n",
       "      <td>0.0</td>\n",
       "      <td>1.717050</td>\n",
       "      <td>0.351573</td>\n",
       "      <td>4.899832</td>\n",
       "    </tr>\n",
       "    <tr>\n",
       "      <th>2</th>\n",
       "      <td>0.0</td>\n",
       "      <td>1.535140</td>\n",
       "      <td>4.052563</td>\n",
       "      <td>2.008660</td>\n",
       "    </tr>\n",
       "    <tr>\n",
       "      <th>3</th>\n",
       "      <td>0.0</td>\n",
       "      <td>-1.095105</td>\n",
       "      <td>1.631690</td>\n",
       "      <td>2.145503</td>\n",
       "    </tr>\n",
       "    <tr>\n",
       "      <th>4</th>\n",
       "      <td>0.0</td>\n",
       "      <td>0.875091</td>\n",
       "      <td>1.477907</td>\n",
       "      <td>2.842483</td>\n",
       "    </tr>\n",
       "    <tr>\n",
       "      <th>5</th>\n",
       "      <td>0.0</td>\n",
       "      <td>1.845890</td>\n",
       "      <td>-1.531740</td>\n",
       "      <td>3.953141</td>\n",
       "    </tr>\n",
       "    <tr>\n",
       "      <th>6</th>\n",
       "      <td>0.0</td>\n",
       "      <td>2.268889</td>\n",
       "      <td>4.683234</td>\n",
       "      <td>0.651736</td>\n",
       "    </tr>\n",
       "    <tr>\n",
       "      <th>7</th>\n",
       "      <td>0.0</td>\n",
       "      <td>-0.395129</td>\n",
       "      <td>1.561913</td>\n",
       "      <td>2.408287</td>\n",
       "    </tr>\n",
       "    <tr>\n",
       "      <th>8</th>\n",
       "      <td>0.0</td>\n",
       "      <td>1.098370</td>\n",
       "      <td>3.234296</td>\n",
       "      <td>5.142125</td>\n",
       "    </tr>\n",
       "    <tr>\n",
       "      <th>9</th>\n",
       "      <td>0.0</td>\n",
       "      <td>1.359703</td>\n",
       "      <td>4.731387</td>\n",
       "      <td>7.044202</td>\n",
       "    </tr>\n",
       "  </tbody>\n",
       "</table>\n",
       "</div>"
      ],
      "text/plain": [
       "   coluna_0  coluna_1  coluna_2  coluna_3\n",
       "0       0.0  0.850501  0.558760 -0.580568\n",
       "1       0.0  1.717050  0.351573  4.899832\n",
       "2       0.0  1.535140  4.052563  2.008660\n",
       "3       0.0 -1.095105  1.631690  2.145503\n",
       "4       0.0  0.875091  1.477907  2.842483\n",
       "5       0.0  1.845890 -1.531740  3.953141\n",
       "6       0.0  2.268889  4.683234  0.651736\n",
       "7       0.0 -0.395129  1.561913  2.408287\n",
       "8       0.0  1.098370  3.234296  5.142125\n",
       "9       0.0  1.359703  4.731387  7.044202"
      ]
     },
     "execution_count": 202,
     "metadata": {},
     "output_type": "execute_result"
    }
   ],
   "source": [
    "import numpy as np \n",
    "import pandas as pd\n",
    "\n",
    "def colunas_distrib(k,n_linhas):\n",
    "    df = pd.DataFrame()\n",
    "\n",
    "    for i in range(k+1):\n",
    "        i_str = str(i)\n",
    "        nome_coluna = f'coluna_{i_str}'\n",
    "        df[nome_coluna] = np.random.normal(loc=i, scale=i, size=n_linhas)\n",
    "\n",
    "    return df\n",
    "\n",
    "df = colunas_distrib(3,10)\n",
    "\n",
    "df"
   ]
  },
  {
   "cell_type": "markdown",
   "metadata": {},
   "source": [
    "# Resposta vencedora #2\n",
    "\n",
    "* **Autor**: Rafael Takahashi\n",
    "* **Github**: https://github.com/rafaelktakahashi"
   ]
  },
  {
   "cell_type": "code",
   "execution_count": 199,
   "metadata": {
    "ExecuteTime": {
     "end_time": "2022-04-10T14:09:40.001216Z",
     "start_time": "2022-04-10T14:09:39.964403Z"
    }
   },
   "outputs": [
    {
     "name": "stdout",
     "output_type": "stream",
     "text": [
      "100 linhas e 3 colunas\n",
      "mean and std of coluna_1 - 0.14192381767084916 1.0596799260236922\n",
      "mean and std of coluna_2 - 0.7718687456532989 1.920909052769867\n",
      "mean and std of coluna_3 - 1.8023610977454658 3.2674399833626686\n"
     ]
    },
    {
     "data": {
      "text/html": [
       "<div>\n",
       "<style scoped>\n",
       "    .dataframe tbody tr th:only-of-type {\n",
       "        vertical-align: middle;\n",
       "    }\n",
       "\n",
       "    .dataframe tbody tr th {\n",
       "        vertical-align: top;\n",
       "    }\n",
       "\n",
       "    .dataframe thead th {\n",
       "        text-align: right;\n",
       "    }\n",
       "</style>\n",
       "<table border=\"1\" class=\"dataframe\">\n",
       "  <thead>\n",
       "    <tr style=\"text-align: right;\">\n",
       "      <th></th>\n",
       "      <th>coluna_1</th>\n",
       "      <th>coluna_2</th>\n",
       "      <th>coluna_3</th>\n",
       "    </tr>\n",
       "  </thead>\n",
       "  <tbody>\n",
       "    <tr>\n",
       "      <th>0</th>\n",
       "      <td>0.264197</td>\n",
       "      <td>0.078869</td>\n",
       "      <td>4.011957</td>\n",
       "    </tr>\n",
       "    <tr>\n",
       "      <th>1</th>\n",
       "      <td>1.576306</td>\n",
       "      <td>0.225306</td>\n",
       "      <td>0.300522</td>\n",
       "    </tr>\n",
       "    <tr>\n",
       "      <th>2</th>\n",
       "      <td>1.508513</td>\n",
       "      <td>5.413983</td>\n",
       "      <td>4.275097</td>\n",
       "    </tr>\n",
       "    <tr>\n",
       "      <th>3</th>\n",
       "      <td>0.273428</td>\n",
       "      <td>3.860047</td>\n",
       "      <td>3.795771</td>\n",
       "    </tr>\n",
       "    <tr>\n",
       "      <th>4</th>\n",
       "      <td>0.181396</td>\n",
       "      <td>-0.337082</td>\n",
       "      <td>-2.522320</td>\n",
       "    </tr>\n",
       "    <tr>\n",
       "      <th>...</th>\n",
       "      <td>...</td>\n",
       "      <td>...</td>\n",
       "      <td>...</td>\n",
       "    </tr>\n",
       "    <tr>\n",
       "      <th>95</th>\n",
       "      <td>-0.608583</td>\n",
       "      <td>1.315083</td>\n",
       "      <td>5.648939</td>\n",
       "    </tr>\n",
       "    <tr>\n",
       "      <th>96</th>\n",
       "      <td>0.069744</td>\n",
       "      <td>0.295827</td>\n",
       "      <td>4.277353</td>\n",
       "    </tr>\n",
       "    <tr>\n",
       "      <th>97</th>\n",
       "      <td>-0.382502</td>\n",
       "      <td>-0.673026</td>\n",
       "      <td>5.583894</td>\n",
       "    </tr>\n",
       "    <tr>\n",
       "      <th>98</th>\n",
       "      <td>0.532248</td>\n",
       "      <td>3.966587</td>\n",
       "      <td>4.412593</td>\n",
       "    </tr>\n",
       "    <tr>\n",
       "      <th>99</th>\n",
       "      <td>0.690014</td>\n",
       "      <td>-0.854484</td>\n",
       "      <td>2.847581</td>\n",
       "    </tr>\n",
       "  </tbody>\n",
       "</table>\n",
       "<p>100 rows × 3 columns</p>\n",
       "</div>"
      ],
      "text/plain": [
       "    coluna_1  coluna_2  coluna_3\n",
       "0   0.264197  0.078869  4.011957\n",
       "1   1.576306  0.225306  0.300522\n",
       "2   1.508513  5.413983  4.275097\n",
       "3   0.273428  3.860047  3.795771\n",
       "4   0.181396 -0.337082 -2.522320\n",
       "..       ...       ...       ...\n",
       "95 -0.608583  1.315083  5.648939\n",
       "96  0.069744  0.295827  4.277353\n",
       "97 -0.382502 -0.673026  5.583894\n",
       "98  0.532248  3.966587  4.412593\n",
       "99  0.690014 -0.854484  2.847581\n",
       "\n",
       "[100 rows x 3 columns]"
      ]
     },
     "execution_count": 199,
     "metadata": {},
     "output_type": "execute_result"
    }
   ],
   "source": [
    "import pandas as pd\n",
    "import numpy as np\n",
    "\n",
    "\n",
    "def create_series(n, k, *stats):\n",
    "    \"pass number of rows n, columns k and stats in order as a list: [mean, std]\"\n",
    "    print (n, 'linhas e', k, 'colunas')\n",
    "    \n",
    "    #c_names, series, stts = [], [], []\n",
    "    df = pd.DataFrame()\n",
    "        \n",
    "    for i, j in zip(range(1, k+1), stats):\n",
    "        df[\"coluna_\"+str(i)] = np.random.normal(loc=j[0], scale=j[1], size=n)\n",
    "    \n",
    "    global mean_std\n",
    "    mean_std = []\n",
    "    for column in df:\n",
    "        c_mean = np.mean(df[column])\n",
    "        c_std = np.std(df[column])\n",
    "        mean_std.append([column, c_mean, c_std])\n",
    "        print ('mean and std of', column, '-', c_mean, c_std)\n",
    "    \n",
    "    return df, mean_std\n",
    "\n",
    "# exemplo:\n",
    "df, mean_std = create_series(100, 3, [0, 1], [1, 2], [2, 3])\n",
    "\n",
    "#\n",
    "df"
   ]
  },
  {
   "cell_type": "markdown",
   "metadata": {},
   "source": [
    "# Referências\n",
    "\n",
    "* [Create a Pandas DataFrame from Lists](https://www.geeksforgeeks.org/create-a-pandas-dataframe-from-lists/)\n",
    "* [How to Dynamically Declare Variables Inside a Loop in Python](https://python.plainenglish.io/how-to-dynamically-declare-variables-inside-a-loop-in-python-21e6880aaf8a)\n",
    "* [When to Use a List Comprehension in Python](https://realpython.com/list-comprehension-python/)\n",
    "* [how to print the for loop index with the input statement?](https://stackoverflow.com/questions/61960949/how-to-print-the-for-loop-index-with-the-input-statement)\n",
    "* [Python Dynamic Variable Name](https://www.delftstack.com/howto/python/python-dynamic-variable-name/)\n",
    "* [Get Column Names as List in Pandas DataFrame](https://datascienceparichay.com/article/get-column-names-as-list-in-pandas-dataframe/)\n",
    "* [List comprehension for first 10 alphabets](https://stackoverflow.com/questions/34101161/list-comprehension-for-first-10-alphabets)\n",
    "* [Python library random](https://docs.python.org/3/library/random.html)"
   ]
  }
 ],
 "metadata": {
  "hide_input": false,
  "kernelspec": {
   "display_name": "Python 3",
   "language": "python",
   "name": "python3"
  },
  "language_info": {
   "codemirror_mode": {
    "name": "ipython",
    "version": 3
   },
   "file_extension": ".py",
   "mimetype": "text/x-python",
   "name": "python",
   "nbconvert_exporter": "python",
   "pygments_lexer": "ipython3",
   "version": "3.8.3"
  },
  "latex_envs": {
   "LaTeX_envs_menu_present": true,
   "autoclose": false,
   "autocomplete": true,
   "bibliofile": "biblio.bib",
   "cite_by": "apalike",
   "current_citInitial": 1,
   "eqLabelWithNumbers": true,
   "eqNumInitial": 1,
   "hotkeys": {
    "equation": "Ctrl-E",
    "itemize": "Ctrl-I"
   },
   "labels_anchors": false,
   "latex_user_defs": false,
   "report_style_numbering": false,
   "user_envs_cfg": false
  },
  "toc": {
   "base_numbering": 1,
   "nav_menu": {},
   "number_sections": true,
   "sideBar": true,
   "skip_h1_title": false,
   "title_cell": "Table of Contents",
   "title_sidebar": "Contents",
   "toc_cell": false,
   "toc_position": {
    "height": "calc(100% - 180px)",
    "left": "10px",
    "top": "150px",
    "width": "304.475px"
   },
   "toc_section_display": true,
   "toc_window_display": true
  },
  "varInspector": {
   "cols": {
    "lenName": 16,
    "lenType": 16,
    "lenVar": 40
   },
   "kernels_config": {
    "python": {
     "delete_cmd_postfix": "",
     "delete_cmd_prefix": "del ",
     "library": "var_list.py",
     "varRefreshCmd": "print(var_dic_list())"
    },
    "r": {
     "delete_cmd_postfix": ") ",
     "delete_cmd_prefix": "rm(",
     "library": "var_list.r",
     "varRefreshCmd": "cat(var_dic_list()) "
    }
   },
   "types_to_exclude": [
    "module",
    "function",
    "builtin_function_or_method",
    "instance",
    "_Feature"
   ],
   "window_display": false
  }
 },
 "nbformat": 4,
 "nbformat_minor": 4
}
